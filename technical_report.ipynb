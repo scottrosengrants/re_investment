{
 "cells": [
  {
   "cell_type": "markdown",
   "metadata": {},
   "source": [
    "# Techical Report - RE Investment Application"
   ]
  },
  {
   "cell_type": "markdown",
   "metadata": {},
   "source": [
    "## Problem Statement"
   ]
  },
  {
   "cell_type": "markdown",
   "metadata": {},
   "source": [
    "Given a property address can relevant rental amounts be found for the propety? According to the location of the property and user provided financial information can a model be developed for predicting the approval of a potential mortgage loan?  "
   ]
  },
  {
   "cell_type": "markdown",
   "metadata": {},
   "source": [
    "## Overview"
   ]
  },
  {
   "cell_type": "markdown",
   "metadata": {},
   "source": [
    "Many real estate applications on the market do not service the real estate investor. An investor needs to know relevant property information AND rental information. The goal of this application is to pair real estate property data with the rental market information and loan terms. Given these three elements a real estate investor can make a more educated decision on which properties to purchase. \n",
    "\n",
    "#### Application Process\n",
    " 1) The application first collects the property address from the user. <br>\n",
    " 2) The address information is collected from the ATTOM api.<br>\n",
    " 3) The aproximate rental amount is collected from the 2020 HUD Fair Market Rent Report based on the county.<br>\n",
    " 4) The cost of the property and the potential rental income is calculated and a several real estate investment metrics are calculated.<br>\n",
    " 5) The property information and the user's financial information are fed into a Nueral Network.<br>\n",
    " 6) The Nueral Network provide the likelihood that the investor will be approved or denied for the mortgage loan of that particular property.<br>"
   ]
  },
  {
   "cell_type": "markdown",
   "metadata": {},
   "source": [
    "## Data"
   ]
  },
  {
   "cell_type": "markdown",
   "metadata": {},
   "source": [
    "#### Property Record & Attributes\n",
    "\n",
    "The ATTOM Data \"All Records\" api call is utilized to collect the public information and property feature information. \n",
    "\n",
    "https://api.developer.attomdata.com/\n",
    "\n",
    "#### Fair-Market-Rental Values\n",
    "\n",
    "The County Level Fair Market Rents FY 2020 dataset was used for rental figures. This dataset provides FMR figures for 0-4 bedroom homes per county. \n",
    "\n",
    "https://www.huduser.gov/portal/datasets/fmr.html#2020_data\n",
    "\n",
    "#### Mortgage Records\n",
    "\n",
    "The 2018 Loan/Applications Records dataset from the FFIEC was used for mortgage approval history. The Home Mortgage Disclosure Act requires every lending institution to report applications for home mortgages and whether the application was approved. This dataset also contained census tract information for every loan application.\n",
    "\n",
    "https://ffiec.cfpb.gov/data-publication/dynamic-national-loan-level-dataset/2018\n",
    "\n",
    "***The data fields collected from these APIs and datasets are listed in the data dictionary included in this repository.***\n",
    "\n",
    "### The Data Flow\n",
    "\n",
    "These three datasets each work together to provide the database for the application to run. \n",
    "\n",
    "--> From **ATTOM** the *proprty profile* is built. \n",
    "\n",
    "----> From the *property profile*, the county and bedroom count is pulled. \n",
    "\n",
    "------> Using the county and bedroom values, the Fair Market Rent is pulled from the **Fair Market Rents FY 2020 dataset** and added to the *property profile*\n",
    "\n",
    "--------> The **2018 Loan/Applications Records** dataset was used to train the mortgage loan approval predictive model\n",
    "\n",
    "----------> From the **2018 Loan/Applications Records** dataset the census tract data fields are applied to the *property profile*\n",
    "\n",
    "------------> User fields are provided and added to the *property profile* \n",
    "\n",
    "--------------> The complete *property profile* is run through the mortgage approval model and a prediction is generated\n",
    "\n",
    "----------------> The real estate calculations are made from the *property profile* and displayed.\n"
   ]
  },
  {
   "cell_type": "markdown",
   "metadata": {},
   "source": [
    "## Assumptions & EDA\n",
    "\n",
    "### Assumptions\n",
    "\n",
    "#### 1) Fair Lending\n",
    "The 2018 Loan/Applications Records dataset originally contained demographic values including race, ethnicity, and sex. These are likely included in the data to allow for the study of potential discrimination. For this project all race, ethnicity, and sex data was excluded. The assumption made is that finacial institutions are complying to fair-lending standards and that discrimination is not present. The truth of that assumption was not the goal of this project. There is a chance that discrimination is present in the data and this could have an impact on the model's effectiness in predicting morgage approvals in certian geo-local areas.\n",
    "\n",
    "#### 2) Single Family Property\n",
    "The application assumes that each property evaluated is a single family (one-unit) property. This limits the application from being used on more than one-unit properties. "
   ]
  },
  {
   "cell_type": "markdown",
   "metadata": {},
   "source": [
    "### Exploratory Data Analysis\n",
    "\n",
    "#### 1) Loan Type\n",
    "\n",
    "The 2018 Loan/Applications Records dataset originally contained multiple mortgage/loan options. For the purpose of this project only **\"first position lien home purchase\"** mortgages were considered. All other types were discarded. \n",
    "\n",
    "1 - Home purchase <br>\n",
    "2 - Home improvement <br>\n",
    "31 - Refinancing <br>\n",
    "32 - Cash-out refinancing <br>\n",
    "4 - Other purpose <br>\n",
    "5 - Not applicable <br>\n",
    "\n",
    "#### 2) Business or Commercial Purpose\n",
    "\n",
    "For this project only person loan applications were analyzed, all other types were excluded. \n",
    "\n",
    "#### 3) Lack of Debt-to-Income Data\n",
    "\n",
    "Over 50% of the debt-to-income ratio data was null. It was excluded from the model. This factor has a large effect on the approval of a mortgage loan. The decision to keep the bulk of the data rather than the debt-to-income values was chosen. This may negatively affect the realistic usability of the model and in future developments of this analysis it should be considered for use. "
   ]
  },
  {
   "cell_type": "markdown",
   "metadata": {},
   "source": [
    "## Model Targets"
   ]
  },
  {
   "cell_type": "markdown",
   "metadata": {},
   "source": [
    "The target of the model was to accurately predict whether an applicant would be approved or denied for a mortgage loan. The data set originally provided the below denial reasons:\n",
    "\n",
    "1 - Debt-to-income ratio<br>\n",
    "2 - Employment history<br>\n",
    "3 - Credit history<br>\n",
    "4 - Collateral<br>\n",
    "5 - Insufficient cash (downpayment, closing costs)<br>\n",
    "6 - Unverifiable information<br>\n",
    "7 - Credit application incomplete<br>\n",
    "8 - Mortgage insurance denied<br>\n",
    "9 - Other<br>\n",
    "10 - Not applicable <br>\n",
    "\n",
    "\"Not applicable\" is the status given for an approved loan. \n",
    "\n",
    "Categorical models were first applied to all of the loan denial codes. *The distribution of each of these is displayed below.* \n",
    "\n",
    "**Note**: The loan \"approval\" instances are removed from this histogram. They accounted for 90.4426% of the data set. "
   ]
  },
  {
   "cell_type": "code",
   "execution_count": 2,
   "metadata": {
    "scrolled": false
   },
   "outputs": [
    {
     "data": {
      "image/png": "[encoded data removed]",
      "text/plain": [
       "<IPython.core.display.Image object>"
      ]
     },
     "execution_count": 2,
     "metadata": {},
     "output_type": "execute_result"
    }
   ],
   "source": [
    "from IPython.display import Image \n",
    "\n",
    "Image(\"images/target_dist.png\")"
   ]
  },
  {
   "cell_type": "markdown",
   "metadata": {},
   "source": [
    "Again, the proportion of target value \"approval\" was 90.4426% this sets the baseline of the model accuracy. In order for any model to be successful it will need to make predictions with greater than 90.5% accuaracy. \n",
    "\n",
    "After several models were created to predict these 10 targets the maximum accuracy score was 92.224%. See more detailed information in the Modeling section.\n",
    "\n",
    "After further analysis of the targets a binomial target was created. All denial reasons were categorized together into simpy a \"denied\" category. *See the distribution of these classes below.* This helped simplify the model predictions and also slighlty improved the issue of unbalanced classes. By combining all of the denial reasons they now accounted for almost 10% of the observations were before this number was fragmented over 9 categories.\n",
    "\n",
    "This decision also made logical sense as many of the denial reasons were questionable as to whether a model can accurately predict that particular outcome given it's limited inputs. Take for example \"Credit application incomplete\" or \"Unverifiable information\" denial reasons. While these are valid denial reasons they may not be as relevant to the information the model is provided. Each instance of the model is provided a complete dataset so it is tough to have it predict an \"incomplete application\". By combining these denial reasons into simply one denial classification this helps generalize the model predictions to the data and helps alliviate this shortoming of the model design. \n",
    "\n",
    "The targets were converted to a binary classification:\n",
    "\n",
    "0 = Loan Not Approved <br>\n",
    "1 = Loan Approved\n",
    "\n",
    "After the binary classification was created several models were tested. The accuracy score improved from 92.224% to 94.151%. See more information in the Modeling section."
   ]
  },
  {
   "cell_type": "code",
   "execution_count": 3,
   "metadata": {
    "scrolled": false
   },
   "outputs": [
    {
     "data": {
      "image/png": "[encoded data removed]",
      "text/plain": [
       "<IPython.core.display.Image object>"
      ]
     },
     "execution_count": 3,
     "metadata": {},
     "output_type": "execute_result"
    }
   ],
   "source": [
    "Image(\"images/binomial_target.png\")"
   ]
  },
  {
   "cell_type": "markdown",
   "metadata": {},
   "source": [
    "## Modeling \n",
    "\n",
    "While modeling best practices were adhered to. The data was randomly split into a training set consisting of 75% of the data and a training set of 25% of the data. The target variable was stratified between the two. Cross validation was also utilized to correct for any potential randomness of results that could occur. \n",
    "\n",
    "### Logistic Regression - Classification\n",
    "\n",
    "A logistic regression classifier model was fit to both the 10 classification and 2 classification targets. \n",
    "\n",
    "10 Class Accuracy Score: 91.276%\n",
    "\n",
    "2 Class Accuracy Score: 91.276%\n",
    "\n",
    "Each logistic regression model used an L2 (Ridge) regularization penalty \n",
    "\n",
    "### Nueral Net - Classification\n",
    "\n",
    "Multiple Nueral Net models were fit to both the 10 classification and 2 classification targets. Datasets were scaled prior to modeling. Grid search was utilized to find the best combination of epochs, layer one nodes, layer two nodes, and the dropout rate. The best two models are provided below. \n",
    "\n",
    "**10 Class:** <br>\n",
    "Accuracy: 92.11% \n",
    "\n",
    "**Buildout:** <br>\n",
    "Layer 1: 128 nodes <br>\n",
    "Dropout: 50% <br>\n",
    "Layer 2: 24 nodes <br>\n",
    "Output layer: 11 nodes <br>\n",
    "Epochs: 200 <br>\n",
    "Batch: 512\n",
    "\n",
    "**2 Class:**\n",
    "Accuracy: 94.15%\n",
    "\n",
    "**Buildout:** <br>\n",
    "Layer 1: 128 nodes <br>\n",
    "Dropout: 50% <br>\n",
    "Layer 2: 24 nodes <br>\n",
    "Output layer: 2 nodes <br>\n",
    "Epochs: 100 <br>\n",
    "Batch: 512\n",
    "\n",
    "\n",
    "The 2 Class Nueral Net performed the best with the above hyper-parameters. The Adam loss function that was optimized. See the plot below for representation of this function. "
   ]
  },
  {
   "cell_type": "code",
   "execution_count": 7,
   "metadata": {},
   "outputs": [
    {
     "data": {
      "image/png": "[encoded data removed]",
      "text/plain": [
       "<IPython.core.display.Image object>"
      ]
     },
     "execution_count": 7,
     "metadata": {},
     "output_type": "execute_result"
    }
   ],
   "source": [
    "Image(\"images/best_model_loss.png\")"
   ]
  },
  {
   "cell_type": "markdown",
   "metadata": {},
   "source": [
    "## Results\n",
    "\n",
    "After several model types and many hyper-parameter tunings the best overall accuracy score was 94.15%. That is 3.71% better than the baseline. The best model was found to be a Nueral Network with two hidden layers of 128 and 24 nodes. \n",
    "\n",
    "To continue to improve upon this score more feature engineering should be performed on the data to increase the number of inputs to the model. The unbalanced targets should also be addressed. These changes are necissary to continue to increase the model accuracy. More complex nueral networks with more than 2 hidden layers were created and accuracy did not increase, leading the conclusing to be that there needs to be more data input not more complex models. "
   ]
  },
  {
   "cell_type": "markdown",
   "metadata": {},
   "source": [
    "## Application\n",
    "\n",
    "The application calculates several standard real estate investing calculations to provide the user information about the potential returns on investment they can expect from a given property. \n",
    "\n",
    "#### Inputs & Variables Used\n",
    "\n",
    "**mti** = Monthly Total Income (total income of property including all units and aux services)\n",
    "\n",
    "**vr** = Vacancy Rate (percentage of income held out to cover costs of vacant unit, typically 5% of mti) \n",
    "\n",
    "**er** = Expense Reserves (Maintenance and Capital Improvements, usually 10-25% of mti)\n",
    "\n",
    "**me** = Monthly Expenses (landlord paid expenses, typically water and trash)\n",
    "\n",
    "**mfc** = Monthly Financing Cost (principle and interest payments)\n",
    "\n",
    "**mt** = Monthly Taxes (annual tax / 12)\n",
    "\n",
    "**mi** = Monthly Insurance (annual insurance cost / 12) \n",
    "\n",
    "**tci** = Total Cash Invested (amount of money initially put into deal\n",
    "\n",
    "**price** = Price of Property\n",
    "\n",
    "### Cashflow Calculation\n",
    "\n",
    "**mcf** = Monthly Cashflow (mti - vr - er - me - mfc - mt - mi)\n",
    "\n",
    "**acf** = Annual Cashflow (mcf * 12)\n",
    "\n",
    "### Cash on Cash Return (COC) Calculation\n",
    "\n",
    "**coc** = Cash On Cash (acf / tci) * 100 \n",
    "\n",
    "### Capitalization Rate (Cap Rate) Calculation\n",
    "\n",
    "**cr** = ((mti - vr - er - me - mt - mi) * 12) / price\n",
    "\n",
    "### ATTOM Data Property Valuation\n",
    "\n",
    "ATTOM's api provides a general property valuation for three tiers of quality of a given subject Property. They have a proprietary algorithm that will assign a property a valuation based on up to 100 property comparables sold in the last year in the area of the subject property. \n",
    "\n",
    "**Valuation Tiers:**\n",
    "- Poor Condition\n",
    "- Average Condition\n",
    "- Good Condition\n",
    "\n",
    "These valuations are provided to the user to help them get an idea of whether or not the property they are analyzing is priced realistically and fairly. "
   ]
  },
  {
   "cell_type": "markdown",
   "metadata": {},
   "source": [
    "## Continued Work & Ideas for Improvement\n",
    "\n",
    "This analysis could be continued and improved upon with the following items/elements:\n",
    "\n",
    "#### Balance the mortgage approval targets\n",
    "The data set used to predict whether a mortgage loan would be approved or not contained very unbalanced classes. Only about 10% of the loan applications in the data set were denied. Balancing that ratio to more of a 50/50 likely will increase the signal to the future model and provide more accuracy. \n",
    "\n",
    "#### Credit Score and Debt-to-Income\n",
    "The data set used to predict whether a mortgage loan would be approved or not did not contain credit scores. This element is a large factor a lender will take into consideration when deciding to approve or deny a loan application. For improved model performance and overall for a more realistic modeling situation an applicants credit score should be considered. \n",
    "\n",
    "The dataset also contained more than 50% null values in the debt-to-income category. Much like credit score, this factor has a huge impact on whether or not an applicant is approved for a mortgage loan. Lending standards limit the maximum debt-to-income limit at 50%. This factor would be nice to include in a future model and likeliy improve the model's accuracy. \n",
    "\n",
    "#### Neighborhood Specific Rental Figures\n",
    "The data provided by the Fair Market Rents FY 2020 dataset was limited to a general county rental figure. With many counties, especially those located in an urban center, they often contain many neighborhoods and differing regions. These neighborhoods oftentimes fetch higher or lower rental amounts based on many local factors. To improve the effectivness of this application the more specific and acurate the rental figure is the more accurate the whole application becomes. \n",
    "\n",
    "#### Multiple Unit Analysis\n",
    "Many of the properties contained in the datasets contain multiple units such as a duplex containing two income producing units. The application is currently limited to only single units. To improve the overall usefullness of the application, calculations for multiple units within one address could be added.\n"
   ]
  },
  {
   "cell_type": "markdown",
   "metadata": {},
   "source": [
    "# Data Dictionary"
   ]
  },
  {
   "cell_type": "markdown",
   "metadata": {},
   "source": []
  },
  {
   "cell_type": "code",
   "execution_count": null,
   "metadata": {},
   "outputs": [],
   "source": []
  }
 ],
 "metadata": {
  "kernelspec": {
   "display_name": "Python 3",
   "language": "python",
   "name": "python3"
  },
  "language_info": {
   "codemirror_mode": {
    "name": "ipython",
    "version": 3
   },
   "file_extension": ".py",
   "mimetype": "text/x-python",
   "name": "python",
   "nbconvert_exporter": "python",
   "pygments_lexer": "ipython3",
   "version": "3.7.4"
  }
 },
 "nbformat": 4,
 "nbformat_minor": 2
}
