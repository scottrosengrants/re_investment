{
 "cells": [
  {
   "cell_type": "markdown",
   "metadata": {},
   "source": [
    "# Extract Mortgage Data "
   ]
  },
  {
   "cell_type": "code",
   "execution_count": 1,
   "metadata": {},
   "outputs": [],
   "source": [
    "import pandas as pd"
   ]
  },
  {
   "cell_type": "markdown",
   "metadata": {},
   "source": [
    "Consider chunking this data, refer to this post:\n",
    "https://towardsdatascience.com/why-and-how-to-use-pandas-with-large-data-9594dda2ea4c"
   ]
  },
  {
   "cell_type": "markdown",
   "metadata": {},
   "source": [
    "Columns:\n",
    "activity_year|lei|derived_msa_md|state_code|county_code|census_tract|conforming_loan_limit|derived_loan_product_type|derived_dwelling_category|derived_ethnicity|derived_race|derived_sex|action_taken|purchaser_type|preapproval|loan_type|loan_purpose|lien_status|reverse_mortgage|open_end_line_of_credit|business_or_commercial_purpose|loan_amount|combined_loan_to_value_ratio|interest_rate|rate_spread|hoepa_status|total_loan_costs|total_points_and_fees|origination_charges|discount_points|lender_credits|loan_term|prepayment_penalty_term|intro_rate_period|negative_amortization|interest_only_payment|balloon_payment|other_nonamortizing_features|property_value|construction_method|occupancy_type|manufactured_home_secured_property_type|manufactured_home_land_property_interest|total_units|multifamily_affordable_units|income|debt_to_income_ratio|applicant_credit_score_type|co_applicant_credit_score_type|applicant_ethnicity_1|applicant_ethnicity_2|applicant_ethnicity_3|applicant_ethnicity_4|applicant_ethnicity_5|co_applicant_ethnicity_1|co_applicant_ethnicity_2|co_applicant_ethnicity_3|co_applicant_ethnicity_4|co_applicant_ethnicity_5|applicant_ethnicity_observed|co_applicant_ethnicity_observed|applicant_race_1|applicant_race_2|applicant_race_3|applicant_race_4|applicant_race_5|co_applicant_race_1|co_applicant_race_2|co_applicant_race_3|co_applicant_race_4|co_applicant_race_5|applicant_race_observed|co_applicant_race_observed|applicant_sex|co_applicant_sex|applicant_sex_observed|co_applicant_sex_observed|applicant_age|co_applicant_age|applicant_age_above_62|co_applicant_age_above_62|submission_of_application|initially_payable_to_institution|aus_1|aus_2|aus_3|aus_4|aus_5|denial_reason_1|denial_reason_2|denial_reason_3|denial_reason_4|tract_population|tract_minority_population_percent|ffiec_msa_md_median_family_income|tract_to_msa_income_percentage|tract_owner_occupied_units|tract_one_to_four_family_homes|tract_median_age_of_housing_units"
   ]
  },
  {
   "cell_type": "markdown",
   "metadata": {},
   "source": [
    "Pandas Documentation:\n",
    "https://pandas.pydata.org/pandas-docs/version/0.15/io.html"
   ]
  },
  {
   "cell_type": "code",
   "execution_count": 2,
   "metadata": {},
   "outputs": [],
   "source": [
    "reader = pd.read_table('data/2018_lar_mortgage.txt', sep='|', iterator=True)"
   ]
  },
  {
   "cell_type": "code",
   "execution_count": 3,
   "metadata": {},
   "outputs": [
    {
     "data": {
      "text/plain": [
       "<pandas.io.parsers.TextFileReader at 0x10d662e50>"
      ]
     },
     "execution_count": 3,
     "metadata": {},
     "output_type": "execute_result"
    }
   ],
   "source": [
    "reader"
   ]
  },
  {
   "cell_type": "code",
   "execution_count": 4,
   "metadata": {},
   "outputs": [
    {
     "name": "stderr",
     "output_type": "stream",
     "text": [
      "/Users/scottrosengrants/opt/anaconda3/lib/python3.7/site-packages/IPython/core/async_helpers.py:68: DtypeWarning: Columns (4,5,22,23,24,26,27,28,29,30,31,32,33,38,43,44,46,77,78,79,80) have mixed types. Specify dtype option on import or set low_memory=False.\n",
      "  coro.send(None)\n"
     ]
    }
   ],
   "source": [
    "#specify size\n",
    "data = reader.get_chunk(10_000_000)"
   ]
  },
  {
   "cell_type": "code",
   "execution_count": 5,
   "metadata": {
    "scrolled": true
   },
   "outputs": [
    {
     "data": {
      "text/plain": [
       "Index(['activity_year', 'lei', 'derived_msa_md', 'state_code', 'county_code',\n",
       "       'census_tract', 'conforming_loan_limit', 'derived_loan_product_type',\n",
       "       'derived_dwelling_category', 'derived_ethnicity', 'derived_race',\n",
       "       'derived_sex', 'action_taken', 'purchaser_type', 'preapproval',\n",
       "       'loan_type', 'loan_purpose', 'lien_status', 'reverse_mortgage',\n",
       "       'open_end_line_of_credit', 'business_or_commercial_purpose',\n",
       "       'loan_amount', 'combined_loan_to_value_ratio', 'interest_rate',\n",
       "       'rate_spread', 'hoepa_status', 'total_loan_costs',\n",
       "       'total_points_and_fees', 'origination_charges', 'discount_points',\n",
       "       'lender_credits', 'loan_term', 'prepayment_penalty_term',\n",
       "       'intro_rate_period', 'negative_amortization', 'interest_only_payment',\n",
       "       'balloon_payment', 'other_nonamortizing_features', 'property_value',\n",
       "       'construction_method', 'occupancy_type',\n",
       "       'manufactured_home_secured_property_type',\n",
       "       'manufactured_home_land_property_interest', 'total_units',\n",
       "       'multifamily_affordable_units', 'income', 'debt_to_income_ratio',\n",
       "       'applicant_credit_score_type', 'co_applicant_credit_score_type',\n",
       "       'applicant_ethnicity_1', 'applicant_ethnicity_2',\n",
       "       'applicant_ethnicity_3', 'applicant_ethnicity_4',\n",
       "       'applicant_ethnicity_5', 'co_applicant_ethnicity_1',\n",
       "       'co_applicant_ethnicity_2', 'co_applicant_ethnicity_3',\n",
       "       'co_applicant_ethnicity_4', 'co_applicant_ethnicity_5',\n",
       "       'applicant_ethnicity_observed', 'co_applicant_ethnicity_observed',\n",
       "       'applicant_race_1', 'applicant_race_2', 'applicant_race_3',\n",
       "       'applicant_race_4', 'applicant_race_5', 'co_applicant_race_1',\n",
       "       'co_applicant_race_2', 'co_applicant_race_3', 'co_applicant_race_4',\n",
       "       'co_applicant_race_5', 'applicant_race_observed',\n",
       "       'co_applicant_race_observed', 'applicant_sex', 'co_applicant_sex',\n",
       "       'applicant_sex_observed', 'co_applicant_sex_observed', 'applicant_age',\n",
       "       'co_applicant_age', 'applicant_age_above_62',\n",
       "       'co_applicant_age_above_62', 'submission_of_application',\n",
       "       'initially_payable_to_institution', 'aus_1', 'aus_2', 'aus_3', 'aus_4',\n",
       "       'aus_5', 'denial_reason_1', 'denial_reason_2', 'denial_reason_3',\n",
       "       'denial_reason_4', 'tract_population',\n",
       "       'tract_minority_population_percent',\n",
       "       'ffiec_msa_md_median_family_income', 'tract_to_msa_income_percentage',\n",
       "       'tract_owner_occupied_units', 'tract_one_to_four_family_homes',\n",
       "       'tract_median_age_of_housing_units'],\n",
       "      dtype='object')"
      ]
     },
     "execution_count": 5,
     "metadata": {},
     "output_type": "execute_result"
    }
   ],
   "source": [
    "data.columns"
   ]
  },
  {
   "cell_type": "code",
   "execution_count": 6,
   "metadata": {
    "scrolled": true
   },
   "outputs": [
    {
     "data": {
      "text/html": [
       "<div>\n",
       "<style scoped>\n",
       "    .dataframe tbody tr th:only-of-type {\n",
       "        vertical-align: middle;\n",
       "    }\n",
       "\n",
       "    .dataframe tbody tr th {\n",
       "        vertical-align: top;\n",
       "    }\n",
       "\n",
       "    .dataframe thead th {\n",
       "        text-align: right;\n",
       "    }\n",
       "</style>\n",
       "<table border=\"1\" class=\"dataframe\">\n",
       "  <thead>\n",
       "    <tr style=\"text-align: right;\">\n",
       "      <th></th>\n",
       "      <th>activity_year</th>\n",
       "      <th>lei</th>\n",
       "      <th>derived_msa_md</th>\n",
       "      <th>state_code</th>\n",
       "      <th>county_code</th>\n",
       "      <th>census_tract</th>\n",
       "      <th>conforming_loan_limit</th>\n",
       "      <th>derived_loan_product_type</th>\n",
       "      <th>derived_dwelling_category</th>\n",
       "      <th>derived_ethnicity</th>\n",
       "      <th>...</th>\n",
       "      <th>denial_reason_2</th>\n",
       "      <th>denial_reason_3</th>\n",
       "      <th>denial_reason_4</th>\n",
       "      <th>tract_population</th>\n",
       "      <th>tract_minority_population_percent</th>\n",
       "      <th>ffiec_msa_md_median_family_income</th>\n",
       "      <th>tract_to_msa_income_percentage</th>\n",
       "      <th>tract_owner_occupied_units</th>\n",
       "      <th>tract_one_to_four_family_homes</th>\n",
       "      <th>tract_median_age_of_housing_units</th>\n",
       "    </tr>\n",
       "  </thead>\n",
       "  <tbody>\n",
       "    <tr>\n",
       "      <th>0</th>\n",
       "      <td>2018</td>\n",
       "      <td>549300CUF3Q2PQGM9256</td>\n",
       "      <td>99999</td>\n",
       "      <td>KY</td>\n",
       "      <td>21167</td>\n",
       "      <td>2.1168e+10</td>\n",
       "      <td>C</td>\n",
       "      <td>Conventional:First Lien</td>\n",
       "      <td>Single Family (1-4 Units):Manufactured</td>\n",
       "      <td>Not Hispanic or Latino</td>\n",
       "      <td>...</td>\n",
       "      <td>NaN</td>\n",
       "      <td>NaN</td>\n",
       "      <td>NaN</td>\n",
       "      <td>4232</td>\n",
       "      <td>8.58</td>\n",
       "      <td>49400</td>\n",
       "      <td>137</td>\n",
       "      <td>1328</td>\n",
       "      <td>1901</td>\n",
       "      <td>32</td>\n",
       "    </tr>\n",
       "    <tr>\n",
       "      <th>1</th>\n",
       "      <td>2018</td>\n",
       "      <td>549300CUF3Q2PQGM9256</td>\n",
       "      <td>31140</td>\n",
       "      <td>KY</td>\n",
       "      <td>21211</td>\n",
       "      <td>2.1211e+10</td>\n",
       "      <td>C</td>\n",
       "      <td>Conventional:Subordinate Lien</td>\n",
       "      <td>Single Family (1-4 Units):Site-Built</td>\n",
       "      <td>Not Hispanic or Latino</td>\n",
       "      <td>...</td>\n",
       "      <td>NaN</td>\n",
       "      <td>NaN</td>\n",
       "      <td>NaN</td>\n",
       "      <td>3981</td>\n",
       "      <td>2.96</td>\n",
       "      <td>70400</td>\n",
       "      <td>113</td>\n",
       "      <td>1168</td>\n",
       "      <td>1470</td>\n",
       "      <td>23</td>\n",
       "    </tr>\n",
       "  </tbody>\n",
       "</table>\n",
       "<p>2 rows × 99 columns</p>\n",
       "</div>"
      ],
      "text/plain": [
       "   activity_year                   lei  derived_msa_md state_code county_code  \\\n",
       "0           2018  549300CUF3Q2PQGM9256           99999         KY       21167   \n",
       "1           2018  549300CUF3Q2PQGM9256           31140         KY       21211   \n",
       "\n",
       "  census_tract conforming_loan_limit      derived_loan_product_type  \\\n",
       "0   2.1168e+10                     C        Conventional:First Lien   \n",
       "1   2.1211e+10                     C  Conventional:Subordinate Lien   \n",
       "\n",
       "                derived_dwelling_category       derived_ethnicity  ...  \\\n",
       "0  Single Family (1-4 Units):Manufactured  Not Hispanic or Latino  ...   \n",
       "1    Single Family (1-4 Units):Site-Built  Not Hispanic or Latino  ...   \n",
       "\n",
       "  denial_reason_2 denial_reason_3  denial_reason_4  tract_population  \\\n",
       "0             NaN             NaN              NaN              4232   \n",
       "1             NaN             NaN              NaN              3981   \n",
       "\n",
       "   tract_minority_population_percent  ffiec_msa_md_median_family_income  \\\n",
       "0                               8.58                              49400   \n",
       "1                               2.96                              70400   \n",
       "\n",
       "   tract_to_msa_income_percentage  tract_owner_occupied_units  \\\n",
       "0                             137                        1328   \n",
       "1                             113                        1168   \n",
       "\n",
       "   tract_one_to_four_family_homes  tract_median_age_of_housing_units  \n",
       "0                            1901                                 32  \n",
       "1                            1470                                 23  \n",
       "\n",
       "[2 rows x 99 columns]"
      ]
     },
     "execution_count": 6,
     "metadata": {},
     "output_type": "execute_result"
    }
   ],
   "source": [
    "data.head(2)"
   ]
  },
  {
   "cell_type": "code",
   "execution_count": 7,
   "metadata": {},
   "outputs": [],
   "source": [
    "scrub_data = data[['lei', 'state_code', 'county_code',\n",
    "       'census_tract', 'conforming_loan_limit', 'derived_loan_product_type',\n",
    "       'derived_dwelling_category', 'action_taken', 'purchaser_type', 'preapproval',\n",
    "       'loan_type', 'loan_purpose', 'lien_status', 'reverse_mortgage',\n",
    "       'open_end_line_of_credit', 'business_or_commercial_purpose',\n",
    "       'loan_amount', 'combined_loan_to_value_ratio', 'interest_rate',\n",
    "       'rate_spread', 'hoepa_status', 'total_loan_costs',\n",
    "       'total_points_and_fees', 'origination_charges', 'discount_points',\n",
    "       'lender_credits', 'loan_term', 'prepayment_penalty_term',\n",
    "       'intro_rate_period', 'negative_amortization', 'interest_only_payment',\n",
    "       'balloon_payment', 'other_nonamortizing_features', 'property_value',\n",
    "       'construction_method', 'occupancy_type',\n",
    "       'manufactured_home_secured_property_type',\n",
    "       'manufactured_home_land_property_interest', 'total_units',\n",
    "       'multifamily_affordable_units', 'income', 'debt_to_income_ratio',\n",
    "       'applicant_credit_score_type', 'co_applicant_credit_score_type',\n",
    "       'submission_of_application',\n",
    "       'initially_payable_to_institution', 'aus_1', 'aus_2', 'aus_3', 'aus_4',\n",
    "       'aus_5', 'denial_reason_1', 'denial_reason_2', 'denial_reason_3',\n",
    "       'denial_reason_4', 'tract_population',\n",
    "       'ffiec_msa_md_median_family_income', 'tract_to_msa_income_percentage',\n",
    "       'tract_owner_occupied_units', 'tract_one_to_four_family_homes',\n",
    "       'tract_median_age_of_housing_units']]"
   ]
  },
  {
   "cell_type": "code",
   "execution_count": null,
   "metadata": {},
   "outputs": [],
   "source": [
    "# ethnicity and sex excluded, assumed to be fair lending\n"
   ]
  },
  {
   "cell_type": "code",
   "execution_count": 8,
   "metadata": {
    "scrolled": true
   },
   "outputs": [
    {
     "data": {
      "text/plain": [
       "(10000000, 61)"
      ]
     },
     "execution_count": 8,
     "metadata": {},
     "output_type": "execute_result"
    }
   ],
   "source": [
    "scrub_data.shape"
   ]
  },
  {
   "cell_type": "code",
   "execution_count": 9,
   "metadata": {},
   "outputs": [],
   "source": [
    "# export subset of raw data to data folder\n",
    "scrub_data.to_csv('data/mortgage_raw.csv',index=False)"
   ]
  },
  {
   "cell_type": "code",
   "execution_count": null,
   "metadata": {},
   "outputs": [],
   "source": []
  }
 ],
 "metadata": {
  "kernelspec": {
   "display_name": "Python 3",
   "language": "python",
   "name": "python3"
  },
  "language_info": {
   "codemirror_mode": {
    "name": "ipython",
    "version": 3
   },
   "file_extension": ".py",
   "mimetype": "text/x-python",
   "name": "python",
   "nbconvert_exporter": "python",
   "pygments_lexer": "ipython3",
   "version": "3.7.4"
  }
 },
 "nbformat": 4,
 "nbformat_minor": 2
}
