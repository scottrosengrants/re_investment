{
 "cells": [
  {
   "cell_type": "code",
   "execution_count": 1,
   "metadata": {},
   "outputs": [
    {
     "name": "stderr",
     "output_type": "stream",
     "text": [
      "Using TensorFlow backend.\n"
     ]
    }
   ],
   "source": [
    "import pandas as pd\n",
    "import numpy as np\n",
    "from mortgage import Loan\n",
    "from sklearn.preprocessing import StandardScaler\n",
    "from keras.utils import to_categorical\n",
    "from sklearn.metrics import accuracy_score\n",
    "from tensorflow.keras.models import load_model\n",
    "from pickle import load\n",
    "\n",
    "# For reproducibility\n",
    "np.random.seed(42)\n",
    "from tensorflow.keras.models import Sequential\n",
    "from tensorflow.keras.layers import Dense, Dropout, Flatten, Conv2D, MaxPooling2D\n",
    "from tensorflow.keras import utils"
   ]
  },
  {
   "cell_type": "code",
   "execution_count": 2,
   "metadata": {},
   "outputs": [],
   "source": [
    "# load in HUD 2020 FMR 50 data (median rent by county)\n",
    "rent_data = pd.read_excel('../data/data.gov/FY2020_50_County.xlsx')"
   ]
  },
  {
   "cell_type": "code",
   "execution_count": 3,
   "metadata": {},
   "outputs": [
    {
     "data": {
      "text/html": [
       "<div>\n",
       "<style scoped>\n",
       "    .dataframe tbody tr th:only-of-type {\n",
       "        vertical-align: middle;\n",
       "    }\n",
       "\n",
       "    .dataframe tbody tr th {\n",
       "        vertical-align: top;\n",
       "    }\n",
       "\n",
       "    .dataframe thead th {\n",
       "        text-align: right;\n",
       "    }\n",
       "</style>\n",
       "<table border=\"1\" class=\"dataframe\">\n",
       "  <thead>\n",
       "    <tr style=\"text-align: right;\">\n",
       "      <th></th>\n",
       "      <th>fips2010</th>\n",
       "      <th>rent50_0</th>\n",
       "      <th>rent50_1</th>\n",
       "      <th>rent50_2</th>\n",
       "      <th>rent50_3</th>\n",
       "      <th>rent50_4</th>\n",
       "      <th>state</th>\n",
       "      <th>cbsasub20</th>\n",
       "      <th>areaname20</th>\n",
       "      <th>county</th>\n",
       "      <th>cousub</th>\n",
       "      <th>cntyname</th>\n",
       "      <th>name</th>\n",
       "      <th>pop2017</th>\n",
       "      <th>hu2017</th>\n",
       "      <th>state_alpha</th>\n",
       "    </tr>\n",
       "  </thead>\n",
       "  <tbody>\n",
       "    <tr>\n",
       "      <th>0</th>\n",
       "      <td>100199999</td>\n",
       "      <td>615</td>\n",
       "      <td>741</td>\n",
       "      <td>876</td>\n",
       "      <td>1105</td>\n",
       "      <td>1504</td>\n",
       "      <td>1</td>\n",
       "      <td>METRO33860M33860</td>\n",
       "      <td>Montgomery, AL MSA</td>\n",
       "      <td>1</td>\n",
       "      <td>99999</td>\n",
       "      <td>Autauga County</td>\n",
       "      <td>Autauga County</td>\n",
       "      <td>55035</td>\n",
       "      <td>23152</td>\n",
       "      <td>AL</td>\n",
       "    </tr>\n",
       "    <tr>\n",
       "      <th>1</th>\n",
       "      <td>100399999</td>\n",
       "      <td>806</td>\n",
       "      <td>811</td>\n",
       "      <td>992</td>\n",
       "      <td>1355</td>\n",
       "      <td>1696</td>\n",
       "      <td>1</td>\n",
       "      <td>METRO19300M19300</td>\n",
       "      <td>Daphne-Fairhope-Foley, AL MSA</td>\n",
       "      <td>3</td>\n",
       "      <td>99999</td>\n",
       "      <td>Baldwin County</td>\n",
       "      <td>Baldwin County</td>\n",
       "      <td>203360</td>\n",
       "      <td>110023</td>\n",
       "      <td>AL</td>\n",
       "    </tr>\n",
       "    <tr>\n",
       "      <th>2</th>\n",
       "      <td>100599999</td>\n",
       "      <td>508</td>\n",
       "      <td>512</td>\n",
       "      <td>674</td>\n",
       "      <td>840</td>\n",
       "      <td>985</td>\n",
       "      <td>1</td>\n",
       "      <td>NCNTY01005N01005</td>\n",
       "      <td>Barbour County, AL</td>\n",
       "      <td>5</td>\n",
       "      <td>99999</td>\n",
       "      <td>Barbour County</td>\n",
       "      <td>Barbour County</td>\n",
       "      <td>26200</td>\n",
       "      <td>11918</td>\n",
       "      <td>AL</td>\n",
       "    </tr>\n",
       "    <tr>\n",
       "      <th>3</th>\n",
       "      <td>100799999</td>\n",
       "      <td>875</td>\n",
       "      <td>937</td>\n",
       "      <td>1073</td>\n",
       "      <td>1404</td>\n",
       "      <td>1551</td>\n",
       "      <td>1</td>\n",
       "      <td>METRO13820M13820</td>\n",
       "      <td>Birmingham-Hoover, AL HUD Metro FMR Area</td>\n",
       "      <td>7</td>\n",
       "      <td>99999</td>\n",
       "      <td>Bibb County</td>\n",
       "      <td>Bibb County</td>\n",
       "      <td>22580</td>\n",
       "      <td>9112</td>\n",
       "      <td>AL</td>\n",
       "    </tr>\n",
       "    <tr>\n",
       "      <th>4</th>\n",
       "      <td>100999999</td>\n",
       "      <td>875</td>\n",
       "      <td>937</td>\n",
       "      <td>1073</td>\n",
       "      <td>1404</td>\n",
       "      <td>1551</td>\n",
       "      <td>1</td>\n",
       "      <td>METRO13820M13820</td>\n",
       "      <td>Birmingham-Hoover, AL HUD Metro FMR Area</td>\n",
       "      <td>9</td>\n",
       "      <td>99999</td>\n",
       "      <td>Blount County</td>\n",
       "      <td>Blount County</td>\n",
       "      <td>57665</td>\n",
       "      <td>24161</td>\n",
       "      <td>AL</td>\n",
       "    </tr>\n",
       "  </tbody>\n",
       "</table>\n",
       "</div>"
      ],
      "text/plain": [
       "    fips2010  rent50_0  rent50_1  rent50_2  rent50_3  rent50_4  state  \\\n",
       "0  100199999       615       741       876      1105      1504      1   \n",
       "1  100399999       806       811       992      1355      1696      1   \n",
       "2  100599999       508       512       674       840       985      1   \n",
       "3  100799999       875       937      1073      1404      1551      1   \n",
       "4  100999999       875       937      1073      1404      1551      1   \n",
       "\n",
       "          cbsasub20                                areaname20  county  cousub  \\\n",
       "0  METRO33860M33860                        Montgomery, AL MSA       1   99999   \n",
       "1  METRO19300M19300             Daphne-Fairhope-Foley, AL MSA       3   99999   \n",
       "2  NCNTY01005N01005                        Barbour County, AL       5   99999   \n",
       "3  METRO13820M13820  Birmingham-Hoover, AL HUD Metro FMR Area       7   99999   \n",
       "4  METRO13820M13820  Birmingham-Hoover, AL HUD Metro FMR Area       9   99999   \n",
       "\n",
       "         cntyname            name  pop2017  hu2017 state_alpha  \n",
       "0  Autauga County  Autauga County    55035   23152          AL  \n",
       "1  Baldwin County  Baldwin County   203360  110023          AL  \n",
       "2  Barbour County  Barbour County    26200   11918          AL  \n",
       "3     Bibb County     Bibb County    22580    9112          AL  \n",
       "4   Blount County   Blount County    57665   24161          AL  "
      ]
     },
     "execution_count": 3,
     "metadata": {},
     "output_type": "execute_result"
    }
   ],
   "source": [
    "rent_data.head()"
   ]
  },
  {
   "cell_type": "code",
   "execution_count": 10,
   "metadata": {},
   "outputs": [
    {
     "data": {
      "text/plain": [
       "'Autauga County'"
      ]
     },
     "execution_count": 10,
     "metadata": {},
     "output_type": "execute_result"
    }
   ],
   "source": [
    "rent_data.iloc[0]['cntyname']"
   ]
  },
  {
   "cell_type": "code",
   "execution_count": 11,
   "metadata": {},
   "outputs": [],
   "source": [
    "# load fips data\n",
    "fips = pd.read_csv('../data/fips.csv',dtype={'county_code':str})"
   ]
  },
  {
   "cell_type": "code",
   "execution_count": 73,
   "metadata": {},
   "outputs": [],
   "source": [
    "#data = pd.read_csv('../data/mortgage_model.csv')"
   ]
  },
  {
   "cell_type": "code",
   "execution_count": 12,
   "metadata": {},
   "outputs": [
    {
     "name": "stderr",
     "output_type": "stream",
     "text": [
      "/Users/scottrosengrants/opt/anaconda3/lib/python3.7/site-packages/sklearn/utils/deprecation.py:144: FutureWarning: The sklearn.preprocessing.data module is  deprecated in version 0.22 and will be removed in version 0.24. The corresponding classes / functions should instead be imported from sklearn.preprocessing. Anything that cannot be imported from sklearn.preprocessing is now part of the private API.\n",
      "  warnings.warn(message, FutureWarning)\n",
      "/Users/scottrosengrants/opt/anaconda3/lib/python3.7/site-packages/sklearn/base.py:318: UserWarning: Trying to unpickle estimator StandardScaler from version 0.21.3 when using version 0.22.2.post1. This might lead to breaking code or invalid results. Use at your own risk.\n",
      "  UserWarning)\n"
     ]
    }
   ],
   "source": [
    "# load model\n",
    "model = load_model('../models/binary_nn.h5')\n",
    "# load scaler\n",
    "ss = load(open('../models/scaler.pkl', 'rb'))"
   ]
  },
  {
   "cell_type": "code",
   "execution_count": 95,
   "metadata": {},
   "outputs": [],
   "source": [
    "# create a placeholder user df\n",
    "\n",
    "user = {\n",
    " 'county_code': [0],\n",
    " 'census_tract': [0],\n",
    " 'preapproval': [0],\n",
    " 'loan_amount': [0],\n",
    " 'combined_loan_to_value_ratio': [0],\n",
    " 'interest_rate': [0],\n",
    " 'loan_term': [0],\n",
    " 'interest_only_payment': [0],\n",
    " 'balloon_payment': [0],\n",
    " 'property_value': [0],\n",
    " 'occupancy_type': [0],\n",
    " 'total_units': [0],\n",
    " 'income': [0],\n",
    " 'submission_of_application': [0],\n",
    " 'tract_population': [0],\n",
    " 'ffiec_msa_md_median_family_income': [0],\n",
    " 'tract_to_msa_income_percentage': [0],\n",
    " 'tract_owner_occupied_units': [0],\n",
    " 'tract_one_to_four_family_homes': [0],\n",
    " 'tract_median_age_of_housing_units': [0],\n",
    " 'state_code_AL': [0],\n",
    " 'state_code_AR': [0],\n",
    " 'state_code_AZ': [0],\n",
    " 'state_code_CA': [0],\n",
    " 'state_code_CO': [0],\n",
    " 'state_code_CT': [0],\n",
    " 'state_code_DC': [0],\n",
    " 'state_code_DE': [0],\n",
    " 'state_code_FL': [0],\n",
    " 'state_code_GA': [0],\n",
    " 'state_code_GU': [0],\n",
    " 'state_code_HI': [0],\n",
    " 'state_code_IA': [0],\n",
    " 'state_code_ID': [0],\n",
    " 'state_code_IL': [0],\n",
    " 'state_code_IN': [0],\n",
    " 'state_code_KS': [0],\n",
    " 'state_code_KY': [0],\n",
    " 'state_code_LA': [0],\n",
    " 'state_code_MA': [0],\n",
    " 'state_code_MD': [0],\n",
    " 'state_code_ME': [0],\n",
    " 'state_code_MI': [0],\n",
    " 'state_code_MN': [0],\n",
    " 'state_code_MO': [0],\n",
    " 'state_code_MS': [0],\n",
    " 'state_code_MT': [0],\n",
    " 'state_code_NC': [0],\n",
    " 'state_code_ND': [0],\n",
    " 'state_code_NE': [0],\n",
    " 'state_code_NH': [0],\n",
    " 'state_code_NJ': [0],\n",
    " 'state_code_NM': [0],\n",
    " 'state_code_NV': [0],\n",
    " 'state_code_NY': [0],\n",
    " 'state_code_OH': [0],\n",
    " 'state_code_OK': [0],\n",
    " 'state_code_OR': [0],\n",
    " 'state_code_PA': [0],\n",
    " 'state_code_PR': [0],\n",
    " 'state_code_RI': [0],\n",
    " 'state_code_SC': [0],\n",
    " 'state_code_SD': [0],\n",
    " 'state_code_TN': [0],\n",
    " 'state_code_TX': [0],\n",
    " 'state_code_UT': [0],\n",
    " 'state_code_VA': [0],\n",
    " 'state_code_VT': [0],\n",
    " 'state_code_WA': [0],\n",
    " 'state_code_WI': [0],\n",
    " 'state_code_WV': [0],\n",
    " 'state_code_WY': [0],\n",
    " 'loan_type_2': [0],\n",
    " 'loan_type_3': [0],\n",
    " 'loan_type_4': [0]\n",
    "}\n",
    "\n",
    "user_df = pd.DataFrame.from_dict(user)"
   ]
  },
  {
   "cell_type": "code",
   "execution_count": 96,
   "metadata": {},
   "outputs": [
    {
     "data": {
      "text/html": [
       "<div>\n",
       "<style scoped>\n",
       "    .dataframe tbody tr th:only-of-type {\n",
       "        vertical-align: middle;\n",
       "    }\n",
       "\n",
       "    .dataframe tbody tr th {\n",
       "        vertical-align: top;\n",
       "    }\n",
       "\n",
       "    .dataframe thead th {\n",
       "        text-align: right;\n",
       "    }\n",
       "</style>\n",
       "<table border=\"1\" class=\"dataframe\">\n",
       "  <thead>\n",
       "    <tr style=\"text-align: right;\">\n",
       "      <th></th>\n",
       "      <th>county_code</th>\n",
       "      <th>census_tract</th>\n",
       "      <th>preapproval</th>\n",
       "      <th>loan_amount</th>\n",
       "      <th>combined_loan_to_value_ratio</th>\n",
       "      <th>interest_rate</th>\n",
       "      <th>loan_term</th>\n",
       "      <th>interest_only_payment</th>\n",
       "      <th>balloon_payment</th>\n",
       "      <th>property_value</th>\n",
       "      <th>...</th>\n",
       "      <th>state_code_UT</th>\n",
       "      <th>state_code_VA</th>\n",
       "      <th>state_code_VT</th>\n",
       "      <th>state_code_WA</th>\n",
       "      <th>state_code_WI</th>\n",
       "      <th>state_code_WV</th>\n",
       "      <th>state_code_WY</th>\n",
       "      <th>loan_type_2</th>\n",
       "      <th>loan_type_3</th>\n",
       "      <th>loan_type_4</th>\n",
       "    </tr>\n",
       "  </thead>\n",
       "  <tbody>\n",
       "    <tr>\n",
       "      <th>0</th>\n",
       "      <td>0</td>\n",
       "      <td>0</td>\n",
       "      <td>0</td>\n",
       "      <td>0</td>\n",
       "      <td>0</td>\n",
       "      <td>0</td>\n",
       "      <td>0</td>\n",
       "      <td>0</td>\n",
       "      <td>0</td>\n",
       "      <td>0</td>\n",
       "      <td>...</td>\n",
       "      <td>0</td>\n",
       "      <td>0</td>\n",
       "      <td>0</td>\n",
       "      <td>0</td>\n",
       "      <td>0</td>\n",
       "      <td>0</td>\n",
       "      <td>0</td>\n",
       "      <td>0</td>\n",
       "      <td>0</td>\n",
       "      <td>0</td>\n",
       "    </tr>\n",
       "  </tbody>\n",
       "</table>\n",
       "<p>1 rows × 75 columns</p>\n",
       "</div>"
      ],
      "text/plain": [
       "   county_code  census_tract  preapproval  loan_amount  \\\n",
       "0            0             0            0            0   \n",
       "\n",
       "   combined_loan_to_value_ratio  interest_rate  loan_term  \\\n",
       "0                             0              0          0   \n",
       "\n",
       "   interest_only_payment  balloon_payment  property_value  ...  state_code_UT  \\\n",
       "0                      0                0               0  ...              0   \n",
       "\n",
       "   state_code_VA  state_code_VT  state_code_WA  state_code_WI  state_code_WV  \\\n",
       "0              0              0              0              0              0   \n",
       "\n",
       "   state_code_WY  loan_type_2  loan_type_3  loan_type_4  \n",
       "0              0            0            0            0  \n",
       "\n",
       "[1 rows x 75 columns]"
      ]
     },
     "execution_count": 96,
     "metadata": {},
     "output_type": "execute_result"
    }
   ],
   "source": [
    "user_df"
   ]
  },
  {
   "cell_type": "markdown",
   "metadata": {},
   "source": [
    "### Cash on Cash Return"
   ]
  },
  {
   "cell_type": "markdown",
   "metadata": {},
   "source": [
    "Monthly Cashflow = Monthly Total Income - Vacancy Rate - Expense Reserves - Monthly Expenses(water & trash) - Monthly Financing Cost - Monthly Taxes - Monthly Insurance\n",
    "\n",
    "Annual Cashflow = Monthly Cashflow * 12\n",
    "Cash on Cash = Annual Cashflow / Total Cash Invested"
   ]
  },
  {
   "cell_type": "markdown",
   "metadata": {},
   "source": [
    "### Cap Rate\n",
    "\n",
    "(mti - vr - er - me - mt - mi) * 12 / price"
   ]
  },
  {
   "cell_type": "markdown",
   "metadata": {},
   "source": [
    "### Monthly\n",
    "mti = Monthly Total Income (total income of property including all units and aux services)\n",
    "\n",
    "vr = Vacancy Rate (percentage of income held out to cover costs of vacant unit, typically 5% of mti) \n",
    "\n",
    "er = Expense Reserves (Maintenance and Capital Improvements, usually 10-25% of mti)\n",
    "\n",
    "me = Monthly Expenses (landlord paid expenses, typically water and trash)\n",
    "\n",
    "mfc = Monthly Financing Cost (principle and interest payments)\n",
    "\n",
    "mt = Monthly Taxes (annual tax / 12)\n",
    "\n",
    "mi = Monthly Insurance (annual insurance cost / 12) \n",
    "\n",
    "mcf = Monthly Cashflow (mti - vr - er - me - mfc - mt - mi)\n",
    "\n",
    "### Annual\n",
    "acf = Annual Cashflow (mcf * 12)\n",
    "\n",
    "### Financial\n",
    "tci = Total Cash Invested (amount of money initially put into deal\n",
    "\n",
    "coc = Cash On Cash (acf / tci) * 100 \n"
   ]
  },
  {
   "cell_type": "markdown",
   "metadata": {},
   "source": [
    "## House API\n",
    "from atom_api_final notebook"
   ]
  },
  {
   "cell_type": "code",
   "execution_count": 15,
   "metadata": {},
   "outputs": [],
   "source": [
    "import pandas as pd\n",
    "import requests\n",
    "import json\n",
    "from pandas.io.json import json_normalize\n",
    "\n",
    "def call_api_all(bld_num,street,str_type,unit=None,unit_num=None,city=None,state=None):\n",
    "    import http.client\n",
    "    \n",
    "    conn = http.client.HTTPSConnection(\"api.gateway.attomdata.com\") \n",
    "\n",
    "    headers = { \n",
    "        'accept': \"application/json\", \n",
    "        'apikey': \"5b3709e8f052f5a495b91df054a47709\", \n",
    "    } \n",
    "    address_1 = f\"address1={bld_num}%20{street}%20{str_type}%20{unit}%20{unit_num}\"\n",
    "    address_2 = f\"&address2={city}%2C%20{state}\"\n",
    "    conn.request(\"GET\", f\"/propertyapi/v1.0.0/allevents/detail?{address_1}{address_2}\", headers=headers) \n",
    "\n",
    "    res = conn.getresponse() \n",
    "    data = res.read() \n",
    "    \n",
    "#    print(data.decode(\"utf-8\"))\n",
    "    return data\n",
    "#    print(\"GET\", f\"/propertyapi/v1.0.0/property/detail?{address}\", \"headers=headers\")\n",
    "\n",
    "def extract_details(api_data):\n",
    "    house = json.loads(api_data)\n",
    "    \n",
    "    # create new dfs based on dictionary keys\n",
    "\n",
    "    # df_1 ['obPropId', 'fips', 'apn', 'apnOrig', 'attomId']\n",
    "    df_1 = pd.DataFrame(house['property'][0]['identifier'],index=[0])\n",
    "\n",
    "    # df_2 ['depth', 'frontage', 'lotnum', 'lotsize1', 'lotsize2', 'pooltype']\n",
    "    df_2 = pd.DataFrame(house['property'][0]['lot'],index=[0])\n",
    "\n",
    "    # df_3 ['blockNum', 'countrysecsubd', 'countyuse1', 'muncode', 'munname',\n",
    "    #       'srvyRange', 'srvySection', 'srvyTownship', 'subdname', 'subdtractnum','taxcodearea']\n",
    "    df_3 = pd.DataFrame(house['property'][0]['area'],index=[0])\n",
    "\n",
    "    # df_4 ['country', 'countrySubd', 'line1', 'line2', 'locality', 'matchCode',\n",
    "    #       'oneLine', 'postal1', 'postal2', 'postal3']\n",
    "    df_4 = pd.DataFrame(house['property'][0]['address'],index=[0])\n",
    "\n",
    "    # df_5 = ['accuracy', 'elevation', 'latitude', 'longitude', 'distance', 'geoid']\n",
    "    df_5 = pd.DataFrame(house['property'][0]['location'],index=[0])\n",
    "\n",
    "    # df_6 ['absenteeInd', 'propclass', 'propsubtype', 'proptype', 'yearbuilt',\n",
    "    #       'propLandUse', 'propIndicator', 'legal1']\n",
    "    df_6 = pd.DataFrame(house['property'][0]['summary'],index=[0])\n",
    "\n",
    "    #df_7 ['heatingtype']\n",
    "    df_7 = pd.DataFrame(house['property'][0]['utilities'],index=[0])\n",
    "\n",
    "    #df_8 **['size', 'rooms', 'interior', 'construction', 'parking', 'summary']** dict keys\n",
    "    df_8 = pd.DataFrame(house['property'][0]['building'],index=[0])\n",
    "\n",
    "    #df_9 ['lastModified', 'pubDate']\n",
    "    df_9 = pd.DataFrame(house['property'][0]['vintage'],index=[0])\n",
    "    \n",
    "    # create new dfs based on df_8 dictionary keys\n",
    "\n",
    "    # df_b1 ['bldgsize', 'grosssize', 'grosssizeadjusted', 'groundfloorsize',\n",
    "    #       'livingsize', 'sizeInd', 'universalsize']\n",
    "    df_b1 = pd.DataFrame(house['property'][0]['building']['size'],index=[0])\n",
    "\n",
    "    # df_b2 ['bathfixtures', 'baths1qtr', 'baths3qtr', 'bathscalc', 'bathsfull',\n",
    "    #       'bathshalf', 'bathstotal', 'beds', 'roomsTotal']\n",
    "    df_b2 = pd.DataFrame(house['property'][0]['building']['rooms'],index=[0])\n",
    "\n",
    "    #df_b3 ['bsmtsize', 'bsmttype', 'fplccount', 'fplcind', 'fplctype']\n",
    "    df_b3 = pd.DataFrame(house['property'][0]['building']['interior'],index=[0])\n",
    "\n",
    "    #df_b4 ['condition', 'wallType']\n",
    "    df_b4 = pd.DataFrame(house['property'][0]['building']['construction'],index=[0])\n",
    "\n",
    "    #df_b5 ['garagetype', 'prkgSize', 'prkgSpaces', 'prkgType']\n",
    "    df_b5 = pd.DataFrame(house['property'][0]['building']['parking'],index=[0])\n",
    "\n",
    "    #df_b6 ['bldgsNum', 'bldgType', 'imprType', 'levels', 'mobileHomeInd',\n",
    "    #       'quality', 'storyDesc', 'unitsCount', 'yearbuilteffective']\n",
    "    df_b6 = pd.DataFrame(house['property'][0]['building']['summary'],index=[0])\n",
    "    \n",
    "    ### AVM\n",
    "    #df_v1 ['scr', 'value', 'high', 'low', 'valueRange']\n",
    "    df_v1 = pd.DataFrame(house['property'][0]['avm']['amount'],index=[0])\n",
    "    \n",
    "    #df_v2 ['avmpoorlow', 'avmpoorhigh', 'avmpoorscore', 'avmgoodlow', 'avmgoodhigh', \n",
    "    #      'avmgoodscore', 'avmexcellentlow', 'avmexcellenthigh', 'avmexcellentscore']\n",
    "    df_v2 = pd.DataFrame(house['property'][0]['avm']['condition'],index=[0])\n",
    "    \n",
    "    #df_v3 ['taxamt', 'taxpersizeunit', 'taxyear']\n",
    "    df_v3 = pd.DataFrame(house['property'][0]['assessment']['tax'],index=[0])\n",
    "    \n",
    "    # Build df for property 1\n",
    "    prop_1 = pd.concat([df_1['fips'],df_2,df_3,df_4,df_5,df_6,df_7,df_9,df_b1,\n",
    "                        df_b2,df_b3,df_b4,df_b5,df_b6,df_v1,df_v2,df_v3],axis=1)\n",
    "    \n",
    "    return prop_1"
   ]
  },
  {
   "cell_type": "code",
   "execution_count": 43,
   "metadata": {},
   "outputs": [],
   "source": [
    "def get_rent(bed_count,state, county):\n",
    "    row = rent_data[(rent_data['state_alpha'] == str(state)) & (rent_data['cntyname'] == county)]\n",
    "    if bed_count < 0:\n",
    "        return 'Must enter bedroom count greater than zero'\n",
    "        \n",
    "    elif bed_count <= 4:\n",
    "        return int(row['rent50_'+str(bed_count)])\n",
    "    \n",
    "    else: \n",
    "        extra_beds = bed_count - 4\n",
    "        rent = row['rent50_4']\n",
    "        for i in range(extra_beds):\n",
    "            rent = rent * 1.15\n",
    "        return int(rent)\n",
    "    "
   ]
  },
  {
   "cell_type": "code",
   "execution_count": 47,
   "metadata": {},
   "outputs": [
    {
     "data": {
      "text/plain": [
       "3106"
      ]
     },
     "execution_count": 47,
     "metadata": {},
     "output_type": "execute_result"
    }
   ],
   "source": [
    "get_rent(5,'CO','Denver County')"
   ]
  },
  {
   "cell_type": "code",
   "execution_count": 23,
   "metadata": {},
   "outputs": [],
   "source": [
    "def coc(df,principal,cash):\n",
    "    \n",
    "    #calculate loan\n",
    "    loan = Loan(principal, interest=.04, term=30)\n",
    "    pymt = loan.monthly_payment\n",
    "    \n",
    "    #calculate re figures\n",
    "    mti = float(df['rent'].loc[0])\n",
    "    vr = float(mti * .05)\n",
    "    er = float(mti * (.05 + .05))\n",
    "    me = float((100 + 50)) #water & trash\n",
    "    mfc = float(pymt)\n",
    "    mt = float(df['taxamt'].loc[0]/12)\n",
    "    mi = float(mt)  #(3000/12)\n",
    "    # Composite\n",
    "    mcf = mti - vr - er - me - mfc - mt - mi\n",
    "\n",
    "    # Annual\n",
    "    acf = np.round((mcf * 12),2)\n",
    "\n",
    "    # Financial \n",
    "    tci = cash\n",
    "    coc = np.round(((acf / tci) * 100),2)\n",
    "    \n",
    "    print(f'Your Annual Cashflow is ${acf} giving you a Cash-On-Cash return of {coc}%!')\n",
    "    print(f'{mcf} = {mti} - {vr} - {er} - {me} - {mfc} - {mt} - {mi}')\n",
    "    print(f'Cash Flow = Rent Income - Vacancy - Maint/Cap Exp - Water&Trash - Finance Exp - Tax - Insurance')\n",
    "    \n",
    "    coc_dict = {'mti':mti,\n",
    "               'vr':vr,\n",
    "               'er':er,\n",
    "               'me':mfc,\n",
    "               'mfc':mfc,\n",
    "               'mt':mt,\n",
    "               'mi':mi,\n",
    "               'mcf':mcf,\n",
    "               'acf':acf,\n",
    "               'tci':tci,\n",
    "               'coc':coc}\n",
    "    return coc_dict"
   ]
  },
  {
   "cell_type": "code",
   "execution_count": null,
   "metadata": {},
   "outputs": [],
   "source": []
  },
  {
   "cell_type": "code",
   "execution_count": 32,
   "metadata": {},
   "outputs": [],
   "source": [
    "def results(principal, cash, bld_num,street,str_type,unit=None,unit_num=None,city=None,state=None):\n",
    "    prop = extract_details(call_api_all(bld_num,street,str_type,unit,unit_num,city,state))\n",
    "    prop_sm = prop[['beds','taxamt','countrySubd','countrysecsubd']].copy() \n",
    "    prop_sm['rent'] = get_rent(prop_sm['beds'].loc[0],prop_sm['countrySubd'].loc[0],prop_sm['countrysecsubd'].loc[0])\n",
    "    prop['rent'] = prop_sm['rent']\n",
    "    coc_dict = coc(prop_sm,principal,cash)\n",
    "    return prop, coc_dict"
   ]
  },
  {
   "cell_type": "code",
   "execution_count": 33,
   "metadata": {},
   "outputs": [
    {
     "name": "stdout",
     "output_type": "stream",
     "text": [
      "Your Annual Cashflow is $-855.54 giving you a Cash-On-Cash return of -1.32%!\n",
      "-71.29499999999996 = 1837.0 - 91.85000000000001 - 183.70000000000002 - 150.0 - 954.83 - 263.9575 - 263.9575\n",
      "Cash Flow = Rent Income - Vacancy - Maint/Cap Exp - Water&Trash - Finance Exp - Tax - Insurance\n"
     ]
    }
   ],
   "source": [
    "#10226 Noland Rd, Lenexa, KS 66215\n",
    "#$265,000\n",
    "#https://www.zillow.com/homedetails/10226-Noland-Rd-Lenexa-KS-66215/75676324_zpid/\n",
    "prop_1, prop_1_coc = results(200_000,65_000,'10226','Noland','Rd','Lenexa','KS')"
   ]
  },
  {
   "cell_type": "code",
   "execution_count": 50,
   "metadata": {},
   "outputs": [
    {
     "data": {
      "text/plain": [
       "(0    228000.0\n",
       " Name: avmpoorlow, dtype: float64, 0    282150.0\n",
       " Name: avmpoorhigh, dtype: float64)"
      ]
     },
     "execution_count": 50,
     "metadata": {},
     "output_type": "execute_result"
    }
   ],
   "source": [
    "prop_1['avmpoorlow'],prop_1['avmpoorhigh']"
   ]
  },
  {
   "cell_type": "code",
   "execution_count": 30,
   "metadata": {},
   "outputs": [
    {
     "data": {
      "text/plain": [
       "Index(['fips', 'depth', 'frontage', 'lotnum', 'lotsize1', 'lotsize2',\n",
       "       'countrysecsubd', 'countyuse1', 'muncode', 'munname', 'subdname',\n",
       "       'country', 'countrySubd', 'line1', 'line2', 'locality', 'matchCode',\n",
       "       'oneLine', 'postal1', 'postal2', 'postal3', 'accuracy', 'elevation',\n",
       "       'latitude', 'longitude', 'distance', 'geoid', 'absenteeInd',\n",
       "       'propclass', 'proptype', 'yearbuilt', 'propLandUse', 'propIndicator',\n",
       "       'legal1', 'coolingtype', 'heatingtype', 'lastModified', 'pubDate',\n",
       "       'bldgsize', 'grosssize', 'grosssizeadjusted', 'groundfloorsize',\n",
       "       'livingsize', 'sizeInd', 'universalsize', 'bathfixtures', 'baths1qtr',\n",
       "       'baths3qtr', 'bathscalc', 'bathsfull', 'bathshalf', 'bathstotal',\n",
       "       'beds', 'roomsTotal', 'bsmtsize', 'fplccount', 'fplcind', 'fplctype',\n",
       "       'condition', 'constructiontype', 'foundationtype', 'frameType',\n",
       "       'roofcover', 'wallType', 'prkgSize', 'archStyle', 'bldgsNum', 'levels',\n",
       "       'mobileHomeInd', 'unitsCount', 'yearbuilteffective', 'scr', 'value',\n",
       "       'high', 'low', 'valueRange', 'avmpoorlow', 'avmpoorhigh',\n",
       "       'avmpoorscore', 'avmgoodlow', 'avmgoodhigh', 'avmgoodscore',\n",
       "       'avmexcellentlow', 'avmexcellenthigh', 'avmexcellentscore', 'taxamt',\n",
       "       'taxpersizeunit', 'taxyear'],\n",
       "      dtype='object')"
      ]
     },
     "execution_count": 30,
     "metadata": {},
     "output_type": "execute_result"
    }
   ],
   "source": [
    "prop_1.columns"
   ]
  },
  {
   "cell_type": "code",
   "execution_count": 29,
   "metadata": {},
   "outputs": [
    {
     "data": {
      "text/plain": [
       "{'mti': 1837.0,\n",
       " 'vr': 91.85000000000001,\n",
       " 'er': 183.70000000000002,\n",
       " 'me': 954.83,\n",
       " 'mfc': 954.83,\n",
       " 'mt': 263.9575,\n",
       " 'mi': 263.9575,\n",
       " 'mcf': -71.29499999999996,\n",
       " 'acf': -855.54,\n",
       " 'tci': 65000,\n",
       " 'coc': -1.32}"
      ]
     },
     "execution_count": 29,
     "metadata": {},
     "output_type": "execute_result"
    }
   ],
   "source": [
    "prop_1_coc"
   ]
  },
  {
   "cell_type": "code",
   "execution_count": 82,
   "metadata": {
    "scrolled": true
   },
   "outputs": [
    {
     "name": "stdout",
     "output_type": "stream",
     "text": [
      "Your Annual Cashflow is $-1339.72 giving you a Cash-On-Cash return of -0.89%!\n",
      "-111.64333333333349 = 2701.0 - 135.05 - 270.1 - 150.0 - 1909.66 - 173.91666666666666 - 173.91666666666666\n",
      "Cash Flow = Rent Income - Vacancy - Maint/Cap Exp - Water&Trash - Finance Exp - Tax - Insurance\n"
     ]
    }
   ],
   "source": [
    "# check a property with a floating zero in the county code\n",
    "prop_2, prop_2_coc = results(400_000,150_000,'1232','Quaker','Street','Golden','CO')"
   ]
  },
  {
   "cell_type": "code",
   "execution_count": 83,
   "metadata": {},
   "outputs": [
    {
     "data": {
      "text/plain": [
       "Index(['fips', 'depth', 'frontage', 'lotnum', 'lotsize1', 'lotsize2',\n",
       "       'pooltype', 'countrysecsubd', 'countyuse1', 'muncode', 'munname',\n",
       "       'srvyRange', 'srvySection', 'srvyTownship', 'subdname', 'subdtractnum',\n",
       "       'taxcodearea', 'country', 'countrySubd', 'line1', 'line2', 'locality',\n",
       "       'matchCode', 'oneLine', 'postal1', 'postal2', 'postal3', 'accuracy',\n",
       "       'elevation', 'latitude', 'longitude', 'distance', 'geoid',\n",
       "       'absenteeInd', 'propclass', 'propsubtype', 'proptype', 'yearbuilt',\n",
       "       'propLandUse', 'propIndicator', 'legal1', 'heatingtype', 'lastModified',\n",
       "       'pubDate', 'bldgsize', 'grosssize', 'grosssizeadjusted',\n",
       "       'groundfloorsize', 'livingsize', 'sizeInd', 'universalsize',\n",
       "       'bathfixtures', 'baths1qtr', 'baths3qtr', 'bathscalc', 'bathsfull',\n",
       "       'bathshalf', 'bathstotal', 'beds', 'roomsTotal', 'bsmtsize', 'bsmttype',\n",
       "       'fplccount', 'fplcind', 'fplctype', 'constructiontype', 'frameType',\n",
       "       'garagetype', 'prkgSize', 'prkgSpaces', 'prkgType', 'archStyle',\n",
       "       'bldgsNum', 'bldgType', 'levels', 'mobileHomeInd', 'quality',\n",
       "       'storyDesc', 'unitsCount', 'yearbuilteffective', 'scr', 'value', 'high',\n",
       "       'low', 'valueRange', 'avmpoorlow', 'avmpoorhigh', 'avmpoorscore',\n",
       "       'avmgoodlow', 'avmgoodhigh', 'avmgoodscore', 'avmexcellentlow',\n",
       "       'avmexcellenthigh', 'avmexcellentscore', 'taxamt', 'taxpersizeunit',\n",
       "       'taxyear', 'rent'],\n",
       "      dtype='object')"
      ]
     },
     "execution_count": 83,
     "metadata": {},
     "output_type": "execute_result"
    }
   ],
   "source": [
    "prop_2.columns"
   ]
  },
  {
   "cell_type": "code",
   "execution_count": 84,
   "metadata": {},
   "outputs": [
    {
     "data": {
      "text/plain": [
       "dtype('float64')"
      ]
     },
     "execution_count": 84,
     "metadata": {},
     "output_type": "execute_result"
    }
   ],
   "source": [
    "fips['census_tract'].dtypes"
   ]
  },
  {
   "cell_type": "code",
   "execution_count": 97,
   "metadata": {},
   "outputs": [],
   "source": [
    "def apply_census(fips_num, user_df):\n",
    "    mask = fips['county_code'] == fips_num\n",
    "    df = fips[mask]\n",
    "    user_df['county_code'] = fips_num\n",
    "    user_df['census_tract'] = int(df['census_tract'])\n",
    "    user_df['tract_population'] = int(df['tract_population'])\n",
    "    user_df['ffiec_msa_md_median_family_income'] = float(df['ffiec_msa_md_median_family_income'])\n",
    "    user_df['tract_to_msa_income_percentage'] = float(df['tract_to_msa_income_percentage'])\n",
    "    user_df['tract_owner_occupied_units'] = float(df['tract_owner_occupied_units'])\n",
    "    user_df['tract_one_to_four_family_homes'] = float(df['tract_one_to_four_family_homes'])\n",
    "    user_df['tract_median_age_of_housing_units'] = float(df['tract_median_age_of_housing_units'])\n",
    "    return user_df"
   ]
  },
  {
   "cell_type": "code",
   "execution_count": 98,
   "metadata": {},
   "outputs": [],
   "source": [
    "user_df = apply_census(prop_2['fips'].loc[0], user_df)"
   ]
  },
  {
   "cell_type": "code",
   "execution_count": 99,
   "metadata": {},
   "outputs": [],
   "source": [
    "def add_units(property_df, user_df):\n",
    "    user_df['total_units'] = int(property_df['unitsCount'])\n",
    "    return user_df"
   ]
  },
  {
   "cell_type": "code",
   "execution_count": 100,
   "metadata": {},
   "outputs": [],
   "source": [
    "user_df = add_units(prop_2, user_df)"
   ]
  },
  {
   "cell_type": "code",
   "execution_count": 101,
   "metadata": {},
   "outputs": [],
   "source": [
    "def add_state(property_df, user_df):\n",
    "    column = 'state_code_' + property_df['countrySubd'].loc[0]\n",
    "    user_df[column] = 1\n",
    "    return user_df"
   ]
  },
  {
   "cell_type": "code",
   "execution_count": 102,
   "metadata": {},
   "outputs": [],
   "source": [
    "user_df = add_state(prop_2, user_df)"
   ]
  },
  {
   "cell_type": "code",
   "execution_count": 103,
   "metadata": {},
   "outputs": [],
   "source": [
    "def user_inputs(user_df):\n",
    "    price = float(input('Property price?'))\n",
    "    preapproval = input('Are you preapproved? (0=NO, 1=YES)')\n",
    "    downpayment_perc = float(input('Downpayment percent: (.25)'))\n",
    "    interest_rate = float(input('Interest Rate (4.5)')) \n",
    "    loan_term = int(input('Loan term in months?'))\n",
    "    interest_only_payment = input('Interest only? (1=NO, 0=YES)')\n",
    "    loan = int(input('Enter loan type (1 = Conv, 2 = FHA, 3 = VA, 4 = FSA/RHS)'))\n",
    "    balloon_payment = input('Balloon payment(1=NO, 0=YES)')\n",
    "    occupancy_type = input('Will this property be your primary residence? (1=YES, 0=NO)')\n",
    "    income = int(input('Enter your annual income'))\n",
    "    submission_of_application = input('Are you working directly with a bank? (1=NO, 0=YES)')\n",
    "                 \n",
    "    loan_amount = price * (1-downpayment_perc)\n",
    "    combined_loan_to_value_ratio = loan_amount / price\n",
    "    income = income/1000\n",
    "                 \n",
    "    user_df['preapproval'] = int(preapproval)\n",
    "    user_df['loan_amount'] = loan_amount\n",
    "    user_df['combined_loan_to_value_ratio'] = combined_loan_to_value_ratio   \n",
    "    user_df['interest_rate'] = interest_rate\n",
    "    user_df['loan_term'] = int(loan_term) \n",
    "    user_df['interest_only_payment'] = int(interest_only_payment) \n",
    "    user_df['balloon_payment'] = int(balloon_payment)\n",
    "    user_df['property_value'] = int(price)\n",
    "    user_df['occupancy_type'] = int(occupancy_type)\n",
    "    user_df['income'] = int(income)             \n",
    "    user_df['submission_of_application'] = int(submission_of_application)   \n",
    "    \n",
    "    if loan == 2:\n",
    "        user_df['loan_type_2'] = 1\n",
    "    elif loan == 3:\n",
    "        user_df['loan_type_3'] = 1\n",
    "    elif loan == 4:\n",
    "        user_df['loan_type_4'] = 1\n",
    "    return user_df\n",
    "\n",
    "# def add_user(user):\n",
    "#     return user_df.append(user, ignore_index=True)"
   ]
  },
  {
   "cell_type": "code",
   "execution_count": 104,
   "metadata": {},
   "outputs": [
    {
     "name": "stdout",
     "output_type": "stream",
     "text": [
      "Property price?40000000\n",
      "Are you preapproved? (0=NO, 1=YES)0\n",
      "Downpayment percent: (.25).01\n",
      "Interest Rate (4.5)9\n",
      "Loan term in months?200\n",
      "Interest only? (1=NO, 0=YES)1\n",
      "Enter loan type (1 = Conv, 2 = FHA, 3 = VA, 4 = FSA/RHS)1\n",
      "Balloon payment(1=NO, 0=YES)1\n",
      "Will this property be your primary residence? (1=YES, 0=NO)1\n",
      "Enter your annual income10000\n",
      "Are you working directly with a bank? (1=NO, 0=YES)1\n"
     ]
    }
   ],
   "source": [
    "user_df = user_inputs(user_df)"
   ]
  },
  {
   "cell_type": "code",
   "execution_count": 105,
   "metadata": {},
   "outputs": [
    {
     "data": {
      "text/plain": [
       "Index(['county_code', 'census_tract', 'preapproval', 'loan_amount',\n",
       "       'combined_loan_to_value_ratio', 'interest_rate', 'loan_term',\n",
       "       'interest_only_payment', 'balloon_payment', 'property_value',\n",
       "       'occupancy_type', 'total_units', 'income', 'submission_of_application',\n",
       "       'tract_population', 'ffiec_msa_md_median_family_income',\n",
       "       'tract_to_msa_income_percentage', 'tract_owner_occupied_units',\n",
       "       'tract_one_to_four_family_homes', 'tract_median_age_of_housing_units',\n",
       "       'state_code_AL', 'state_code_AR', 'state_code_AZ', 'state_code_CA',\n",
       "       'state_code_CO', 'state_code_CT', 'state_code_DC', 'state_code_DE',\n",
       "       'state_code_FL', 'state_code_GA', 'state_code_GU', 'state_code_HI',\n",
       "       'state_code_IA', 'state_code_ID', 'state_code_IL', 'state_code_IN',\n",
       "       'state_code_KS', 'state_code_KY', 'state_code_LA', 'state_code_MA',\n",
       "       'state_code_MD', 'state_code_ME', 'state_code_MI', 'state_code_MN',\n",
       "       'state_code_MO', 'state_code_MS', 'state_code_MT', 'state_code_NC',\n",
       "       'state_code_ND', 'state_code_NE', 'state_code_NH', 'state_code_NJ',\n",
       "       'state_code_NM', 'state_code_NV', 'state_code_NY', 'state_code_OH',\n",
       "       'state_code_OK', 'state_code_OR', 'state_code_PA', 'state_code_PR',\n",
       "       'state_code_RI', 'state_code_SC', 'state_code_SD', 'state_code_TN',\n",
       "       'state_code_TX', 'state_code_UT', 'state_code_VA', 'state_code_VT',\n",
       "       'state_code_WA', 'state_code_WI', 'state_code_WV', 'state_code_WY',\n",
       "       'loan_type_2', 'loan_type_3', 'loan_type_4'],\n",
       "      dtype='object')"
      ]
     },
     "execution_count": 105,
     "metadata": {},
     "output_type": "execute_result"
    }
   ],
   "source": [
    "user_df.columns"
   ]
  },
  {
   "cell_type": "code",
   "execution_count": 111,
   "metadata": {},
   "outputs": [
    {
     "data": {
      "text/html": [
       "<div>\n",
       "<style scoped>\n",
       "    .dataframe tbody tr th:only-of-type {\n",
       "        vertical-align: middle;\n",
       "    }\n",
       "\n",
       "    .dataframe tbody tr th {\n",
       "        vertical-align: top;\n",
       "    }\n",
       "\n",
       "    .dataframe thead th {\n",
       "        text-align: right;\n",
       "    }\n",
       "</style>\n",
       "<table border=\"1\" class=\"dataframe\">\n",
       "  <thead>\n",
       "    <tr style=\"text-align: right;\">\n",
       "      <th></th>\n",
       "      <th>county_code</th>\n",
       "      <th>census_tract</th>\n",
       "      <th>preapproval</th>\n",
       "      <th>loan_amount</th>\n",
       "      <th>combined_loan_to_value_ratio</th>\n",
       "      <th>interest_rate</th>\n",
       "      <th>loan_term</th>\n",
       "      <th>interest_only_payment</th>\n",
       "      <th>balloon_payment</th>\n",
       "      <th>property_value</th>\n",
       "      <th>...</th>\n",
       "      <th>submission_of_application</th>\n",
       "      <th>tract_population</th>\n",
       "      <th>ffiec_msa_md_median_family_income</th>\n",
       "      <th>tract_to_msa_income_percentage</th>\n",
       "      <th>tract_owner_occupied_units</th>\n",
       "      <th>tract_one_to_four_family_homes</th>\n",
       "      <th>tract_median_age_of_housing_units</th>\n",
       "      <th>loan_type_2</th>\n",
       "      <th>loan_type_3</th>\n",
       "      <th>loan_type_4</th>\n",
       "    </tr>\n",
       "  </thead>\n",
       "  <tbody>\n",
       "    <tr>\n",
       "      <th>0</th>\n",
       "      <td>08059</td>\n",
       "      <td>8059010901</td>\n",
       "      <td>0</td>\n",
       "      <td>39600000.0</td>\n",
       "      <td>0.99</td>\n",
       "      <td>9.0</td>\n",
       "      <td>200</td>\n",
       "      <td>1</td>\n",
       "      <td>1</td>\n",
       "      <td>40000000</td>\n",
       "      <td>...</td>\n",
       "      <td>1</td>\n",
       "      <td>4410</td>\n",
       "      <td>89900.0</td>\n",
       "      <td>103.0</td>\n",
       "      <td>1320.0</td>\n",
       "      <td>1891.0</td>\n",
       "      <td>45.0</td>\n",
       "      <td>0</td>\n",
       "      <td>0</td>\n",
       "      <td>0</td>\n",
       "    </tr>\n",
       "  </tbody>\n",
       "</table>\n",
       "<p>1 rows × 23 columns</p>\n",
       "</div>"
      ],
      "text/plain": [
       "  county_code  census_tract  preapproval  loan_amount  \\\n",
       "0       08059    8059010901            0   39600000.0   \n",
       "\n",
       "   combined_loan_to_value_ratio  interest_rate  loan_term  \\\n",
       "0                          0.99            9.0        200   \n",
       "\n",
       "   interest_only_payment  balloon_payment  property_value  ...  \\\n",
       "0                      1                1        40000000  ...   \n",
       "\n",
       "   submission_of_application  tract_population  \\\n",
       "0                          1              4410   \n",
       "\n",
       "   ffiec_msa_md_median_family_income  tract_to_msa_income_percentage  \\\n",
       "0                            89900.0                           103.0   \n",
       "\n",
       "   tract_owner_occupied_units  tract_one_to_four_family_homes  \\\n",
       "0                      1320.0                          1891.0   \n",
       "\n",
       "   tract_median_age_of_housing_units  loan_type_2  loan_type_3  loan_type_4  \n",
       "0                               45.0            0            0            0  \n",
       "\n",
       "[1 rows x 23 columns]"
      ]
     },
     "execution_count": 111,
     "metadata": {},
     "output_type": "execute_result"
    }
   ],
   "source": [
    "user_df[['county_code', 'census_tract', 'preapproval', 'loan_amount',\n",
    "       'combined_loan_to_value_ratio', 'interest_rate', 'loan_term',\n",
    "       'interest_only_payment', 'balloon_payment', 'property_value',\n",
    "       'occupancy_type', 'total_units', 'income', 'submission_of_application',\n",
    "       'tract_population', 'ffiec_msa_md_median_family_income',\n",
    "       'tract_to_msa_income_percentage', 'tract_owner_occupied_units',\n",
    "       'tract_one_to_four_family_homes', 'tract_median_age_of_housing_units',\n",
    "        'loan_type_2', 'loan_type_3', 'loan_type_4']]"
   ]
  },
  {
   "cell_type": "code",
   "execution_count": 106,
   "metadata": {},
   "outputs": [],
   "source": [
    "#scale user data\n",
    "user_scaled = ss.transform(user_df.drop(columns='county_code'))\n",
    "#data.drop(columns=['lei','debt_to_income_ratio','denial_reason_1','approved','county_code']"
   ]
  },
  {
   "cell_type": "code",
   "execution_count": 109,
   "metadata": {},
   "outputs": [],
   "source": [
    "prediction = model.predict(user_scaled)"
   ]
  },
  {
   "cell_type": "code",
   "execution_count": 110,
   "metadata": {},
   "outputs": [
    {
     "data": {
      "text/plain": [
       "array([[0., 1.]], dtype=float32)"
      ]
     },
     "execution_count": 110,
     "metadata": {},
     "output_type": "execute_result"
    }
   ],
   "source": [
    "prediction"
   ]
  },
  {
   "cell_type": "code",
   "execution_count": 108,
   "metadata": {},
   "outputs": [
    {
     "data": {
      "text/plain": [
       "array([[0., 1.]], dtype=float32)"
      ]
     },
     "execution_count": 108,
     "metadata": {},
     "output_type": "execute_result"
    }
   ],
   "source": [
    "model.predict_proba(user_scaled)"
   ]
  }
 ],
 "metadata": {
  "kernelspec": {
   "display_name": "Python 3",
   "language": "python",
   "name": "python3"
  },
  "language_info": {
   "codemirror_mode": {
    "name": "ipython",
    "version": 3
   },
   "file_extension": ".py",
   "mimetype": "text/x-python",
   "name": "python",
   "nbconvert_exporter": "python",
   "pygments_lexer": "ipython3",
   "version": "3.7.4"
  }
 },
 "nbformat": 4,
 "nbformat_minor": 2
}
