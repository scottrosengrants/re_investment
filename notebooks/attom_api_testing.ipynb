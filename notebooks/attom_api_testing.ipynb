{
 "cells": [
  {
   "cell_type": "code",
   "execution_count": 1,
   "metadata": {},
   "outputs": [],
   "source": [
    "import pandas as pd\n",
    "import requests\n",
    "import json\n",
    "from pandas.io.json import json_normalize"
   ]
  },
  {
   "cell_type": "code",
   "execution_count": 2,
   "metadata": {},
   "outputs": [],
   "source": [
    "base_url = 'http://www.zillow.com/webservice/GetSearchResults.htm'"
   ]
  },
  {
   "cell_type": "code",
   "execution_count": 8,
   "metadata": {},
   "outputs": [],
   "source": [
    "call_ex = 'http://www.zillow.com/webservice/GetSearchResults.htm?zws-id=X1-ZWz1hmv1cc2rrf_7kib9&address=2114+Bigelow+Ave&citystatezip=Seattle%2C+WA'"
   ]
  },
  {
   "cell_type": "code",
   "execution_count": 9,
   "metadata": {},
   "outputs": [],
   "source": [
    "call_1 = requests.get(call_ex)"
   ]
  },
  {
   "cell_type": "code",
   "execution_count": 10,
   "metadata": {},
   "outputs": [
    {
     "data": {
      "text/plain": [
       "b'<?xml version=\"1.0\" encoding=\"utf-8\"?><SearchResults:searchresults xsi:schemaLocation=\"http://www.zillow.com/static/xsd/SearchResults.xsd http://www.zillowstatic.com/vstatic/80d5e73/static/xsd/SearchResults.xsd\" xmlns:xsi=\"http://www.w3.org/2001/XMLSchema-instance\" xmlns:SearchResults=\"http://www.zillow.com/static/xsd/SearchResults.xsd\"><request><address></address><citystatezip></citystatezip></request><message><text>Error: this account is not authorized to execute this API call</text><code>6</code></message></SearchResults:searchresults><!-- H:003  T:7ms  S:150  R:Tue Feb 18 20:45:44 PST 2020  B:5.0.63846-master.4b066c6~delivery_ready.b263029 -->'"
      ]
     },
     "execution_count": 10,
     "metadata": {},
     "output_type": "execute_result"
    }
   ],
   "source": [
    "call_1.content"
   ]
  },
  {
   "cell_type": "code",
   "execution_count": 7,
   "metadata": {},
   "outputs": [
    {
     "name": "stdout",
     "output_type": "stream",
     "text": [
      "{\"message\":\"Key doesn't exists\"}\n"
     ]
    }
   ],
   "source": [
    "import requests\n",
    "url = \"https://zillowdimashirokovv1.p.rapidapi.com/GetSearchResults.htm\"\n",
    "payload = \"rentzestimate=true&rentzestimate=false&zws-id=<X1-ZWz1hmmpfmyfij_1mzvh>&citystatezip=97525&address=583-N-5th-Ave-Gold-Hill-OR\"\n",
    "headers = {\n",
    "    'x-rapidapi-host': \"ZillowdimashirokovV1.p.rapidapi.com\",\n",
    "    'x-rapidapi-key': \"YOUR RAPID API KEY\",\n",
    "    'content-type': \"application/x-www-form-urlencoded\"\n",
    "    }\n",
    "response = requests.request(\"POST\", url, data=payload, headers=headers)\n",
    "print(response.text)"
   ]
  },
  {
   "cell_type": "code",
   "execution_count": 17,
   "metadata": {
    "scrolled": true
   },
   "outputs": [
    {
     "name": "stdout",
     "output_type": "stream",
     "text": [
      "{\"status\":{\"version\":\"1.0.0\",\"code\":0,\"msg\":\"SuccessWithResult\",\"total\":1,\"page\":1,\"pagesize\":10},\"property\":[{\"identifier\":{\"obPropId\":18471319108031,\"fips\":\"08031\",\"apn\":\"0219204018000\",\"apnOrig\":\"219204018000\",\"attomId\":184713191},\"lot\":{\"depth\":0,\"frontage\":0,\"lotnum\":\"31\",\"lotsize1\":0.1077,\"lotsize2\":4690,\"pooltype\":\"NONE\"},\"area\":{\"blockNum\":\"36\",\"countrysecsubd\":\"Denver County\",\"countyuse1\":\"113\",\"muncode\":\"DE\",\"munname\":\"DENVER\",\"srvyRange\":\"68W\",\"srvySection\":\"19\",\"srvyTownship\":\"03S\",\"subdname\":\"BERKELEY\",\"subdtractnum\":\"0\",\"taxcodearea\":\"0\"},\"address\":{\"country\":\"US\",\"countrySubd\":\"CO\",\"line1\":\"4529 WINONA CT\",\"line2\":\"DENVER, CO 80212\",\"locality\":\"Denver\",\"matchCode\":\"ExaStr\",\"oneLine\":\"4529 WINONA CT, DENVER, CO 80212\",\"postal1\":\"80212\",\"postal2\":\"2512\",\"postal3\":\"C037\"},\"location\":{\"accuracy\":\"Street\",\"elevation\":0.0,\"latitude\":\"39.778904\",\"longitude\":\"-105.047624\",\"distance\":0.0,\"geoid\":\"CO08031, CS0891007, DB0803360, MT30001324, ND0000119198, ND0004721499, PL0820000, SB0000076114, SB0000076155, SB0000076161, SB0000135819, ZI80212\"},\"summary\":{\"absenteeInd\":\"OWNER OCCUPIED\",\"propclass\":\"Single Family Residence / Townhouse\",\"propsubtype\":\"RESIDENTIAL\",\"proptype\":\"SFR\",\"yearbuilt\":1900,\"propLandUse\":\"SFR\",\"propIndicator\":\"10\",\"legal1\":\"BERKELEY B36 L31 & S/2 OF L32 EXC REAR 8FT TO CITY\"},\"utilities\":{\"heatingtype\":\"FORCED AIR\"},\"building\":{\"size\":{\"bldgsize\":1414,\"grosssize\":1414,\"grosssizeadjusted\":934,\"groundfloorsize\":934,\"livingsize\":934,\"sizeInd\":\"LIVING SQFT \",\"universalsize\":934},\"rooms\":{\"bathfixtures\":0,\"baths1qtr\":0,\"baths3qtr\":0,\"bathscalc\":1.0,\"bathsfull\":1,\"bathshalf\":0,\"bathstotal\":1.0,\"beds\":2,\"roomsTotal\":5},\"interior\":{\"bsmtsize\":480,\"bsmttype\":\"UNFINISHED\",\"fplccount\":1,\"fplcind\":\"Y\",\"fplctype\":\"YES\"},\"construction\":{\"condition\":\"AVERAGE\",\"wallType\":\"BRICK\"},\"parking\":{\"garagetype\":\"DETACHED GARAGE\",\"prkgSize\":240,\"prkgSpaces\":\"0\",\"prkgType\":\"GARAGE DETACHED\"},\"summary\":{\"bldgsNum\":0,\"bldgType\":\"TYPE UNKNOWN\",\"imprType\":\"RESIDENTIAL\",\"levels\":1,\"mobileHomeInd\":\" \",\"quality\":\"EXCELLENT\",\"storyDesc\":\"TYPE UNKNOWN\",\"unitsCount\":\"1\",\"yearbuilteffective\":0}},\"vintage\":{\"lastModified\":\"2020-1-10\",\"pubDate\":\"2020-1-16\"}}]}\n"
     ]
    }
   ],
   "source": [
    "#ATTOM API\n",
    "\n",
    "import http.client \n",
    "\n",
    "conn = http.client.HTTPSConnection(\"api.gateway.attomdata.com\") \n",
    "\n",
    "headers = { \n",
    "    'accept': \"application/json\", \n",
    "    'apikey': \"keyID\", \n",
    "} \n",
    "\n",
    "conn.request(\"GET\", \"/propertyapi/v1.0.0/property/detail?address1=4529%20Winona%20Court&address2=Denver%2C%20CO\", \n",
    "             headers=headers) \n",
    "\n",
    "res = conn.getresponse() \n",
    "data = res.read() \n",
    "\n",
    "print(data.decode(\"utf-8\"))"
   ]
  },
  {
   "cell_type": "code",
   "execution_count": null,
   "metadata": {},
   "outputs": [],
   "source": [
    "# response = urlopen(request)\n",
    "# elevations = response.read()\n",
    "# data = json.loads(elevations)\n",
    "# json_normalize(data['results'])\n",
    "#https://stackoverflow.com/questions/21104592/json-to-pandas-dataframe"
   ]
  },
  {
   "cell_type": "code",
   "execution_count": 239,
   "metadata": {},
   "outputs": [],
   "source": [
    "house = json.loads(data)\n"
   ]
  },
  {
   "cell_type": "code",
   "execution_count": 240,
   "metadata": {},
   "outputs": [
    {
     "data": {
      "text/plain": [
       "{'status': {'version': '1.0.0',\n",
       "  'code': 0,\n",
       "  'msg': 'SuccessWithResult',\n",
       "  'total': 1,\n",
       "  'page': 1,\n",
       "  'pagesize': 10},\n",
       " 'property': [{'identifier': {'obPropId': 18471319108031,\n",
       "    'fips': '08031',\n",
       "    'apn': '0219204018000',\n",
       "    'apnOrig': '219204018000',\n",
       "    'attomId': 184713191},\n",
       "   'lot': {'depth': 0,\n",
       "    'frontage': 0,\n",
       "    'lotnum': '31',\n",
       "    'lotsize1': 0.1077,\n",
       "    'lotsize2': 4690,\n",
       "    'pooltype': 'NONE'},\n",
       "   'area': {'blockNum': '36',\n",
       "    'countrysecsubd': 'Denver County',\n",
       "    'countyuse1': '113',\n",
       "    'muncode': 'DE',\n",
       "    'munname': 'DENVER',\n",
       "    'srvyRange': '68W',\n",
       "    'srvySection': '19',\n",
       "    'srvyTownship': '03S',\n",
       "    'subdname': 'BERKELEY',\n",
       "    'subdtractnum': '0',\n",
       "    'taxcodearea': '0'},\n",
       "   'address': {'country': 'US',\n",
       "    'countrySubd': 'CO',\n",
       "    'line1': '4529 WINONA CT',\n",
       "    'line2': 'DENVER, CO 80212',\n",
       "    'locality': 'Denver',\n",
       "    'matchCode': 'ExaStr',\n",
       "    'oneLine': '4529 WINONA CT, DENVER, CO 80212',\n",
       "    'postal1': '80212',\n",
       "    'postal2': '2512',\n",
       "    'postal3': 'C037'},\n",
       "   'location': {'accuracy': 'Street',\n",
       "    'elevation': 0.0,\n",
       "    'latitude': '39.778904',\n",
       "    'longitude': '-105.047624',\n",
       "    'distance': 0.0,\n",
       "    'geoid': 'CO08031, CS0891007, DB0803360, MT30001324, ND0000119198, ND0004721499, PL0820000, SB0000076114, SB0000076155, SB0000076161, SB0000135819, ZI80212'},\n",
       "   'summary': {'absenteeInd': 'OWNER OCCUPIED',\n",
       "    'propclass': 'Single Family Residence / Townhouse',\n",
       "    'propsubtype': 'RESIDENTIAL',\n",
       "    'proptype': 'SFR',\n",
       "    'yearbuilt': 1900,\n",
       "    'propLandUse': 'SFR',\n",
       "    'propIndicator': '10',\n",
       "    'legal1': 'BERKELEY B36 L31 & S/2 OF L32 EXC REAR 8FT TO CITY'},\n",
       "   'utilities': {'heatingtype': 'FORCED AIR'},\n",
       "   'building': {'size': {'bldgsize': 1414,\n",
       "     'grosssize': 1414,\n",
       "     'grosssizeadjusted': 934,\n",
       "     'groundfloorsize': 934,\n",
       "     'livingsize': 934,\n",
       "     'sizeInd': 'LIVING SQFT ',\n",
       "     'universalsize': 934},\n",
       "    'rooms': {'bathfixtures': 0,\n",
       "     'baths1qtr': 0,\n",
       "     'baths3qtr': 0,\n",
       "     'bathscalc': 1.0,\n",
       "     'bathsfull': 1,\n",
       "     'bathshalf': 0,\n",
       "     'bathstotal': 1.0,\n",
       "     'beds': 2,\n",
       "     'roomsTotal': 5},\n",
       "    'interior': {'bsmtsize': 480,\n",
       "     'bsmttype': 'UNFINISHED',\n",
       "     'fplccount': 1,\n",
       "     'fplcind': 'Y',\n",
       "     'fplctype': 'YES'},\n",
       "    'construction': {'condition': 'AVERAGE', 'wallType': 'BRICK'},\n",
       "    'parking': {'garagetype': 'DETACHED GARAGE',\n",
       "     'prkgSize': 240,\n",
       "     'prkgSpaces': '0',\n",
       "     'prkgType': 'GARAGE DETACHED'},\n",
       "    'summary': {'bldgsNum': 0,\n",
       "     'bldgType': 'TYPE UNKNOWN',\n",
       "     'imprType': 'RESIDENTIAL',\n",
       "     'levels': 1,\n",
       "     'mobileHomeInd': ' ',\n",
       "     'quality': 'EXCELLENT',\n",
       "     'storyDesc': 'TYPE UNKNOWN',\n",
       "     'unitsCount': '1',\n",
       "     'yearbuilteffective': 0}},\n",
       "   'vintage': {'lastModified': '2020-1-10', 'pubDate': '2020-1-16'}}]}"
      ]
     },
     "execution_count": 240,
     "metadata": {},
     "output_type": "execute_result"
    }
   ],
   "source": [
    "house"
   ]
  },
  {
   "cell_type": "code",
   "execution_count": 161,
   "metadata": {
    "scrolled": true
   },
   "outputs": [
    {
     "data": {
      "text/plain": [
       "['identifier',\n",
       " 'lot',\n",
       " 'area',\n",
       " 'address',\n",
       " 'location',\n",
       " 'summary',\n",
       " 'utilities',\n",
       " 'building',\n",
       " 'vintage']"
      ]
     },
     "execution_count": 161,
     "metadata": {},
     "output_type": "execute_result"
    }
   ],
   "source": [
    "keys = list(house['property'][0].keys())\n",
    "keys"
   ]
  },
  {
   "cell_type": "code",
   "execution_count": 231,
   "metadata": {
    "scrolled": true
   },
   "outputs": [],
   "source": [
    "# create new dfs based on dictionary keys\n",
    "\n",
    "# df_1 ['obPropId', 'fips', 'apn', 'apnOrig', 'attomId']\n",
    "df_1 = pd.DataFrame(house['property'][0]['identifier'],index=[0])\n",
    "\n",
    "# df_2 ['depth', 'frontage', 'lotnum', 'lotsize1', 'lotsize2', 'pooltype']\n",
    "df_2 = pd.DataFrame(house['property'][0]['lot'],index=[0])\n",
    "\n",
    "# df_3 ['blockNum', 'countrysecsubd', 'countyuse1', 'muncode', 'munname',\n",
    "#       'srvyRange', 'srvySection', 'srvyTownship', 'subdname', 'subdtractnum','taxcodearea']\n",
    "df_3 = pd.DataFrame(house['property'][0]['area'],index=[0])\n",
    "\n",
    "# df_3 ['country', 'countrySubd', 'line1', 'line2', 'locality', 'matchCode',\n",
    "#       'oneLine', 'postal1', 'postal2', 'postal3']\n",
    "df_4 = pd.DataFrame(house['property'][0]['address'],index=[0])\n",
    "\n",
    "# df_5 = ['accuracy', 'elevation', 'latitude', 'longitude', 'distance', 'geoid']\n",
    "df_5 = pd.DataFrame(house['property'][0]['location'],index=[0])\n",
    "\n",
    "# df_6 ['absenteeInd', 'propclass', 'propsubtype', 'proptype', 'yearbuilt',\n",
    "#       'propLandUse', 'propIndicator', 'legal1']\n",
    "df_6 = pd.DataFrame(house['property'][0]['summary'],index=[0])\n",
    "\n",
    "#df_7 ['heatingtype']\n",
    "df_7 = pd.DataFrame(house['property'][0]['utilities'],index=[0])\n",
    "\n",
    "#df_8 **['size', 'rooms', 'interior', 'construction', 'parking', 'summary']** dict keys\n",
    "df_8 = pd.DataFrame(house['property'][0]['building'],index=[0])\n",
    "\n",
    "#df_9 ['lastModified', 'pubDate']\n",
    "df_9 = pd.DataFrame(house['property'][0]['vintage'],index=[0])\n",
    "\n"
   ]
  },
  {
   "cell_type": "code",
   "execution_count": 233,
   "metadata": {},
   "outputs": [],
   "source": [
    "# create new dfs based on df_8 dictionary keys\n",
    "\n",
    "# df_b1 ['bldgsize', 'grosssize', 'grosssizeadjusted', 'groundfloorsize',\n",
    "#       'livingsize', 'sizeInd', 'universalsize']\n",
    "df_b1 = pd.DataFrame(house['property'][0]['building']['size'],index=[0])\n",
    "\n",
    "# df_b2 ['bathfixtures', 'baths1qtr', 'baths3qtr', 'bathscalc', 'bathsfull',\n",
    "#       'bathshalf', 'bathstotal', 'beds', 'roomsTotal']\n",
    "df_b2 = pd.DataFrame(house['property'][0]['building']['rooms'],index=[0])\n",
    "\n",
    "#df_b3 ['bsmtsize', 'bsmttype', 'fplccount', 'fplcind', 'fplctype']\n",
    "df_b3 = pd.DataFrame(house['property'][0]['building']['interior'],index=[0])\n",
    "\n",
    "#df_b4 ['condition', 'wallType']\n",
    "df_b4 = pd.DataFrame(house['property'][0]['building']['construction'],index=[0])\n",
    "\n",
    "#df_b5 ['garagetype', 'prkgSize', 'prkgSpaces', 'prkgType']\n",
    "df_b5 = pd.DataFrame(house['property'][0]['building']['parking'],index=[0])\n",
    "\n",
    "#df_b6 ['bldgsNum', 'bldgType', 'imprType', 'levels', 'mobileHomeInd',\n",
    "#       'quality', 'storyDesc', 'unitsCount', 'yearbuilteffective']\n",
    "df_b6 = pd.DataFrame(house['property'][0]['building']['summary'],index=[0])"
   ]
  },
  {
   "cell_type": "code",
   "execution_count": 234,
   "metadata": {
    "scrolled": true
   },
   "outputs": [],
   "source": [
    "# Build df for property 1\n",
    "prop_1 = pd.concat([df_1['fips'],df_2,df_3,df_4,df_5,df_6,df_7,df_9,df_b1,df_b2,df_b3,df_b4,df_b5,df_b6],axis=1)"
   ]
  },
  {
   "cell_type": "code",
   "execution_count": 228,
   "metadata": {},
   "outputs": [
    {
     "data": {
      "text/html": [
       "<div>\n",
       "<style scoped>\n",
       "    .dataframe tbody tr th:only-of-type {\n",
       "        vertical-align: middle;\n",
       "    }\n",
       "\n",
       "    .dataframe tbody tr th {\n",
       "        vertical-align: top;\n",
       "    }\n",
       "\n",
       "    .dataframe thead th {\n",
       "        text-align: right;\n",
       "    }\n",
       "</style>\n",
       "<table border=\"1\" class=\"dataframe\">\n",
       "  <thead>\n",
       "    <tr style=\"text-align: right;\">\n",
       "      <th></th>\n",
       "      <th>fips</th>\n",
       "      <th>depth</th>\n",
       "      <th>frontage</th>\n",
       "      <th>lotnum</th>\n",
       "      <th>lotsize1</th>\n",
       "      <th>lotsize2</th>\n",
       "      <th>pooltype</th>\n",
       "      <th>blockNum</th>\n",
       "      <th>countrysecsubd</th>\n",
       "      <th>countyuse1</th>\n",
       "      <th>...</th>\n",
       "      <th>prkgType</th>\n",
       "      <th>bldgsNum</th>\n",
       "      <th>bldgType</th>\n",
       "      <th>imprType</th>\n",
       "      <th>levels</th>\n",
       "      <th>mobileHomeInd</th>\n",
       "      <th>quality</th>\n",
       "      <th>storyDesc</th>\n",
       "      <th>unitsCount</th>\n",
       "      <th>yearbuilteffective</th>\n",
       "    </tr>\n",
       "  </thead>\n",
       "  <tbody>\n",
       "    <tr>\n",
       "      <th>0</th>\n",
       "      <td>08031</td>\n",
       "      <td>0</td>\n",
       "      <td>0</td>\n",
       "      <td>31</td>\n",
       "      <td>0.1077</td>\n",
       "      <td>4690</td>\n",
       "      <td>NONE</td>\n",
       "      <td>36</td>\n",
       "      <td>Denver County</td>\n",
       "      <td>113</td>\n",
       "      <td>...</td>\n",
       "      <td>GARAGE DETACHED</td>\n",
       "      <td>0</td>\n",
       "      <td>TYPE UNKNOWN</td>\n",
       "      <td>RESIDENTIAL</td>\n",
       "      <td>1</td>\n",
       "      <td></td>\n",
       "      <td>EXCELLENT</td>\n",
       "      <td>TYPE UNKNOWN</td>\n",
       "      <td>1</td>\n",
       "      <td>0</td>\n",
       "    </tr>\n",
       "  </tbody>\n",
       "</table>\n",
       "<p>1 rows × 81 columns</p>\n",
       "</div>"
      ],
      "text/plain": [
       "    fips  depth  frontage lotnum  lotsize1  lotsize2 pooltype blockNum  \\\n",
       "0  08031      0         0     31    0.1077      4690     NONE       36   \n",
       "\n",
       "  countrysecsubd countyuse1  ...         prkgType bldgsNum      bldgType  \\\n",
       "0  Denver County        113  ...  GARAGE DETACHED        0  TYPE UNKNOWN   \n",
       "\n",
       "      imprType levels mobileHomeInd    quality     storyDesc unitsCount  \\\n",
       "0  RESIDENTIAL      1                EXCELLENT  TYPE UNKNOWN          1   \n",
       "\n",
       "  yearbuilteffective  \n",
       "0                  0  \n",
       "\n",
       "[1 rows x 81 columns]"
      ]
     },
     "execution_count": 228,
     "metadata": {},
     "output_type": "execute_result"
    }
   ],
   "source": [
    "prop_1"
   ]
  },
  {
   "cell_type": "code",
   "execution_count": null,
   "metadata": {},
   "outputs": [],
   "source": []
  },
  {
   "cell_type": "code",
   "execution_count": null,
   "metadata": {},
   "outputs": [],
   "source": []
  },
  {
   "cell_type": "code",
   "execution_count": 121,
   "metadata": {
    "scrolled": true
   },
   "outputs": [
    {
     "name": "stdout",
     "output_type": "stream",
     "text": [
      "k1 -->  identifier\n",
      "k2 -->  obPropId -> 18471319108031\n",
      "k2 -->  fips -> 08031\n",
      "k2 -->  apn -> 0219204018000\n",
      "k2 -->  apnOrig -> 219204018000\n",
      "k2 -->  attomId -> 184713191\n",
      "k1 -->  lot\n",
      "k2 -->  depth -> 0\n",
      "k2 -->  frontage -> 0\n",
      "k2 -->  lotnum -> 31\n",
      "k2 -->  lotsize1 -> 0.1077\n",
      "k2 -->  lotsize2 -> 4690\n",
      "k2 -->  pooltype -> NONE\n",
      "k1 -->  area\n",
      "k2 -->  blockNum -> 36\n",
      "k2 -->  countrysecsubd -> Denver County\n",
      "k2 -->  countyuse1 -> 113\n",
      "k2 -->  muncode -> DE\n",
      "k2 -->  munname -> DENVER\n",
      "k2 -->  srvyRange -> 68W\n",
      "k2 -->  srvySection -> 19\n",
      "k2 -->  srvyTownship -> 03S\n",
      "k2 -->  subdname -> BERKELEY\n",
      "k2 -->  subdtractnum -> 0\n",
      "k2 -->  taxcodearea -> 0\n",
      "k1 -->  address\n",
      "k2 -->  country -> US\n",
      "k2 -->  countrySubd -> CO\n",
      "k2 -->  line1 -> 4529 WINONA CT\n",
      "k2 -->  line2 -> DENVER, CO 80212\n",
      "k2 -->  locality -> Denver\n",
      "k2 -->  matchCode -> ExaStr\n",
      "k2 -->  oneLine -> 4529 WINONA CT, DENVER, CO 80212\n",
      "k2 -->  postal1 -> 80212\n",
      "k2 -->  postal2 -> 2512\n",
      "k2 -->  postal3 -> C037\n",
      "k1 -->  location\n",
      "k2 -->  accuracy -> Street\n",
      "k2 -->  elevation -> 0.0\n",
      "k2 -->  latitude -> 39.778904\n",
      "k2 -->  longitude -> -105.047624\n",
      "k2 -->  distance -> 0.0\n",
      "k2 -->  geoid -> CO08031, CS0891007, DB0803360, MT30001324, ND0000119198, ND0004721499, PL0820000, SB0000076114, SB0000076155, SB0000076161, SB0000135819, ZI80212\n",
      "k1 -->  summary\n",
      "k2 -->  absenteeInd -> OWNER OCCUPIED\n",
      "k2 -->  propclass -> Single Family Residence / Townhouse\n",
      "k2 -->  propsubtype -> RESIDENTIAL\n",
      "k2 -->  proptype -> SFR\n",
      "k2 -->  yearbuilt -> 1900\n",
      "k2 -->  propLandUse -> SFR\n",
      "k2 -->  propIndicator -> 10\n",
      "k2 -->  legal1 -> BERKELEY B36 L31 & S/2 OF L32 EXC REAR 8FT TO CITY\n",
      "k1 -->  utilities\n",
      "k2 -->  heatingtype -> FORCED AIR\n",
      "k1 -->  building\n",
      "k3 -->  bldgsize -> 1414\n",
      "k2 -->  size -> {'bldgsize': 1414, 'grosssize': 1414, 'grosssizeadjusted': 934, 'groundfloorsize': 934, 'livingsize': 934, 'sizeInd': 'LIVING SQFT ', 'universalsize': 934}\n",
      "k2 -->  size -> {'bldgsize': 1414, 'grosssize': 1414, 'grosssizeadjusted': 934, 'groundfloorsize': 934, 'livingsize': 934, 'sizeInd': 'LIVING SQFT ', 'universalsize': 934}\n",
      "k3 -->  bathfixtures -> 0\n",
      "k2 -->  rooms -> {'bathfixtures': 0, 'baths1qtr': 0, 'baths3qtr': 0, 'bathscalc': 1.0, 'bathsfull': 1, 'bathshalf': 0, 'bathstotal': 1.0, 'beds': 2, 'roomsTotal': 5}\n",
      "k2 -->  rooms -> {'bathfixtures': 0, 'baths1qtr': 0, 'baths3qtr': 0, 'bathscalc': 1.0, 'bathsfull': 1, 'bathshalf': 0, 'bathstotal': 1.0, 'beds': 2, 'roomsTotal': 5}\n",
      "k3 -->  bsmtsize -> 480\n",
      "k2 -->  interior -> {'bsmtsize': 480, 'bsmttype': 'UNFINISHED', 'fplccount': 1, 'fplcind': 'Y', 'fplctype': 'YES'}\n",
      "k2 -->  interior -> {'bsmtsize': 480, 'bsmttype': 'UNFINISHED', 'fplccount': 1, 'fplcind': 'Y', 'fplctype': 'YES'}\n",
      "k3 -->  condition -> AVERAGE\n",
      "k2 -->  construction -> {'condition': 'AVERAGE', 'wallType': 'BRICK'}\n",
      "k2 -->  construction -> {'condition': 'AVERAGE', 'wallType': 'BRICK'}\n",
      "k3 -->  garagetype -> DETACHED GARAGE\n",
      "k2 -->  parking -> {'garagetype': 'DETACHED GARAGE', 'prkgSize': 240, 'prkgSpaces': '0', 'prkgType': 'GARAGE DETACHED'}\n",
      "k2 -->  parking -> {'garagetype': 'DETACHED GARAGE', 'prkgSize': 240, 'prkgSpaces': '0', 'prkgType': 'GARAGE DETACHED'}\n",
      "k3 -->  bldgsNum -> 0\n",
      "k2 -->  summary -> {'bldgsNum': 0, 'bldgType': 'TYPE UNKNOWN', 'imprType': 'RESIDENTIAL', 'levels': 1, 'mobileHomeInd': ' ', 'quality': 'EXCELLENT', 'storyDesc': 'TYPE UNKNOWN', 'unitsCount': '1', 'yearbuilteffective': 0}\n",
      "k2 -->  summary -> {'bldgsNum': 0, 'bldgType': 'TYPE UNKNOWN', 'imprType': 'RESIDENTIAL', 'levels': 1, 'mobileHomeInd': ' ', 'quality': 'EXCELLENT', 'storyDesc': 'TYPE UNKNOWN', 'unitsCount': '1', 'yearbuilteffective': 0}\n",
      "k1 -->  vintage\n",
      "k2 -->  lastModified -> 2020-1-10\n",
      "k2 -->  pubDate -> 2020-1-16\n"
     ]
    },
    {
     "data": {
      "text/html": [
       "<div>\n",
       "<style scoped>\n",
       "    .dataframe tbody tr th:only-of-type {\n",
       "        vertical-align: middle;\n",
       "    }\n",
       "\n",
       "    .dataframe tbody tr th {\n",
       "        vertical-align: top;\n",
       "    }\n",
       "\n",
       "    .dataframe thead th {\n",
       "        text-align: right;\n",
       "    }\n",
       "</style>\n",
       "<table border=\"1\" class=\"dataframe\">\n",
       "  <thead>\n",
       "    <tr style=\"text-align: right;\">\n",
       "      <th></th>\n",
       "      <th>size</th>\n",
       "      <th>rooms</th>\n",
       "      <th>interior</th>\n",
       "      <th>construction</th>\n",
       "      <th>parking</th>\n",
       "      <th>summary</th>\n",
       "    </tr>\n",
       "  </thead>\n",
       "  <tbody>\n",
       "    <tr>\n",
       "      <th>0</th>\n",
       "      <td>NaN</td>\n",
       "      <td>NaN</td>\n",
       "      <td>NaN</td>\n",
       "      <td>NaN</td>\n",
       "      <td>NaN</td>\n",
       "      <td>NaN</td>\n",
       "    </tr>\n",
       "  </tbody>\n",
       "</table>\n",
       "</div>"
      ],
      "text/plain": [
       "   size  rooms  interior  construction  parking  summary\n",
       "0   NaN    NaN       NaN           NaN      NaN      NaN"
      ]
     },
     "execution_count": 121,
     "metadata": {},
     "output_type": "execute_result"
    }
   ],
   "source": [
    "df = pd.DataFrame()\n",
    "for k1 in house['property'][0]:\n",
    "    print(\"k1 --> \",k1)\n",
    "    for k2 in house['property'][0][k1]:\n",
    "        \n",
    "        try:\n",
    "            for k3 in house['property'][0][k1][k2]:\n",
    "                print(\"k3 --> \",k3, '->', house['property'][0][k1][k2][k3])\n",
    "                print(\"k2 --> \",k2, '->', house['property'][0][k1][k2])\n",
    "#                df[str(k3)] = house['property'][0][k1][k2]\n",
    "                df.loc[0,str(k2)] = house['property'][0][k1][k2]\n",
    "                break\n",
    "            try:\n",
    "                for k4 in house['property'][0][k1][k2][k3]:\n",
    "                    print(\"k4 --> \",k4, '->', house['property'][0][k1][k2][k3][k4])\n",
    "                    print(\"k3 --> \",k3, '->', house['property'][0][k1][k2][k3])\n",
    "                    break\n",
    "            except:\n",
    "                print(\"k3 --> \",k3, '->', house['property'][0][k1][k2][k3])\n",
    "        \n",
    "        except:\n",
    "            print(\"k2 --> \",k2, '->', house['property'][0][k1][k2])\n",
    "            \n",
    "df.head()            "
   ]
  },
  {
   "cell_type": "code",
   "execution_count": 241,
   "metadata": {},
   "outputs": [
    {
     "name": "stdout",
     "output_type": "stream",
     "text": [
      "{\"status\":{\"version\":\"1.0.0\",\"code\":0,\"msg\":\"SuccessWithResult\",\"total\":1,\"page\":1,\"pagesize\":10},\"property\":[{\"identifier\":{\"obPropId\":18471319108031,\"fips\":\"08031\",\"apn\":\"0219204018000\",\"apnOrig\":\"219204018000\",\"attomId\":184713191},\"lot\":{\"depth\":0,\"frontage\":0,\"lotnum\":\"31\",\"lotsize1\":0.1077,\"lotsize2\":4690,\"pooltype\":\"NONE\"},\"area\":{\"blockNum\":\"36\",\"countrysecsubd\":\"Denver County\",\"countyuse1\":\"113\",\"muncode\":\"DE\",\"munname\":\"DENVER\",\"srvyRange\":\"68W\",\"srvySection\":\"19\",\"srvyTownship\":\"03S\",\"subdname\":\"BERKELEY\",\"subdtractnum\":\"0\",\"taxcodearea\":\"0\"},\"address\":{\"country\":\"US\",\"countrySubd\":\"CO\",\"line1\":\"4529 WINONA CT\",\"line2\":\"DENVER, CO 80212\",\"locality\":\"Denver\",\"matchCode\":\"ExaStr\",\"oneLine\":\"4529 WINONA CT, DENVER, CO 80212\",\"postal1\":\"80212\",\"postal2\":\"2512\",\"postal3\":\"C037\"},\"location\":{\"accuracy\":\"Street\",\"elevation\":0.0,\"latitude\":\"39.778904\",\"longitude\":\"-105.047624\",\"distance\":0.0,\"geoid\":\"CO08031, CS0891007, DB0803360, MT30001324, ND0000119198, ND0004721499, PL0820000, SB0000076114, SB0000076155, SB0000076161, SB0000135819, ZI80212\"},\"summary\":{\"absenteeInd\":\"OWNER OCCUPIED\",\"propclass\":\"Single Family Residence / Townhouse\",\"propsubtype\":\"RESIDENTIAL\",\"proptype\":\"SFR\",\"yearbuilt\":1900,\"propLandUse\":\"SFR\",\"propIndicator\":\"10\",\"legal1\":\"BERKELEY B36 L31 & S/2 OF L32 EXC REAR 8FT TO CITY\"},\"utilities\":{\"heatingtype\":\"FORCED AIR\"},\"building\":{\"size\":{\"bldgsize\":1414,\"grosssize\":1414,\"grosssizeadjusted\":934,\"groundfloorsize\":934,\"livingsize\":934,\"sizeInd\":\"LIVING SQFT \",\"universalsize\":934},\"rooms\":{\"bathfixtures\":0,\"baths1qtr\":0,\"baths3qtr\":0,\"bathscalc\":1.0,\"bathsfull\":1,\"bathshalf\":0,\"bathstotal\":1.0,\"beds\":2,\"roomsTotal\":5},\"interior\":{\"bsmtsize\":480,\"bsmttype\":\"UNFINISHED\",\"fplccount\":1,\"fplcind\":\"Y\",\"fplctype\":\"YES\"},\"construction\":{\"condition\":\"AVERAGE\",\"wallType\":\"BRICK\"},\"parking\":{\"garagetype\":\"DETACHED GARAGE\",\"prkgSize\":240,\"prkgSpaces\":\"0\",\"prkgType\":\"GARAGE DETACHED\"},\"summary\":{\"bldgsNum\":0,\"bldgType\":\"TYPE UNKNOWN\",\"imprType\":\"RESIDENTIAL\",\"levels\":1,\"mobileHomeInd\":\" \",\"quality\":\"EXCELLENT\",\"storyDesc\":\"TYPE UNKNOWN\",\"unitsCount\":\"1\",\"yearbuilteffective\":0}},\"vintage\":{\"lastModified\":\"2020-1-10\",\"pubDate\":\"2020-1-16\"}}]}\n"
     ]
    }
   ],
   "source": [
    "conn = http.client.HTTPSConnection(\"api.gateway.attomdata.com\") \n",
    "\n",
    "headers = { \n",
    "    'accept': \"application/json\", \n",
    "    'apikey': \"keyID\", \n",
    "} \n",
    "\n",
    "conn.request(\"GET\", \"/propertyapi/v1.0.0/property/detail?address1=1232%20Quaker%20Street&address2=Golden%2C%20CO\", \n",
    "             headers=headers) \n",
    "\n",
    "res_2 = conn.getresponse() \n",
    "data_2 = res_2.read() \n",
    "\n",
    "print(data.decode(\"utf-8\"))"
   ]
  },
  {
   "cell_type": "code",
   "execution_count": 242,
   "metadata": {
    "scrolled": true
   },
   "outputs": [
    {
     "data": {
      "text/plain": [
       "{'status': {'version': '1.0.0',\n",
       "  'code': 0,\n",
       "  'msg': 'SuccessWithResult',\n",
       "  'total': 1,\n",
       "  'page': 1,\n",
       "  'pagesize': 10},\n",
       " 'property': [{'identifier': {'obPropId': 18442333608059,\n",
       "    'fips': '08059',\n",
       "    'apn': '210768',\n",
       "    'apnOrig': '210768',\n",
       "    'attomId': 184423336},\n",
       "   'lot': {'depth': 0,\n",
       "    'frontage': 0,\n",
       "    'lotnum': '10',\n",
       "    'lotsize1': 0.2351,\n",
       "    'lotsize2': 10243,\n",
       "    'pooltype': 'NONE'},\n",
       "   'area': {'countrysecsubd': 'Jefferson County',\n",
       "    'countyuse1': '1215',\n",
       "    'muncode': 'JE',\n",
       "    'munname': 'JEFFERSON',\n",
       "    'srvyRange': '70',\n",
       "    'srvySection': '01',\n",
       "    'srvyTownship': '04',\n",
       "    'subdname': 'ASMUS',\n",
       "    'subdtractnum': '0',\n",
       "    'taxcodearea': '4573'},\n",
       "   'address': {'country': 'US',\n",
       "    'countrySubd': 'CO',\n",
       "    'line1': '1232 QUAKER ST',\n",
       "    'line2': 'GOLDEN, CO 80401',\n",
       "    'locality': 'Golden',\n",
       "    'matchCode': 'ExaStr',\n",
       "    'oneLine': '1232 QUAKER ST, GOLDEN, CO 80401',\n",
       "    'postal1': '80401',\n",
       "    'postal2': '2801',\n",
       "    'postal3': 'C008'},\n",
       "   'location': {'accuracy': 'Street',\n",
       "    'elevation': 0.0,\n",
       "    'latitude': '39.736079',\n",
       "    'longitude': '-105.184132',\n",
       "    'distance': 0.0,\n",
       "    'geoid': 'CO08059, CS0892641, DB0804800, MT30001324, ND0000119566, ND0004681965, PL0884042, SB0000075688, SB0000075713, SB0000075759, ZI80401'},\n",
       "   'summary': {'absenteeInd': 'OWNER OCCUPIED',\n",
       "    'propclass': 'Single Family Residence / Townhouse',\n",
       "    'propsubtype': 'MISCELLANEOUS INDUSTRIAL',\n",
       "    'proptype': 'SFR',\n",
       "    'yearbuilt': 1985,\n",
       "    'propLandUse': 'SFR',\n",
       "    'propIndicator': '10',\n",
       "    'legal1': 'SECTION 01 TOWNSHIP 04 RANGE 70 QTR NW SUBDIVISIONCD 056200 SUBDIVISIONNAME ASMUS BLOCK LOT 0010 SIZE: 30 TRACT 00C VALUE: .001 SECTION 01 TOWNSHIP 04 RANGE 70 QTR NW SUBDIVISIONCD 056200 SUBDIVISIONNAME ASMUS BLOCK LOT 0011 SIZE: 70 TRACT 00C VALUE:'},\n",
       "   'utilities': {'heatingtype': 'FORCED AIR'},\n",
       "   'building': {'size': {'bldgsize': 4504,\n",
       "     'grosssize': 4504,\n",
       "     'grosssizeadjusted': 2052,\n",
       "     'groundfloorsize': 2052,\n",
       "     'livingsize': 2052,\n",
       "     'sizeInd': 'LIVING SQFT ',\n",
       "     'universalsize': 2052},\n",
       "    'rooms': {'bathfixtures': 0,\n",
       "     'baths1qtr': 0,\n",
       "     'baths3qtr': 0,\n",
       "     'bathscalc': 2.0,\n",
       "     'bathsfull': 0,\n",
       "     'bathshalf': 0,\n",
       "     'bathstotal': 2.0,\n",
       "     'beds': 4,\n",
       "     'roomsTotal': 0},\n",
       "    'interior': {'bsmtsize': 2052,\n",
       "     'bsmttype': 'UNFINISHED',\n",
       "     'fplccount': 0,\n",
       "     'fplcind': 'Y',\n",
       "     'fplctype': 'YES'},\n",
       "    'construction': {'constructiontype': 'MASONRY', 'frameType': 'MASONRY'},\n",
       "    'parking': {'garagetype': 'ATTACHED GARAGE',\n",
       "     'prkgSize': 400,\n",
       "     'prkgSpaces': '0',\n",
       "     'prkgType': 'GARAGE - ATTACHED'},\n",
       "    'summary': {'archStyle': 'RANCH',\n",
       "     'bldgsNum': 1,\n",
       "     'bldgType': 'MISCELLANEOUS INDUSTRIAL',\n",
       "     'levels': 1,\n",
       "     'mobileHomeInd': ' ',\n",
       "     'quality': 'EXCELLENT',\n",
       "     'storyDesc': 'MISCELLANEOUS INDUSTRIAL',\n",
       "     'unitsCount': '1',\n",
       "     'yearbuilteffective': 1985}},\n",
       "   'vintage': {'lastModified': '2019-7-10', 'pubDate': '2019-7-24'}}]}"
      ]
     },
     "execution_count": 242,
     "metadata": {},
     "output_type": "execute_result"
    }
   ],
   "source": [
    "house_2 = json.loads(data_2)\n",
    "house_2"
   ]
  },
  {
   "cell_type": "code",
   "execution_count": 291,
   "metadata": {},
   "outputs": [],
   "source": [
    "def call_api(num,street,str_type,city,state):\n",
    "    conn = http.client.HTTPSConnection(\"api.gateway.attomdata.com\") \n",
    "\n",
    "    headers = { \n",
    "        'accept': \"application/json\", \n",
    "        'apikey': \"keyID\", \n",
    "    } \n",
    "    address = f\"address1={num}%20{street}%20{str_type}&address2={city}%2C%20{state}\"\n",
    "    conn.request(\"GET\", f\"/propertyapi/v1.0.0/property/detail?{address}\", headers=headers) \n",
    "\n",
    "    res = conn.getresponse() \n",
    "    data = res.read() \n",
    "    \n",
    "#    print(data.decode(\"utf-8\"))\n",
    "    return data\n",
    "#    print(\"GET\", f\"/propertyapi/v1.0.0/property/detail?{address}\", \"headers=headers\")"
   ]
  },
  {
   "cell_type": "code",
   "execution_count": 292,
   "metadata": {
    "scrolled": true
   },
   "outputs": [
    {
     "data": {
      "text/plain": [
       "b'{\"status\":{\"version\":\"1.0.0\",\"code\":0,\"msg\":\"SuccessWithResult\",\"total\":1,\"page\":1,\"pagesize\":10},\"property\":[{\"identifier\":{\"obPropId\":18442333608059,\"fips\":\"08059\",\"apn\":\"210768\",\"apnOrig\":\"210768\",\"attomId\":184423336},\"lot\":{\"depth\":0,\"frontage\":0,\"lotnum\":\"10\",\"lotsize1\":0.2351,\"lotsize2\":10243,\"pooltype\":\"NONE\"},\"area\":{\"countrysecsubd\":\"Jefferson County\",\"countyuse1\":\"1215\",\"muncode\":\"JE\",\"munname\":\"JEFFERSON\",\"srvyRange\":\"70\",\"srvySection\":\"01\",\"srvyTownship\":\"04\",\"subdname\":\"ASMUS\",\"subdtractnum\":\"0\",\"taxcodearea\":\"4573\"},\"address\":{\"country\":\"US\",\"countrySubd\":\"CO\",\"line1\":\"1232 QUAKER ST\",\"line2\":\"GOLDEN, CO 80401\",\"locality\":\"Golden\",\"matchCode\":\"ExaStr\",\"oneLine\":\"1232 QUAKER ST, GOLDEN, CO 80401\",\"postal1\":\"80401\",\"postal2\":\"2801\",\"postal3\":\"C008\"},\"location\":{\"accuracy\":\"Street\",\"elevation\":0.0,\"latitude\":\"39.736079\",\"longitude\":\"-105.184132\",\"distance\":0.0,\"geoid\":\"CO08059, CS0892641, DB0804800, MT30001324, ND0000119566, ND0004681965, PL0884042, SB0000075688, SB0000075713, SB0000075759, ZI80401\"},\"summary\":{\"absenteeInd\":\"OWNER OCCUPIED\",\"propclass\":\"Single Family Residence / Townhouse\",\"propsubtype\":\"MISCELLANEOUS INDUSTRIAL\",\"proptype\":\"SFR\",\"yearbuilt\":1985,\"propLandUse\":\"SFR\",\"propIndicator\":\"10\",\"legal1\":\"SECTION 01 TOWNSHIP 04 RANGE 70 QTR NW SUBDIVISIONCD 056200 SUBDIVISIONNAME ASMUS BLOCK LOT 0010 SIZE: 30 TRACT 00C VALUE: .001 SECTION 01 TOWNSHIP 04 RANGE 70 QTR NW SUBDIVISIONCD 056200 SUBDIVISIONNAME ASMUS BLOCK LOT 0011 SIZE: 70 TRACT 00C VALUE:\"},\"utilities\":{\"heatingtype\":\"FORCED AIR\"},\"building\":{\"size\":{\"bldgsize\":4504,\"grosssize\":4504,\"grosssizeadjusted\":2052,\"groundfloorsize\":2052,\"livingsize\":2052,\"sizeInd\":\"LIVING SQFT \",\"universalsize\":2052},\"rooms\":{\"bathfixtures\":0,\"baths1qtr\":0,\"baths3qtr\":0,\"bathscalc\":2.0,\"bathsfull\":0,\"bathshalf\":0,\"bathstotal\":2.0,\"beds\":4,\"roomsTotal\":0},\"interior\":{\"bsmtsize\":2052,\"bsmttype\":\"UNFINISHED\",\"fplccount\":0,\"fplcind\":\"Y\",\"fplctype\":\"YES\"},\"construction\":{\"constructiontype\":\"MASONRY\",\"frameType\":\"MASONRY\"},\"parking\":{\"garagetype\":\"ATTACHED GARAGE\",\"prkgSize\":400,\"prkgSpaces\":\"0\",\"prkgType\":\"GARAGE - ATTACHED\"},\"summary\":{\"archStyle\":\"RANCH\",\"bldgsNum\":1,\"bldgType\":\"MISCELLANEOUS INDUSTRIAL\",\"levels\":1,\"mobileHomeInd\":\" \",\"quality\":\"EXCELLENT\",\"storyDesc\":\"MISCELLANEOUS INDUSTRIAL\",\"unitsCount\":\"1\",\"yearbuilteffective\":1985}},\"vintage\":{\"lastModified\":\"2019-7-10\",\"pubDate\":\"2019-7-24\"}}]}'"
      ]
     },
     "execution_count": 292,
     "metadata": {},
     "output_type": "execute_result"
    }
   ],
   "source": [
    "call_api('1232','Quaker','Street','Golden','CO')"
   ]
  },
  {
   "cell_type": "code",
   "execution_count": 293,
   "metadata": {},
   "outputs": [
    {
     "data": {
      "text/html": [
       "<div>\n",
       "<style scoped>\n",
       "    .dataframe tbody tr th:only-of-type {\n",
       "        vertical-align: middle;\n",
       "    }\n",
       "\n",
       "    .dataframe tbody tr th {\n",
       "        vertical-align: top;\n",
       "    }\n",
       "\n",
       "    .dataframe thead th {\n",
       "        text-align: right;\n",
       "    }\n",
       "</style>\n",
       "<table border=\"1\" class=\"dataframe\">\n",
       "  <thead>\n",
       "    <tr style=\"text-align: right;\">\n",
       "      <th></th>\n",
       "      <th>fips</th>\n",
       "      <th>depth</th>\n",
       "      <th>frontage</th>\n",
       "      <th>lotnum</th>\n",
       "      <th>lotsize1</th>\n",
       "      <th>lotsize2</th>\n",
       "      <th>pooltype</th>\n",
       "      <th>countrysecsubd</th>\n",
       "      <th>countyuse1</th>\n",
       "      <th>muncode</th>\n",
       "      <th>...</th>\n",
       "      <th>prkgType</th>\n",
       "      <th>archStyle</th>\n",
       "      <th>bldgsNum</th>\n",
       "      <th>bldgType</th>\n",
       "      <th>levels</th>\n",
       "      <th>mobileHomeInd</th>\n",
       "      <th>quality</th>\n",
       "      <th>storyDesc</th>\n",
       "      <th>unitsCount</th>\n",
       "      <th>yearbuilteffective</th>\n",
       "    </tr>\n",
       "  </thead>\n",
       "  <tbody>\n",
       "    <tr>\n",
       "      <th>0</th>\n",
       "      <td>08059</td>\n",
       "      <td>0</td>\n",
       "      <td>0</td>\n",
       "      <td>10</td>\n",
       "      <td>0.2351</td>\n",
       "      <td>10243</td>\n",
       "      <td>NONE</td>\n",
       "      <td>Jefferson County</td>\n",
       "      <td>1215</td>\n",
       "      <td>JE</td>\n",
       "      <td>...</td>\n",
       "      <td>GARAGE - ATTACHED</td>\n",
       "      <td>RANCH</td>\n",
       "      <td>1</td>\n",
       "      <td>MISCELLANEOUS INDUSTRIAL</td>\n",
       "      <td>1</td>\n",
       "      <td></td>\n",
       "      <td>EXCELLENT</td>\n",
       "      <td>MISCELLANEOUS INDUSTRIAL</td>\n",
       "      <td>1</td>\n",
       "      <td>1985</td>\n",
       "    </tr>\n",
       "  </tbody>\n",
       "</table>\n",
       "<p>1 rows × 80 columns</p>\n",
       "</div>"
      ],
      "text/plain": [
       "    fips  depth  frontage lotnum  lotsize1  lotsize2 pooltype  \\\n",
       "0  08059      0         0     10    0.2351     10243     NONE   \n",
       "\n",
       "     countrysecsubd countyuse1 muncode  ...           prkgType archStyle  \\\n",
       "0  Jefferson County       1215      JE  ...  GARAGE - ATTACHED     RANCH   \n",
       "\n",
       "  bldgsNum                  bldgType levels mobileHomeInd    quality  \\\n",
       "0        1  MISCELLANEOUS INDUSTRIAL      1                EXCELLENT   \n",
       "\n",
       "                  storyDesc unitsCount yearbuilteffective  \n",
       "0  MISCELLANEOUS INDUSTRIAL          1               1985  \n",
       "\n",
       "[1 rows x 80 columns]"
      ]
     },
     "execution_count": 293,
     "metadata": {},
     "output_type": "execute_result"
    }
   ],
   "source": [
    "extract_details(call_api('1232','Quaker','Street','Golden','CO'))"
   ]
  },
  {
   "cell_type": "code",
   "execution_count": 295,
   "metadata": {},
   "outputs": [],
   "source": [
    "custer = extract_details(call_api('1911','Custer','Street','Laramie','WY'))\n",
    "# 1911 E Custer St\n",
    "# Laramie, WY 82070"
   ]
  },
  {
   "cell_type": "code",
   "execution_count": 296,
   "metadata": {},
   "outputs": [
    {
     "data": {
      "text/plain": [
       "Index(['fips', 'depth', 'frontage', 'lotsize1', 'lotsize2', 'countrysecsubd',\n",
       "       'countyuse1', 'country', 'countrySubd', 'line1', 'line2', 'locality',\n",
       "       'matchCode', 'oneLine', 'postal1', 'postal2', 'postal3', 'accuracy',\n",
       "       'elevation', 'latitude', 'longitude', 'distance', 'geoid',\n",
       "       'absenteeInd', 'propclass', 'proptype', 'yearbuilt', 'propLandUse',\n",
       "       'propIndicator', 'legal1', 'heatingtype', 'lastModified', 'pubDate',\n",
       "       'bldgsize', 'grosssize', 'grosssizeadjusted', 'groundfloorsize',\n",
       "       'livingsize', 'sizeInd', 'universalsize', 'bathfixtures', 'baths1qtr',\n",
       "       'baths3qtr', 'bathscalc', 'bathsfull', 'bathshalf', 'bathstotal',\n",
       "       'beds', 'roomsTotal', 'bsmtsize', 'bsmttype', 'fplccount', 'condition',\n",
       "       'constructiontype', 'frameType', 'roofcover', 'wallType', 'garagetype',\n",
       "       'prkgSize', 'archStyle', 'bldgsNum', 'levels', 'mobileHomeInd',\n",
       "       'unitsCount', 'yearbuilteffective'],\n",
       "      dtype='object')"
      ]
     },
     "execution_count": 296,
     "metadata": {},
     "output_type": "execute_result"
    }
   ],
   "source": [
    "custer.columns"
   ]
  },
  {
   "cell_type": "code",
   "execution_count": 300,
   "metadata": {},
   "outputs": [
    {
     "data": {
      "text/html": [
       "<div>\n",
       "<style scoped>\n",
       "    .dataframe tbody tr th:only-of-type {\n",
       "        vertical-align: middle;\n",
       "    }\n",
       "\n",
       "    .dataframe tbody tr th {\n",
       "        vertical-align: top;\n",
       "    }\n",
       "\n",
       "    .dataframe thead th {\n",
       "        text-align: right;\n",
       "    }\n",
       "</style>\n",
       "<table border=\"1\" class=\"dataframe\">\n",
       "  <thead>\n",
       "    <tr style=\"text-align: right;\">\n",
       "      <th></th>\n",
       "      <th>bldgsize</th>\n",
       "      <th>grosssize</th>\n",
       "      <th>grosssizeadjusted</th>\n",
       "      <th>groundfloorsize</th>\n",
       "      <th>livingsize</th>\n",
       "      <th>sizeInd</th>\n",
       "      <th>universalsize</th>\n",
       "      <th>bathfixtures</th>\n",
       "      <th>baths1qtr</th>\n",
       "      <th>baths3qtr</th>\n",
       "      <th>bathscalc</th>\n",
       "      <th>bathsfull</th>\n",
       "      <th>bathshalf</th>\n",
       "      <th>bathstotal</th>\n",
       "      <th>beds</th>\n",
       "      <th>roomsTotal</th>\n",
       "      <th>bsmtsize</th>\n",
       "      <th>bsmttype</th>\n",
       "    </tr>\n",
       "  </thead>\n",
       "  <tbody>\n",
       "    <tr>\n",
       "      <th>0</th>\n",
       "      <td>0</td>\n",
       "      <td>0</td>\n",
       "      <td>1107</td>\n",
       "      <td>0</td>\n",
       "      <td>1107</td>\n",
       "      <td>LIVING SQFT</td>\n",
       "      <td>1107</td>\n",
       "      <td>-1</td>\n",
       "      <td>0</td>\n",
       "      <td>0</td>\n",
       "      <td>2.0</td>\n",
       "      <td>0</td>\n",
       "      <td>0</td>\n",
       "      <td>2.0</td>\n",
       "      <td>6</td>\n",
       "      <td>8</td>\n",
       "      <td>0</td>\n",
       "      <td>FINISHED</td>\n",
       "    </tr>\n",
       "  </tbody>\n",
       "</table>\n",
       "</div>"
      ],
      "text/plain": [
       "   bldgsize  grosssize  grosssizeadjusted  groundfloorsize  livingsize  \\\n",
       "0         0          0               1107                0        1107   \n",
       "\n",
       "        sizeInd  universalsize  bathfixtures  baths1qtr  baths3qtr  bathscalc  \\\n",
       "0  LIVING SQFT            1107            -1          0          0        2.0   \n",
       "\n",
       "   bathsfull  bathshalf  bathstotal  beds  roomsTotal  bsmtsize  bsmttype  \n",
       "0          0          0         2.0     6           8         0  FINISHED  "
      ]
     },
     "execution_count": 300,
     "metadata": {},
     "output_type": "execute_result"
    }
   ],
   "source": [
    "custer[['bldgsize', 'grosssize', 'grosssizeadjusted', 'groundfloorsize',\n",
    "       'livingsize', 'sizeInd', 'universalsize', 'bathfixtures', 'baths1qtr',\n",
    "       'baths3qtr', 'bathscalc', 'bathsfull', 'bathshalf', 'bathstotal',\n",
    "       'beds', 'roomsTotal', 'bsmtsize', 'bsmttype']]"
   ]
  },
  {
   "cell_type": "code",
   "execution_count": 301,
   "metadata": {},
   "outputs": [
    {
     "data": {
      "text/html": [
       "<div>\n",
       "<style scoped>\n",
       "    .dataframe tbody tr th:only-of-type {\n",
       "        vertical-align: middle;\n",
       "    }\n",
       "\n",
       "    .dataframe tbody tr th {\n",
       "        vertical-align: top;\n",
       "    }\n",
       "\n",
       "    .dataframe thead th {\n",
       "        text-align: right;\n",
       "    }\n",
       "</style>\n",
       "<table border=\"1\" class=\"dataframe\">\n",
       "  <thead>\n",
       "    <tr style=\"text-align: right;\">\n",
       "      <th></th>\n",
       "      <th>fips</th>\n",
       "      <th>depth</th>\n",
       "      <th>frontage</th>\n",
       "      <th>lotnum</th>\n",
       "      <th>lotsize1</th>\n",
       "      <th>lotsize2</th>\n",
       "      <th>pooltype</th>\n",
       "      <th>blockNum</th>\n",
       "      <th>countrysecsubd</th>\n",
       "      <th>countyuse1</th>\n",
       "      <th>...</th>\n",
       "      <th>prkgType</th>\n",
       "      <th>archStyle</th>\n",
       "      <th>bldgsNum</th>\n",
       "      <th>bldgType</th>\n",
       "      <th>imprType</th>\n",
       "      <th>levels</th>\n",
       "      <th>mobileHomeInd</th>\n",
       "      <th>storyDesc</th>\n",
       "      <th>unitsCount</th>\n",
       "      <th>yearbuilteffective</th>\n",
       "    </tr>\n",
       "  </thead>\n",
       "  <tbody>\n",
       "    <tr>\n",
       "      <th>0</th>\n",
       "      <td>08123</td>\n",
       "      <td>0</td>\n",
       "      <td>0</td>\n",
       "      <td>30</td>\n",
       "      <td>0.2576</td>\n",
       "      <td>11220</td>\n",
       "      <td>NONE</td>\n",
       "      <td>6</td>\n",
       "      <td>Weld County</td>\n",
       "      <td>0001</td>\n",
       "      <td>...</td>\n",
       "      <td>GARAGE - ATTACHED</td>\n",
       "      <td>RANCH</td>\n",
       "      <td>1</td>\n",
       "      <td>HOUSE</td>\n",
       "      <td>HOUSE</td>\n",
       "      <td>1</td>\n",
       "      <td></td>\n",
       "      <td>HOUSE</td>\n",
       "      <td>1</td>\n",
       "      <td>0</td>\n",
       "    </tr>\n",
       "  </tbody>\n",
       "</table>\n",
       "<p>1 rows × 82 columns</p>\n",
       "</div>"
      ],
      "text/plain": [
       "    fips  depth  frontage lotnum  lotsize1  lotsize2 pooltype blockNum  \\\n",
       "0  08123      0         0     30    0.2576     11220     NONE        6   \n",
       "\n",
       "  countrysecsubd countyuse1  ...           prkgType archStyle bldgsNum  \\\n",
       "0    Weld County       0001  ...  GARAGE - ATTACHED     RANCH        1   \n",
       "\n",
       "  bldgType imprType levels mobileHomeInd storyDesc unitsCount  \\\n",
       "0    HOUSE    HOUSE      1                   HOUSE          1   \n",
       "\n",
       "  yearbuilteffective  \n",
       "0                  0  \n",
       "\n",
       "[1 rows x 82 columns]"
      ]
     },
     "execution_count": 301,
     "metadata": {},
     "output_type": "execute_result"
    }
   ],
   "source": [
    "greeley = extract_details(call_api('3204','Stirrup','Lane','Evans','CO'))\n",
    "greeley"
   ]
  },
  {
   "cell_type": "code",
   "execution_count": 302,
   "metadata": {},
   "outputs": [
    {
     "data": {
      "text/html": [
       "<div>\n",
       "<style scoped>\n",
       "    .dataframe tbody tr th:only-of-type {\n",
       "        vertical-align: middle;\n",
       "    }\n",
       "\n",
       "    .dataframe tbody tr th {\n",
       "        vertical-align: top;\n",
       "    }\n",
       "\n",
       "    .dataframe thead th {\n",
       "        text-align: right;\n",
       "    }\n",
       "</style>\n",
       "<table border=\"1\" class=\"dataframe\">\n",
       "  <thead>\n",
       "    <tr style=\"text-align: right;\">\n",
       "      <th></th>\n",
       "      <th>bldgsize</th>\n",
       "      <th>grosssize</th>\n",
       "      <th>grosssizeadjusted</th>\n",
       "      <th>groundfloorsize</th>\n",
       "      <th>livingsize</th>\n",
       "      <th>sizeInd</th>\n",
       "      <th>universalsize</th>\n",
       "      <th>bathfixtures</th>\n",
       "      <th>baths1qtr</th>\n",
       "      <th>baths3qtr</th>\n",
       "      <th>bathscalc</th>\n",
       "      <th>bathsfull</th>\n",
       "      <th>bathshalf</th>\n",
       "      <th>bathstotal</th>\n",
       "      <th>beds</th>\n",
       "      <th>roomsTotal</th>\n",
       "      <th>bsmtsize</th>\n",
       "      <th>bsmttype</th>\n",
       "    </tr>\n",
       "  </thead>\n",
       "  <tbody>\n",
       "    <tr>\n",
       "      <th>0</th>\n",
       "      <td>3216</td>\n",
       "      <td>3216</td>\n",
       "      <td>1296</td>\n",
       "      <td>1296</td>\n",
       "      <td>1296</td>\n",
       "      <td>LIVING SQFT</td>\n",
       "      <td>1296</td>\n",
       "      <td>0</td>\n",
       "      <td>0</td>\n",
       "      <td>0</td>\n",
       "      <td>3.0</td>\n",
       "      <td>0</td>\n",
       "      <td>0</td>\n",
       "      <td>3.0</td>\n",
       "      <td>3</td>\n",
       "      <td>0</td>\n",
       "      <td>1280</td>\n",
       "      <td>FINISHED</td>\n",
       "    </tr>\n",
       "  </tbody>\n",
       "</table>\n",
       "</div>"
      ],
      "text/plain": [
       "   bldgsize  grosssize  grosssizeadjusted  groundfloorsize  livingsize  \\\n",
       "0      3216       3216               1296             1296        1296   \n",
       "\n",
       "        sizeInd  universalsize  bathfixtures  baths1qtr  baths3qtr  bathscalc  \\\n",
       "0  LIVING SQFT            1296             0          0          0        3.0   \n",
       "\n",
       "   bathsfull  bathshalf  bathstotal  beds  roomsTotal  bsmtsize  bsmttype  \n",
       "0          0          0         3.0     3           0      1280  FINISHED  "
      ]
     },
     "execution_count": 302,
     "metadata": {},
     "output_type": "execute_result"
    }
   ],
   "source": [
    "greeley[['bldgsize', 'grosssize', 'grosssizeadjusted', 'groundfloorsize',\n",
    "       'livingsize', 'sizeInd', 'universalsize', 'bathfixtures', 'baths1qtr',\n",
    "       'baths3qtr', 'bathscalc', 'bathsfull', 'bathshalf', 'bathstotal',\n",
    "       'beds', 'roomsTotal', 'bsmtsize', 'bsmttype']]"
   ]
  },
  {
   "cell_type": "code",
   "execution_count": 303,
   "metadata": {},
   "outputs": [
    {
     "data": {
      "text/html": [
       "<div>\n",
       "<style scoped>\n",
       "    .dataframe tbody tr th:only-of-type {\n",
       "        vertical-align: middle;\n",
       "    }\n",
       "\n",
       "    .dataframe tbody tr th {\n",
       "        vertical-align: top;\n",
       "    }\n",
       "\n",
       "    .dataframe thead th {\n",
       "        text-align: right;\n",
       "    }\n",
       "</style>\n",
       "<table border=\"1\" class=\"dataframe\">\n",
       "  <thead>\n",
       "    <tr style=\"text-align: right;\">\n",
       "      <th></th>\n",
       "      <th>country</th>\n",
       "      <th>countrySubd</th>\n",
       "      <th>line1</th>\n",
       "      <th>line2</th>\n",
       "      <th>locality</th>\n",
       "      <th>matchCode</th>\n",
       "      <th>oneLine</th>\n",
       "      <th>postal1</th>\n",
       "      <th>postal2</th>\n",
       "      <th>postal3</th>\n",
       "      <th>accuracy</th>\n",
       "      <th>elevation</th>\n",
       "      <th>latitude</th>\n",
       "      <th>longitude</th>\n",
       "    </tr>\n",
       "  </thead>\n",
       "  <tbody>\n",
       "    <tr>\n",
       "      <th>0</th>\n",
       "      <td>US</td>\n",
       "      <td>CO</td>\n",
       "      <td>3204 STIRRUP LN</td>\n",
       "      <td>EVANS, CO 80620</td>\n",
       "      <td>Evans</td>\n",
       "      <td>ExaStr</td>\n",
       "      <td>3204 STIRRUP LN, EVANS, CO 80620</td>\n",
       "      <td>80620</td>\n",
       "      <td>9169</td>\n",
       "      <td>R002</td>\n",
       "      <td>Street</td>\n",
       "      <td>0.0</td>\n",
       "      <td>40.384367</td>\n",
       "      <td>-104.742291</td>\n",
       "    </tr>\n",
       "  </tbody>\n",
       "</table>\n",
       "</div>"
      ],
      "text/plain": [
       "  country countrySubd            line1            line2 locality matchCode  \\\n",
       "0      US          CO  3204 STIRRUP LN  EVANS, CO 80620    Evans    ExaStr   \n",
       "\n",
       "                            oneLine postal1 postal2 postal3 accuracy  \\\n",
       "0  3204 STIRRUP LN, EVANS, CO 80620   80620    9169    R002   Street   \n",
       "\n",
       "   elevation   latitude    longitude  \n",
       "0        0.0  40.384367  -104.742291  "
      ]
     },
     "execution_count": 303,
     "metadata": {},
     "output_type": "execute_result"
    }
   ],
   "source": [
    "greeley[['country', 'countrySubd', 'line1', 'line2', 'locality',\n",
    "       'matchCode', 'oneLine', 'postal1', 'postal2', 'postal3', 'accuracy',\n",
    "       'elevation', 'latitude', 'longitude']]"
   ]
  },
  {
   "cell_type": "code",
   "execution_count": null,
   "metadata": {},
   "outputs": [],
   "source": [
    "conn.request(\"GET\", \"/propertyapi/v1.0.0/property/##detail##?address1=1232%20Quaker%20Street&address2=Golden%2C%20CO\", \n",
    "             headers=headers)\n",
    "/propertyapi/v1.0.0/property/expandedprofile?address1=4529%20Winona%20Court&address2=Denver%2C%20CO\n",
    "expandedprofile\n",
    "GET /propertysearch/address/{number}/{dir}/{street}/{suffix}/{unit}/{city}/{county}/{state}/{zip}"
   ]
  },
  {
   "cell_type": "code",
   "execution_count": null,
   "metadata": {},
   "outputs": [],
   "source": [
    "# all events\n",
    "# Source: https://api.developer.attomdata.com/docs#!/All32Events32Extended32by32Address/getAllEventsDetailAddress\n",
    "https://api.gateway.attomdata.com/propertyapi/v1.0.0/allevents/detail?address1=4529%20Winona%20Court&address2=Denver%2C%20CO%2080212\n",
    "    \n",
    "    "
   ]
  },
  {
   "cell_type": "code",
   "execution_count": 19,
   "metadata": {},
   "outputs": [],
   "source": [
    "def call_api_all(bld_num,street,str_type,unit=None,unit_num=None,city=None,state=None):\n",
    "    import http.client\n",
    "    \n",
    "    conn = http.client.HTTPSConnection(\"api.gateway.attomdata.com\") \n",
    "\n",
    "    headers = { \n",
    "        'accept': \"application/json\", \n",
    "        'apikey': \"keyID\", \n",
    "    } \n",
    "    address_1 = f\"address1={bld_num}%20{street}%20{str_type}%20{unit}%20{unit_num}\"\n",
    "    address_2 = f\"&address2={city}%2C%20{state}\"\n",
    "    conn.request(\"GET\", f\"/propertyapi/v1.0.0/allevents/detail?{address_1}{address_2}\", headers=headers) \n",
    "\n",
    "    res = conn.getresponse() \n",
    "    data = res.read() \n",
    "    \n",
    "#    print(data.decode(\"utf-8\"))\n",
    "    print(address_1,address_2)\n",
    "    return data\n",
    "#    print(\"GET\", f\"/propertyapi/v1.0.0/property/detail?{address}\", \"headers=headers\")"
   ]
  },
  {
   "cell_type": "code",
   "execution_count": 18,
   "metadata": {},
   "outputs": [
    {
     "name": "stdout",
     "output_type": "stream",
     "text": [
      "address1=1232%20Quaker%20Street%20None%20None &address2=None%2C%20None\n"
     ]
    }
   ],
   "source": [
    "call_api_all('1232','Quaker','Street')"
   ]
  },
  {
   "cell_type": "code",
   "execution_count": null,
   "metadata": {},
   "outputs": [],
   "source": [
    "#2960 Inca St UNIT 501, Denver, CO 80202"
   ]
  },
  {
   "cell_type": "code",
   "execution_count": 20,
   "metadata": {},
   "outputs": [
    {
     "name": "stdout",
     "output_type": "stream",
     "text": [
      "address1=2960%20Inca%20St%20UNIT%20501 &address2=Denver%2C%20CO\n"
     ]
    }
   ],
   "source": [
    "all_data = call_api_all('2960','Inca','St','UNIT','501','Denver','CO')"
   ]
  },
  {
   "cell_type": "code",
   "execution_count": 21,
   "metadata": {},
   "outputs": [],
   "source": [
    " all_data = json.loads(all_data)"
   ]
  },
  {
   "cell_type": "code",
   "execution_count": 317,
   "metadata": {},
   "outputs": [],
   "source": [
    "test = call_api_all('1242','Quaker','Street','Golden','CO')\n",
    "# test = json.loads(all_data)\n",
    "# test"
   ]
  },
  {
   "cell_type": "code",
   "execution_count": 24,
   "metadata": {},
   "outputs": [
    {
     "name": "stdout",
     "output_type": "stream",
     "text": [
      "address1=2960%20Inca%20St%20UNIT%20501 &address2=Denver%2C%20CO\n"
     ]
    },
    {
     "data": {
      "text/html": [
       "<div>\n",
       "<style scoped>\n",
       "    .dataframe tbody tr th:only-of-type {\n",
       "        vertical-align: middle;\n",
       "    }\n",
       "\n",
       "    .dataframe tbody tr th {\n",
       "        vertical-align: top;\n",
       "    }\n",
       "\n",
       "    .dataframe thead th {\n",
       "        text-align: right;\n",
       "    }\n",
       "</style>\n",
       "<table border=\"1\" class=\"dataframe\">\n",
       "  <thead>\n",
       "    <tr style=\"text-align: right;\">\n",
       "      <th></th>\n",
       "      <th>fips</th>\n",
       "      <th>depth</th>\n",
       "      <th>frontage</th>\n",
       "      <th>lotsize1</th>\n",
       "      <th>lotsize2</th>\n",
       "      <th>pooltype</th>\n",
       "      <th>countrysecsubd</th>\n",
       "      <th>countyuse1</th>\n",
       "      <th>muncode</th>\n",
       "      <th>munname</th>\n",
       "      <th>...</th>\n",
       "      <th>prkgSize</th>\n",
       "      <th>archStyle</th>\n",
       "      <th>bldgsNum</th>\n",
       "      <th>bldgType</th>\n",
       "      <th>imprType</th>\n",
       "      <th>levels</th>\n",
       "      <th>mobileHomeInd</th>\n",
       "      <th>storyDesc</th>\n",
       "      <th>unitsCount</th>\n",
       "      <th>yearbuilteffective</th>\n",
       "    </tr>\n",
       "  </thead>\n",
       "  <tbody>\n",
       "    <tr>\n",
       "      <th>0</th>\n",
       "      <td>08031</td>\n",
       "      <td>0</td>\n",
       "      <td>0</td>\n",
       "      <td>0.0</td>\n",
       "      <td>0</td>\n",
       "      <td>NONE</td>\n",
       "      <td>Denver County</td>\n",
       "      <td>104</td>\n",
       "      <td>DE</td>\n",
       "      <td>DENVER</td>\n",
       "      <td>...</td>\n",
       "      <td>0</td>\n",
       "      <td>ROW HOUSE</td>\n",
       "      <td>0</td>\n",
       "      <td>TYPE UNKNOWN</td>\n",
       "      <td>RESIDENTIAL</td>\n",
       "      <td>2</td>\n",
       "      <td></td>\n",
       "      <td>TYPE UNKNOWN</td>\n",
       "      <td>0</td>\n",
       "      <td>2001</td>\n",
       "    </tr>\n",
       "  </tbody>\n",
       "</table>\n",
       "<p>1 rows × 73 columns</p>\n",
       "</div>"
      ],
      "text/plain": [
       "    fips  depth  frontage  lotsize1  lotsize2 pooltype countrysecsubd  \\\n",
       "0  08031      0         0       0.0         0     NONE  Denver County   \n",
       "\n",
       "  countyuse1 muncode munname  ... prkgSize  archStyle bldgsNum      bldgType  \\\n",
       "0        104      DE  DENVER  ...        0  ROW HOUSE        0  TYPE UNKNOWN   \n",
       "\n",
       "      imprType levels mobileHomeInd     storyDesc unitsCount  \\\n",
       "0  RESIDENTIAL      2                TYPE UNKNOWN          0   \n",
       "\n",
       "  yearbuilteffective  \n",
       "0               2001  \n",
       "\n",
       "[1 rows x 73 columns]"
      ]
     },
     "execution_count": 24,
     "metadata": {},
     "output_type": "execute_result"
    }
   ],
   "source": [
    "extract_details(call_api_all('2960','Inca','St','UNIT','501','Denver','CO'))"
   ]
  },
  {
   "cell_type": "code",
   "execution_count": 22,
   "metadata": {
    "scrolled": true
   },
   "outputs": [
    {
     "data": {
      "text/plain": [
       "{'status': {'version': '1.0.0',\n",
       "  'code': 0,\n",
       "  'msg': 'SuccessWithResult',\n",
       "  'total': 1,\n",
       "  'page': 1,\n",
       "  'pagesize': 10},\n",
       " 'property': [{'identifier': {'obPropId': 1797153808031,\n",
       "    'fips': '08031',\n",
       "    'apn': '0227804117117',\n",
       "    'apnOrig': '227804117117',\n",
       "    'attomId': 17971538},\n",
       "   'lot': {'depth': 0,\n",
       "    'frontage': 0,\n",
       "    'lotsize1': 0.0,\n",
       "    'lotsize2': 0,\n",
       "    'pooltype': 'NONE'},\n",
       "   'area': {'countrysecsubd': 'Denver County',\n",
       "    'countyuse1': '104',\n",
       "    'muncode': 'DE',\n",
       "    'munname': 'DENVER',\n",
       "    'srvyRange': '68W',\n",
       "    'srvySection': '27',\n",
       "    'srvyTownship': '03S',\n",
       "    'subdname': 'HOYT & ROBINSONS ADD TO DENVER',\n",
       "    'subdtractnum': '0',\n",
       "    'taxcodearea': '0'},\n",
       "   'address': {'country': 'US',\n",
       "    'countrySubd': 'CO',\n",
       "    'line1': '2960 INCA ST UNIT 501',\n",
       "    'line2': 'DENVER, CO 80202',\n",
       "    'locality': 'Denver',\n",
       "    'matchCode': 'ExaStr',\n",
       "    'oneLine': '2960 INCA ST UNIT 501, DENVER, CO 80202',\n",
       "    'postal1': '80202',\n",
       "    'postal2': '1105',\n",
       "    'postal3': 'C065'},\n",
       "   'location': {'accuracy': 'Street',\n",
       "    'elevation': 0.0,\n",
       "    'latitude': '39.759874',\n",
       "    'longitude': '-104.998248',\n",
       "    'distance': 0.0,\n",
       "    'geoid': 'CO08031, CS0891007, DB0803360, MT30001324, ND0000507860, ND0004721786, PL0820000, RS0001805640, SB0000076124, SB0000076131, SB0000076174, SB0000076185, SB0000076189, ZI80202'},\n",
       "   'summary': {'absenteeInd': 'OWNER OCCUPIED',\n",
       "    'propclass': 'Condominium (residential)',\n",
       "    'propsubtype': 'RESIDENTIAL',\n",
       "    'proptype': 'CONDOMINIUM',\n",
       "    'yearbuilt': 1896,\n",
       "    'propLandUse': 'CONDOMINIUM',\n",
       "    'propIndicator': '11',\n",
       "    'legal1': 'WATERTOWER LOFTS CONDOS U-501 PRK-96 STR-F02'},\n",
       "   'utilities': {'heatingtype': 'FORCED AIR'},\n",
       "   'building': {'size': {'bldgsize': 1829,\n",
       "     'grosssize': 1829,\n",
       "     'grosssizeadjusted': 1829,\n",
       "     'groundfloorsize': 1365,\n",
       "     'livingsize': 1829,\n",
       "     'sizeInd': 'LIVING SQFT ',\n",
       "     'universalsize': 1829},\n",
       "    'rooms': {'bathfixtures': 0,\n",
       "     'baths1qtr': 0,\n",
       "     'baths3qtr': 0,\n",
       "     'bathscalc': 2.5,\n",
       "     'bathsfull': 2,\n",
       "     'bathshalf': 1,\n",
       "     'bathstotal': 3.0,\n",
       "     'beds': 3,\n",
       "     'roomsTotal': 3},\n",
       "    'interior': {'bsmtsize': 0, 'fplccount': 0},\n",
       "    'construction': {'condition': 'AVERAGE', 'wallType': 'BRICK'},\n",
       "    'parking': {'prkgSize': 0},\n",
       "    'summary': {'archStyle': 'ROW HOUSE',\n",
       "     'bldgsNum': 0,\n",
       "     'bldgType': 'TYPE UNKNOWN',\n",
       "     'imprType': 'RESIDENTIAL',\n",
       "     'levels': 2,\n",
       "     'mobileHomeInd': ' ',\n",
       "     'storyDesc': 'TYPE UNKNOWN',\n",
       "     'unitsCount': '0',\n",
       "     'yearbuilteffective': 2001}},\n",
       "   'vintage': {'lastModified': '2018-1-24', 'pubDate': '2018-2-2'},\n",
       "   'avm': {'eventDate': '2020-1-28',\n",
       "    'amount': {'scr': 77,\n",
       "     'value': 980000,\n",
       "     'high': 1138000,\n",
       "     'low': 823000,\n",
       "     'valueRange': 315000},\n",
       "    'AVMChange': {'avmlastmonthvalue': 1011000,\n",
       "     'avmamountchange': -31000,\n",
       "     'avmpercentchange': -3},\n",
       "    'calculations': {'perSizeUnit': 535.81,\n",
       "     'ratioTaxAmt': 194.06,\n",
       "     'ratioTaxValue': 1.08,\n",
       "     'monthlyChgPct': 0.0,\n",
       "     'monthlyChgValue': 0,\n",
       "     'rangePctOfValue': 32.14},\n",
       "    'condition': {'avmpoorlow': 781850.0,\n",
       "     'avmpoorhigh': 1081100.0,\n",
       "     'avmpoorscore': 72.0,\n",
       "     'avmgoodlow': 823000.0,\n",
       "     'avmgoodhigh': 1138000.0,\n",
       "     'avmgoodscore': 77.0,\n",
       "     'avmexcellentlow': 843575.0,\n",
       "     'avmexcellenthigh': 1166450.0,\n",
       "     'avmexcellentscore': 79.5}},\n",
       "   'sale': {'salesearchdate': '2008-2-25',\n",
       "    'saleTransDate': '2008-2-25',\n",
       "    'amount': {'saleamt': 570000,\n",
       "     'salerecdate': '2008-2-28',\n",
       "     'saledisclosuretype': 0,\n",
       "     'saledocnum': '0000026138',\n",
       "     'saletranstype': 'Resale'},\n",
       "    'calculation': {'priceperbed': 190000, 'pricepersizeunit': 312},\n",
       "    'interfamily': 'Y',\n",
       "    'resaleornewconstruction': 'M',\n",
       "    'cashormortgagepurchase': 'M'},\n",
       "   'assessment': {'appraised': {'apprimprvalue': 0,\n",
       "     'apprlandvalue': 0,\n",
       "     'apprttlvalue': 0},\n",
       "    'assessed': {'assdimprpersizeunit': 30.98,\n",
       "     'assdimprvalue': 56671,\n",
       "     'assdlandpersizeunit': 0.0,\n",
       "     'assdlandvalue': 11369,\n",
       "     'assdttlpersizeunit': 37.2,\n",
       "     'assdttlvalue': 68040},\n",
       "    'calculations': {'calcimprind': 'MARKET VALUE',\n",
       "     'calcimprpersizeunit': 440.62,\n",
       "     'calcimprvalue': 805900,\n",
       "     'calclandind': 'MARKET VALUE',\n",
       "     'calclandpersizeunit': 0.0,\n",
       "     'calclandvalue': 100700,\n",
       "     'calcttlind': 'MARKET VALUE',\n",
       "     'calcttlvalue': 906600,\n",
       "     'calcvaluepersizeunit': 495.68},\n",
       "    'market': {'mktimprvalue': 805900,\n",
       "     'mktlandvalue': 100700,\n",
       "     'mktttlvalue': 906600},\n",
       "    'tax': {'taxamt': 5050.0, 'taxpersizeunit': 2.76, 'taxyear': 2018}}}]}"
      ]
     },
     "execution_count": 22,
     "metadata": {},
     "output_type": "execute_result"
    }
   ],
   "source": [
    "all_data"
   ]
  },
  {
   "cell_type": "code",
   "execution_count": 63,
   "metadata": {},
   "outputs": [
    {
     "data": {
      "text/plain": [
       "dict_keys(['taxamt', 'taxpersizeunit', 'taxyear'])"
      ]
     },
     "execution_count": 63,
     "metadata": {},
     "output_type": "execute_result"
    }
   ],
   "source": [
    "all_data['property'][0]['assessment']['tax'].keys()"
   ]
  },
  {
   "cell_type": "code",
   "execution_count": 64,
   "metadata": {},
   "outputs": [
    {
     "data": {
      "text/html": [
       "<div>\n",
       "<style scoped>\n",
       "    .dataframe tbody tr th:only-of-type {\n",
       "        vertical-align: middle;\n",
       "    }\n",
       "\n",
       "    .dataframe tbody tr th {\n",
       "        vertical-align: top;\n",
       "    }\n",
       "\n",
       "    .dataframe thead th {\n",
       "        text-align: right;\n",
       "    }\n",
       "</style>\n",
       "<table border=\"1\" class=\"dataframe\">\n",
       "  <thead>\n",
       "    <tr style=\"text-align: right;\">\n",
       "      <th></th>\n",
       "      <th>taxamt</th>\n",
       "      <th>taxpersizeunit</th>\n",
       "      <th>taxyear</th>\n",
       "    </tr>\n",
       "  </thead>\n",
       "  <tbody>\n",
       "    <tr>\n",
       "      <th>0</th>\n",
       "      <td>5050.0</td>\n",
       "      <td>2.76</td>\n",
       "      <td>2018</td>\n",
       "    </tr>\n",
       "  </tbody>\n",
       "</table>\n",
       "</div>"
      ],
      "text/plain": [
       "   taxamt  taxpersizeunit  taxyear\n",
       "0  5050.0            2.76     2018"
      ]
     },
     "execution_count": 64,
     "metadata": {},
     "output_type": "execute_result"
    }
   ],
   "source": [
    "pd.DataFrame(all_data['property'][0]['assessment']['tax'],index=[0])"
   ]
  },
  {
   "cell_type": "code",
   "execution_count": 46,
   "metadata": {},
   "outputs": [
    {
     "ename": "ValueError",
     "evalue": "DataFrame constructor not properly called!",
     "output_type": "error",
     "traceback": [
      "\u001b[0;31m---------------------------------------------------------------------------\u001b[0m",
      "\u001b[0;31mValueError\u001b[0m                                Traceback (most recent call last)",
      "\u001b[0;32m<ipython-input-46-86295eb1e925>\u001b[0m in \u001b[0;36m<module>\u001b[0;34m\u001b[0m\n\u001b[0;32m----> 1\u001b[0;31m \u001b[0mpd\u001b[0m\u001b[0;34m.\u001b[0m\u001b[0mDataFrame\u001b[0m\u001b[0;34m(\u001b[0m\u001b[0mall_data\u001b[0m\u001b[0;34m[\u001b[0m\u001b[0;34m'property'\u001b[0m\u001b[0;34m]\u001b[0m\u001b[0;34m[\u001b[0m\u001b[0;36m0\u001b[0m\u001b[0;34m]\u001b[0m\u001b[0;34m[\u001b[0m\u001b[0;34m'avm'\u001b[0m\u001b[0;34m]\u001b[0m\u001b[0;34m[\u001b[0m\u001b[0;34m'eventDate'\u001b[0m\u001b[0;34m]\u001b[0m\u001b[0;34m,\u001b[0m\u001b[0mindex\u001b[0m\u001b[0;34m=\u001b[0m\u001b[0;34m[\u001b[0m\u001b[0;36m0\u001b[0m\u001b[0;34m]\u001b[0m\u001b[0;34m)\u001b[0m\u001b[0;34m\u001b[0m\u001b[0;34m\u001b[0m\u001b[0m\n\u001b[0m",
      "\u001b[0;32m~/opt/anaconda3/lib/python3.7/site-packages/pandas/core/frame.py\u001b[0m in \u001b[0;36m__init__\u001b[0;34m(self, data, index, columns, dtype, copy)\u001b[0m\n\u001b[1;32m    483\u001b[0m                 )\n\u001b[1;32m    484\u001b[0m             \u001b[0;32melse\u001b[0m\u001b[0;34m:\u001b[0m\u001b[0;34m\u001b[0m\u001b[0;34m\u001b[0m\u001b[0m\n\u001b[0;32m--> 485\u001b[0;31m                 \u001b[0;32mraise\u001b[0m \u001b[0mValueError\u001b[0m\u001b[0;34m(\u001b[0m\u001b[0;34m\"DataFrame constructor not properly called!\"\u001b[0m\u001b[0;34m)\u001b[0m\u001b[0;34m\u001b[0m\u001b[0;34m\u001b[0m\u001b[0m\n\u001b[0m\u001b[1;32m    486\u001b[0m \u001b[0;34m\u001b[0m\u001b[0m\n\u001b[1;32m    487\u001b[0m         \u001b[0mNDFrame\u001b[0m\u001b[0;34m.\u001b[0m\u001b[0m__init__\u001b[0m\u001b[0;34m(\u001b[0m\u001b[0mself\u001b[0m\u001b[0;34m,\u001b[0m \u001b[0mmgr\u001b[0m\u001b[0;34m,\u001b[0m \u001b[0mfastpath\u001b[0m\u001b[0;34m=\u001b[0m\u001b[0;32mTrue\u001b[0m\u001b[0;34m)\u001b[0m\u001b[0;34m\u001b[0m\u001b[0;34m\u001b[0m\u001b[0m\n",
      "\u001b[0;31mValueError\u001b[0m: DataFrame constructor not properly called!"
     ]
    }
   ],
   "source": [
    "pd.DataFrame(all_data['property'][0]['avm']['eventDate'],index=[0])"
   ]
  },
  {
   "cell_type": "code",
   "execution_count": 67,
   "metadata": {},
   "outputs": [],
   "source": [
    "\n",
    "def extract_details(api_data):\n",
    "    house = json.loads(api_data)\n",
    "    \n",
    "    # create new dfs based on dictionary keys\n",
    "\n",
    "    # df_1 ['obPropId', 'fips', 'apn', 'apnOrig', 'attomId']\n",
    "    df_1 = pd.DataFrame(house['property'][0]['identifier'],index=[0])\n",
    "\n",
    "    # df_2 ['depth', 'frontage', 'lotnum', 'lotsize1', 'lotsize2', 'pooltype']\n",
    "    df_2 = pd.DataFrame(house['property'][0]['lot'],index=[0])\n",
    "\n",
    "    # df_3 ['blockNum', 'countrysecsubd', 'countyuse1', 'muncode', 'munname',\n",
    "    #       'srvyRange', 'srvySection', 'srvyTownship', 'subdname', 'subdtractnum','taxcodearea']\n",
    "    df_3 = pd.DataFrame(house['property'][0]['area'],index=[0])\n",
    "\n",
    "    # df_4 ['country', 'countrySubd', 'line1', 'line2', 'locality', 'matchCode',\n",
    "    #       'oneLine', 'postal1', 'postal2', 'postal3']\n",
    "    df_4 = pd.DataFrame(house['property'][0]['address'],index=[0])\n",
    "\n",
    "    # df_5 = ['accuracy', 'elevation', 'latitude', 'longitude', 'distance', 'geoid']\n",
    "    df_5 = pd.DataFrame(house['property'][0]['location'],index=[0])\n",
    "\n",
    "    # df_6 ['absenteeInd', 'propclass', 'propsubtype', 'proptype', 'yearbuilt',\n",
    "    #       'propLandUse', 'propIndicator', 'legal1']\n",
    "    df_6 = pd.DataFrame(house['property'][0]['summary'],index=[0])\n",
    "\n",
    "    #df_7 ['heatingtype']\n",
    "    df_7 = pd.DataFrame(house['property'][0]['utilities'],index=[0])\n",
    "\n",
    "    #df_8 **['size', 'rooms', 'interior', 'construction', 'parking', 'summary']** dict keys\n",
    "    df_8 = pd.DataFrame(house['property'][0]['building'],index=[0])\n",
    "\n",
    "    #df_9 ['lastModified', 'pubDate']\n",
    "    df_9 = pd.DataFrame(house['property'][0]['vintage'],index=[0])\n",
    "    \n",
    "    # create new dfs based on df_8 dictionary keys\n",
    "\n",
    "    # df_b1 ['bldgsize', 'grosssize', 'grosssizeadjusted', 'groundfloorsize',\n",
    "    #       'livingsize', 'sizeInd', 'universalsize']\n",
    "    df_b1 = pd.DataFrame(house['property'][0]['building']['size'],index=[0])\n",
    "\n",
    "    # df_b2 ['bathfixtures', 'baths1qtr', 'baths3qtr', 'bathscalc', 'bathsfull',\n",
    "    #       'bathshalf', 'bathstotal', 'beds', 'roomsTotal']\n",
    "    df_b2 = pd.DataFrame(house['property'][0]['building']['rooms'],index=[0])\n",
    "\n",
    "    #df_b3 ['bsmtsize', 'bsmttype', 'fplccount', 'fplcind', 'fplctype']\n",
    "    df_b3 = pd.DataFrame(house['property'][0]['building']['interior'],index=[0])\n",
    "\n",
    "    #df_b4 ['condition', 'wallType']\n",
    "    df_b4 = pd.DataFrame(house['property'][0]['building']['construction'],index=[0])\n",
    "\n",
    "    #df_b5 ['garagetype', 'prkgSize', 'prkgSpaces', 'prkgType']\n",
    "    df_b5 = pd.DataFrame(house['property'][0]['building']['parking'],index=[0])\n",
    "\n",
    "    #df_b6 ['bldgsNum', 'bldgType', 'imprType', 'levels', 'mobileHomeInd',\n",
    "    #       'quality', 'storyDesc', 'unitsCount', 'yearbuilteffective']\n",
    "    df_b6 = pd.DataFrame(house['property'][0]['building']['summary'],index=[0])\n",
    "    \n",
    "    ### AVM\n",
    "    #df_v1 ['scr', 'value', 'high', 'low', 'valueRange']\n",
    "    df_v1 = pd.DataFrame(house['property'][0]['avm']['amount'],index=[0])\n",
    "    \n",
    "    #df_v2 ['avmpoorlow', 'avmpoorhigh', 'avmpoorscore', 'avmgoodlow', 'avmgoodhigh', \n",
    "    #      'avmgoodscore', 'avmexcellentlow', 'avmexcellenthigh', 'avmexcellentscore']\n",
    "    df_v2 = pd.DataFrame(house['property'][0]['avm']['condition'],index=[0])\n",
    "    \n",
    "    #df_v3 ['taxamt', 'taxpersizeunit', 'taxyear']\n",
    "    df_v3 = pd.DataFrame(house['property'][0]['assessment']['tax'],index=[0])\n",
    "    \n",
    "    # Build df for property 1\n",
    "    prop_1 = pd.concat([df_1['fips'],df_2,df_3,df_4,df_5,df_6,df_7,df_9,df_b1,\n",
    "                        df_b2,df_b3,df_b4,df_b5,df_b6,df_v1,df_v2,df_v3],axis=1)\n",
    "    \n",
    "    return prop_1"
   ]
  },
  {
   "cell_type": "code",
   "execution_count": 69,
   "metadata": {},
   "outputs": [
    {
     "name": "stdout",
     "output_type": "stream",
     "text": [
      "address1=2960%20Inca%20St%20UNIT%20501 &address2=Denver%2C%20CO\n"
     ]
    }
   ],
   "source": [
    "df = extract_details(call_api_all('2960','Inca','St','UNIT','501','Denver','CO'))"
   ]
  },
  {
   "cell_type": "code",
   "execution_count": 71,
   "metadata": {},
   "outputs": [
    {
     "data": {
      "text/plain": [
       "(1, 90)"
      ]
     },
     "execution_count": 71,
     "metadata": {},
     "output_type": "execute_result"
    }
   ],
   "source": [
    "df.shape"
   ]
  },
  {
   "cell_type": "code",
   "execution_count": null,
   "metadata": {},
   "outputs": [],
   "source": []
  }
 ],
 "metadata": {
  "kernelspec": {
   "display_name": "Python 3",
   "language": "python",
   "name": "python3"
  },
  "language_info": {
   "codemirror_mode": {
    "name": "ipython",
    "version": 3
   },
   "file_extension": ".py",
   "mimetype": "text/x-python",
   "name": "python",
   "nbconvert_exporter": "python",
   "pygments_lexer": "ipython3",
   "version": "3.7.4"
  }
 },
 "nbformat": 4,
 "nbformat_minor": 2
}
