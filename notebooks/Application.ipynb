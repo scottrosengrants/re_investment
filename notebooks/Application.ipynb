{
 "cells": [
  {
   "cell_type": "code",
   "execution_count": 349,
   "metadata": {},
   "outputs": [],
   "source": [
    "import pandas as pd\n",
    "import numpy as np\n",
    "from mortgage import Loan\n",
    "import matplotlib.pyplot"
   ]
  },
  {
   "cell_type": "code",
   "execution_count": 30,
   "metadata": {},
   "outputs": [],
   "source": [
    "# load in HUD 2020 FMR 50 data (median rent by county)\n",
    "rent_data = pd.read_excel('../data/data.gov/FY2020_50_County.xlsx')"
   ]
  },
  {
   "cell_type": "code",
   "execution_count": 31,
   "metadata": {
    "scrolled": true
   },
   "outputs": [
    {
     "data": {
      "text/html": [
       "<div>\n",
       "<style scoped>\n",
       "    .dataframe tbody tr th:only-of-type {\n",
       "        vertical-align: middle;\n",
       "    }\n",
       "\n",
       "    .dataframe tbody tr th {\n",
       "        vertical-align: top;\n",
       "    }\n",
       "\n",
       "    .dataframe thead th {\n",
       "        text-align: right;\n",
       "    }\n",
       "</style>\n",
       "<table border=\"1\" class=\"dataframe\">\n",
       "  <thead>\n",
       "    <tr style=\"text-align: right;\">\n",
       "      <th></th>\n",
       "      <th>fips2010</th>\n",
       "      <th>rent50_0</th>\n",
       "      <th>rent50_1</th>\n",
       "      <th>rent50_2</th>\n",
       "      <th>rent50_3</th>\n",
       "      <th>rent50_4</th>\n",
       "      <th>state</th>\n",
       "      <th>cbsasub20</th>\n",
       "      <th>areaname20</th>\n",
       "      <th>county</th>\n",
       "      <th>cousub</th>\n",
       "      <th>cntyname</th>\n",
       "      <th>name</th>\n",
       "      <th>pop2017</th>\n",
       "      <th>hu2017</th>\n",
       "      <th>state_alpha</th>\n",
       "    </tr>\n",
       "  </thead>\n",
       "  <tbody>\n",
       "    <tr>\n",
       "      <th>0</th>\n",
       "      <td>100199999</td>\n",
       "      <td>615</td>\n",
       "      <td>741</td>\n",
       "      <td>876</td>\n",
       "      <td>1105</td>\n",
       "      <td>1504</td>\n",
       "      <td>1</td>\n",
       "      <td>METRO33860M33860</td>\n",
       "      <td>Montgomery, AL MSA</td>\n",
       "      <td>1</td>\n",
       "      <td>99999</td>\n",
       "      <td>Autauga County</td>\n",
       "      <td>Autauga County</td>\n",
       "      <td>55035</td>\n",
       "      <td>23152</td>\n",
       "      <td>AL</td>\n",
       "    </tr>\n",
       "    <tr>\n",
       "      <th>1</th>\n",
       "      <td>100399999</td>\n",
       "      <td>806</td>\n",
       "      <td>811</td>\n",
       "      <td>992</td>\n",
       "      <td>1355</td>\n",
       "      <td>1696</td>\n",
       "      <td>1</td>\n",
       "      <td>METRO19300M19300</td>\n",
       "      <td>Daphne-Fairhope-Foley, AL MSA</td>\n",
       "      <td>3</td>\n",
       "      <td>99999</td>\n",
       "      <td>Baldwin County</td>\n",
       "      <td>Baldwin County</td>\n",
       "      <td>203360</td>\n",
       "      <td>110023</td>\n",
       "      <td>AL</td>\n",
       "    </tr>\n",
       "    <tr>\n",
       "      <th>2</th>\n",
       "      <td>100599999</td>\n",
       "      <td>508</td>\n",
       "      <td>512</td>\n",
       "      <td>674</td>\n",
       "      <td>840</td>\n",
       "      <td>985</td>\n",
       "      <td>1</td>\n",
       "      <td>NCNTY01005N01005</td>\n",
       "      <td>Barbour County, AL</td>\n",
       "      <td>5</td>\n",
       "      <td>99999</td>\n",
       "      <td>Barbour County</td>\n",
       "      <td>Barbour County</td>\n",
       "      <td>26200</td>\n",
       "      <td>11918</td>\n",
       "      <td>AL</td>\n",
       "    </tr>\n",
       "    <tr>\n",
       "      <th>3</th>\n",
       "      <td>100799999</td>\n",
       "      <td>875</td>\n",
       "      <td>937</td>\n",
       "      <td>1073</td>\n",
       "      <td>1404</td>\n",
       "      <td>1551</td>\n",
       "      <td>1</td>\n",
       "      <td>METRO13820M13820</td>\n",
       "      <td>Birmingham-Hoover, AL HUD Metro FMR Area</td>\n",
       "      <td>7</td>\n",
       "      <td>99999</td>\n",
       "      <td>Bibb County</td>\n",
       "      <td>Bibb County</td>\n",
       "      <td>22580</td>\n",
       "      <td>9112</td>\n",
       "      <td>AL</td>\n",
       "    </tr>\n",
       "    <tr>\n",
       "      <th>4</th>\n",
       "      <td>100999999</td>\n",
       "      <td>875</td>\n",
       "      <td>937</td>\n",
       "      <td>1073</td>\n",
       "      <td>1404</td>\n",
       "      <td>1551</td>\n",
       "      <td>1</td>\n",
       "      <td>METRO13820M13820</td>\n",
       "      <td>Birmingham-Hoover, AL HUD Metro FMR Area</td>\n",
       "      <td>9</td>\n",
       "      <td>99999</td>\n",
       "      <td>Blount County</td>\n",
       "      <td>Blount County</td>\n",
       "      <td>57665</td>\n",
       "      <td>24161</td>\n",
       "      <td>AL</td>\n",
       "    </tr>\n",
       "  </tbody>\n",
       "</table>\n",
       "</div>"
      ],
      "text/plain": [
       "    fips2010  rent50_0  rent50_1  rent50_2  rent50_3  rent50_4  state  \\\n",
       "0  100199999       615       741       876      1105      1504      1   \n",
       "1  100399999       806       811       992      1355      1696      1   \n",
       "2  100599999       508       512       674       840       985      1   \n",
       "3  100799999       875       937      1073      1404      1551      1   \n",
       "4  100999999       875       937      1073      1404      1551      1   \n",
       "\n",
       "          cbsasub20                                areaname20  county  cousub  \\\n",
       "0  METRO33860M33860                        Montgomery, AL MSA       1   99999   \n",
       "1  METRO19300M19300             Daphne-Fairhope-Foley, AL MSA       3   99999   \n",
       "2  NCNTY01005N01005                        Barbour County, AL       5   99999   \n",
       "3  METRO13820M13820  Birmingham-Hoover, AL HUD Metro FMR Area       7   99999   \n",
       "4  METRO13820M13820  Birmingham-Hoover, AL HUD Metro FMR Area       9   99999   \n",
       "\n",
       "         cntyname            name  pop2017  hu2017 state_alpha  \n",
       "0  Autauga County  Autauga County    55035   23152          AL  \n",
       "1  Baldwin County  Baldwin County   203360  110023          AL  \n",
       "2  Barbour County  Barbour County    26200   11918          AL  \n",
       "3     Bibb County     Bibb County    22580    9112          AL  \n",
       "4   Blount County   Blount County    57665   24161          AL  "
      ]
     },
     "execution_count": 31,
     "metadata": {},
     "output_type": "execute_result"
    }
   ],
   "source": [
    "rent_data.head()"
   ]
  },
  {
   "cell_type": "code",
   "execution_count": 32,
   "metadata": {},
   "outputs": [
    {
     "data": {
      "text/html": [
       "<div>\n",
       "<style scoped>\n",
       "    .dataframe tbody tr th:only-of-type {\n",
       "        vertical-align: middle;\n",
       "    }\n",
       "\n",
       "    .dataframe tbody tr th {\n",
       "        vertical-align: top;\n",
       "    }\n",
       "\n",
       "    .dataframe thead th {\n",
       "        text-align: right;\n",
       "    }\n",
       "</style>\n",
       "<table border=\"1\" class=\"dataframe\">\n",
       "  <thead>\n",
       "    <tr style=\"text-align: right;\">\n",
       "      <th></th>\n",
       "      <th>fips2010</th>\n",
       "      <th>rent50_0</th>\n",
       "      <th>rent50_1</th>\n",
       "      <th>rent50_2</th>\n",
       "      <th>rent50_3</th>\n",
       "      <th>rent50_4</th>\n",
       "      <th>state</th>\n",
       "      <th>cbsasub20</th>\n",
       "      <th>areaname20</th>\n",
       "      <th>county</th>\n",
       "      <th>cousub</th>\n",
       "      <th>cntyname</th>\n",
       "      <th>name</th>\n",
       "      <th>pop2017</th>\n",
       "      <th>hu2017</th>\n",
       "      <th>state_alpha</th>\n",
       "    </tr>\n",
       "  </thead>\n",
       "  <tbody>\n",
       "    <tr>\n",
       "      <th>244</th>\n",
       "      <td>800199999</td>\n",
       "      <td>1210</td>\n",
       "      <td>1367</td>\n",
       "      <td>1700</td>\n",
       "      <td>2348</td>\n",
       "      <td>2701</td>\n",
       "      <td>8</td>\n",
       "      <td>METRO19740M19740</td>\n",
       "      <td>Denver-Aurora-Lakewood, CO MSA</td>\n",
       "      <td>1</td>\n",
       "      <td>99999</td>\n",
       "      <td>Adams County</td>\n",
       "      <td>Adams County</td>\n",
       "      <td>487850</td>\n",
       "      <td>169275</td>\n",
       "      <td>CO</td>\n",
       "    </tr>\n",
       "    <tr>\n",
       "      <th>713</th>\n",
       "      <td>1600399999</td>\n",
       "      <td>528</td>\n",
       "      <td>577</td>\n",
       "      <td>716</td>\n",
       "      <td>991</td>\n",
       "      <td>1172</td>\n",
       "      <td>16</td>\n",
       "      <td>NCNTY16003N16003</td>\n",
       "      <td>Adams County, ID</td>\n",
       "      <td>3</td>\n",
       "      <td>99999</td>\n",
       "      <td>Adams County</td>\n",
       "      <td>Adams County</td>\n",
       "      <td>3945</td>\n",
       "      <td>2672</td>\n",
       "      <td>ID</td>\n",
       "    </tr>\n",
       "    <tr>\n",
       "      <th>756</th>\n",
       "      <td>1700199999</td>\n",
       "      <td>611</td>\n",
       "      <td>617</td>\n",
       "      <td>777</td>\n",
       "      <td>1076</td>\n",
       "      <td>1106</td>\n",
       "      <td>17</td>\n",
       "      <td>NCNTY17001N17001</td>\n",
       "      <td>Adams County, IL</td>\n",
       "      <td>1</td>\n",
       "      <td>99999</td>\n",
       "      <td>Adams County</td>\n",
       "      <td>Adams County</td>\n",
       "      <td>66785</td>\n",
       "      <td>30167</td>\n",
       "      <td>IL</td>\n",
       "    </tr>\n",
       "    <tr>\n",
       "      <th>858</th>\n",
       "      <td>1800199999</td>\n",
       "      <td>500</td>\n",
       "      <td>588</td>\n",
       "      <td>714</td>\n",
       "      <td>1030</td>\n",
       "      <td>1254</td>\n",
       "      <td>18</td>\n",
       "      <td>NCNTY18001N18001</td>\n",
       "      <td>Adams County, IN</td>\n",
       "      <td>1</td>\n",
       "      <td>99999</td>\n",
       "      <td>Adams County</td>\n",
       "      <td>Adams County</td>\n",
       "      <td>35020</td>\n",
       "      <td>13203</td>\n",
       "      <td>IN</td>\n",
       "    </tr>\n",
       "    <tr>\n",
       "      <th>951</th>\n",
       "      <td>1900399999</td>\n",
       "      <td>497</td>\n",
       "      <td>522</td>\n",
       "      <td>687</td>\n",
       "      <td>962</td>\n",
       "      <td>1114</td>\n",
       "      <td>19</td>\n",
       "      <td>NCNTY19003N19003</td>\n",
       "      <td>Adams County, IA</td>\n",
       "      <td>3</td>\n",
       "      <td>99999</td>\n",
       "      <td>Adams County</td>\n",
       "      <td>Adams County</td>\n",
       "      <td>3785</td>\n",
       "      <td>2010</td>\n",
       "      <td>IA</td>\n",
       "    </tr>\n",
       "    <tr>\n",
       "      <th>2416</th>\n",
       "      <td>2800199999</td>\n",
       "      <td>536</td>\n",
       "      <td>575</td>\n",
       "      <td>715</td>\n",
       "      <td>891</td>\n",
       "      <td>998</td>\n",
       "      <td>28</td>\n",
       "      <td>NCNTY28001N28001</td>\n",
       "      <td>Adams County, MS</td>\n",
       "      <td>1</td>\n",
       "      <td>99999</td>\n",
       "      <td>Adams County</td>\n",
       "      <td>Adams County</td>\n",
       "      <td>31585</td>\n",
       "      <td>14664</td>\n",
       "      <td>MS</td>\n",
       "    </tr>\n",
       "    <tr>\n",
       "      <th>2670</th>\n",
       "      <td>3100199999</td>\n",
       "      <td>470</td>\n",
       "      <td>585</td>\n",
       "      <td>721</td>\n",
       "      <td>976</td>\n",
       "      <td>1190</td>\n",
       "      <td>31</td>\n",
       "      <td>NCNTY31001N31001</td>\n",
       "      <td>Adams County, NE</td>\n",
       "      <td>1</td>\n",
       "      <td>99999</td>\n",
       "      <td>Adams County</td>\n",
       "      <td>Adams County</td>\n",
       "      <td>31565</td>\n",
       "      <td>13794</td>\n",
       "      <td>NE</td>\n",
       "    </tr>\n",
       "    <tr>\n",
       "      <th>3256</th>\n",
       "      <td>3800199999</td>\n",
       "      <td>609</td>\n",
       "      <td>627</td>\n",
       "      <td>714</td>\n",
       "      <td>1030</td>\n",
       "      <td>1254</td>\n",
       "      <td>38</td>\n",
       "      <td>NCNTY38001N38001</td>\n",
       "      <td>Adams County, ND</td>\n",
       "      <td>1</td>\n",
       "      <td>99999</td>\n",
       "      <td>Adams County</td>\n",
       "      <td>Adams County</td>\n",
       "      <td>2370</td>\n",
       "      <td>1395</td>\n",
       "      <td>ND</td>\n",
       "    </tr>\n",
       "    <tr>\n",
       "      <th>3309</th>\n",
       "      <td>3900199999</td>\n",
       "      <td>564</td>\n",
       "      <td>567</td>\n",
       "      <td>696</td>\n",
       "      <td>881</td>\n",
       "      <td>943</td>\n",
       "      <td>39</td>\n",
       "      <td>NCNTY39001N39001</td>\n",
       "      <td>Adams County, OH</td>\n",
       "      <td>1</td>\n",
       "      <td>99999</td>\n",
       "      <td>Adams County</td>\n",
       "      <td>Adams County</td>\n",
       "      <td>27925</td>\n",
       "      <td>12924</td>\n",
       "      <td>OH</td>\n",
       "    </tr>\n",
       "    <tr>\n",
       "      <th>3510</th>\n",
       "      <td>4200199999</td>\n",
       "      <td>666</td>\n",
       "      <td>770</td>\n",
       "      <td>949</td>\n",
       "      <td>1267</td>\n",
       "      <td>1542</td>\n",
       "      <td>42</td>\n",
       "      <td>METRO23900M23900</td>\n",
       "      <td>Gettysburg, PA MSA</td>\n",
       "      <td>1</td>\n",
       "      <td>99999</td>\n",
       "      <td>Adams County</td>\n",
       "      <td>Adams County</td>\n",
       "      <td>101590</td>\n",
       "      <td>41819</td>\n",
       "      <td>PA</td>\n",
       "    </tr>\n",
       "    <tr>\n",
       "      <th>4494</th>\n",
       "      <td>5300199999</td>\n",
       "      <td>673</td>\n",
       "      <td>728</td>\n",
       "      <td>829</td>\n",
       "      <td>1121</td>\n",
       "      <td>1407</td>\n",
       "      <td>53</td>\n",
       "      <td>NCNTY53001N53001</td>\n",
       "      <td>Adams County, WA</td>\n",
       "      <td>1</td>\n",
       "      <td>99999</td>\n",
       "      <td>Adams County</td>\n",
       "      <td>Adams County</td>\n",
       "      <td>19260</td>\n",
       "      <td>6479</td>\n",
       "      <td>WA</td>\n",
       "    </tr>\n",
       "    <tr>\n",
       "      <th>4588</th>\n",
       "      <td>5500199999</td>\n",
       "      <td>541</td>\n",
       "      <td>606</td>\n",
       "      <td>798</td>\n",
       "      <td>1069</td>\n",
       "      <td>1179</td>\n",
       "      <td>55</td>\n",
       "      <td>NCNTY55001N55001</td>\n",
       "      <td>Adams County, WI</td>\n",
       "      <td>1</td>\n",
       "      <td>99999</td>\n",
       "      <td>Adams County</td>\n",
       "      <td>Adams County</td>\n",
       "      <td>20110</td>\n",
       "      <td>17608</td>\n",
       "      <td>WI</td>\n",
       "    </tr>\n",
       "  </tbody>\n",
       "</table>\n",
       "</div>"
      ],
      "text/plain": [
       "        fips2010  rent50_0  rent50_1  rent50_2  rent50_3  rent50_4  state  \\\n",
       "244    800199999      1210      1367      1700      2348      2701      8   \n",
       "713   1600399999       528       577       716       991      1172     16   \n",
       "756   1700199999       611       617       777      1076      1106     17   \n",
       "858   1800199999       500       588       714      1030      1254     18   \n",
       "951   1900399999       497       522       687       962      1114     19   \n",
       "2416  2800199999       536       575       715       891       998     28   \n",
       "2670  3100199999       470       585       721       976      1190     31   \n",
       "3256  3800199999       609       627       714      1030      1254     38   \n",
       "3309  3900199999       564       567       696       881       943     39   \n",
       "3510  4200199999       666       770       949      1267      1542     42   \n",
       "4494  5300199999       673       728       829      1121      1407     53   \n",
       "4588  5500199999       541       606       798      1069      1179     55   \n",
       "\n",
       "             cbsasub20                      areaname20  county  cousub  \\\n",
       "244   METRO19740M19740  Denver-Aurora-Lakewood, CO MSA       1   99999   \n",
       "713   NCNTY16003N16003                Adams County, ID       3   99999   \n",
       "756   NCNTY17001N17001                Adams County, IL       1   99999   \n",
       "858   NCNTY18001N18001                Adams County, IN       1   99999   \n",
       "951   NCNTY19003N19003                Adams County, IA       3   99999   \n",
       "2416  NCNTY28001N28001                Adams County, MS       1   99999   \n",
       "2670  NCNTY31001N31001                Adams County, NE       1   99999   \n",
       "3256  NCNTY38001N38001                Adams County, ND       1   99999   \n",
       "3309  NCNTY39001N39001                Adams County, OH       1   99999   \n",
       "3510  METRO23900M23900              Gettysburg, PA MSA       1   99999   \n",
       "4494  NCNTY53001N53001                Adams County, WA       1   99999   \n",
       "4588  NCNTY55001N55001                Adams County, WI       1   99999   \n",
       "\n",
       "          cntyname          name  pop2017  hu2017 state_alpha  \n",
       "244   Adams County  Adams County   487850  169275          CO  \n",
       "713   Adams County  Adams County     3945    2672          ID  \n",
       "756   Adams County  Adams County    66785   30167          IL  \n",
       "858   Adams County  Adams County    35020   13203          IN  \n",
       "951   Adams County  Adams County     3785    2010          IA  \n",
       "2416  Adams County  Adams County    31585   14664          MS  \n",
       "2670  Adams County  Adams County    31565   13794          NE  \n",
       "3256  Adams County  Adams County     2370    1395          ND  \n",
       "3309  Adams County  Adams County    27925   12924          OH  \n",
       "3510  Adams County  Adams County   101590   41819          PA  \n",
       "4494  Adams County  Adams County    19260    6479          WA  \n",
       "4588  Adams County  Adams County    20110   17608          WI  "
      ]
     },
     "execution_count": 32,
     "metadata": {},
     "output_type": "execute_result"
    }
   ],
   "source": [
    "rent_data[rent_data['cntyname'] == 'Adams County']"
   ]
  },
  {
   "cell_type": "code",
   "execution_count": 33,
   "metadata": {},
   "outputs": [
    {
     "data": {
      "text/html": [
       "<div>\n",
       "<style scoped>\n",
       "    .dataframe tbody tr th:only-of-type {\n",
       "        vertical-align: middle;\n",
       "    }\n",
       "\n",
       "    .dataframe tbody tr th {\n",
       "        vertical-align: top;\n",
       "    }\n",
       "\n",
       "    .dataframe thead th {\n",
       "        text-align: right;\n",
       "    }\n",
       "</style>\n",
       "<table border=\"1\" class=\"dataframe\">\n",
       "  <thead>\n",
       "    <tr style=\"text-align: right;\">\n",
       "      <th></th>\n",
       "      <th>fips2010</th>\n",
       "      <th>rent50_0</th>\n",
       "      <th>rent50_1</th>\n",
       "      <th>rent50_2</th>\n",
       "      <th>rent50_3</th>\n",
       "      <th>rent50_4</th>\n",
       "      <th>state</th>\n",
       "      <th>cbsasub20</th>\n",
       "      <th>areaname20</th>\n",
       "      <th>county</th>\n",
       "      <th>cousub</th>\n",
       "      <th>cntyname</th>\n",
       "      <th>name</th>\n",
       "      <th>pop2017</th>\n",
       "      <th>hu2017</th>\n",
       "      <th>state_alpha</th>\n",
       "    </tr>\n",
       "  </thead>\n",
       "  <tbody>\n",
       "    <tr>\n",
       "      <th>244</th>\n",
       "      <td>800199999</td>\n",
       "      <td>1210</td>\n",
       "      <td>1367</td>\n",
       "      <td>1700</td>\n",
       "      <td>2348</td>\n",
       "      <td>2701</td>\n",
       "      <td>8</td>\n",
       "      <td>METRO19740M19740</td>\n",
       "      <td>Denver-Aurora-Lakewood, CO MSA</td>\n",
       "      <td>1</td>\n",
       "      <td>99999</td>\n",
       "      <td>Adams County</td>\n",
       "      <td>Adams County</td>\n",
       "      <td>487850</td>\n",
       "      <td>169275</td>\n",
       "      <td>CO</td>\n",
       "    </tr>\n",
       "  </tbody>\n",
       "</table>\n",
       "</div>"
      ],
      "text/plain": [
       "      fips2010  rent50_0  rent50_1  rent50_2  rent50_3  rent50_4  state  \\\n",
       "244  800199999      1210      1367      1700      2348      2701      8   \n",
       "\n",
       "            cbsasub20                      areaname20  county  cousub  \\\n",
       "244  METRO19740M19740  Denver-Aurora-Lakewood, CO MSA       1   99999   \n",
       "\n",
       "         cntyname          name  pop2017  hu2017 state_alpha  \n",
       "244  Adams County  Adams County   487850  169275          CO  "
      ]
     },
     "execution_count": 33,
     "metadata": {},
     "output_type": "execute_result"
    }
   ],
   "source": [
    "rent_data[(rent_data['state_alpha']=='CO') & (rent_data['cntyname'] == 'Adams County')]"
   ]
  },
  {
   "cell_type": "code",
   "execution_count": 34,
   "metadata": {},
   "outputs": [],
   "source": [
    "def get_rent(bed_count,state, county):\n",
    "    cnty = str(county) #+ ' County'\n",
    "    row = rent_data[(rent_data['state_alpha'] == str(state)) & (rent_data['cntyname'] == cnty)]\n",
    "    if bed_count < 0:\n",
    "        return 'Must enter bedroom count greater than zero'\n",
    "        \n",
    "    elif bed_count <= 4:\n",
    "        return int(row['rent50_'+str(bed_count)])\n",
    "    \n",
    "    else: \n",
    "        extra_beds = bed_count - 4\n",
    "        rent = row['rent50_4']\n",
    "        for i in range(extra_beds):\n",
    "            rent = rent * 1.15\n",
    "        return int(rent)\n",
    "    "
   ]
  },
  {
   "cell_type": "code",
   "execution_count": 35,
   "metadata": {},
   "outputs": [
    {
     "data": {
      "text/plain": [
       "2348"
      ]
     },
     "execution_count": 35,
     "metadata": {},
     "output_type": "execute_result"
    }
   ],
   "source": [
    "get_rent(3,'CO','Adams County')"
   ]
  },
  {
   "cell_type": "markdown",
   "metadata": {},
   "source": [
    "## Collect User Info"
   ]
  },
  {
   "cell_type": "code",
   "execution_count": 36,
   "metadata": {},
   "outputs": [
    {
     "name": "stdout",
     "output_type": "stream",
     "text": [
      "Money for downpayment?200\n"
     ]
    }
   ],
   "source": [
    "value = int(input(\"Money for downpayment?\"));"
   ]
  },
  {
   "cell_type": "code",
   "execution_count": 37,
   "metadata": {},
   "outputs": [
    {
     "data": {
      "text/plain": [
       "200"
      ]
     },
     "execution_count": 37,
     "metadata": {},
     "output_type": "execute_result"
    }
   ],
   "source": [
    "value "
   ]
  },
  {
   "cell_type": "markdown",
   "metadata": {},
   "source": [
    "### Potential GUI user input package\n",
    "tkinter  - source: https://docs.python.org/3/library/tkinter.html"
   ]
  },
  {
   "cell_type": "code",
   "execution_count": 38,
   "metadata": {},
   "outputs": [],
   "source": [
    "# import tkinter as tk\n",
    "\n",
    "# class Application(tk.Frame):\n",
    "#     def __init__(self, master=None):\n",
    "#         super().__init__(master)\n",
    "#         self.master = master\n",
    "#         self.pack()\n",
    "#         self.create_widgets()\n",
    "\n",
    "#     def create_widgets(self):\n",
    "#         self.hi_there = tk.Button(self)\n",
    "#         self.hi_there[\"text\"] = \"Hello World\\n(click me)\"\n",
    "#         self.hi_there[\"command\"] = self.say_hi\n",
    "#         self.hi_there.pack(side=\"top\")\n",
    "\n",
    "#         self.quit = tk.Button(self, text=\"QUIT\", fg=\"red\",\n",
    "#                               command=self.master.destroy)\n",
    "#         self.quit.pack(side=\"bottom\")\n",
    "\n",
    "#     def say_hi(self):\n",
    "#         print(\"hi there, everyone!\")\n",
    "\n",
    "# root = tk.Tk()\n",
    "# app = Application(master=root)\n",
    "# app.mainloop()"
   ]
  },
  {
   "cell_type": "code",
   "execution_count": 39,
   "metadata": {},
   "outputs": [],
   "source": [
    "user_df = pd.DataFrame(columns=['name','loan_type','cash','state','county'])"
   ]
  },
  {
   "cell_type": "code",
   "execution_count": 40,
   "metadata": {},
   "outputs": [],
   "source": [
    "# consider using classes\n",
    "    \n",
    "def create_user():\n",
    "    name = input('Enter your name')\n",
    "    loan = input('Enter loan type')\n",
    "    cash = int(input('Enter the amount of money available'))\n",
    "    state = input('Enter the state you are looking to invest in i.e. \"CO\"')\n",
    "    county = input('Enter the county you are looking to invest in i.e. \"Denver\"')\n",
    "    return {'name':name,'loan_type':loan,'cash':cash,'state':state,'county':county}\n",
    "\n",
    "def add_user(user):\n",
    "    return user_df.append(user, ignore_index=True)"
   ]
  },
  {
   "cell_type": "code",
   "execution_count": 41,
   "metadata": {},
   "outputs": [
    {
     "name": "stdout",
     "output_type": "stream",
     "text": [
      "Enter your namesc\n",
      "Enter loan typefh\n",
      "Enter the amount of money available200\n",
      "Enter the state you are looking to invest in i.e. \"CO\"CO\n",
      "Enter the county you are looking to invest in i.e. \"Denver\"Dence\n"
     ]
    }
   ],
   "source": [
    "user_df = add_user(create_user())"
   ]
  },
  {
   "cell_type": "code",
   "execution_count": 42,
   "metadata": {
    "scrolled": true
   },
   "outputs": [
    {
     "data": {
      "text/html": [
       "<div>\n",
       "<style scoped>\n",
       "    .dataframe tbody tr th:only-of-type {\n",
       "        vertical-align: middle;\n",
       "    }\n",
       "\n",
       "    .dataframe tbody tr th {\n",
       "        vertical-align: top;\n",
       "    }\n",
       "\n",
       "    .dataframe thead th {\n",
       "        text-align: right;\n",
       "    }\n",
       "</style>\n",
       "<table border=\"1\" class=\"dataframe\">\n",
       "  <thead>\n",
       "    <tr style=\"text-align: right;\">\n",
       "      <th></th>\n",
       "      <th>name</th>\n",
       "      <th>loan_type</th>\n",
       "      <th>cash</th>\n",
       "      <th>state</th>\n",
       "      <th>county</th>\n",
       "    </tr>\n",
       "  </thead>\n",
       "  <tbody>\n",
       "    <tr>\n",
       "      <th>0</th>\n",
       "      <td>sc</td>\n",
       "      <td>fh</td>\n",
       "      <td>200</td>\n",
       "      <td>CO</td>\n",
       "      <td>Dence</td>\n",
       "    </tr>\n",
       "  </tbody>\n",
       "</table>\n",
       "</div>"
      ],
      "text/plain": [
       "  name loan_type cash state county\n",
       "0   sc        fh  200    CO  Dence"
      ]
     },
     "execution_count": 42,
     "metadata": {},
     "output_type": "execute_result"
    }
   ],
   "source": [
    "user_df.head()"
   ]
  },
  {
   "cell_type": "code",
   "execution_count": 43,
   "metadata": {},
   "outputs": [],
   "source": [
    "# consider making recomendations on what to buy given the info provided on the user\n",
    "#searches the county for homes that could be purchased with the money provided"
   ]
  },
  {
   "cell_type": "code",
   "execution_count": null,
   "metadata": {},
   "outputs": [],
   "source": []
  },
  {
   "cell_type": "code",
   "execution_count": null,
   "metadata": {},
   "outputs": [],
   "source": []
  },
  {
   "cell_type": "markdown",
   "metadata": {},
   "source": [
    "## Financial Calculation Functions"
   ]
  },
  {
   "cell_type": "markdown",
   "metadata": {},
   "source": [
    "### "
   ]
  },
  {
   "cell_type": "code",
   "execution_count": null,
   "metadata": {},
   "outputs": [],
   "source": []
  },
  {
   "cell_type": "markdown",
   "metadata": {},
   "source": [
    "### Cash on Cash Return"
   ]
  },
  {
   "cell_type": "markdown",
   "metadata": {},
   "source": [
    "Monthly Cashflow = Monthly Total Income - Vacancy Rate - Expense Reserves - Monthly Expenses(water & trash) - Monthly Financing Cost - Monthly Taxes - Monthly Insurance\n",
    "\n",
    "Annual Cashflow = Monthly Cashflow * 12\n",
    "Cash on Cash = Annual Cashflow / Total Cash Invested"
   ]
  },
  {
   "cell_type": "markdown",
   "metadata": {},
   "source": [
    "### Monthly\n",
    "mti = Monthly Total Income (total income of property including all units and aux services)\n",
    "\n",
    "vr = Vacancy Rate (percentage of income held out to cover costs of vacant unit, typically 5% of mti) \n",
    "\n",
    "er = Expense Reserves (Maintenance and Capital Improvements, usually 10-25% of mti)\n",
    "\n",
    "me = Monthly Expenses (landlord paid expenses, typically water and trash)\n",
    "\n",
    "mfc = Monthly Financing Cost (principle and interest payments)\n",
    "\n",
    "mt = Monthly Taxes (annual tax / 12)\n",
    "\n",
    "mi = Monthly Insurance (annual insurance cost / 12) \n",
    "\n",
    "mcf = Monthly Cashflow (mti - vr - er - me - mfc - mt - mi)\n",
    "\n",
    "### Annual\n",
    "acf = Annual Cashflow (mcf * 12)\n",
    "\n",
    "### Financial\n",
    "tci = Total Cash Invested (amount of money initially put into deal\n",
    "\n",
    "coc = Cash On Cash (acf / tci) * 100 \n"
   ]
  },
  {
   "cell_type": "code",
   "execution_count": 44,
   "metadata": {},
   "outputs": [],
   "source": [
    "# Monthly \n",
    "mti = 5000\n",
    "vr = 5000 * .05\n",
    "er = 5000 * (.05 + .05)\n",
    "me = (100 + 50) #water & trash\n",
    "mfc = (2000)\n",
    "mt = (3000/12)\n",
    "mi = (3000/12)\n",
    "# Composite\n",
    "mcf = mti - vr - er - me - mfc - mt - mi\n",
    "\n",
    "# Annual\n",
    "acf = mcf * 12\n",
    "\n",
    "# Financial \n",
    "tci = 150_000\n",
    "coc = (acf / tci) * 100\n"
   ]
  },
  {
   "cell_type": "code",
   "execution_count": 45,
   "metadata": {},
   "outputs": [
    {
     "name": "stdout",
     "output_type": "stream",
     "text": [
      "Your Annual Cashflow is $19200.0 giving you a Cash-On-Cash return of 12.8%!\n"
     ]
    }
   ],
   "source": [
    "print(f'Your Annual Cashflow is ${acf} giving you a Cash-On-Cash return of {coc}%!')"
   ]
  },
  {
   "cell_type": "code",
   "execution_count": 46,
   "metadata": {},
   "outputs": [],
   "source": [
    "loan = Loan(principal=600000, interest=.04, term=30)"
   ]
  },
  {
   "cell_type": "code",
   "execution_count": 47,
   "metadata": {},
   "outputs": [
    {
     "name": "stdout",
     "output_type": "stream",
     "text": [
      "Original Balance:         $    600,000\n",
      "Interest Rate:                    0.04 %\n",
      "APY:                              4.07 %\n",
      "APR:                              4.00 %\n",
      "Term:                               30 years\n",
      "Monthly Payment:          $    2864.49\n",
      "\n",
      "Total principal payments: $ 600,000.00\n",
      "Total interest payments:  $ 431,217.04\n",
      "Total payments:           $1,031,217.04\n",
      "Interest to principal:            71.9 %\n",
      "Years to pay:                     30.0\n"
     ]
    }
   ],
   "source": [
    "loan.summarize"
   ]
  },
  {
   "cell_type": "code",
   "execution_count": 48,
   "metadata": {},
   "outputs": [
    {
     "data": {
      "text/plain": [
       "Installment(number=1, payment=Decimal('2864.491772792756954268129412'), interest=Decimal('2E+3'), principal=Decimal('864.491772792756954268129412'), total_interest=Decimal('2000'), balance=Decimal('599135.5082272072430457318706'))"
      ]
     },
     "execution_count": 48,
     "metadata": {},
     "output_type": "execute_result"
    }
   ],
   "source": [
    "loan.schedule()[1]"
   ]
  },
  {
   "cell_type": "code",
   "execution_count": 49,
   "metadata": {},
   "outputs": [
    {
     "data": {
      "text/plain": [
       "Decimal('2864.49')"
      ]
     },
     "execution_count": 49,
     "metadata": {},
     "output_type": "execute_result"
    }
   ],
   "source": [
    "loan.monthly_payment"
   ]
  },
  {
   "cell_type": "markdown",
   "metadata": {},
   "source": [
    "## House API\n",
    "from atom_api_final notebook"
   ]
  },
  {
   "cell_type": "code",
   "execution_count": 50,
   "metadata": {},
   "outputs": [],
   "source": [
    "import pandas as pd\n",
    "import requests\n",
    "import json\n",
    "from pandas.io.json import json_normalize\n",
    "\n",
    "def call_api_all(bld_num,street,str_type,unit=None,unit_num=None,city=None,state=None):\n",
    "    import http.client\n",
    "    \n",
    "    conn = http.client.HTTPSConnection(\"api.gateway.attomdata.com\") \n",
    "\n",
    "    headers = { \n",
    "        'accept': \"application/json\", \n",
    "        'apikey': \"5b3709e8f052f5a495b91df054a47709\", \n",
    "    } \n",
    "    address_1 = f\"address1={bld_num}%20{street}%20{str_type}%20{unit}%20{unit_num}\"\n",
    "    address_2 = f\"&address2={city}%2C%20{state}\"\n",
    "    conn.request(\"GET\", f\"/propertyapi/v1.0.0/allevents/detail?{address_1}{address_2}\", headers=headers) \n",
    "\n",
    "    res = conn.getresponse() \n",
    "    data = res.read() \n",
    "    \n",
    "#    print(data.decode(\"utf-8\"))\n",
    "    return data\n",
    "#    print(\"GET\", f\"/propertyapi/v1.0.0/property/detail?{address}\", \"headers=headers\")\n",
    "\n",
    "def extract_details(api_data):\n",
    "    house = json.loads(api_data)\n",
    "    \n",
    "    # create new dfs based on dictionary keys\n",
    "\n",
    "    # df_1 ['obPropId', 'fips', 'apn', 'apnOrig', 'attomId']\n",
    "    df_1 = pd.DataFrame(house['property'][0]['identifier'],index=[0])\n",
    "\n",
    "    # df_2 ['depth', 'frontage', 'lotnum', 'lotsize1', 'lotsize2', 'pooltype']\n",
    "    df_2 = pd.DataFrame(house['property'][0]['lot'],index=[0])\n",
    "\n",
    "    # df_3 ['blockNum', 'countrysecsubd', 'countyuse1', 'muncode', 'munname',\n",
    "    #       'srvyRange', 'srvySection', 'srvyTownship', 'subdname', 'subdtractnum','taxcodearea']\n",
    "    df_3 = pd.DataFrame(house['property'][0]['area'],index=[0])\n",
    "\n",
    "    # df_4 ['country', 'countrySubd', 'line1', 'line2', 'locality', 'matchCode',\n",
    "    #       'oneLine', 'postal1', 'postal2', 'postal3']\n",
    "    df_4 = pd.DataFrame(house['property'][0]['address'],index=[0])\n",
    "\n",
    "    # df_5 = ['accuracy', 'elevation', 'latitude', 'longitude', 'distance', 'geoid']\n",
    "    df_5 = pd.DataFrame(house['property'][0]['location'],index=[0])\n",
    "\n",
    "    # df_6 ['absenteeInd', 'propclass', 'propsubtype', 'proptype', 'yearbuilt',\n",
    "    #       'propLandUse', 'propIndicator', 'legal1']\n",
    "    df_6 = pd.DataFrame(house['property'][0]['summary'],index=[0])\n",
    "\n",
    "    #df_7 ['heatingtype']\n",
    "    df_7 = pd.DataFrame(house['property'][0]['utilities'],index=[0])\n",
    "\n",
    "    #df_8 **['size', 'rooms', 'interior', 'construction', 'parking', 'summary']** dict keys\n",
    "    df_8 = pd.DataFrame(house['property'][0]['building'],index=[0])\n",
    "\n",
    "    #df_9 ['lastModified', 'pubDate']\n",
    "    df_9 = pd.DataFrame(house['property'][0]['vintage'],index=[0])\n",
    "    \n",
    "    # create new dfs based on df_8 dictionary keys\n",
    "\n",
    "    # df_b1 ['bldgsize', 'grosssize', 'grosssizeadjusted', 'groundfloorsize',\n",
    "    #       'livingsize', 'sizeInd', 'universalsize']\n",
    "    df_b1 = pd.DataFrame(house['property'][0]['building']['size'],index=[0])\n",
    "\n",
    "    # df_b2 ['bathfixtures', 'baths1qtr', 'baths3qtr', 'bathscalc', 'bathsfull',\n",
    "    #       'bathshalf', 'bathstotal', 'beds', 'roomsTotal']\n",
    "    df_b2 = pd.DataFrame(house['property'][0]['building']['rooms'],index=[0])\n",
    "\n",
    "    #df_b3 ['bsmtsize', 'bsmttype', 'fplccount', 'fplcind', 'fplctype']\n",
    "    df_b3 = pd.DataFrame(house['property'][0]['building']['interior'],index=[0])\n",
    "\n",
    "    #df_b4 ['condition', 'wallType']\n",
    "    df_b4 = pd.DataFrame(house['property'][0]['building']['construction'],index=[0])\n",
    "\n",
    "    #df_b5 ['garagetype', 'prkgSize', 'prkgSpaces', 'prkgType']\n",
    "    df_b5 = pd.DataFrame(house['property'][0]['building']['parking'],index=[0])\n",
    "\n",
    "    #df_b6 ['bldgsNum', 'bldgType', 'imprType', 'levels', 'mobileHomeInd',\n",
    "    #       'quality', 'storyDesc', 'unitsCount', 'yearbuilteffective']\n",
    "    df_b6 = pd.DataFrame(house['property'][0]['building']['summary'],index=[0])\n",
    "    \n",
    "    ### AVM\n",
    "    #df_v1 ['scr', 'value', 'high', 'low', 'valueRange']\n",
    "    df_v1 = pd.DataFrame(house['property'][0]['avm']['amount'],index=[0])\n",
    "    \n",
    "    #df_v2 ['avmpoorlow', 'avmpoorhigh', 'avmpoorscore', 'avmgoodlow', 'avmgoodhigh', \n",
    "    #      'avmgoodscore', 'avmexcellentlow', 'avmexcellenthigh', 'avmexcellentscore']\n",
    "    df_v2 = pd.DataFrame(house['property'][0]['avm']['condition'],index=[0])\n",
    "    \n",
    "    #df_v3 ['taxamt', 'taxpersizeunit', 'taxyear']\n",
    "    df_v3 = pd.DataFrame(house['property'][0]['assessment']['tax'],index=[0])\n",
    "    \n",
    "    # Build df for property 1\n",
    "    prop_1 = pd.concat([df_1['fips'],df_2,df_3,df_4,df_5,df_6,df_7,df_9,df_b1,\n",
    "                        df_b2,df_b3,df_b4,df_b5,df_b6,df_v1,df_v2,df_v3],axis=1)\n",
    "    \n",
    "    return prop_1"
   ]
  },
  {
   "cell_type": "markdown",
   "metadata": {},
   "source": [
    "Function to get bedrooms and taxes from atom"
   ]
  },
  {
   "cell_type": "code",
   "execution_count": 51,
   "metadata": {},
   "outputs": [],
   "source": [
    "# get bed count and tax\n",
    "df = extract_details(call_api_all('2960','Inca','St','UNIT','501','Denver','CO'))\n"
   ]
  },
  {
   "cell_type": "code",
   "execution_count": 52,
   "metadata": {},
   "outputs": [
    {
     "data": {
      "text/html": [
       "<div>\n",
       "<style scoped>\n",
       "    .dataframe tbody tr th:only-of-type {\n",
       "        vertical-align: middle;\n",
       "    }\n",
       "\n",
       "    .dataframe tbody tr th {\n",
       "        vertical-align: top;\n",
       "    }\n",
       "\n",
       "    .dataframe thead th {\n",
       "        text-align: right;\n",
       "    }\n",
       "</style>\n",
       "<table border=\"1\" class=\"dataframe\">\n",
       "  <thead>\n",
       "    <tr style=\"text-align: right;\">\n",
       "      <th></th>\n",
       "      <th>beds</th>\n",
       "      <th>taxamt</th>\n",
       "      <th>countrySubd</th>\n",
       "      <th>countrysecsubd</th>\n",
       "    </tr>\n",
       "  </thead>\n",
       "  <tbody>\n",
       "    <tr>\n",
       "      <th>0</th>\n",
       "      <td>3</td>\n",
       "      <td>5050.0</td>\n",
       "      <td>CO</td>\n",
       "      <td>Denver County</td>\n",
       "    </tr>\n",
       "  </tbody>\n",
       "</table>\n",
       "</div>"
      ],
      "text/plain": [
       "   beds  taxamt countrySubd countrysecsubd\n",
       "0     3  5050.0          CO  Denver County"
      ]
     },
     "execution_count": 52,
     "metadata": {},
     "output_type": "execute_result"
    }
   ],
   "source": [
    "df_sm = df[['beds','taxamt','countrySubd','countrysecsubd']]\n",
    "df_sm"
   ]
  },
  {
   "cell_type": "code",
   "execution_count": 53,
   "metadata": {},
   "outputs": [
    {
     "data": {
      "text/plain": [
       "2348"
      ]
     },
     "execution_count": 53,
     "metadata": {},
     "output_type": "execute_result"
    }
   ],
   "source": [
    "get_rent(3,'CO','Adams County')"
   ]
  },
  {
   "cell_type": "code",
   "execution_count": 54,
   "metadata": {},
   "outputs": [
    {
     "data": {
      "text/plain": [
       "'Denver County'"
      ]
     },
     "execution_count": 54,
     "metadata": {},
     "output_type": "execute_result"
    }
   ],
   "source": [
    "df['beds'][0]\n",
    "df['countrySubd'][0]\n",
    "df['countrysecsubd'][0]"
   ]
  },
  {
   "cell_type": "code",
   "execution_count": 55,
   "metadata": {},
   "outputs": [
    {
     "name": "stderr",
     "output_type": "stream",
     "text": [
      "/Users/scottrosengrants/opt/anaconda3/lib/python3.7/site-packages/ipykernel_launcher.py:1: SettingWithCopyWarning: \n",
      "A value is trying to be set on a copy of a slice from a DataFrame.\n",
      "Try using .loc[row_indexer,col_indexer] = value instead\n",
      "\n",
      "See the caveats in the documentation: http://pandas.pydata.org/pandas-docs/stable/user_guide/indexing.html#returning-a-view-versus-a-copy\n",
      "  \"\"\"Entry point for launching an IPython kernel.\n"
     ]
    },
    {
     "data": {
      "text/html": [
       "<div>\n",
       "<style scoped>\n",
       "    .dataframe tbody tr th:only-of-type {\n",
       "        vertical-align: middle;\n",
       "    }\n",
       "\n",
       "    .dataframe tbody tr th {\n",
       "        vertical-align: top;\n",
       "    }\n",
       "\n",
       "    .dataframe thead th {\n",
       "        text-align: right;\n",
       "    }\n",
       "</style>\n",
       "<table border=\"1\" class=\"dataframe\">\n",
       "  <thead>\n",
       "    <tr style=\"text-align: right;\">\n",
       "      <th></th>\n",
       "      <th>beds</th>\n",
       "      <th>taxamt</th>\n",
       "      <th>countrySubd</th>\n",
       "      <th>countrysecsubd</th>\n",
       "      <th>rent</th>\n",
       "    </tr>\n",
       "  </thead>\n",
       "  <tbody>\n",
       "    <tr>\n",
       "      <th>0</th>\n",
       "      <td>3</td>\n",
       "      <td>5050.0</td>\n",
       "      <td>CO</td>\n",
       "      <td>Denver County</td>\n",
       "      <td>2348</td>\n",
       "    </tr>\n",
       "  </tbody>\n",
       "</table>\n",
       "</div>"
      ],
      "text/plain": [
       "   beds  taxamt countrySubd countrysecsubd  rent\n",
       "0     3  5050.0          CO  Denver County  2348"
      ]
     },
     "execution_count": 55,
     "metadata": {},
     "output_type": "execute_result"
    }
   ],
   "source": [
    "df_sm['rent'] = get_rent(df['beds'][0],df['countrySubd'][0],df['countrysecsubd'][0])\n",
    "df_sm"
   ]
  },
  {
   "cell_type": "code",
   "execution_count": 56,
   "metadata": {},
   "outputs": [],
   "source": [
    "def coc(df,principal,cash):\n",
    "    \n",
    "    #calculate loan\n",
    "    loan = Loan(principal, interest=.04, term=30)\n",
    "    pymt = loan.monthly_payment\n",
    "    \n",
    "    #calculate re figures\n",
    "    mti = float(df['rent'].loc[0])\n",
    "    vr = float(mti * .05)\n",
    "    er = float(mti * (.05 + .05))\n",
    "    me = float((100 + 50)) #water & trash\n",
    "    mfc = float(pymt)\n",
    "    mt = float(df['taxamt'].loc[0]/12)\n",
    "    mi = float(mt)  #(3000/12)\n",
    "    # Composite\n",
    "    mcf = mti - vr - er - me - mfc - mt - mi\n",
    "\n",
    "    # Annual\n",
    "    acf = np.round((mcf * 12),2)\n",
    "\n",
    "    # Financial \n",
    "    tci = cash\n",
    "    coc = np.round(((acf / tci) * 100),2)\n",
    "    \n",
    "    print(f'Your Annual Cashflow is ${acf} giving you a Cash-On-Cash return of {coc}%!')\n",
    "    print(f'{mcf} = {mti} - {vr} - {er} - {me} - {mfc} - {mt} - {mi}')"
   ]
  },
  {
   "cell_type": "code",
   "execution_count": 57,
   "metadata": {},
   "outputs": [
    {
     "name": "stdout",
     "output_type": "stream",
     "text": [
      "Your Annual Cashflow is $591.64 giving you a Cash-On-Cash return of 0.59%!\n",
      "49.303333333333285 = 2348.0 - 117.4 - 234.8 - 150.0 - 954.83 - 420.8333333333333 - 420.8333333333333\n"
     ]
    }
   ],
   "source": [
    "coc(df_sm, 200_000, 100_000)"
   ]
  },
  {
   "cell_type": "code",
   "execution_count": 58,
   "metadata": {},
   "outputs": [],
   "source": [
    "# cheap prop\n",
    "#4548 W Tennessee Ave, Denver, CO 80219\n",
    "cheap = extract_details(call_api_all('4548','Tennessee','Ave','Denver','CO'))\n"
   ]
  },
  {
   "cell_type": "code",
   "execution_count": 59,
   "metadata": {},
   "outputs": [
    {
     "name": "stdout",
     "output_type": "stream",
     "text": [
      "Your Annual Cashflow is $-1410.56 giving you a Cash-On-Cash return of -2.82%!\n",
      "-117.54666666666665 = 1367.0 - 68.35000000000001 - 136.70000000000002 - 150.0 - 954.83 - 87.33333333333333 - 87.33333333333333\n"
     ]
    }
   ],
   "source": [
    "cheap_sm = cheap[['beds','taxamt','countrySubd','countrysecsubd']].copy()\n",
    "cheap_sm['rent'] = get_rent(cheap_sm['beds'][0],cheap_sm['countrySubd'][0],cheap_sm['countrysecsubd'][0])\n",
    "coc(cheap_sm,200_000,50_000)"
   ]
  },
  {
   "cell_type": "code",
   "execution_count": 60,
   "metadata": {},
   "outputs": [
    {
     "data": {
      "text/plain": [
       "0    4548 W TENNESSEE AVE, DENVER, CO 80219\n",
       "Name: oneLine, dtype: object"
      ]
     },
     "execution_count": 60,
     "metadata": {},
     "output_type": "execute_result"
    }
   ],
   "source": [
    "cheap['oneLine']"
   ]
  },
  {
   "cell_type": "code",
   "execution_count": 61,
   "metadata": {},
   "outputs": [
    {
     "data": {
      "text/plain": [
       "0    1367\n",
       "Name: rent, dtype: int64"
      ]
     },
     "execution_count": 61,
     "metadata": {},
     "output_type": "execute_result"
    }
   ],
   "source": [
    "cheap_sm['rent']"
   ]
  },
  {
   "cell_type": "code",
   "execution_count": 62,
   "metadata": {},
   "outputs": [],
   "source": [
    "#1235 S Sheffield Ave, Indianapolis, IN 46221\n",
    "#https://www.zillow.com/homedetails/1235-S-Sheffield-Ave-Indianapolis-IN-46221/1293691_zpid/\n",
    "#$89,000\n",
    "indy = extract_details(call_api_all('1235','Sheffield','Ave','Indianapolis','IN'))"
   ]
  },
  {
   "cell_type": "code",
   "execution_count": 63,
   "metadata": {},
   "outputs": [
    {
     "name": "stdout",
     "output_type": "stream",
     "text": [
      "Your Annual Cashflow is $2588.96 giving you a Cash-On-Cash return of 11.51%!\n",
      "215.74666666666658 = 1008.0 - 50.400000000000006 - 100.80000000000001 - 150.0 - 365.22 - 62.916666666666664 - 62.916666666666664\n"
     ]
    }
   ],
   "source": [
    "indy_sm = indy[['beds','taxamt','countrySubd','countrysecsubd']].copy()\n",
    "indy_sm['rent'] = get_rent(indy_sm['beds'][0],indy_sm['countrySubd'][0],indy_sm['countrysecsubd'][0])\n",
    "coc(indy_sm,76_500,22_500)"
   ]
  },
  {
   "cell_type": "code",
   "execution_count": 64,
   "metadata": {},
   "outputs": [],
   "source": [
    "def results(principal, cash, bld_num,street,str_type,unit=None,unit_num=None,city=None,state=None):\n",
    "    prop = extract_details(call_api_all(bld_num,street,str_type,unit,unit_num,city,state))\n",
    "    prop_sm = prop[['beds','taxamt','countrySubd','countrysecsubd']].copy() \n",
    "    prop_sm['rent'] = get_rent(prop_sm['beds'].loc[0],prop_sm['countrySubd'].loc[0],prop_sm['countrysecsubd'].loc[0])\n",
    "    print(coc(prop_sm,principal,cash))\n",
    "    return prop"
   ]
  },
  {
   "cell_type": "code",
   "execution_count": 65,
   "metadata": {},
   "outputs": [
    {
     "name": "stdout",
     "output_type": "stream",
     "text": [
      "Your Annual Cashflow is $2588.96 giving you a Cash-On-Cash return of 11.51%!\n",
      "215.74666666666658 = 1008.0 - 50.400000000000006 - 100.80000000000001 - 150.0 - 365.22 - 62.916666666666664 - 62.916666666666664\n",
      "None\n"
     ]
    },
    {
     "data": {
      "text/html": [
       "<div>\n",
       "<style scoped>\n",
       "    .dataframe tbody tr th:only-of-type {\n",
       "        vertical-align: middle;\n",
       "    }\n",
       "\n",
       "    .dataframe tbody tr th {\n",
       "        vertical-align: top;\n",
       "    }\n",
       "\n",
       "    .dataframe thead th {\n",
       "        text-align: right;\n",
       "    }\n",
       "</style>\n",
       "<table border=\"1\" class=\"dataframe\">\n",
       "  <thead>\n",
       "    <tr style=\"text-align: right;\">\n",
       "      <th></th>\n",
       "      <th>fips</th>\n",
       "      <th>depth</th>\n",
       "      <th>frontage</th>\n",
       "      <th>lotnum</th>\n",
       "      <th>lotsize1</th>\n",
       "      <th>lotsize2</th>\n",
       "      <th>pooltype</th>\n",
       "      <th>blockNum</th>\n",
       "      <th>countrysecsubd</th>\n",
       "      <th>countyuse1</th>\n",
       "      <th>...</th>\n",
       "      <th>avmpoorscore</th>\n",
       "      <th>avmgoodlow</th>\n",
       "      <th>avmgoodhigh</th>\n",
       "      <th>avmgoodscore</th>\n",
       "      <th>avmexcellentlow</th>\n",
       "      <th>avmexcellenthigh</th>\n",
       "      <th>avmexcellentscore</th>\n",
       "      <th>taxamt</th>\n",
       "      <th>taxpersizeunit</th>\n",
       "      <th>taxyear</th>\n",
       "    </tr>\n",
       "  </thead>\n",
       "  <tbody>\n",
       "    <tr>\n",
       "      <th>0</th>\n",
       "      <td>18097</td>\n",
       "      <td>153</td>\n",
       "      <td>35</td>\n",
       "      <td>62</td>\n",
       "      <td>0.123</td>\n",
       "      <td>5358</td>\n",
       "      <td>NONE</td>\n",
       "      <td>6</td>\n",
       "      <td>Marion County</td>\n",
       "      <td>510</td>\n",
       "      <td>...</td>\n",
       "      <td>31.0</td>\n",
       "      <td>30000.0</td>\n",
       "      <td>75000.0</td>\n",
       "      <td>36.0</td>\n",
       "      <td>30750.0</td>\n",
       "      <td>76875.0</td>\n",
       "      <td>38.5</td>\n",
       "      <td>755.0</td>\n",
       "      <td>0.87</td>\n",
       "      <td>2018</td>\n",
       "    </tr>\n",
       "  </tbody>\n",
       "</table>\n",
       "<p>1 rows × 96 columns</p>\n",
       "</div>"
      ],
      "text/plain": [
       "    fips  depth  frontage lotnum  lotsize1  lotsize2 pooltype blockNum  \\\n",
       "0  18097    153        35     62     0.123      5358     NONE        6   \n",
       "\n",
       "  countrysecsubd countyuse1  ... avmpoorscore avmgoodlow avmgoodhigh  \\\n",
       "0  Marion County        510  ...         31.0    30000.0     75000.0   \n",
       "\n",
       "  avmgoodscore avmexcellentlow avmexcellenthigh avmexcellentscore taxamt  \\\n",
       "0         36.0         30750.0          76875.0              38.5  755.0   \n",
       "\n",
       "  taxpersizeunit taxyear  \n",
       "0           0.87    2018  \n",
       "\n",
       "[1 rows x 96 columns]"
      ]
     },
     "execution_count": 65,
     "metadata": {},
     "output_type": "execute_result"
    }
   ],
   "source": [
    "results(76_500,22_500,'1235','Sheffield','Ave','Indianapolis','IN')"
   ]
  },
  {
   "cell_type": "code",
   "execution_count": 66,
   "metadata": {},
   "outputs": [
    {
     "name": "stdout",
     "output_type": "stream",
     "text": [
      "Your Annual Cashflow is $-32116.92 giving you a Cash-On-Cash return of -16.47%!\n",
      "-2676.4100000000003 = 1821.0 - 91.05000000000001 - 182.10000000000002 - 150.0 - 3165.26 - 454.5 - 454.5\n",
      "None\n"
     ]
    }
   ],
   "source": [
    "#https://www.zillow.com/homedetails/2932-Holland-Ave-Bronx-NY-10467/29823960_zpid/\n",
    "#2932 Holland Ave, Bronx, NY 10467\n",
    "#779,000\n",
    "bronx = results(663_000,195_000,'2932','Holland','Ave','Bronx','NY')\n"
   ]
  },
  {
   "cell_type": "code",
   "execution_count": 67,
   "metadata": {},
   "outputs": [
    {
     "data": {
      "text/plain": [
       "0    0\n",
       "Name: beds, dtype: int64"
      ]
     },
     "execution_count": 67,
     "metadata": {},
     "output_type": "execute_result"
    }
   ],
   "source": [
    "bronx['beds']"
   ]
  },
  {
   "cell_type": "code",
   "execution_count": 68,
   "metadata": {},
   "outputs": [
    {
     "name": "stdout",
     "output_type": "stream",
     "text": [
      "Your Annual Cashflow is $-21017.84 giving you a Cash-On-Cash return of -14.01%!\n",
      "-1751.4866666666667 = 2113.0 - 105.65 - 211.3 - 150.0 - 2148.37 - 624.5833333333334 - 624.5833333333334\n",
      "None\n"
     ]
    }
   ],
   "source": [
    "#https://www.zillow.com/homedetails/1907-Bellevue-Ave-Los-Angeles-CA-90026/20739702_zpid/\n",
    "#1907 Bellevue Ave, Los Angeles, CA 90026\n",
    "#599,000\n",
    "la = results(450_000,150_000,'1907','Bellevue','Ave','LosAngeles','CA')"
   ]
  },
  {
   "cell_type": "code",
   "execution_count": 69,
   "metadata": {},
   "outputs": [
    {
     "data": {
      "text/plain": [
       "0    1907 BELLEVUE AVE, LOS ANGELES, CA 90026\n",
       "Name: oneLine, dtype: object"
      ]
     },
     "execution_count": 69,
     "metadata": {},
     "output_type": "execute_result"
    }
   ],
   "source": [
    "la['oneLine']"
   ]
  },
  {
   "cell_type": "code",
   "execution_count": 70,
   "metadata": {},
   "outputs": [
    {
     "name": "stdout",
     "output_type": "stream",
     "text": [
      "Your Annual Cashflow is $6091.68 giving you a Cash-On-Cash return of 13.17%!\n",
      "507.64 = 1553.0 - 77.65 - 155.3 - 150.0 - 662.41 - 0.0 - 0.0\n",
      "None\n"
     ]
    }
   ],
   "source": [
    "#https://www.zillow.com/homedetails/1391-Mount-Vernon-Ave-Columbus-OH-43203/33852609_zpid/\n",
    "#1391 Mount Vernon Ave, Columbus, OH 43203\n",
    "#185,000\n",
    "columbus = results(138_750,46_250,'1391','Mount','Ave','Columbus','OH')"
   ]
  },
  {
   "cell_type": "code",
   "execution_count": 45,
   "metadata": {},
   "outputs": [
    {
     "data": {
      "text/plain": [
       "0    1391 MOUNT VERNON AVE, COLUMBUS, OH 43203\n",
       "Name: oneLine, dtype: object"
      ]
     },
     "execution_count": 45,
     "metadata": {},
     "output_type": "execute_result"
    }
   ],
   "source": [
    "columbus['oneLine']"
   ]
  },
  {
   "cell_type": "code",
   "execution_count": 71,
   "metadata": {
    "scrolled": true
   },
   "outputs": [
    {
     "data": {
      "text/plain": [
       "Index(['fips', 'depth', 'frontage', 'lotsize1', 'lotsize2', 'pooltype',\n",
       "       'countrysecsubd', 'countyuse1', 'muncode', 'munname', 'subdname',\n",
       "       'subdtractnum', 'taxcodearea', 'country', 'countrySubd', 'line1',\n",
       "       'line2', 'locality', 'matchCode', 'oneLine', 'postal1', 'postal2',\n",
       "       'postal3', 'accuracy', 'elevation', 'latitude', 'longitude', 'distance',\n",
       "       'geoid', 'absenteeInd', 'propclass', 'propsubtype', 'proptype',\n",
       "       'yearbuilt', 'propLandUse', 'propIndicator', 'legal1', 'energyType',\n",
       "       'lastModified', 'pubDate', 'bldgsize', 'grosssize', 'grosssizeadjusted',\n",
       "       'groundfloorsize', 'livingsize', 'sizeInd', 'universalsize',\n",
       "       'bathfixtures', 'baths1qtr', 'baths3qtr', 'bathscalc', 'bathsfull',\n",
       "       'bathshalf', 'bathstotal', 'beds', 'roomsTotal', 'bsmtsize',\n",
       "       'fplccount', 'condition', 'foundationtype', 'wallType', 'prkgSize',\n",
       "       'archStyle', 'bldgsNum', 'bldgType', 'imprType', 'levels',\n",
       "       'mobileHomeInd', 'storyDesc', 'unitsCount', 'yearbuilteffective', 'scr',\n",
       "       'value', 'high', 'low', 'valueRange', 'avmpoorlow', 'avmpoorhigh',\n",
       "       'avmpoorscore', 'avmgoodlow', 'avmgoodhigh', 'avmgoodscore',\n",
       "       'avmexcellentlow', 'avmexcellenthigh', 'avmexcellentscore', 'taxamt',\n",
       "       'taxpersizeunit', 'taxyear'],\n",
       "      dtype='object')"
      ]
     },
     "execution_count": 71,
     "metadata": {},
     "output_type": "execute_result"
    }
   ],
   "source": [
    "columbus.columns"
   ]
  },
  {
   "cell_type": "code",
   "execution_count": 72,
   "metadata": {},
   "outputs": [
    {
     "data": {
      "text/plain": [
       "0    39049\n",
       "Name: fips, dtype: object"
      ]
     },
     "execution_count": 72,
     "metadata": {},
     "output_type": "execute_result"
    }
   ],
   "source": [
    "columbus['fips']"
   ]
  },
  {
   "cell_type": "code",
   "execution_count": 356,
   "metadata": {},
   "outputs": [],
   "source": [
    "data = pd.read_csv('../data/mortgage_model.csv',dtype={'county_code':str})"
   ]
  },
  {
   "cell_type": "code",
   "execution_count": 357,
   "metadata": {},
   "outputs": [
    {
     "data": {
      "text/plain": [
       "Index(['lei', 'county_code', 'census_tract', 'preapproval', 'loan_amount',\n",
       "       'combined_loan_to_value_ratio', 'interest_rate', 'loan_term',\n",
       "       'interest_only_payment', 'balloon_payment', 'property_value',\n",
       "       'occupancy_type', 'total_units', 'income', 'debt_to_income_ratio',\n",
       "       'submission_of_application', 'denial_reason_1', 'tract_population',\n",
       "       'ffiec_msa_md_median_family_income', 'tract_to_msa_income_percentage',\n",
       "       'tract_owner_occupied_units', 'tract_one_to_four_family_homes',\n",
       "       'tract_median_age_of_housing_units', 'state_code_AL', 'state_code_AR',\n",
       "       'state_code_AZ', 'state_code_CA', 'state_code_CO', 'state_code_CT',\n",
       "       'state_code_DC', 'state_code_DE', 'state_code_FL', 'state_code_GA',\n",
       "       'state_code_GU', 'state_code_HI', 'state_code_IA', 'state_code_ID',\n",
       "       'state_code_IL', 'state_code_IN', 'state_code_KS', 'state_code_KY',\n",
       "       'state_code_LA', 'state_code_MA', 'state_code_MD', 'state_code_ME',\n",
       "       'state_code_MI', 'state_code_MN', 'state_code_MO', 'state_code_MS',\n",
       "       'state_code_MT', 'state_code_NC', 'state_code_ND', 'state_code_NE',\n",
       "       'state_code_NH', 'state_code_NJ', 'state_code_NM', 'state_code_NV',\n",
       "       'state_code_NY', 'state_code_OH', 'state_code_OK', 'state_code_OR',\n",
       "       'state_code_PA', 'state_code_PR', 'state_code_RI', 'state_code_SC',\n",
       "       'state_code_SD', 'state_code_TN', 'state_code_TX', 'state_code_UT',\n",
       "       'state_code_VA', 'state_code_VT', 'state_code_WA', 'state_code_WI',\n",
       "       'state_code_WV', 'state_code_WY', 'loan_type_2', 'loan_type_3',\n",
       "       'loan_type_4'],\n",
       "      dtype='object')"
      ]
     },
     "execution_count": 357,
     "metadata": {},
     "output_type": "execute_result"
    }
   ],
   "source": [
    "data.columns"
   ]
  },
  {
   "cell_type": "code",
   "execution_count": 359,
   "metadata": {},
   "outputs": [
    {
     "data": {
      "text/plain": [
       "lei               object\n",
       "county_code       object\n",
       "census_tract     float64\n",
       "preapproval        int64\n",
       "loan_amount      float64\n",
       "                  ...   \n",
       "state_code_WV      int64\n",
       "state_code_WY      int64\n",
       "loan_type_2        int64\n",
       "loan_type_3        int64\n",
       "loan_type_4        int64\n",
       "Length: 78, dtype: object"
      ]
     },
     "execution_count": 359,
     "metadata": {},
     "output_type": "execute_result"
    }
   ],
   "source": [
    "data.dtypes"
   ]
  },
  {
   "cell_type": "code",
   "execution_count": 361,
   "metadata": {
    "scrolled": true
   },
   "outputs": [
    {
     "data": {
      "text/html": [
       "<div>\n",
       "<style scoped>\n",
       "    .dataframe tbody tr th:only-of-type {\n",
       "        vertical-align: middle;\n",
       "    }\n",
       "\n",
       "    .dataframe tbody tr th {\n",
       "        vertical-align: top;\n",
       "    }\n",
       "\n",
       "    .dataframe thead th {\n",
       "        text-align: right;\n",
       "    }\n",
       "</style>\n",
       "<table border=\"1\" class=\"dataframe\">\n",
       "  <thead>\n",
       "    <tr style=\"text-align: right;\">\n",
       "      <th></th>\n",
       "      <th>lei</th>\n",
       "      <th>county_code</th>\n",
       "      <th>census_tract</th>\n",
       "      <th>preapproval</th>\n",
       "      <th>loan_amount</th>\n",
       "      <th>combined_loan_to_value_ratio</th>\n",
       "      <th>interest_rate</th>\n",
       "      <th>loan_term</th>\n",
       "      <th>interest_only_payment</th>\n",
       "      <th>balloon_payment</th>\n",
       "      <th>...</th>\n",
       "      <th>state_code_UT</th>\n",
       "      <th>state_code_VA</th>\n",
       "      <th>state_code_VT</th>\n",
       "      <th>state_code_WA</th>\n",
       "      <th>state_code_WI</th>\n",
       "      <th>state_code_WV</th>\n",
       "      <th>state_code_WY</th>\n",
       "      <th>loan_type_2</th>\n",
       "      <th>loan_type_3</th>\n",
       "      <th>loan_type_4</th>\n",
       "    </tr>\n",
       "  </thead>\n",
       "  <tbody>\n",
       "    <tr>\n",
       "      <th>430321</th>\n",
       "      <td>549300QURAICH2YGJV94</td>\n",
       "      <td>08059</td>\n",
       "      <td>8.059011e+09</td>\n",
       "      <td>0</td>\n",
       "      <td>365000.0</td>\n",
       "      <td>75.00</td>\n",
       "      <td>4.750</td>\n",
       "      <td>360.0</td>\n",
       "      <td>1</td>\n",
       "      <td>1</td>\n",
       "      <td>...</td>\n",
       "      <td>0</td>\n",
       "      <td>0</td>\n",
       "      <td>0</td>\n",
       "      <td>0</td>\n",
       "      <td>0</td>\n",
       "      <td>0</td>\n",
       "      <td>0</td>\n",
       "      <td>0</td>\n",
       "      <td>0</td>\n",
       "      <td>0</td>\n",
       "    </tr>\n",
       "    <tr>\n",
       "      <th>1030259</th>\n",
       "      <td>549300PC3UFCCSVKTR08</td>\n",
       "      <td>08059</td>\n",
       "      <td>8.059012e+09</td>\n",
       "      <td>1</td>\n",
       "      <td>375000.0</td>\n",
       "      <td>95.00</td>\n",
       "      <td>3.750</td>\n",
       "      <td>360.0</td>\n",
       "      <td>1</td>\n",
       "      <td>1</td>\n",
       "      <td>...</td>\n",
       "      <td>0</td>\n",
       "      <td>0</td>\n",
       "      <td>0</td>\n",
       "      <td>0</td>\n",
       "      <td>0</td>\n",
       "      <td>0</td>\n",
       "      <td>0</td>\n",
       "      <td>0</td>\n",
       "      <td>0</td>\n",
       "      <td>0</td>\n",
       "    </tr>\n",
       "    <tr>\n",
       "      <th>1030399</th>\n",
       "      <td>7DMUJTL9FFTVIAG9H788</td>\n",
       "      <td>08059</td>\n",
       "      <td>8.059012e+09</td>\n",
       "      <td>1</td>\n",
       "      <td>225000.0</td>\n",
       "      <td>89.84</td>\n",
       "      <td>4.000</td>\n",
       "      <td>240.0</td>\n",
       "      <td>1</td>\n",
       "      <td>1</td>\n",
       "      <td>...</td>\n",
       "      <td>0</td>\n",
       "      <td>0</td>\n",
       "      <td>0</td>\n",
       "      <td>0</td>\n",
       "      <td>0</td>\n",
       "      <td>0</td>\n",
       "      <td>0</td>\n",
       "      <td>0</td>\n",
       "      <td>0</td>\n",
       "      <td>0</td>\n",
       "    </tr>\n",
       "    <tr>\n",
       "      <th>1031078</th>\n",
       "      <td>7DMUJTL9FFTVIAG9H788</td>\n",
       "      <td>08059</td>\n",
       "      <td>8.059011e+09</td>\n",
       "      <td>1</td>\n",
       "      <td>205000.0</td>\n",
       "      <td>73.47</td>\n",
       "      <td>3.750</td>\n",
       "      <td>360.0</td>\n",
       "      <td>1</td>\n",
       "      <td>1</td>\n",
       "      <td>...</td>\n",
       "      <td>0</td>\n",
       "      <td>0</td>\n",
       "      <td>0</td>\n",
       "      <td>0</td>\n",
       "      <td>0</td>\n",
       "      <td>0</td>\n",
       "      <td>0</td>\n",
       "      <td>0</td>\n",
       "      <td>0</td>\n",
       "      <td>0</td>\n",
       "    </tr>\n",
       "    <tr>\n",
       "      <th>2149694</th>\n",
       "      <td>549300RD5IG88VPO6P22</td>\n",
       "      <td>08059</td>\n",
       "      <td>8.059012e+09</td>\n",
       "      <td>1</td>\n",
       "      <td>285000.0</td>\n",
       "      <td>88.62</td>\n",
       "      <td>4.750</td>\n",
       "      <td>360.0</td>\n",
       "      <td>1</td>\n",
       "      <td>1</td>\n",
       "      <td>...</td>\n",
       "      <td>0</td>\n",
       "      <td>0</td>\n",
       "      <td>0</td>\n",
       "      <td>0</td>\n",
       "      <td>0</td>\n",
       "      <td>0</td>\n",
       "      <td>0</td>\n",
       "      <td>0</td>\n",
       "      <td>0</td>\n",
       "      <td>0</td>\n",
       "    </tr>\n",
       "    <tr>\n",
       "      <th>2153463</th>\n",
       "      <td>KB1H1DSPRFMYMCUFXT09</td>\n",
       "      <td>08059</td>\n",
       "      <td>8.059012e+09</td>\n",
       "      <td>1</td>\n",
       "      <td>455000.0</td>\n",
       "      <td>60.00</td>\n",
       "      <td>4.375</td>\n",
       "      <td>360.0</td>\n",
       "      <td>1</td>\n",
       "      <td>1</td>\n",
       "      <td>...</td>\n",
       "      <td>0</td>\n",
       "      <td>0</td>\n",
       "      <td>0</td>\n",
       "      <td>0</td>\n",
       "      <td>0</td>\n",
       "      <td>0</td>\n",
       "      <td>0</td>\n",
       "      <td>0</td>\n",
       "      <td>1</td>\n",
       "      <td>0</td>\n",
       "    </tr>\n",
       "    <tr>\n",
       "      <th>2153522</th>\n",
       "      <td>KB1H1DSPRFMYMCUFXT09</td>\n",
       "      <td>08059</td>\n",
       "      <td>8.059012e+09</td>\n",
       "      <td>1</td>\n",
       "      <td>525000.0</td>\n",
       "      <td>75.00</td>\n",
       "      <td>4.875</td>\n",
       "      <td>360.0</td>\n",
       "      <td>1</td>\n",
       "      <td>1</td>\n",
       "      <td>...</td>\n",
       "      <td>0</td>\n",
       "      <td>0</td>\n",
       "      <td>0</td>\n",
       "      <td>0</td>\n",
       "      <td>0</td>\n",
       "      <td>0</td>\n",
       "      <td>0</td>\n",
       "      <td>0</td>\n",
       "      <td>0</td>\n",
       "      <td>0</td>\n",
       "    </tr>\n",
       "  </tbody>\n",
       "</table>\n",
       "<p>7 rows × 78 columns</p>\n",
       "</div>"
      ],
      "text/plain": [
       "                          lei county_code  census_tract  preapproval  \\\n",
       "430321   549300QURAICH2YGJV94       08059  8.059011e+09            0   \n",
       "1030259  549300PC3UFCCSVKTR08       08059  8.059012e+09            1   \n",
       "1030399  7DMUJTL9FFTVIAG9H788       08059  8.059012e+09            1   \n",
       "1031078  7DMUJTL9FFTVIAG9H788       08059  8.059011e+09            1   \n",
       "2149694  549300RD5IG88VPO6P22       08059  8.059012e+09            1   \n",
       "2153463  KB1H1DSPRFMYMCUFXT09       08059  8.059012e+09            1   \n",
       "2153522  KB1H1DSPRFMYMCUFXT09       08059  8.059012e+09            1   \n",
       "\n",
       "         loan_amount  combined_loan_to_value_ratio  interest_rate  loan_term  \\\n",
       "430321      365000.0                         75.00          4.750      360.0   \n",
       "1030259     375000.0                         95.00          3.750      360.0   \n",
       "1030399     225000.0                         89.84          4.000      240.0   \n",
       "1031078     205000.0                         73.47          3.750      360.0   \n",
       "2149694     285000.0                         88.62          4.750      360.0   \n",
       "2153463     455000.0                         60.00          4.375      360.0   \n",
       "2153522     525000.0                         75.00          4.875      360.0   \n",
       "\n",
       "         interest_only_payment  balloon_payment  ...  state_code_UT  \\\n",
       "430321                       1                1  ...              0   \n",
       "1030259                      1                1  ...              0   \n",
       "1030399                      1                1  ...              0   \n",
       "1031078                      1                1  ...              0   \n",
       "2149694                      1                1  ...              0   \n",
       "2153463                      1                1  ...              0   \n",
       "2153522                      1                1  ...              0   \n",
       "\n",
       "         state_code_VA  state_code_VT  state_code_WA  state_code_WI  \\\n",
       "430321               0              0              0              0   \n",
       "1030259              0              0              0              0   \n",
       "1030399              0              0              0              0   \n",
       "1031078              0              0              0              0   \n",
       "2149694              0              0              0              0   \n",
       "2153463              0              0              0              0   \n",
       "2153522              0              0              0              0   \n",
       "\n",
       "         state_code_WV  state_code_WY  loan_type_2  loan_type_3  loan_type_4  \n",
       "430321               0              0            0            0            0  \n",
       "1030259              0              0            0            0            0  \n",
       "1030399              0              0            0            0            0  \n",
       "1031078              0              0            0            0            0  \n",
       "2149694              0              0            0            0            0  \n",
       "2153463              0              0            0            1            0  \n",
       "2153522              0              0            0            0            0  \n",
       "\n",
       "[7 rows x 78 columns]"
      ]
     },
     "execution_count": 361,
     "metadata": {},
     "output_type": "execute_result"
    }
   ],
   "source": [
    "data[data['county_code'] == '08059']"
   ]
  },
  {
   "cell_type": "code",
   "execution_count": 367,
   "metadata": {},
   "outputs": [],
   "source": [
    "#create fips index data based on 'county_code'\n",
    "fips = data[['county_code', 'census_tract','tract_population',\n",
    "       'ffiec_msa_md_median_family_income', 'tract_to_msa_income_percentage',\n",
    "       'tract_owner_occupied_units', 'tract_one_to_four_family_homes',\n",
    "       'tract_median_age_of_housing_units']]"
   ]
  },
  {
   "cell_type": "code",
   "execution_count": 368,
   "metadata": {
    "scrolled": true
   },
   "outputs": [
    {
     "data": {
      "text/html": [
       "<div>\n",
       "<style scoped>\n",
       "    .dataframe tbody tr th:only-of-type {\n",
       "        vertical-align: middle;\n",
       "    }\n",
       "\n",
       "    .dataframe tbody tr th {\n",
       "        vertical-align: top;\n",
       "    }\n",
       "\n",
       "    .dataframe thead th {\n",
       "        text-align: right;\n",
       "    }\n",
       "</style>\n",
       "<table border=\"1\" class=\"dataframe\">\n",
       "  <thead>\n",
       "    <tr style=\"text-align: right;\">\n",
       "      <th></th>\n",
       "      <th>county_code</th>\n",
       "      <th>census_tract</th>\n",
       "      <th>tract_population</th>\n",
       "      <th>ffiec_msa_md_median_family_income</th>\n",
       "      <th>tract_to_msa_income_percentage</th>\n",
       "      <th>tract_owner_occupied_units</th>\n",
       "      <th>tract_one_to_four_family_homes</th>\n",
       "      <th>tract_median_age_of_housing_units</th>\n",
       "    </tr>\n",
       "  </thead>\n",
       "  <tbody>\n",
       "    <tr>\n",
       "      <th>0</th>\n",
       "      <td>21043.0</td>\n",
       "      <td>2.104396e+10</td>\n",
       "      <td>6445</td>\n",
       "      <td>49400</td>\n",
       "      <td>96</td>\n",
       "      <td>1876</td>\n",
       "      <td>2603</td>\n",
       "      <td>30</td>\n",
       "    </tr>\n",
       "    <tr>\n",
       "      <th>1</th>\n",
       "      <td>21111.0</td>\n",
       "      <td>2.111101e+10</td>\n",
       "      <td>3538</td>\n",
       "      <td>70400</td>\n",
       "      <td>67</td>\n",
       "      <td>997</td>\n",
       "      <td>1406</td>\n",
       "      <td>59</td>\n",
       "    </tr>\n",
       "    <tr>\n",
       "      <th>2</th>\n",
       "      <td>21239.0</td>\n",
       "      <td>2.123905e+10</td>\n",
       "      <td>3756</td>\n",
       "      <td>70100</td>\n",
       "      <td>101</td>\n",
       "      <td>1037</td>\n",
       "      <td>1648</td>\n",
       "      <td>37</td>\n",
       "    </tr>\n",
       "    <tr>\n",
       "      <th>3</th>\n",
       "      <td>21167.0</td>\n",
       "      <td>2.116796e+10</td>\n",
       "      <td>4349</td>\n",
       "      <td>49400</td>\n",
       "      <td>103</td>\n",
       "      <td>1130</td>\n",
       "      <td>1806</td>\n",
       "      <td>52</td>\n",
       "    </tr>\n",
       "    <tr>\n",
       "      <th>4</th>\n",
       "      <td>21097.0</td>\n",
       "      <td>2.109795e+10</td>\n",
       "      <td>5406</td>\n",
       "      <td>49400</td>\n",
       "      <td>95</td>\n",
       "      <td>1280</td>\n",
       "      <td>2352</td>\n",
       "      <td>39</td>\n",
       "    </tr>\n",
       "  </tbody>\n",
       "</table>\n",
       "</div>"
      ],
      "text/plain": [
       "  county_code  census_tract  tract_population  \\\n",
       "0     21043.0  2.104396e+10              6445   \n",
       "1     21111.0  2.111101e+10              3538   \n",
       "2     21239.0  2.123905e+10              3756   \n",
       "3     21167.0  2.116796e+10              4349   \n",
       "4     21097.0  2.109795e+10              5406   \n",
       "\n",
       "   ffiec_msa_md_median_family_income  tract_to_msa_income_percentage  \\\n",
       "0                              49400                              96   \n",
       "1                              70400                              67   \n",
       "2                              70100                             101   \n",
       "3                              49400                             103   \n",
       "4                              49400                              95   \n",
       "\n",
       "   tract_owner_occupied_units  tract_one_to_four_family_homes  \\\n",
       "0                        1876                            2603   \n",
       "1                         997                            1406   \n",
       "2                        1037                            1648   \n",
       "3                        1130                            1806   \n",
       "4                        1280                            2352   \n",
       "\n",
       "   tract_median_age_of_housing_units  \n",
       "0                                 30  \n",
       "1                                 59  \n",
       "2                                 37  \n",
       "3                                 52  \n",
       "4                                 39  "
      ]
     },
     "execution_count": 368,
     "metadata": {},
     "output_type": "execute_result"
    }
   ],
   "source": [
    "fips.head()"
   ]
  },
  {
   "cell_type": "code",
   "execution_count": 369,
   "metadata": {},
   "outputs": [
    {
     "data": {
      "text/plain": [
       "2671686"
      ]
     },
     "execution_count": 369,
     "metadata": {},
     "output_type": "execute_result"
    }
   ],
   "source": [
    "len(fips)"
   ]
  },
  {
   "cell_type": "code",
   "execution_count": 370,
   "metadata": {},
   "outputs": [
    {
     "data": {
      "text/plain": [
       "dtype('O')"
      ]
     },
     "execution_count": 370,
     "metadata": {},
     "output_type": "execute_result"
    }
   ],
   "source": [
    "fips['county_code'].dtypes"
   ]
  },
  {
   "cell_type": "code",
   "execution_count": 371,
   "metadata": {
    "scrolled": true
   },
   "outputs": [
    {
     "name": "stderr",
     "output_type": "stream",
     "text": [
      "/Users/scottrosengrants/opt/anaconda3/lib/python3.7/site-packages/ipykernel_launcher.py:2: SettingWithCopyWarning: \n",
      "A value is trying to be set on a copy of a slice from a DataFrame\n",
      "\n",
      "See the caveats in the documentation: http://pandas.pydata.org/pandas-docs/stable/user_guide/indexing.html#returning-a-view-versus-a-copy\n",
      "  \n"
     ]
    }
   ],
   "source": [
    "# remove all duplicate counties \n",
    "fips.drop_duplicates(subset='county_code', inplace=True)"
   ]
  },
  {
   "cell_type": "code",
   "execution_count": 372,
   "metadata": {},
   "outputs": [
    {
     "data": {
      "text/plain": [
       "6143"
      ]
     },
     "execution_count": 372,
     "metadata": {},
     "output_type": "execute_result"
    }
   ],
   "source": [
    "len(fips)"
   ]
  },
  {
   "cell_type": "code",
   "execution_count": 374,
   "metadata": {},
   "outputs": [
    {
     "data": {
      "text/html": [
       "<div>\n",
       "<style scoped>\n",
       "    .dataframe tbody tr th:only-of-type {\n",
       "        vertical-align: middle;\n",
       "    }\n",
       "\n",
       "    .dataframe tbody tr th {\n",
       "        vertical-align: top;\n",
       "    }\n",
       "\n",
       "    .dataframe thead th {\n",
       "        text-align: right;\n",
       "    }\n",
       "</style>\n",
       "<table border=\"1\" class=\"dataframe\">\n",
       "  <thead>\n",
       "    <tr style=\"text-align: right;\">\n",
       "      <th></th>\n",
       "      <th>county_code</th>\n",
       "      <th>census_tract</th>\n",
       "      <th>tract_population</th>\n",
       "      <th>ffiec_msa_md_median_family_income</th>\n",
       "      <th>tract_to_msa_income_percentage</th>\n",
       "      <th>tract_owner_occupied_units</th>\n",
       "      <th>tract_one_to_four_family_homes</th>\n",
       "      <th>tract_median_age_of_housing_units</th>\n",
       "    </tr>\n",
       "  </thead>\n",
       "  <tbody>\n",
       "    <tr>\n",
       "      <th>430321</th>\n",
       "      <td>08059</td>\n",
       "      <td>8.059011e+09</td>\n",
       "      <td>4410</td>\n",
       "      <td>89900</td>\n",
       "      <td>103</td>\n",
       "      <td>1320</td>\n",
       "      <td>1891</td>\n",
       "      <td>45</td>\n",
       "    </tr>\n",
       "  </tbody>\n",
       "</table>\n",
       "</div>"
      ],
      "text/plain": [
       "       county_code  census_tract  tract_population  \\\n",
       "430321       08059  8.059011e+09              4410   \n",
       "\n",
       "        ffiec_msa_md_median_family_income  tract_to_msa_income_percentage  \\\n",
       "430321                              89900                             103   \n",
       "\n",
       "        tract_owner_occupied_units  tract_one_to_four_family_homes  \\\n",
       "430321                        1320                            1891   \n",
       "\n",
       "        tract_median_age_of_housing_units  \n",
       "430321                                 45  "
      ]
     },
     "execution_count": 374,
     "metadata": {},
     "output_type": "execute_result"
    }
   ],
   "source": [
    "fips[fips['county_code'] == '08059']"
   ]
  },
  {
   "cell_type": "code",
   "execution_count": 375,
   "metadata": {},
   "outputs": [],
   "source": [
    "# save the fips index data\n",
    "fips.to_csv('../data/fips.csv',index=False)"
   ]
  },
  {
   "cell_type": "markdown",
   "metadata": {},
   "source": [
    "## Import Model"
   ]
  },
  {
   "cell_type": "code",
   "execution_count": 376,
   "metadata": {},
   "outputs": [],
   "source": [
    "from sklearn.preprocessing import StandardScaler\n",
    "from keras.utils import to_categorical\n",
    "from sklearn.metrics import accuracy_score\n",
    "from tensorflow.keras.models import load_model\n",
    "\n",
    "# For reproducibility\n",
    "np.random.seed(42)\n",
    "from tensorflow.keras.models import Sequential\n",
    "from tensorflow.keras.layers import Dense, Dropout, Flatten, Conv2D, MaxPooling2D\n",
    "from tensorflow.keras import utils"
   ]
  },
  {
   "cell_type": "code",
   "execution_count": 377,
   "metadata": {},
   "outputs": [],
   "source": [
    "model = load_model('../models/binary_nn.h5')"
   ]
  },
  {
   "cell_type": "code",
   "execution_count": 378,
   "metadata": {},
   "outputs": [
    {
     "name": "stdout",
     "output_type": "stream",
     "text": [
      "Model: \"sequential\"\n",
      "_________________________________________________________________\n",
      "Layer (type)                 Output Shape              Param #   \n",
      "=================================================================\n",
      "dense (Dense)                (None, 128)               9600      \n",
      "_________________________________________________________________\n",
      "dropout (Dropout)            (None, 128)               0         \n",
      "_________________________________________________________________\n",
      "dense_1 (Dense)              (None, 24)                3096      \n",
      "_________________________________________________________________\n",
      "dense_2 (Dense)              (None, 2)                 50        \n",
      "=================================================================\n",
      "Total params: 12,746\n",
      "Trainable params: 12,746\n",
      "Non-trainable params: 0\n",
      "_________________________________________________________________\n"
     ]
    }
   ],
   "source": [
    "model.summary()"
   ]
  },
  {
   "cell_type": "markdown",
   "metadata": {},
   "source": [
    "### Feedin Input into the Model (Pre-Processing)"
   ]
  },
  {
   "cell_type": "code",
   "execution_count": 379,
   "metadata": {},
   "outputs": [
    {
     "data": {
      "text/plain": [
       "Index(['lei', 'county_code', 'census_tract', 'preapproval', 'loan_amount',\n",
       "       'combined_loan_to_value_ratio', 'interest_rate', 'loan_term',\n",
       "       'interest_only_payment', 'balloon_payment', 'property_value',\n",
       "       'occupancy_type', 'total_units', 'income', 'debt_to_income_ratio',\n",
       "       'submission_of_application', 'denial_reason_1', 'tract_population',\n",
       "       'ffiec_msa_md_median_family_income', 'tract_to_msa_income_percentage',\n",
       "       'tract_owner_occupied_units', 'tract_one_to_four_family_homes',\n",
       "       'tract_median_age_of_housing_units', 'state_code_AL', 'state_code_AR',\n",
       "       'state_code_AZ', 'state_code_CA', 'state_code_CO', 'state_code_CT',\n",
       "       'state_code_DC', 'state_code_DE', 'state_code_FL', 'state_code_GA',\n",
       "       'state_code_GU', 'state_code_HI', 'state_code_IA', 'state_code_ID',\n",
       "       'state_code_IL', 'state_code_IN', 'state_code_KS', 'state_code_KY',\n",
       "       'state_code_LA', 'state_code_MA', 'state_code_MD', 'state_code_ME',\n",
       "       'state_code_MI', 'state_code_MN', 'state_code_MO', 'state_code_MS',\n",
       "       'state_code_MT', 'state_code_NC', 'state_code_ND', 'state_code_NE',\n",
       "       'state_code_NH', 'state_code_NJ', 'state_code_NM', 'state_code_NV',\n",
       "       'state_code_NY', 'state_code_OH', 'state_code_OK', 'state_code_OR',\n",
       "       'state_code_PA', 'state_code_PR', 'state_code_RI', 'state_code_SC',\n",
       "       'state_code_SD', 'state_code_TN', 'state_code_TX', 'state_code_UT',\n",
       "       'state_code_VA', 'state_code_VT', 'state_code_WA', 'state_code_WI',\n",
       "       'state_code_WV', 'state_code_WY', 'loan_type_2', 'loan_type_3',\n",
       "       'loan_type_4'],\n",
       "      dtype='object')"
      ]
     },
     "execution_count": 379,
     "metadata": {},
     "output_type": "execute_result"
    }
   ],
   "source": [
    "data.columns"
   ]
  },
  {
   "cell_type": "code",
   "execution_count": 380,
   "metadata": {},
   "outputs": [],
   "source": [
    "X = data.drop(columns=['lei','debt_to_income_ratio','denial_reason_1','county_code'])"
   ]
  },
  {
   "cell_type": "code",
   "execution_count": 381,
   "metadata": {
    "scrolled": true
   },
   "outputs": [
    {
     "data": {
      "text/plain": [
       "Index(['census_tract', 'preapproval', 'loan_amount',\n",
       "       'combined_loan_to_value_ratio', 'interest_rate', 'loan_term',\n",
       "       'interest_only_payment', 'balloon_payment', 'property_value',\n",
       "       'occupancy_type', 'total_units', 'income', 'submission_of_application',\n",
       "       'tract_population', 'ffiec_msa_md_median_family_income',\n",
       "       'tract_to_msa_income_percentage', 'tract_owner_occupied_units',\n",
       "       'tract_one_to_four_family_homes', 'tract_median_age_of_housing_units',\n",
       "       'state_code_AL', 'state_code_AR', 'state_code_AZ', 'state_code_CA',\n",
       "       'state_code_CO', 'state_code_CT', 'state_code_DC', 'state_code_DE',\n",
       "       'state_code_FL', 'state_code_GA', 'state_code_GU', 'state_code_HI',\n",
       "       'state_code_IA', 'state_code_ID', 'state_code_IL', 'state_code_IN',\n",
       "       'state_code_KS', 'state_code_KY', 'state_code_LA', 'state_code_MA',\n",
       "       'state_code_MD', 'state_code_ME', 'state_code_MI', 'state_code_MN',\n",
       "       'state_code_MO', 'state_code_MS', 'state_code_MT', 'state_code_NC',\n",
       "       'state_code_ND', 'state_code_NE', 'state_code_NH', 'state_code_NJ',\n",
       "       'state_code_NM', 'state_code_NV', 'state_code_NY', 'state_code_OH',\n",
       "       'state_code_OK', 'state_code_OR', 'state_code_PA', 'state_code_PR',\n",
       "       'state_code_RI', 'state_code_SC', 'state_code_SD', 'state_code_TN',\n",
       "       'state_code_TX', 'state_code_UT', 'state_code_VA', 'state_code_VT',\n",
       "       'state_code_WA', 'state_code_WI', 'state_code_WV', 'state_code_WY',\n",
       "       'loan_type_2', 'loan_type_3', 'loan_type_4'],\n",
       "      dtype='object')"
      ]
     },
     "execution_count": 381,
     "metadata": {},
     "output_type": "execute_result"
    }
   ],
   "source": [
    "X.columns"
   ]
  },
  {
   "cell_type": "code",
   "execution_count": 158,
   "metadata": {},
   "outputs": [],
   "source": [
    "state_list = [\n",
    "'state_code_AL',\n",
    "'state_code_AR',\n",
    "'state_code_AZ', \n",
    "'state_code_CA',\n",
    "'state_code_CO', \n",
    "'state_code_CT', \n",
    "'state_code_DC', \n",
    "'state_code_DE',\n",
    "'state_code_FL',\n",
    "'state_code_GA', \n",
    "'state_code_GU', \n",
    "'state_code_HI',\n",
    "'state_code_IA', \n",
    "'state_code_ID', \n",
    "'state_code_IL', \n",
    "'state_code_IN',\n",
    "'state_code_KS', \n",
    "'state_code_KY', \n",
    "'state_code_LA', \n",
    "'state_code_MA',\n",
    "'state_code_MD', \n",
    "'state_code_ME', \n",
    "'state_code_MI', \n",
    "'state_code_MN',\n",
    "'state_code_MO', \n",
    "'state_code_MS', \n",
    "'state_code_MT', \n",
    "'state_code_NC',\n",
    "'state_code_ND', \n",
    "'state_code_NE', \n",
    "'state_code_NH', \n",
    "'state_code_NJ',\n",
    "'state_code_NM', \n",
    "'state_code_NV', \n",
    "'state_code_NY', \n",
    "'state_code_OH',\n",
    "'state_code_OK', \n",
    "'state_code_OR', \n",
    "'state_code_PA', \n",
    "'state_code_PR',\n",
    "'state_code_RI', \n",
    "'state_code_SC', \n",
    "'state_code_SD', \n",
    "'state_code_TN',\n",
    "'state_code_TX', \n",
    "'state_code_UT', \n",
    "'state_code_VA', \n",
    "'state_code_VT',\n",
    "'state_code_WA', \n",
    "'state_code_WI', \n",
    "'state_code_WV', \n",
    "'state_code_WY',\n",
    "]"
   ]
  },
  {
   "cell_type": "code",
   "execution_count": 160,
   "metadata": {},
   "outputs": [],
   "source": [
    "state_dict = {}\n",
    "for state in state_list:\n",
    "    state_dict.update({state:[0]})"
   ]
  },
  {
   "cell_type": "code",
   "execution_count": 161,
   "metadata": {},
   "outputs": [
    {
     "data": {
      "text/plain": [
       "{'state_code_AL': [0],\n",
       " 'state_code_AR': [0],\n",
       " 'state_code_AZ': [0],\n",
       " 'state_code_CA': [0],\n",
       " 'state_code_CO': [0],\n",
       " 'state_code_CT': [0],\n",
       " 'state_code_DC': [0],\n",
       " 'state_code_DE': [0],\n",
       " 'state_code_FL': [0],\n",
       " 'state_code_GA': [0],\n",
       " 'state_code_GU': [0],\n",
       " 'state_code_HI': [0],\n",
       " 'state_code_IA': [0],\n",
       " 'state_code_ID': [0],\n",
       " 'state_code_IL': [0],\n",
       " 'state_code_IN': [0],\n",
       " 'state_code_KS': [0],\n",
       " 'state_code_KY': [0],\n",
       " 'state_code_LA': [0],\n",
       " 'state_code_MA': [0],\n",
       " 'state_code_MD': [0],\n",
       " 'state_code_ME': [0],\n",
       " 'state_code_MI': [0],\n",
       " 'state_code_MN': [0],\n",
       " 'state_code_MO': [0],\n",
       " 'state_code_MS': [0],\n",
       " 'state_code_MT': [0],\n",
       " 'state_code_NC': [0],\n",
       " 'state_code_ND': [0],\n",
       " 'state_code_NE': [0],\n",
       " 'state_code_NH': [0],\n",
       " 'state_code_NJ': [0],\n",
       " 'state_code_NM': [0],\n",
       " 'state_code_NV': [0],\n",
       " 'state_code_NY': [0],\n",
       " 'state_code_OH': [0],\n",
       " 'state_code_OK': [0],\n",
       " 'state_code_OR': [0],\n",
       " 'state_code_PA': [0],\n",
       " 'state_code_PR': [0],\n",
       " 'state_code_RI': [0],\n",
       " 'state_code_SC': [0],\n",
       " 'state_code_SD': [0],\n",
       " 'state_code_TN': [0],\n",
       " 'state_code_TX': [0],\n",
       " 'state_code_UT': [0],\n",
       " 'state_code_VA': [0],\n",
       " 'state_code_VT': [0],\n",
       " 'state_code_WA': [0],\n",
       " 'state_code_WI': [0],\n",
       " 'state_code_WV': [0],\n",
       " 'state_code_WY': [0]}"
      ]
     },
     "execution_count": 161,
     "metadata": {},
     "output_type": "execute_result"
    }
   ],
   "source": [
    "state_dict"
   ]
  },
  {
   "cell_type": "code",
   "execution_count": 382,
   "metadata": {},
   "outputs": [
    {
     "data": {
      "text/html": [
       "<div>\n",
       "<style scoped>\n",
       "    .dataframe tbody tr th:only-of-type {\n",
       "        vertical-align: middle;\n",
       "    }\n",
       "\n",
       "    .dataframe tbody tr th {\n",
       "        vertical-align: top;\n",
       "    }\n",
       "\n",
       "    .dataframe thead th {\n",
       "        text-align: right;\n",
       "    }\n",
       "</style>\n",
       "<table border=\"1\" class=\"dataframe\">\n",
       "  <thead>\n",
       "    <tr style=\"text-align: right;\">\n",
       "      <th></th>\n",
       "      <th>state_code_AL</th>\n",
       "      <th>state_code_AR</th>\n",
       "      <th>state_code_AZ</th>\n",
       "      <th>state_code_CA</th>\n",
       "      <th>state_code_CO</th>\n",
       "      <th>state_code_CT</th>\n",
       "      <th>state_code_DC</th>\n",
       "      <th>state_code_DE</th>\n",
       "      <th>state_code_FL</th>\n",
       "      <th>state_code_GA</th>\n",
       "      <th>...</th>\n",
       "      <th>state_code_SD</th>\n",
       "      <th>state_code_TN</th>\n",
       "      <th>state_code_TX</th>\n",
       "      <th>state_code_UT</th>\n",
       "      <th>state_code_VA</th>\n",
       "      <th>state_code_VT</th>\n",
       "      <th>state_code_WA</th>\n",
       "      <th>state_code_WI</th>\n",
       "      <th>state_code_WV</th>\n",
       "      <th>state_code_WY</th>\n",
       "    </tr>\n",
       "  </thead>\n",
       "  <tbody>\n",
       "    <tr>\n",
       "      <th>0</th>\n",
       "      <td>0</td>\n",
       "      <td>0</td>\n",
       "      <td>0</td>\n",
       "      <td>0</td>\n",
       "      <td>0</td>\n",
       "      <td>0</td>\n",
       "      <td>0</td>\n",
       "      <td>0</td>\n",
       "      <td>0</td>\n",
       "      <td>0</td>\n",
       "      <td>...</td>\n",
       "      <td>0</td>\n",
       "      <td>0</td>\n",
       "      <td>0</td>\n",
       "      <td>0</td>\n",
       "      <td>0</td>\n",
       "      <td>0</td>\n",
       "      <td>0</td>\n",
       "      <td>0</td>\n",
       "      <td>0</td>\n",
       "      <td>0</td>\n",
       "    </tr>\n",
       "  </tbody>\n",
       "</table>\n",
       "<p>1 rows × 52 columns</p>\n",
       "</div>"
      ],
      "text/plain": [
       "   state_code_AL  state_code_AR  state_code_AZ  state_code_CA  state_code_CO  \\\n",
       "0              0              0              0              0              0   \n",
       "\n",
       "   state_code_CT  state_code_DC  state_code_DE  state_code_FL  state_code_GA  \\\n",
       "0              0              0              0              0              0   \n",
       "\n",
       "   ...  state_code_SD  state_code_TN  state_code_TX  state_code_UT  \\\n",
       "0  ...              0              0              0              0   \n",
       "\n",
       "   state_code_VA  state_code_VT  state_code_WA  state_code_WI  state_code_WV  \\\n",
       "0              0              0              0              0              0   \n",
       "\n",
       "   state_code_WY  \n",
       "0              0  \n",
       "\n",
       "[1 rows x 52 columns]"
      ]
     },
     "execution_count": 382,
     "metadata": {},
     "output_type": "execute_result"
    }
   ],
   "source": [
    "states_df = pd.DataFrame.from_dict(state_dict)\n",
    "states_df.head()"
   ]
  },
  {
   "cell_type": "code",
   "execution_count": 163,
   "metadata": {},
   "outputs": [],
   "source": [
    "first_list = [\n",
    "'county_code',\n",
    "'census_tract',\n",
    "'preapproval',\n",
    "'loan_amount',\n",
    "'combined_loan_to_value_ratio',\n",
    "'interest_rate',\n",
    "'loan_term',\n",
    "'interest_only_payment',\n",
    "'balloon_payment',\n",
    "'property_value',\n",
    "'occupancy_type',\n",
    "'total_units',\n",
    "'income',\n",
    "'submission_of_application',\n",
    "'tract_population',\n",
    "'ffiec_msa_md_median_family_income',\n",
    "'tract_to_msa_income_percentage',\n",
    "'tract_owner_occupied_units',\n",
    "'tract_one_to_four_family_homes',\n",
    "'tract_median_age_of_housing_units'\n",
    "]"
   ]
  },
  {
   "cell_type": "code",
   "execution_count": 165,
   "metadata": {},
   "outputs": [],
   "source": [
    "first_dict = {}\n",
    "for i in first_list:\n",
    "    first_dict.update({i:[0]})"
   ]
  },
  {
   "cell_type": "code",
   "execution_count": 166,
   "metadata": {},
   "outputs": [
    {
     "data": {
      "text/plain": [
       "{'county_code': [0],\n",
       " 'census_tract': [0],\n",
       " 'preapproval': [0],\n",
       " 'loan_amount': [0],\n",
       " 'combined_loan_to_value_ratio': [0],\n",
       " 'interest_rate': [0],\n",
       " 'loan_term': [0],\n",
       " 'interest_only_payment': [0],\n",
       " 'balloon_payment': [0],\n",
       " 'property_value': [0],\n",
       " 'occupancy_type': [0],\n",
       " 'total_units': [0],\n",
       " 'income': [0],\n",
       " 'submission_of_application': [0],\n",
       " 'tract_population': [0],\n",
       " 'ffiec_msa_md_median_family_income': [0],\n",
       " 'tract_to_msa_income_percentage': [0],\n",
       " 'tract_owner_occupied_units': [0],\n",
       " 'tract_one_to_four_family_homes': [0],\n",
       " 'tract_median_age_of_housing_units': [0]}"
      ]
     },
     "execution_count": 166,
     "metadata": {},
     "output_type": "execute_result"
    }
   ],
   "source": [
    "first_dict"
   ]
  },
  {
   "cell_type": "code",
   "execution_count": 167,
   "metadata": {},
   "outputs": [],
   "source": [
    "second_dict = {\n",
    "'loan_type_2':[0], \n",
    "'loan_type_3':[0], \n",
    "'loan_type_4':[0] \n",
    "}"
   ]
  },
  {
   "cell_type": "code",
   "execution_count": 168,
   "metadata": {},
   "outputs": [],
   "source": [
    "first_dict.update(state_dict)"
   ]
  },
  {
   "cell_type": "code",
   "execution_count": 170,
   "metadata": {},
   "outputs": [],
   "source": [
    "first_dict.update(second_dict)"
   ]
  },
  {
   "cell_type": "code",
   "execution_count": 173,
   "metadata": {},
   "outputs": [
    {
     "data": {
      "text/plain": [
       "{'county_code': [0],\n",
       " 'census_tract': [0],\n",
       " 'preapproval': [0],\n",
       " 'loan_amount': [0],\n",
       " 'combined_loan_to_value_ratio': [0],\n",
       " 'interest_rate': [0],\n",
       " 'loan_term': [0],\n",
       " 'interest_only_payment': [0],\n",
       " 'balloon_payment': [0],\n",
       " 'property_value': [0],\n",
       " 'occupancy_type': [0],\n",
       " 'total_units': [0],\n",
       " 'income': [0],\n",
       " 'submission_of_application': [0],\n",
       " 'tract_population': [0],\n",
       " 'ffiec_msa_md_median_family_income': [0],\n",
       " 'tract_to_msa_income_percentage': [0],\n",
       " 'tract_owner_occupied_units': [0],\n",
       " 'tract_one_to_four_family_homes': [0],\n",
       " 'tract_median_age_of_housing_units': [0],\n",
       " 'state_code_AL': [0],\n",
       " 'state_code_AR': [0],\n",
       " 'state_code_AZ': [0],\n",
       " 'state_code_CA': [0],\n",
       " 'state_code_CO': [0],\n",
       " 'state_code_CT': [0],\n",
       " 'state_code_DC': [0],\n",
       " 'state_code_DE': [0],\n",
       " 'state_code_FL': [0],\n",
       " 'state_code_GA': [0],\n",
       " 'state_code_GU': [0],\n",
       " 'state_code_HI': [0],\n",
       " 'state_code_IA': [0],\n",
       " 'state_code_ID': [0],\n",
       " 'state_code_IL': [0],\n",
       " 'state_code_IN': [0],\n",
       " 'state_code_KS': [0],\n",
       " 'state_code_KY': [0],\n",
       " 'state_code_LA': [0],\n",
       " 'state_code_MA': [0],\n",
       " 'state_code_MD': [0],\n",
       " 'state_code_ME': [0],\n",
       " 'state_code_MI': [0],\n",
       " 'state_code_MN': [0],\n",
       " 'state_code_MO': [0],\n",
       " 'state_code_MS': [0],\n",
       " 'state_code_MT': [0],\n",
       " 'state_code_NC': [0],\n",
       " 'state_code_ND': [0],\n",
       " 'state_code_NE': [0],\n",
       " 'state_code_NH': [0],\n",
       " 'state_code_NJ': [0],\n",
       " 'state_code_NM': [0],\n",
       " 'state_code_NV': [0],\n",
       " 'state_code_NY': [0],\n",
       " 'state_code_OH': [0],\n",
       " 'state_code_OK': [0],\n",
       " 'state_code_OR': [0],\n",
       " 'state_code_PA': [0],\n",
       " 'state_code_PR': [0],\n",
       " 'state_code_RI': [0],\n",
       " 'state_code_SC': [0],\n",
       " 'state_code_SD': [0],\n",
       " 'state_code_TN': [0],\n",
       " 'state_code_TX': [0],\n",
       " 'state_code_UT': [0],\n",
       " 'state_code_VA': [0],\n",
       " 'state_code_VT': [0],\n",
       " 'state_code_WA': [0],\n",
       " 'state_code_WI': [0],\n",
       " 'state_code_WV': [0],\n",
       " 'state_code_WY': [0],\n",
       " 'loan_type_2': [0],\n",
       " 'loan_type_3': [0],\n",
       " 'loan_type_4': [0]}"
      ]
     },
     "execution_count": 173,
     "metadata": {},
     "output_type": "execute_result"
    }
   ],
   "source": [
    "first_dict"
   ]
  },
  {
   "cell_type": "code",
   "execution_count": 383,
   "metadata": {},
   "outputs": [
    {
     "data": {
      "text/html": [
       "<div>\n",
       "<style scoped>\n",
       "    .dataframe tbody tr th:only-of-type {\n",
       "        vertical-align: middle;\n",
       "    }\n",
       "\n",
       "    .dataframe tbody tr th {\n",
       "        vertical-align: top;\n",
       "    }\n",
       "\n",
       "    .dataframe thead th {\n",
       "        text-align: right;\n",
       "    }\n",
       "</style>\n",
       "<table border=\"1\" class=\"dataframe\">\n",
       "  <thead>\n",
       "    <tr style=\"text-align: right;\">\n",
       "      <th></th>\n",
       "      <th>county_code</th>\n",
       "      <th>census_tract</th>\n",
       "      <th>preapproval</th>\n",
       "      <th>loan_amount</th>\n",
       "      <th>combined_loan_to_value_ratio</th>\n",
       "      <th>interest_rate</th>\n",
       "      <th>loan_term</th>\n",
       "      <th>interest_only_payment</th>\n",
       "      <th>balloon_payment</th>\n",
       "      <th>property_value</th>\n",
       "      <th>...</th>\n",
       "      <th>state_code_UT</th>\n",
       "      <th>state_code_VA</th>\n",
       "      <th>state_code_VT</th>\n",
       "      <th>state_code_WA</th>\n",
       "      <th>state_code_WI</th>\n",
       "      <th>state_code_WV</th>\n",
       "      <th>state_code_WY</th>\n",
       "      <th>loan_type_2</th>\n",
       "      <th>loan_type_3</th>\n",
       "      <th>loan_type_4</th>\n",
       "    </tr>\n",
       "  </thead>\n",
       "  <tbody>\n",
       "    <tr>\n",
       "      <th>0</th>\n",
       "      <td>0</td>\n",
       "      <td>0</td>\n",
       "      <td>0</td>\n",
       "      <td>0</td>\n",
       "      <td>0</td>\n",
       "      <td>0</td>\n",
       "      <td>0</td>\n",
       "      <td>0</td>\n",
       "      <td>0</td>\n",
       "      <td>0</td>\n",
       "      <td>...</td>\n",
       "      <td>0</td>\n",
       "      <td>0</td>\n",
       "      <td>0</td>\n",
       "      <td>0</td>\n",
       "      <td>0</td>\n",
       "      <td>0</td>\n",
       "      <td>0</td>\n",
       "      <td>0</td>\n",
       "      <td>0</td>\n",
       "      <td>0</td>\n",
       "    </tr>\n",
       "  </tbody>\n",
       "</table>\n",
       "<p>1 rows × 75 columns</p>\n",
       "</div>"
      ],
      "text/plain": [
       "   county_code  census_tract  preapproval  loan_amount  \\\n",
       "0            0             0            0            0   \n",
       "\n",
       "   combined_loan_to_value_ratio  interest_rate  loan_term  \\\n",
       "0                             0              0          0   \n",
       "\n",
       "   interest_only_payment  balloon_payment  property_value  ...  state_code_UT  \\\n",
       "0                      0                0               0  ...              0   \n",
       "\n",
       "   state_code_VA  state_code_VT  state_code_WA  state_code_WI  state_code_WV  \\\n",
       "0              0              0              0              0              0   \n",
       "\n",
       "   state_code_WY  loan_type_2  loan_type_3  loan_type_4  \n",
       "0              0            0            0            0  \n",
       "\n",
       "[1 rows x 75 columns]"
      ]
     },
     "execution_count": 383,
     "metadata": {},
     "output_type": "execute_result"
    }
   ],
   "source": [
    "user_df = pd.DataFrame.from_dict(first_dict)\n",
    "user_df.head()"
   ]
  },
  {
   "cell_type": "code",
   "execution_count": null,
   "metadata": {},
   "outputs": [],
   "source": [
    "#columbus = results(138_750,46_250,'1391','Mount','Ave','Columbus','OH')"
   ]
  },
  {
   "cell_type": "code",
   "execution_count": 384,
   "metadata": {},
   "outputs": [
    {
     "data": {
      "text/plain": [
       "Index(['fips', 'depth', 'frontage', 'lotsize1', 'lotsize2', 'pooltype',\n",
       "       'countrysecsubd', 'countyuse1', 'muncode', 'munname', 'subdname',\n",
       "       'subdtractnum', 'taxcodearea', 'country', 'countrySubd', 'line1',\n",
       "       'line2', 'locality', 'matchCode', 'oneLine', 'postal1', 'postal2',\n",
       "       'postal3', 'accuracy', 'elevation', 'latitude', 'longitude', 'distance',\n",
       "       'geoid', 'absenteeInd', 'propclass', 'propsubtype', 'proptype',\n",
       "       'yearbuilt', 'propLandUse', 'propIndicator', 'legal1', 'energyType',\n",
       "       'lastModified', 'pubDate', 'bldgsize', 'grosssize', 'grosssizeadjusted',\n",
       "       'groundfloorsize', 'livingsize', 'sizeInd', 'universalsize',\n",
       "       'bathfixtures', 'baths1qtr', 'baths3qtr', 'bathscalc', 'bathsfull',\n",
       "       'bathshalf', 'bathstotal', 'beds', 'roomsTotal', 'bsmtsize',\n",
       "       'fplccount', 'condition', 'foundationtype', 'wallType', 'prkgSize',\n",
       "       'archStyle', 'bldgsNum', 'bldgType', 'imprType', 'levels',\n",
       "       'mobileHomeInd', 'storyDesc', 'unitsCount', 'yearbuilteffective', 'scr',\n",
       "       'value', 'high', 'low', 'valueRange', 'avmpoorlow', 'avmpoorhigh',\n",
       "       'avmpoorscore', 'avmgoodlow', 'avmgoodhigh', 'avmgoodscore',\n",
       "       'avmexcellentlow', 'avmexcellenthigh', 'avmexcellentscore', 'taxamt',\n",
       "       'taxpersizeunit', 'taxyear'],\n",
       "      dtype='object')"
      ]
     },
     "execution_count": 384,
     "metadata": {},
     "output_type": "execute_result"
    }
   ],
   "source": [
    "columbus.columns"
   ]
  },
  {
   "cell_type": "code",
   "execution_count": 286,
   "metadata": {},
   "outputs": [
    {
     "data": {
      "text/html": [
       "<div>\n",
       "<style scoped>\n",
       "    .dataframe tbody tr th:only-of-type {\n",
       "        vertical-align: middle;\n",
       "    }\n",
       "\n",
       "    .dataframe tbody tr th {\n",
       "        vertical-align: top;\n",
       "    }\n",
       "\n",
       "    .dataframe thead th {\n",
       "        text-align: right;\n",
       "    }\n",
       "</style>\n",
       "<table border=\"1\" class=\"dataframe\">\n",
       "  <thead>\n",
       "    <tr style=\"text-align: right;\">\n",
       "      <th></th>\n",
       "      <th>countrysecsubd</th>\n",
       "      <th>countyuse1</th>\n",
       "      <th>muncode</th>\n",
       "      <th>munname</th>\n",
       "      <th>subdname</th>\n",
       "      <th>subdtractnum</th>\n",
       "      <th>taxcodearea</th>\n",
       "      <th>country</th>\n",
       "      <th>countrySubd</th>\n",
       "      <th>line1</th>\n",
       "      <th>line2</th>\n",
       "      <th>locality</th>\n",
       "      <th>matchCode</th>\n",
       "      <th>oneLine</th>\n",
       "      <th>postal1</th>\n",
       "      <th>postal2</th>\n",
       "      <th>postal3</th>\n",
       "    </tr>\n",
       "  </thead>\n",
       "  <tbody>\n",
       "    <tr>\n",
       "      <th>0</th>\n",
       "      <td>Franklin County</td>\n",
       "      <td>625</td>\n",
       "      <td>FR</td>\n",
       "      <td>FRANKLIN</td>\n",
       "      <td>BENJAMIN MONETTS MOUNT VERNON</td>\n",
       "      <td>0</td>\n",
       "      <td>10</td>\n",
       "      <td>US</td>\n",
       "      <td>OH</td>\n",
       "      <td>1391 MOUNT VERNON AVE</td>\n",
       "      <td>COLUMBUS, OH 43203</td>\n",
       "      <td>Columbus</td>\n",
       "      <td>ExaStr</td>\n",
       "      <td>1391 MOUNT VERNON AVE, COLUMBUS, OH 43203</td>\n",
       "      <td>43203</td>\n",
       "      <td>1612</td>\n",
       "      <td>C009</td>\n",
       "    </tr>\n",
       "  </tbody>\n",
       "</table>\n",
       "</div>"
      ],
      "text/plain": [
       "    countrysecsubd countyuse1 muncode   munname  \\\n",
       "0  Franklin County        625      FR  FRANKLIN   \n",
       "\n",
       "                        subdname subdtractnum taxcodearea country countrySubd  \\\n",
       "0  BENJAMIN MONETTS MOUNT VERNON            0          10      US          OH   \n",
       "\n",
       "                   line1               line2  locality matchCode  \\\n",
       "0  1391 MOUNT VERNON AVE  COLUMBUS, OH 43203  Columbus    ExaStr   \n",
       "\n",
       "                                     oneLine postal1 postal2 postal3  \n",
       "0  1391 MOUNT VERNON AVE, COLUMBUS, OH 43203   43203    1612    C009  "
      ]
     },
     "execution_count": 286,
     "metadata": {},
     "output_type": "execute_result"
    }
   ],
   "source": [
    "columbus[['countrysecsubd', 'countyuse1', 'muncode', 'munname', 'subdname',\n",
    "       'subdtractnum', 'taxcodearea', 'country', 'countrySubd', 'line1',\n",
    "       'line2', 'locality', 'matchCode', 'oneLine', 'postal1', 'postal2',\n",
    "       'postal3']]"
   ]
  },
  {
   "cell_type": "code",
   "execution_count": 392,
   "metadata": {},
   "outputs": [
    {
     "data": {
      "text/html": [
       "<div>\n",
       "<style scoped>\n",
       "    .dataframe tbody tr th:only-of-type {\n",
       "        vertical-align: middle;\n",
       "    }\n",
       "\n",
       "    .dataframe tbody tr th {\n",
       "        vertical-align: top;\n",
       "    }\n",
       "\n",
       "    .dataframe thead th {\n",
       "        text-align: right;\n",
       "    }\n",
       "</style>\n",
       "<table border=\"1\" class=\"dataframe\">\n",
       "  <thead>\n",
       "    <tr style=\"text-align: right;\">\n",
       "      <th></th>\n",
       "      <th>county_code</th>\n",
       "      <th>census_tract</th>\n",
       "      <th>tract_population</th>\n",
       "      <th>ffiec_msa_md_median_family_income</th>\n",
       "      <th>tract_to_msa_income_percentage</th>\n",
       "      <th>tract_owner_occupied_units</th>\n",
       "      <th>tract_one_to_four_family_homes</th>\n",
       "      <th>tract_median_age_of_housing_units</th>\n",
       "    </tr>\n",
       "  </thead>\n",
       "  <tbody>\n",
       "    <tr>\n",
       "      <th>430321</th>\n",
       "      <td>08059</td>\n",
       "      <td>8.059011e+09</td>\n",
       "      <td>4410</td>\n",
       "      <td>89900</td>\n",
       "      <td>103</td>\n",
       "      <td>1320</td>\n",
       "      <td>1891</td>\n",
       "      <td>45</td>\n",
       "    </tr>\n",
       "  </tbody>\n",
       "</table>\n",
       "</div>"
      ],
      "text/plain": [
       "       county_code  census_tract  tract_population  \\\n",
       "430321       08059  8.059011e+09              4410   \n",
       "\n",
       "        ffiec_msa_md_median_family_income  tract_to_msa_income_percentage  \\\n",
       "430321                              89900                             103   \n",
       "\n",
       "        tract_owner_occupied_units  tract_one_to_four_family_homes  \\\n",
       "430321                        1320                            1891   \n",
       "\n",
       "        tract_median_age_of_housing_units  \n",
       "430321                                 45  "
      ]
     },
     "execution_count": 392,
     "metadata": {},
     "output_type": "execute_result"
    }
   ],
   "source": [
    "mask = fips['county_code'] == '08059'\n",
    "fips[mask]"
   ]
  },
  {
   "cell_type": "code",
   "execution_count": 397,
   "metadata": {},
   "outputs": [],
   "source": [
    "def apply_census(fips_num, user_df):\n",
    "    mask = fips['county_code'] == fips_num\n",
    "    df = fips[mask]\n",
    "    user_df['county_code'] = fips_num\n",
    "    user_df['census_tract'] = int(df['census_tract'])\n",
    "    user_df['tract_population'] = int(df['tract_population'])\n",
    "    user_df['ffiec_msa_md_median_family_income'] = float(df['ffiec_msa_md_median_family_income'])\n",
    "    user_df['tract_to_msa_income_percentage'] = float(df['tract_to_msa_income_percentage'])\n",
    "    user_df['tract_owner_occupied_units'] = float(df['tract_owner_occupied_units'])\n",
    "    user_df['tract_one_to_four_family_homes'] = float(df['tract_one_to_four_family_homes'])\n",
    "    user_df['tract_median_age_of_housing_units'] = float(df['tract_median_age_of_housing_units'])\n",
    "    return user_df"
   ]
  },
  {
   "cell_type": "code",
   "execution_count": 401,
   "metadata": {},
   "outputs": [],
   "source": [
    "# try on api address\n",
    "user_df = apply_census(columbus['fips'].loc[0], user_df)"
   ]
  },
  {
   "cell_type": "code",
   "execution_count": 398,
   "metadata": {},
   "outputs": [],
   "source": [
    "# try on county with a floating zero\n",
    "user_df = apply_census('08059', user_df)"
   ]
  },
  {
   "cell_type": "code",
   "execution_count": 402,
   "metadata": {
    "scrolled": true
   },
   "outputs": [
    {
     "data": {
      "text/plain": [
       "county_code                           39049\n",
       "census_tract                    39049006721\n",
       "preapproval                               0\n",
       "loan_amount                               0\n",
       "combined_loan_to_value_ratio              0\n",
       "                                   ...     \n",
       "state_code_WV                             0\n",
       "state_code_WY                             0\n",
       "loan_type_2                               0\n",
       "loan_type_3                               0\n",
       "loan_type_4                               0\n",
       "Name: 0, Length: 75, dtype: object"
      ]
     },
     "execution_count": 402,
     "metadata": {},
     "output_type": "execute_result"
    }
   ],
   "source": [
    "user_df.loc[0]"
   ]
  },
  {
   "cell_type": "code",
   "execution_count": 403,
   "metadata": {},
   "outputs": [
    {
     "data": {
      "text/html": [
       "<div>\n",
       "<style scoped>\n",
       "    .dataframe tbody tr th:only-of-type {\n",
       "        vertical-align: middle;\n",
       "    }\n",
       "\n",
       "    .dataframe tbody tr th {\n",
       "        vertical-align: top;\n",
       "    }\n",
       "\n",
       "    .dataframe thead th {\n",
       "        text-align: right;\n",
       "    }\n",
       "</style>\n",
       "<table border=\"1\" class=\"dataframe\">\n",
       "  <thead>\n",
       "    <tr style=\"text-align: right;\">\n",
       "      <th></th>\n",
       "      <th>county_code</th>\n",
       "      <th>census_tract</th>\n",
       "      <th>tract_population</th>\n",
       "      <th>ffiec_msa_md_median_family_income</th>\n",
       "      <th>tract_to_msa_income_percentage</th>\n",
       "      <th>tract_owner_occupied_units</th>\n",
       "      <th>tract_one_to_four_family_homes</th>\n",
       "      <th>tract_median_age_of_housing_units</th>\n",
       "    </tr>\n",
       "  </thead>\n",
       "  <tbody>\n",
       "    <tr>\n",
       "      <th>0</th>\n",
       "      <td>39049</td>\n",
       "      <td>39049006721</td>\n",
       "      <td>3340</td>\n",
       "      <td>76000.0</td>\n",
       "      <td>197.0</td>\n",
       "      <td>1233.0</td>\n",
       "      <td>1295.0</td>\n",
       "      <td>48.0</td>\n",
       "    </tr>\n",
       "  </tbody>\n",
       "</table>\n",
       "</div>"
      ],
      "text/plain": [
       "  county_code  census_tract  tract_population  \\\n",
       "0       39049   39049006721              3340   \n",
       "\n",
       "   ffiec_msa_md_median_family_income  tract_to_msa_income_percentage  \\\n",
       "0                            76000.0                           197.0   \n",
       "\n",
       "   tract_owner_occupied_units  tract_one_to_four_family_homes  \\\n",
       "0                      1233.0                          1295.0   \n",
       "\n",
       "   tract_median_age_of_housing_units  \n",
       "0                               48.0  "
      ]
     },
     "execution_count": 403,
     "metadata": {},
     "output_type": "execute_result"
    }
   ],
   "source": [
    "user_df[['county_code', 'census_tract', 'tract_population',\n",
    "       'ffiec_msa_md_median_family_income', 'tract_to_msa_income_percentage',\n",
    "       'tract_owner_occupied_units', 'tract_one_to_four_family_homes',\n",
    "       'tract_median_age_of_housing_units']]"
   ]
  },
  {
   "cell_type": "code",
   "execution_count": 404,
   "metadata": {},
   "outputs": [],
   "source": [
    "def add_units(property_df, user_df):\n",
    "    user_df['total_units'] = int(property_df['unitsCount'])\n",
    "    return user_df"
   ]
  },
  {
   "cell_type": "code",
   "execution_count": 405,
   "metadata": {},
   "outputs": [],
   "source": [
    "user_df = add_units(columbus, user_df)"
   ]
  },
  {
   "cell_type": "code",
   "execution_count": 406,
   "metadata": {},
   "outputs": [
    {
     "data": {
      "text/plain": [
       "0    1\n",
       "Name: total_units, dtype: int64"
      ]
     },
     "execution_count": 406,
     "metadata": {},
     "output_type": "execute_result"
    }
   ],
   "source": [
    "user_df['total_units']"
   ]
  },
  {
   "cell_type": "code",
   "execution_count": 407,
   "metadata": {},
   "outputs": [
    {
     "data": {
      "text/plain": [
       "'OH'"
      ]
     },
     "execution_count": 407,
     "metadata": {},
     "output_type": "execute_result"
    }
   ],
   "source": [
    "columbus['countrySubd'].loc[0]"
   ]
  },
  {
   "cell_type": "code",
   "execution_count": 408,
   "metadata": {},
   "outputs": [],
   "source": [
    "def add_state(property_df, user_df):\n",
    "    column = 'state_code_' + property_df['countrySubd'].loc[0]\n",
    "    user_df[column] = 1\n",
    "    return user_df"
   ]
  },
  {
   "cell_type": "code",
   "execution_count": 409,
   "metadata": {},
   "outputs": [],
   "source": [
    "user_df = add_state(columbus, user_df)"
   ]
  },
  {
   "cell_type": "code",
   "execution_count": 410,
   "metadata": {},
   "outputs": [
    {
     "data": {
      "text/plain": [
       "0    1\n",
       "Name: state_code_OH, dtype: int64"
      ]
     },
     "execution_count": 410,
     "metadata": {},
     "output_type": "execute_result"
    }
   ],
   "source": [
    "user_df['state_code_OH']"
   ]
  },
  {
   "cell_type": "code",
   "execution_count": 411,
   "metadata": {
    "scrolled": false
   },
   "outputs": [
    {
     "data": {
      "text/plain": [
       "Index(['county_code', 'census_tract', 'preapproval', 'loan_amount',\n",
       "       'combined_loan_to_value_ratio', 'interest_rate', 'loan_term',\n",
       "       'interest_only_payment', 'balloon_payment', 'property_value',\n",
       "       'occupancy_type', 'total_units', 'income', 'submission_of_application',\n",
       "       'tract_population', 'ffiec_msa_md_median_family_income',\n",
       "       'tract_to_msa_income_percentage', 'tract_owner_occupied_units',\n",
       "       'tract_one_to_four_family_homes', 'tract_median_age_of_housing_units',\n",
       "       'state_code_AL', 'state_code_AR', 'state_code_AZ', 'state_code_CA',\n",
       "       'state_code_CO', 'state_code_CT', 'state_code_DC', 'state_code_DE',\n",
       "       'state_code_FL', 'state_code_GA', 'state_code_GU', 'state_code_HI',\n",
       "       'state_code_IA', 'state_code_ID', 'state_code_IL', 'state_code_IN',\n",
       "       'state_code_KS', 'state_code_KY', 'state_code_LA', 'state_code_MA',\n",
       "       'state_code_MD', 'state_code_ME', 'state_code_MI', 'state_code_MN',\n",
       "       'state_code_MO', 'state_code_MS', 'state_code_MT', 'state_code_NC',\n",
       "       'state_code_ND', 'state_code_NE', 'state_code_NH', 'state_code_NJ',\n",
       "       'state_code_NM', 'state_code_NV', 'state_code_NY', 'state_code_OH',\n",
       "       'state_code_OK', 'state_code_OR', 'state_code_PA', 'state_code_PR',\n",
       "       'state_code_RI', 'state_code_SC', 'state_code_SD', 'state_code_TN',\n",
       "       'state_code_TX', 'state_code_UT', 'state_code_VA', 'state_code_VT',\n",
       "       'state_code_WA', 'state_code_WI', 'state_code_WV', 'state_code_WY',\n",
       "       'loan_type_2', 'loan_type_3', 'loan_type_4'],\n",
       "      dtype='object')"
      ]
     },
     "execution_count": 411,
     "metadata": {},
     "output_type": "execute_result"
    }
   ],
   "source": [
    "user_df.columns"
   ]
  },
  {
   "cell_type": "markdown",
   "metadata": {},
   "source": [
    "Conv = 1\n",
    "FHA = 2\n",
    "VA = 3\n",
    "FSA/RHS = 4"
   ]
  },
  {
   "cell_type": "code",
   "execution_count": 412,
   "metadata": {
    "scrolled": true
   },
   "outputs": [
    {
     "data": {
      "text/plain": [
       "0          0\n",
       "1          0\n",
       "2          0\n",
       "3          0\n",
       "4          0\n",
       "          ..\n",
       "2671681    0\n",
       "2671682    0\n",
       "2671683    1\n",
       "2671684    0\n",
       "2671685    0\n",
       "Name: submission_of_application, Length: 2671686, dtype: int64"
      ]
     },
     "execution_count": 412,
     "metadata": {},
     "output_type": "execute_result"
    }
   ],
   "source": [
    "data['submission_of_application']"
   ]
  },
  {
   "cell_type": "code",
   "execution_count": 416,
   "metadata": {},
   "outputs": [],
   "source": [
    "def user_inputs(user_df):\n",
    "    price = float(input('Property price?'))\n",
    "    preapproval = input('Are you preapproved? (0=NO, 1=YES)')\n",
    "    downpayment_perc = float(input('Downpayment percent: (.25)'))\n",
    "    interest_rate = float(input('Interest Rate (4.5)')) \n",
    "    loan_term = int(input('Loan term in months?'))\n",
    "    interest_only_payment = input('Interest only? (1=NO, 0=YES)')\n",
    "    loan = int(input('Enter loan type (1 = Conv, 2 = FHA, 3 = VA, 4 = FSA/RHS)'))\n",
    "    balloon_payment = input('Balloon payment(1=NO, 0=YES)')\n",
    "    occupancy_type = input('Will this property be your primary residence? (1=YES, 0=NO)')\n",
    "    income = int(input('Enter your annual income'))\n",
    "    submission_of_application = input('Are you working directly with a bank? (1=NO, 0=YES)')\n",
    "                 \n",
    "    loan_amount = price * (1-downpayment_perc)\n",
    "    combined_loan_to_value_ratio = loan_amount / price\n",
    "    income = income/1000\n",
    "                 \n",
    "    user_df['preapproval'] = int(preapproval)\n",
    "    user_df['loan_amount'] = loan_amount\n",
    "    user_df['combined_loan_to_value_ratio'] = combined_loan_to_value_ratio   \n",
    "    user_df['interest_rate'] = interest_rate\n",
    "    user_df['loan_term'] = int(loan_term) \n",
    "    user_df['interest_only_payment'] = int(interest_only_payment) \n",
    "    user_df['balloon_payment'] = int(balloon_payment)\n",
    "    user_df['property_value'] = int(price)\n",
    "    user_df['occupancy_type'] = int(occupancy_type)\n",
    "    user_df['income'] = int(income)             \n",
    "    user_df['submission_of_application'] = int(submission_of_application)   \n",
    "    \n",
    "    if loan == 2:\n",
    "        user_df['loan_type_2'] = 1\n",
    "    elif loan == 3:\n",
    "        user_df['loan_type_3'] = 1\n",
    "    elif loan == 4:\n",
    "        user_df['loan_type_4'] = 1\n",
    "    return user_df\n",
    "\n",
    "# def add_user(user):\n",
    "#     return user_df.append(user, ignore_index=True)"
   ]
  },
  {
   "cell_type": "code",
   "execution_count": 417,
   "metadata": {},
   "outputs": [
    {
     "name": "stdout",
     "output_type": "stream",
     "text": [
      "Property price?200000\n",
      "Are you preapproved? (0=NO, 1=YES)1\n",
      "Downpayment percent: (.25).35\n",
      "Interest Rate (4.5)4\n",
      "Loan term in months?360\n",
      "Interest only? (1=NO, 0=YES)1\n",
      "Enter loan type (1 = Conv, 2 = FHA, 3 = VA, 4 = FSA/RHS)1\n",
      "Balloon payment(1=NO, 0=YES)1\n",
      "Will this property be your primary residence? (1=YES, 0=NO)1\n",
      "Enter your annual income100000\n",
      "Are you working directly with a bank? (1=NO, 0=YES)1\n"
     ]
    }
   ],
   "source": [
    "user_df = user_inputs(user_df)"
   ]
  },
  {
   "cell_type": "code",
   "execution_count": 418,
   "metadata": {},
   "outputs": [
    {
     "data": {
      "text/plain": [
       "county_code                      object\n",
       "census_tract                      int64\n",
       "preapproval                       int64\n",
       "loan_amount                     float64\n",
       "combined_loan_to_value_ratio    float64\n",
       "interest_rate                   float64\n",
       "loan_term                         int64\n",
       "interest_only_payment             int64\n",
       "balloon_payment                   int64\n",
       "property_value                    int64\n",
       "occupancy_type                    int64\n",
       "total_units                       int64\n",
       "income                            int64\n",
       "submission_of_application         int64\n",
       "dtype: object"
      ]
     },
     "execution_count": 418,
     "metadata": {},
     "output_type": "execute_result"
    }
   ],
   "source": [
    "user_df[['county_code', 'census_tract', 'preapproval', 'loan_amount',\n",
    "       'combined_loan_to_value_ratio', 'interest_rate', 'loan_term',\n",
    "       'interest_only_payment', 'balloon_payment', 'property_value',\n",
    "       'occupancy_type', 'total_units', 'income', 'submission_of_application']].dtypes"
   ]
  },
  {
   "cell_type": "code",
   "execution_count": 419,
   "metadata": {},
   "outputs": [
    {
     "data": {
      "text/html": [
       "<div>\n",
       "<style scoped>\n",
       "    .dataframe tbody tr th:only-of-type {\n",
       "        vertical-align: middle;\n",
       "    }\n",
       "\n",
       "    .dataframe tbody tr th {\n",
       "        vertical-align: top;\n",
       "    }\n",
       "\n",
       "    .dataframe thead th {\n",
       "        text-align: right;\n",
       "    }\n",
       "</style>\n",
       "<table border=\"1\" class=\"dataframe\">\n",
       "  <thead>\n",
       "    <tr style=\"text-align: right;\">\n",
       "      <th></th>\n",
       "      <th>county_code</th>\n",
       "      <th>census_tract</th>\n",
       "      <th>preapproval</th>\n",
       "      <th>loan_amount</th>\n",
       "      <th>combined_loan_to_value_ratio</th>\n",
       "      <th>interest_rate</th>\n",
       "      <th>loan_term</th>\n",
       "      <th>interest_only_payment</th>\n",
       "      <th>balloon_payment</th>\n",
       "      <th>property_value</th>\n",
       "      <th>occupancy_type</th>\n",
       "      <th>total_units</th>\n",
       "      <th>income</th>\n",
       "      <th>submission_of_application</th>\n",
       "      <th>loan_type_2</th>\n",
       "      <th>loan_type_3</th>\n",
       "      <th>loan_type_4</th>\n",
       "    </tr>\n",
       "  </thead>\n",
       "  <tbody>\n",
       "    <tr>\n",
       "      <th>0</th>\n",
       "      <td>39049</td>\n",
       "      <td>39049006721</td>\n",
       "      <td>1</td>\n",
       "      <td>130000.0</td>\n",
       "      <td>0.65</td>\n",
       "      <td>4.0</td>\n",
       "      <td>360</td>\n",
       "      <td>1</td>\n",
       "      <td>1</td>\n",
       "      <td>200000</td>\n",
       "      <td>1</td>\n",
       "      <td>1</td>\n",
       "      <td>100</td>\n",
       "      <td>1</td>\n",
       "      <td>0</td>\n",
       "      <td>0</td>\n",
       "      <td>0</td>\n",
       "    </tr>\n",
       "  </tbody>\n",
       "</table>\n",
       "</div>"
      ],
      "text/plain": [
       "  county_code  census_tract  preapproval  loan_amount  \\\n",
       "0       39049   39049006721            1     130000.0   \n",
       "\n",
       "   combined_loan_to_value_ratio  interest_rate  loan_term  \\\n",
       "0                          0.65            4.0        360   \n",
       "\n",
       "   interest_only_payment  balloon_payment  property_value  occupancy_type  \\\n",
       "0                      1                1          200000               1   \n",
       "\n",
       "   total_units  income  submission_of_application  loan_type_2  loan_type_3  \\\n",
       "0            1     100                          1            0            0   \n",
       "\n",
       "   loan_type_4  \n",
       "0            0  "
      ]
     },
     "execution_count": 419,
     "metadata": {},
     "output_type": "execute_result"
    }
   ],
   "source": [
    "user_df[['county_code', 'census_tract', 'preapproval', 'loan_amount',\n",
    "       'combined_loan_to_value_ratio', 'interest_rate', 'loan_term',\n",
    "       'interest_only_payment', 'balloon_payment', 'property_value',\n",
    "       'occupancy_type', 'total_units', 'income', 'submission_of_application',\n",
    "        'loan_type_2', 'loan_type_3', 'loan_type_4']]"
   ]
  },
  {
   "cell_type": "code",
   "execution_count": 420,
   "metadata": {},
   "outputs": [
    {
     "data": {
      "text/plain": [
       "0"
      ]
     },
     "execution_count": 420,
     "metadata": {},
     "output_type": "execute_result"
    }
   ],
   "source": [
    "user_df.isnull().sum().sum()"
   ]
  },
  {
   "cell_type": "code",
   "execution_count": 421,
   "metadata": {},
   "outputs": [
    {
     "data": {
      "text/plain": [
       "Index(['lei', 'county_code', 'census_tract', 'preapproval', 'loan_amount',\n",
       "       'combined_loan_to_value_ratio', 'interest_rate', 'loan_term',\n",
       "       'interest_only_payment', 'balloon_payment', 'property_value',\n",
       "       'occupancy_type', 'total_units', 'income', 'debt_to_income_ratio',\n",
       "       'submission_of_application', 'denial_reason_1', 'tract_population',\n",
       "       'ffiec_msa_md_median_family_income', 'tract_to_msa_income_percentage',\n",
       "       'tract_owner_occupied_units', 'tract_one_to_four_family_homes',\n",
       "       'tract_median_age_of_housing_units', 'state_code_AL', 'state_code_AR',\n",
       "       'state_code_AZ', 'state_code_CA', 'state_code_CO', 'state_code_CT',\n",
       "       'state_code_DC', 'state_code_DE', 'state_code_FL', 'state_code_GA',\n",
       "       'state_code_GU', 'state_code_HI', 'state_code_IA', 'state_code_ID',\n",
       "       'state_code_IL', 'state_code_IN', 'state_code_KS', 'state_code_KY',\n",
       "       'state_code_LA', 'state_code_MA', 'state_code_MD', 'state_code_ME',\n",
       "       'state_code_MI', 'state_code_MN', 'state_code_MO', 'state_code_MS',\n",
       "       'state_code_MT', 'state_code_NC', 'state_code_ND', 'state_code_NE',\n",
       "       'state_code_NH', 'state_code_NJ', 'state_code_NM', 'state_code_NV',\n",
       "       'state_code_NY', 'state_code_OH', 'state_code_OK', 'state_code_OR',\n",
       "       'state_code_PA', 'state_code_PR', 'state_code_RI', 'state_code_SC',\n",
       "       'state_code_SD', 'state_code_TN', 'state_code_TX', 'state_code_UT',\n",
       "       'state_code_VA', 'state_code_VT', 'state_code_WA', 'state_code_WI',\n",
       "       'state_code_WV', 'state_code_WY', 'loan_type_2', 'loan_type_3',\n",
       "       'loan_type_4'],\n",
       "      dtype='object')"
      ]
     },
     "execution_count": 421,
     "metadata": {},
     "output_type": "execute_result"
    }
   ],
   "source": [
    "data.columns"
   ]
  },
  {
   "cell_type": "code",
   "execution_count": 424,
   "metadata": {},
   "outputs": [],
   "source": [
    "#scale user data\n",
    "ss = StandardScaler()\n",
    "# data to train scaler \n",
    "X = data.drop(columns=['lei','debt_to_income_ratio','denial_reason_1','county_code'])\n",
    "ss.fit(X)\n",
    "user_scaled = ss.transform(user_df.drop(columns=['county_code']))"
   ]
  },
  {
   "cell_type": "code",
   "execution_count": 425,
   "metadata": {},
   "outputs": [
    {
     "data": {
      "text/plain": [
       "array([[ 6.94656256e-01,  2.66005552e-01, -6.00806531e-01,\n",
       "        -5.86830517e+00, -1.36699726e+00,  2.35220897e-01,\n",
       "         1.26023268e-01,  6.59731374e-02, -6.29334860e-02,\n",
       "         2.78941952e-01,  7.26439291e+00, -1.40324895e-02,\n",
       "         2.36497547e+00, -7.44565769e-01,  6.50025237e-02,\n",
       "         1.96972349e+00, -2.88615703e-01, -6.49823208e-01,\n",
       "         7.22713388e-01, -1.09014768e-01, -9.25397519e-02,\n",
       "        -1.87504807e-01, -3.26210471e-01, -1.64470386e-01,\n",
       "        -1.05856343e-01, -4.11071812e-02, -5.99290561e-02,\n",
       "        -2.89443413e-01, -1.91912569e-01, -2.28914050e-03,\n",
       "        -5.24261324e-02, -8.82920723e-02, -9.60190364e-02,\n",
       "        -2.04485556e-01, -1.56756796e-01, -9.27780831e-02,\n",
       "        -1.12060900e-01, -1.03502890e-01, -1.44285938e-01,\n",
       "        -1.42993870e-01, -5.86576412e-02, -1.76129200e-01,\n",
       "        -1.40671925e-01, -1.34555263e-01, -7.68398242e-02,\n",
       "        -6.05330974e-02, -1.97732992e-01, -4.48945215e-02,\n",
       "        -7.80164084e-02, -6.88886747e-02, -1.69585848e-01,\n",
       "        -7.61691121e-02, -1.12544478e-01, -1.96127112e-01,\n",
       "         5.07347257e+00, -1.06130786e-01, -1.23606103e-01,\n",
       "        -1.87629904e-01, -4.23715029e-02, -5.76761524e-02,\n",
       "        -1.26749279e-01, -5.51795152e-02, -1.47782960e-01,\n",
       "        -3.03169977e-01, -1.30205115e-01, -1.63535394e-01,\n",
       "        -4.47729809e-02, -1.68014327e-01, -1.36926192e-01,\n",
       "        -5.58982991e-02, -4.39470663e-02, -4.92694750e-01,\n",
       "        -3.08447712e-01, -1.64591574e-01]])"
      ]
     },
     "execution_count": 425,
     "metadata": {},
     "output_type": "execute_result"
    }
   ],
   "source": [
    "user_scaled"
   ]
  },
  {
   "cell_type": "code",
   "execution_count": 426,
   "metadata": {
    "scrolled": true
   },
   "outputs": [
    {
     "data": {
      "text/plain": [
       "array([[0., 1.]], dtype=float32)"
      ]
     },
     "execution_count": 426,
     "metadata": {},
     "output_type": "execute_result"
    }
   ],
   "source": [
    "model.predict(user_scaled)"
   ]
  },
  {
   "cell_type": "code",
   "execution_count": 427,
   "metadata": {},
   "outputs": [
    {
     "data": {
      "text/plain": [
       "array([[0., 1.]], dtype=float32)"
      ]
     },
     "execution_count": 427,
     "metadata": {},
     "output_type": "execute_result"
    }
   ],
   "source": [
    "model.predict_proba(user_scaled)"
   ]
  },
  {
   "cell_type": "code",
   "execution_count": 428,
   "metadata": {},
   "outputs": [],
   "source": [
    "from pickle import dump"
   ]
  },
  {
   "cell_type": "code",
   "execution_count": 429,
   "metadata": {},
   "outputs": [],
   "source": [
    "dump(ss, open('../models/scaler.pkl', 'wb'))"
   ]
  },
  {
   "cell_type": "code",
   "execution_count": null,
   "metadata": {},
   "outputs": [],
   "source": []
  }
 ],
 "metadata": {
  "kernelspec": {
   "display_name": "Python 3",
   "language": "python",
   "name": "python3"
  },
  "language_info": {
   "codemirror_mode": {
    "name": "ipython",
    "version": 3
   },
   "file_extension": ".py",
   "mimetype": "text/x-python",
   "name": "python",
   "nbconvert_exporter": "python",
   "pygments_lexer": "ipython3",
   "version": "3.7.4"
  }
 },
 "nbformat": 4,
 "nbformat_minor": 2
}
