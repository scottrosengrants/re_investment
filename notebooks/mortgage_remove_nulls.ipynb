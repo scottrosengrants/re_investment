{
 "cells": [
  {
   "cell_type": "markdown",
   "metadata": {},
   "source": [
    "# Mortgage Remove Nulls"
   ]
  },
  {
   "cell_type": "code",
   "execution_count": 1,
   "metadata": {},
   "outputs": [],
   "source": [
    "import pandas as pd\n",
    "import matplotlib.pyplot as plt"
   ]
  },
  {
   "cell_type": "code",
   "execution_count": 2,
   "metadata": {
    "scrolled": true
   },
   "outputs": [
    {
     "name": "stderr",
     "output_type": "stream",
     "text": [
      "/Users/scottrosengrants/opt/anaconda3/lib/python3.7/site-packages/IPython/core/interactiveshell.py:3058: DtypeWarning: Columns (2,3,17,18,19,21,22,23,24,25,26,27,28,33,38,39,41) have mixed types. Specify dtype option on import or set low_memory=False.\n",
      "  interactivity=interactivity, compiler=compiler, result=result)\n"
     ]
    }
   ],
   "source": [
    "data = pd.read_csv('../data/mortgage_raw.csv')"
   ]
  },
  {
   "cell_type": "code",
   "execution_count": 3,
   "metadata": {},
   "outputs": [
    {
     "data": {
      "text/html": [
       "<div>\n",
       "<style scoped>\n",
       "    .dataframe tbody tr th:only-of-type {\n",
       "        vertical-align: middle;\n",
       "    }\n",
       "\n",
       "    .dataframe tbody tr th {\n",
       "        vertical-align: top;\n",
       "    }\n",
       "\n",
       "    .dataframe thead th {\n",
       "        text-align: right;\n",
       "    }\n",
       "</style>\n",
       "<table border=\"1\" class=\"dataframe\">\n",
       "  <thead>\n",
       "    <tr style=\"text-align: right;\">\n",
       "      <th></th>\n",
       "      <th>lei</th>\n",
       "      <th>state_code</th>\n",
       "      <th>county_code</th>\n",
       "      <th>census_tract</th>\n",
       "      <th>conforming_loan_limit</th>\n",
       "      <th>derived_loan_product_type</th>\n",
       "      <th>derived_dwelling_category</th>\n",
       "      <th>action_taken</th>\n",
       "      <th>purchaser_type</th>\n",
       "      <th>preapproval</th>\n",
       "      <th>...</th>\n",
       "      <th>denial_reason_1</th>\n",
       "      <th>denial_reason_2</th>\n",
       "      <th>denial_reason_3</th>\n",
       "      <th>denial_reason_4</th>\n",
       "      <th>tract_population</th>\n",
       "      <th>ffiec_msa_md_median_family_income</th>\n",
       "      <th>tract_to_msa_income_percentage</th>\n",
       "      <th>tract_owner_occupied_units</th>\n",
       "      <th>tract_one_to_four_family_homes</th>\n",
       "      <th>tract_median_age_of_housing_units</th>\n",
       "    </tr>\n",
       "  </thead>\n",
       "  <tbody>\n",
       "    <tr>\n",
       "      <th>0</th>\n",
       "      <td>549300CUF3Q2PQGM9256</td>\n",
       "      <td>KY</td>\n",
       "      <td>21167</td>\n",
       "      <td>2.1168e+10</td>\n",
       "      <td>C</td>\n",
       "      <td>Conventional:First Lien</td>\n",
       "      <td>Single Family (1-4 Units):Manufactured</td>\n",
       "      <td>1</td>\n",
       "      <td>0</td>\n",
       "      <td>2</td>\n",
       "      <td>...</td>\n",
       "      <td>10</td>\n",
       "      <td>NaN</td>\n",
       "      <td>NaN</td>\n",
       "      <td>NaN</td>\n",
       "      <td>4232</td>\n",
       "      <td>49400</td>\n",
       "      <td>137</td>\n",
       "      <td>1328</td>\n",
       "      <td>1901</td>\n",
       "      <td>32</td>\n",
       "    </tr>\n",
       "    <tr>\n",
       "      <th>1</th>\n",
       "      <td>549300CUF3Q2PQGM9256</td>\n",
       "      <td>KY</td>\n",
       "      <td>21211</td>\n",
       "      <td>2.1211e+10</td>\n",
       "      <td>C</td>\n",
       "      <td>Conventional:Subordinate Lien</td>\n",
       "      <td>Single Family (1-4 Units):Site-Built</td>\n",
       "      <td>1</td>\n",
       "      <td>0</td>\n",
       "      <td>2</td>\n",
       "      <td>...</td>\n",
       "      <td>10</td>\n",
       "      <td>NaN</td>\n",
       "      <td>NaN</td>\n",
       "      <td>NaN</td>\n",
       "      <td>3981</td>\n",
       "      <td>70400</td>\n",
       "      <td>113</td>\n",
       "      <td>1168</td>\n",
       "      <td>1470</td>\n",
       "      <td>23</td>\n",
       "    </tr>\n",
       "    <tr>\n",
       "      <th>2</th>\n",
       "      <td>549300CUF3Q2PQGM9256</td>\n",
       "      <td>KY</td>\n",
       "      <td>21239</td>\n",
       "      <td>2.12391e+10</td>\n",
       "      <td>C</td>\n",
       "      <td>Conventional:Subordinate Lien</td>\n",
       "      <td>Single Family (1-4 Units):Site-Built</td>\n",
       "      <td>3</td>\n",
       "      <td>0</td>\n",
       "      <td>2</td>\n",
       "      <td>...</td>\n",
       "      <td>7</td>\n",
       "      <td>NaN</td>\n",
       "      <td>NaN</td>\n",
       "      <td>NaN</td>\n",
       "      <td>3173</td>\n",
       "      <td>70100</td>\n",
       "      <td>77</td>\n",
       "      <td>457</td>\n",
       "      <td>1098</td>\n",
       "      <td>28</td>\n",
       "    </tr>\n",
       "    <tr>\n",
       "      <th>3</th>\n",
       "      <td>549300CUF3Q2PQGM9256</td>\n",
       "      <td>KY</td>\n",
       "      <td>21209</td>\n",
       "      <td>2.1209e+10</td>\n",
       "      <td>C</td>\n",
       "      <td>Conventional:Subordinate Lien</td>\n",
       "      <td>Single Family (1-4 Units):Site-Built</td>\n",
       "      <td>1</td>\n",
       "      <td>0</td>\n",
       "      <td>2</td>\n",
       "      <td>...</td>\n",
       "      <td>10</td>\n",
       "      <td>NaN</td>\n",
       "      <td>NaN</td>\n",
       "      <td>NaN</td>\n",
       "      <td>2963</td>\n",
       "      <td>70100</td>\n",
       "      <td>163</td>\n",
       "      <td>1013</td>\n",
       "      <td>1164</td>\n",
       "      <td>32</td>\n",
       "    </tr>\n",
       "    <tr>\n",
       "      <th>4</th>\n",
       "      <td>549300CUF3Q2PQGM9256</td>\n",
       "      <td>KY</td>\n",
       "      <td>21067</td>\n",
       "      <td>2.1067e+10</td>\n",
       "      <td>C</td>\n",
       "      <td>Conventional:Subordinate Lien</td>\n",
       "      <td>Single Family (1-4 Units):Site-Built</td>\n",
       "      <td>3</td>\n",
       "      <td>0</td>\n",
       "      <td>2</td>\n",
       "      <td>...</td>\n",
       "      <td>7</td>\n",
       "      <td>NaN</td>\n",
       "      <td>NaN</td>\n",
       "      <td>NaN</td>\n",
       "      <td>3699</td>\n",
       "      <td>70100</td>\n",
       "      <td>109</td>\n",
       "      <td>1293</td>\n",
       "      <td>1720</td>\n",
       "      <td>57</td>\n",
       "    </tr>\n",
       "  </tbody>\n",
       "</table>\n",
       "<p>5 rows × 61 columns</p>\n",
       "</div>"
      ],
      "text/plain": [
       "                    lei state_code county_code census_tract  \\\n",
       "0  549300CUF3Q2PQGM9256         KY       21167   2.1168e+10   \n",
       "1  549300CUF3Q2PQGM9256         KY       21211   2.1211e+10   \n",
       "2  549300CUF3Q2PQGM9256         KY       21239  2.12391e+10   \n",
       "3  549300CUF3Q2PQGM9256         KY       21209   2.1209e+10   \n",
       "4  549300CUF3Q2PQGM9256         KY       21067   2.1067e+10   \n",
       "\n",
       "  conforming_loan_limit      derived_loan_product_type  \\\n",
       "0                     C        Conventional:First Lien   \n",
       "1                     C  Conventional:Subordinate Lien   \n",
       "2                     C  Conventional:Subordinate Lien   \n",
       "3                     C  Conventional:Subordinate Lien   \n",
       "4                     C  Conventional:Subordinate Lien   \n",
       "\n",
       "                derived_dwelling_category  action_taken  purchaser_type  \\\n",
       "0  Single Family (1-4 Units):Manufactured             1               0   \n",
       "1    Single Family (1-4 Units):Site-Built             1               0   \n",
       "2    Single Family (1-4 Units):Site-Built             3               0   \n",
       "3    Single Family (1-4 Units):Site-Built             1               0   \n",
       "4    Single Family (1-4 Units):Site-Built             3               0   \n",
       "\n",
       "   preapproval  ...  denial_reason_1  denial_reason_2  denial_reason_3  \\\n",
       "0            2  ...               10              NaN              NaN   \n",
       "1            2  ...               10              NaN              NaN   \n",
       "2            2  ...                7              NaN              NaN   \n",
       "3            2  ...               10              NaN              NaN   \n",
       "4            2  ...                7              NaN              NaN   \n",
       "\n",
       "   denial_reason_4  tract_population  ffiec_msa_md_median_family_income  \\\n",
       "0              NaN              4232                              49400   \n",
       "1              NaN              3981                              70400   \n",
       "2              NaN              3173                              70100   \n",
       "3              NaN              2963                              70100   \n",
       "4              NaN              3699                              70100   \n",
       "\n",
       "   tract_to_msa_income_percentage tract_owner_occupied_units  \\\n",
       "0                             137                       1328   \n",
       "1                             113                       1168   \n",
       "2                              77                        457   \n",
       "3                             163                       1013   \n",
       "4                             109                       1293   \n",
       "\n",
       "  tract_one_to_four_family_homes tract_median_age_of_housing_units  \n",
       "0                           1901                                32  \n",
       "1                           1470                                23  \n",
       "2                           1098                                28  \n",
       "3                           1164                                32  \n",
       "4                           1720                                57  \n",
       "\n",
       "[5 rows x 61 columns]"
      ]
     },
     "execution_count": 3,
     "metadata": {},
     "output_type": "execute_result"
    }
   ],
   "source": [
    "data.head()"
   ]
  },
  {
   "cell_type": "code",
   "execution_count": 4,
   "metadata": {},
   "outputs": [
    {
     "data": {
      "text/plain": [
       "Index(['lei', 'state_code', 'county_code', 'census_tract',\n",
       "       'conforming_loan_limit', 'derived_loan_product_type',\n",
       "       'derived_dwelling_category', 'action_taken', 'purchaser_type',\n",
       "       'preapproval', 'loan_type', 'loan_purpose', 'lien_status',\n",
       "       'reverse_mortgage', 'open_end_line_of_credit',\n",
       "       'business_or_commercial_purpose', 'loan_amount',\n",
       "       'combined_loan_to_value_ratio', 'interest_rate', 'rate_spread',\n",
       "       'hoepa_status', 'total_loan_costs', 'total_points_and_fees',\n",
       "       'origination_charges', 'discount_points', 'lender_credits', 'loan_term',\n",
       "       'prepayment_penalty_term', 'intro_rate_period', 'negative_amortization',\n",
       "       'interest_only_payment', 'balloon_payment',\n",
       "       'other_nonamortizing_features', 'property_value', 'construction_method',\n",
       "       'occupancy_type', 'manufactured_home_secured_property_type',\n",
       "       'manufactured_home_land_property_interest', 'total_units',\n",
       "       'multifamily_affordable_units', 'income', 'debt_to_income_ratio',\n",
       "       'applicant_credit_score_type', 'co_applicant_credit_score_type',\n",
       "       'submission_of_application', 'initially_payable_to_institution',\n",
       "       'aus_1', 'aus_2', 'aus_3', 'aus_4', 'aus_5', 'denial_reason_1',\n",
       "       'denial_reason_2', 'denial_reason_3', 'denial_reason_4',\n",
       "       'tract_population', 'ffiec_msa_md_median_family_income',\n",
       "       'tract_to_msa_income_percentage', 'tract_owner_occupied_units',\n",
       "       'tract_one_to_four_family_homes', 'tract_median_age_of_housing_units'],\n",
       "      dtype='object')"
      ]
     },
     "execution_count": 4,
     "metadata": {},
     "output_type": "execute_result"
    }
   ],
   "source": [
    "data.columns"
   ]
  },
  {
   "cell_type": "markdown",
   "metadata": {},
   "source": [
    "### Investigate Loan Purpose\n",
    "Description: The purpose of covered loan or application\n",
    "Values: <br>\n",
    "1 - Home purchase <br>\n",
    "2 - Home improvement <br>\n",
    "31 - Refinancing <br>\n",
    "32 - Cash-out refinancing <br>\n",
    "4 - Other purpose <br>\n",
    "5 - Not applicable <br>\n",
    "\n",
    "**For this analysis only home purchase loans are of interest.**"
   ]
  },
  {
   "cell_type": "code",
   "execution_count": 5,
   "metadata": {},
   "outputs": [
    {
     "data": {
      "text/plain": [
       "1     0.507907\n",
       "32    0.163457\n",
       "31    0.153930\n",
       "2     0.079470\n",
       "4     0.075584\n",
       "5     0.019652\n",
       "Name: loan_purpose, dtype: float64"
      ]
     },
     "execution_count": 5,
     "metadata": {},
     "output_type": "execute_result"
    }
   ],
   "source": [
    "data['loan_purpose'].value_counts(normalize=True)"
   ]
  },
  {
   "cell_type": "markdown",
   "metadata": {},
   "source": [
    "**Everything but value of 1 (Home purchase) will be dropped**"
   ]
  },
  {
   "cell_type": "code",
   "execution_count": 6,
   "metadata": {},
   "outputs": [],
   "source": [
    "# drop all rows that do not deal with a new purchase\n",
    "data = data[data['loan_purpose'] == 1]"
   ]
  },
  {
   "cell_type": "code",
   "execution_count": 7,
   "metadata": {},
   "outputs": [
    {
     "data": {
      "text/plain": [
       "1    1.0\n",
       "Name: loan_purpose, dtype: float64"
      ]
     },
     "execution_count": 7,
     "metadata": {},
     "output_type": "execute_result"
    }
   ],
   "source": [
    "# verify change\n",
    "data['loan_purpose'].value_counts(normalize=True)"
   ]
  },
  {
   "cell_type": "code",
   "execution_count": 8,
   "metadata": {},
   "outputs": [],
   "source": [
    "# the ['loan_purpose'] column can now be dropped, it is no longer necissary \n",
    "data.drop(columns = ['loan_purpose'],inplace=True)"
   ]
  },
  {
   "cell_type": "markdown",
   "metadata": {},
   "source": [
    "### Investigate Reverse Mortgage\n",
    "Description: Whether the covered loan or application is for a reverse mortgage <br>\n",
    "Values: <br>\n",
    "1 - Reverse mortgage <br>\n",
    "2 - Not a reverse mortgage <br>\n",
    "1111 - Exempt <br>\n",
    "\n"
   ]
  },
  {
   "cell_type": "code",
   "execution_count": 9,
   "metadata": {
    "scrolled": false
   },
   "outputs": [
    {
     "data": {
      "text/plain": [
       "2       0.971909\n",
       "1111    0.027214\n",
       "1       0.000878\n",
       "Name: reverse_mortgage, dtype: float64"
      ]
     },
     "execution_count": 9,
     "metadata": {},
     "output_type": "execute_result"
    }
   ],
   "source": [
    "data['reverse_mortgage'].value_counts(normalize=True)"
   ]
  },
  {
   "cell_type": "markdown",
   "metadata": {},
   "source": [
    "**Everything but value of 2 (Not a reverse mortgage) will be dropped**"
   ]
  },
  {
   "cell_type": "code",
   "execution_count": 10,
   "metadata": {},
   "outputs": [
    {
     "data": {
      "text/plain": [
       "2    1.0\n",
       "Name: reverse_mortgage, dtype: float64"
      ]
     },
     "execution_count": 10,
     "metadata": {},
     "output_type": "execute_result"
    }
   ],
   "source": [
    "# drop all rows that deal with a reverse mortgage or other loan\n",
    "data = data[data['reverse_mortgage'] == 2]\n",
    "#verify change\n",
    "data['reverse_mortgage'].value_counts(normalize=True)"
   ]
  },
  {
   "cell_type": "code",
   "execution_count": 11,
   "metadata": {},
   "outputs": [],
   "source": [
    "# the ['reverse_mortgage'] column can now be dropped, it is no longer necissary \n",
    "data.drop(columns = ['reverse_mortgage'],inplace=True)"
   ]
  },
  {
   "cell_type": "markdown",
   "metadata": {},
   "source": [
    "### Investigate Open-end Line of Credit\n",
    "Description: Whether the covered loan or application is for an open-end line of credit <br>\n",
    "Values: <br>\n",
    "1 - Open-end line of credit <br>\n",
    "2 - Not an open-end line of credit <br>\n",
    "1111 - Exempt "
   ]
  },
  {
   "cell_type": "code",
   "execution_count": 12,
   "metadata": {},
   "outputs": [
    {
     "data": {
      "text/plain": [
       "2       0.987752\n",
       "1       0.012237\n",
       "1111    0.000010\n",
       "Name: open_end_line_of_credit, dtype: float64"
      ]
     },
     "execution_count": 12,
     "metadata": {},
     "output_type": "execute_result"
    }
   ],
   "source": [
    "# 'open_end_line_of_credit'\n",
    "data['open_end_line_of_credit'].value_counts(normalize=True)"
   ]
  },
  {
   "cell_type": "markdown",
   "metadata": {},
   "source": [
    "**Everything but value of 2 ( Not an open-end line of credit) will be dropped**"
   ]
  },
  {
   "cell_type": "code",
   "execution_count": 13,
   "metadata": {},
   "outputs": [
    {
     "data": {
      "text/plain": [
       "2    1.0\n",
       "Name: open_end_line_of_credit, dtype: float64"
      ]
     },
     "execution_count": 13,
     "metadata": {},
     "output_type": "execute_result"
    }
   ],
   "source": [
    "# drop all rows that deal with a line of credit \n",
    "data = data[data['open_end_line_of_credit'] == 2]\n",
    "#verify change\n",
    "data['open_end_line_of_credit'].value_counts(normalize=True)"
   ]
  },
  {
   "cell_type": "code",
   "execution_count": 14,
   "metadata": {},
   "outputs": [],
   "source": [
    "# the ['open_end_line_of_credit'] column can now be dropped, it is no longer necissary \n",
    "data.drop(columns = ['open_end_line_of_credit'],inplace=True)"
   ]
  },
  {
   "cell_type": "markdown",
   "metadata": {},
   "source": [
    "### Investigate Business or Commercial Purpose\n",
    "Description: Whether the covered loan or application is primarily for a business or commercial purpose <br>\n",
    "Values: <br>\n",
    "1 - Primarily for a business or commercial purpose <br>\n",
    "2 - Not primarily for a business or commercial purpose <br>\n",
    "1111 - Exempt "
   ]
  },
  {
   "cell_type": "code",
   "execution_count": 15,
   "metadata": {
    "scrolled": true
   },
   "outputs": [
    {
     "data": {
      "text/plain": [
       "2       0.966194\n",
       "1       0.033789\n",
       "1111    0.000016\n",
       "Name: business_or_commercial_purpose, dtype: float64"
      ]
     },
     "execution_count": 15,
     "metadata": {},
     "output_type": "execute_result"
    }
   ],
   "source": [
    "#'business_or_commercial_purpose'\n",
    "data['business_or_commercial_purpose'].value_counts(normalize=True)"
   ]
  },
  {
   "cell_type": "markdown",
   "metadata": {},
   "source": [
    "**Everything but value of 2 (Not primarily for a business or commercial purpose) will be dropped**"
   ]
  },
  {
   "cell_type": "code",
   "execution_count": 16,
   "metadata": {},
   "outputs": [
    {
     "data": {
      "text/plain": [
       "2    1.0\n",
       "Name: business_or_commercial_purpose, dtype: float64"
      ]
     },
     "execution_count": 16,
     "metadata": {},
     "output_type": "execute_result"
    }
   ],
   "source": [
    "# drop all rows that deal with a business or other \n",
    "data = data[data['business_or_commercial_purpose'] == 2]\n",
    "#verify change\n",
    "data['business_or_commercial_purpose'].value_counts(normalize=True)"
   ]
  },
  {
   "cell_type": "code",
   "execution_count": 17,
   "metadata": {},
   "outputs": [],
   "source": [
    "# the ['business_or_commercial_purpose'] column can now be dropped, it is no longer necissary \n",
    "data.drop(columns = ['business_or_commercial_purpose'],inplace=True)"
   ]
  },
  {
   "cell_type": "code",
   "execution_count": 18,
   "metadata": {
    "scrolled": true
   },
   "outputs": [
    {
     "data": {
      "text/plain": [
       "(4711104, 57)"
      ]
     },
     "execution_count": 18,
     "metadata": {},
     "output_type": "execute_result"
    }
   ],
   "source": [
    "data.shape"
   ]
  },
  {
   "cell_type": "code",
   "execution_count": 19,
   "metadata": {
    "scrolled": true
   },
   "outputs": [
    {
     "data": {
      "text/plain": [
       "Index(['lei', 'state_code', 'county_code', 'census_tract',\n",
       "       'conforming_loan_limit', 'derived_loan_product_type',\n",
       "       'derived_dwelling_category', 'action_taken', 'purchaser_type',\n",
       "       'preapproval', 'loan_type', 'lien_status', 'loan_amount',\n",
       "       'combined_loan_to_value_ratio', 'interest_rate', 'rate_spread',\n",
       "       'hoepa_status', 'total_loan_costs', 'total_points_and_fees',\n",
       "       'origination_charges', 'discount_points', 'lender_credits', 'loan_term',\n",
       "       'prepayment_penalty_term', 'intro_rate_period', 'negative_amortization',\n",
       "       'interest_only_payment', 'balloon_payment',\n",
       "       'other_nonamortizing_features', 'property_value', 'construction_method',\n",
       "       'occupancy_type', 'manufactured_home_secured_property_type',\n",
       "       'manufactured_home_land_property_interest', 'total_units',\n",
       "       'multifamily_affordable_units', 'income', 'debt_to_income_ratio',\n",
       "       'applicant_credit_score_type', 'co_applicant_credit_score_type',\n",
       "       'submission_of_application', 'initially_payable_to_institution',\n",
       "       'aus_1', 'aus_2', 'aus_3', 'aus_4', 'aus_5', 'denial_reason_1',\n",
       "       'denial_reason_2', 'denial_reason_3', 'denial_reason_4',\n",
       "       'tract_population', 'ffiec_msa_md_median_family_income',\n",
       "       'tract_to_msa_income_percentage', 'tract_owner_occupied_units',\n",
       "       'tract_one_to_four_family_homes', 'tract_median_age_of_housing_units'],\n",
       "      dtype='object')"
      ]
     },
     "execution_count": 19,
     "metadata": {},
     "output_type": "execute_result"
    }
   ],
   "source": [
    "data.columns"
   ]
  },
  {
   "cell_type": "code",
   "execution_count": 20,
   "metadata": {
    "scrolled": true
   },
   "outputs": [
    {
     "data": {
      "text/plain": [
       "10      4244920\n",
       "1        137932\n",
       "3        132259\n",
       "4         56647\n",
       "7         41099\n",
       "9         40700\n",
       "6         21491\n",
       "5         20563\n",
       "2         12647\n",
       "1111       2309\n",
       "8           537\n",
       "Name: denial_reason_1, dtype: int64"
      ]
     },
     "execution_count": 20,
     "metadata": {},
     "output_type": "execute_result"
    }
   ],
   "source": [
    "#check target\n",
    "data['denial_reason_1'].value_counts()"
   ]
  },
  {
   "cell_type": "markdown",
   "metadata": {},
   "source": [
    "## Check for Null Values"
   ]
  },
  {
   "cell_type": "code",
   "execution_count": 21,
   "metadata": {
    "scrolled": true
   },
   "outputs": [
    {
     "data": {
      "text/plain": [
       "lei                                               0\n",
       "state_code                                   113852\n",
       "county_code                                  158593\n",
       "census_tract                                 191869\n",
       "conforming_loan_limit                           158\n",
       "derived_loan_product_type                         0\n",
       "derived_dwelling_category                         0\n",
       "action_taken                                      0\n",
       "purchaser_type                                    0\n",
       "preapproval                                       0\n",
       "loan_type                                         0\n",
       "lien_status                                       0\n",
       "loan_amount                                       0\n",
       "combined_loan_to_value_ratio                1743390\n",
       "interest_rate                               1146250\n",
       "rate_spread                                 2077242\n",
       "hoepa_status                                      0\n",
       "total_loan_costs                            1586637\n",
       "total_points_and_fees                       4660070\n",
       "origination_charges                         1461639\n",
       "discount_points                             3709475\n",
       "lender_credits                              3467148\n",
       "loan_term                                     16225\n",
       "prepayment_penalty_term                     4707314\n",
       "intro_rate_period                           4317954\n",
       "negative_amortization                             0\n",
       "interest_only_payment                             0\n",
       "balloon_payment                                   0\n",
       "other_nonamortizing_features                      0\n",
       "property_value                               735594\n",
       "construction_method                               0\n",
       "occupancy_type                                    0\n",
       "manufactured_home_secured_property_type           0\n",
       "manufactured_home_land_property_interest          0\n",
       "total_units                                       0\n",
       "multifamily_affordable_units                4710978\n",
       "income                                       427190\n",
       "debt_to_income_ratio                        1528720\n",
       "applicant_credit_score_type                       0\n",
       "co_applicant_credit_score_type                    0\n",
       "submission_of_application                         0\n",
       "initially_payable_to_institution                  0\n",
       "aus_1                                             0\n",
       "aus_2                                       4457304\n",
       "aus_3                                       4606978\n",
       "aus_4                                       4672138\n",
       "aus_5                                       4678852\n",
       "denial_reason_1                                   0\n",
       "denial_reason_2                             4588173\n",
       "denial_reason_3                             4690952\n",
       "denial_reason_4                             4709195\n",
       "tract_population                                  0\n",
       "ffiec_msa_md_median_family_income                 0\n",
       "tract_to_msa_income_percentage                    0\n",
       "tract_owner_occupied_units                        0\n",
       "tract_one_to_four_family_homes                    0\n",
       "tract_median_age_of_housing_units                 0\n",
       "dtype: int64"
      ]
     },
     "execution_count": 21,
     "metadata": {},
     "output_type": "execute_result"
    }
   ],
   "source": [
    "data.isnull().sum()"
   ]
  },
  {
   "cell_type": "code",
   "execution_count": 22,
   "metadata": {},
   "outputs": [
    {
     "data": {
      "text/plain": [
       "lei                                         0.000000\n",
       "state_code                                  0.024167\n",
       "county_code                                 0.033664\n",
       "census_tract                                0.040727\n",
       "conforming_loan_limit                       0.000034\n",
       "derived_loan_product_type                   0.000000\n",
       "derived_dwelling_category                   0.000000\n",
       "action_taken                                0.000000\n",
       "purchaser_type                              0.000000\n",
       "preapproval                                 0.000000\n",
       "loan_type                                   0.000000\n",
       "lien_status                                 0.000000\n",
       "loan_amount                                 0.000000\n",
       "combined_loan_to_value_ratio                0.370060\n",
       "interest_rate                               0.243308\n",
       "rate_spread                                 0.440925\n",
       "hoepa_status                                0.000000\n",
       "total_loan_costs                            0.336787\n",
       "total_points_and_fees                       0.989167\n",
       "origination_charges                         0.310254\n",
       "discount_points                             0.787390\n",
       "lender_credits                              0.735952\n",
       "loan_term                                   0.003444\n",
       "prepayment_penalty_term                     0.999196\n",
       "intro_rate_period                           0.916548\n",
       "negative_amortization                       0.000000\n",
       "interest_only_payment                       0.000000\n",
       "balloon_payment                             0.000000\n",
       "other_nonamortizing_features                0.000000\n",
       "property_value                              0.156140\n",
       "construction_method                         0.000000\n",
       "occupancy_type                              0.000000\n",
       "manufactured_home_secured_property_type     0.000000\n",
       "manufactured_home_land_property_interest    0.000000\n",
       "total_units                                 0.000000\n",
       "multifamily_affordable_units                0.999973\n",
       "income                                      0.090677\n",
       "debt_to_income_ratio                        0.324493\n",
       "applicant_credit_score_type                 0.000000\n",
       "co_applicant_credit_score_type              0.000000\n",
       "submission_of_application                   0.000000\n",
       "initially_payable_to_institution            0.000000\n",
       "aus_1                                       0.000000\n",
       "aus_2                                       0.946127\n",
       "aus_3                                       0.977898\n",
       "aus_4                                       0.991729\n",
       "aus_5                                       0.993154\n",
       "denial_reason_1                             0.000000\n",
       "denial_reason_2                             0.973906\n",
       "denial_reason_3                             0.995722\n",
       "denial_reason_4                             0.999595\n",
       "tract_population                            0.000000\n",
       "ffiec_msa_md_median_family_income           0.000000\n",
       "tract_to_msa_income_percentage              0.000000\n",
       "tract_owner_occupied_units                  0.000000\n",
       "tract_one_to_four_family_homes              0.000000\n",
       "tract_median_age_of_housing_units           0.000000\n",
       "dtype: float64"
      ]
     },
     "execution_count": 22,
     "metadata": {},
     "output_type": "execute_result"
    }
   ],
   "source": [
    "data.isnull().mean()"
   ]
  },
  {
   "cell_type": "markdown",
   "metadata": {},
   "source": [
    "### Drop Nulls"
   ]
  },
  {
   "cell_type": "markdown",
   "metadata": {},
   "source": [
    "The aus 1-5 are the underwiting systems utilized. This will be unknown to the end user and many of them contain null values. All 'aus' columns will be dropped. \n",
    "\n",
    "'prepayment_penalty_term' is almost entirely nulls, this column will be dropped\n",
    "\n",
    "'multifamily_affordable_units' is almost entirely nulls, this column will be dropped\n",
    "\n",
    "'denial reasons 2-4 are almost entirely nulls, they will be dropped (denial reaon 1 will be the target)"
   ]
  },
  {
   "cell_type": "code",
   "execution_count": 23,
   "metadata": {},
   "outputs": [],
   "source": [
    "to_drop = ['aus_1','aus_2','aus_3','aus_4','aus_5','prepayment_penalty_term','multifamily_affordable_units',\n",
    "          'denial_reason_2','denial_reason_3','denial_reason_4']\n",
    "data = data.drop(columns=to_drop)"
   ]
  },
  {
   "cell_type": "code",
   "execution_count": 24,
   "metadata": {},
   "outputs": [
    {
     "data": {
      "text/plain": [
       "10      4244920\n",
       "1        137932\n",
       "3        132259\n",
       "4         56647\n",
       "7         41099\n",
       "9         40700\n",
       "6         21491\n",
       "5         20563\n",
       "2         12647\n",
       "1111       2309\n",
       "8           537\n",
       "Name: denial_reason_1, dtype: int64"
      ]
     },
     "execution_count": 24,
     "metadata": {},
     "output_type": "execute_result"
    }
   ],
   "source": [
    "# check targets\n",
    "data['denial_reason_1'].value_counts()"
   ]
  },
  {
   "cell_type": "markdown",
   "metadata": {},
   "source": [
    "#### Remove missing rows with missing geolocal info"
   ]
  },
  {
   "cell_type": "code",
   "execution_count": 25,
   "metadata": {},
   "outputs": [],
   "source": [
    "# drop 'state_code', 'county_code', 'census_tract' null rows\n",
    "data.dropna(subset=['state_code', 'county_code', 'census_tract'],inplace=True)"
   ]
  },
  {
   "cell_type": "code",
   "execution_count": 26,
   "metadata": {},
   "outputs": [
    {
     "data": {
      "text/plain": [
       "10      4152085\n",
       "1        106588\n",
       "3         84823\n",
       "4         55716\n",
       "7         35091\n",
       "9         31105\n",
       "5         17547\n",
       "6         16903\n",
       "2         10147\n",
       "1111       2172\n",
       "8           469\n",
       "Name: denial_reason_1, dtype: int64"
      ]
     },
     "execution_count": 26,
     "metadata": {},
     "output_type": "execute_result"
    }
   ],
   "source": [
    "# check targets\n",
    "data['denial_reason_1'].value_counts()"
   ]
  },
  {
   "cell_type": "markdown",
   "metadata": {},
   "source": [
    "#### Investigate the 'conforming_loan_limit' column"
   ]
  },
  {
   "cell_type": "code",
   "execution_count": 27,
   "metadata": {},
   "outputs": [
    {
     "data": {
      "text/plain": [
       "C     4263632\n",
       "NC     248866\n",
       "Name: conforming_loan_limit, dtype: int64"
      ]
     },
     "execution_count": 27,
     "metadata": {},
     "output_type": "execute_result"
    }
   ],
   "source": [
    "data['conforming_loan_limit'].value_counts()"
   ]
  },
  {
   "cell_type": "markdown",
   "metadata": {},
   "source": [
    "There are few nulls in this column and they could be dropped. Calculating this column is possible given a cross reference of the census tract location and the corresponding GSE (government sponsored enterprise) conforming loan limit, which is publically available. However, this exceeds the scope of this project so the column will be dropped all together. "
   ]
  },
  {
   "cell_type": "code",
   "execution_count": 28,
   "metadata": {},
   "outputs": [],
   "source": [
    "# drop 'conforming_loan_limit'\n",
    "data.drop(columns=['conforming_loan_limit'],inplace=True)"
   ]
  },
  {
   "cell_type": "code",
   "execution_count": 29,
   "metadata": {},
   "outputs": [
    {
     "data": {
      "text/plain": [
       "10      4152085\n",
       "1        106588\n",
       "3         84823\n",
       "4         55716\n",
       "7         35091\n",
       "9         31105\n",
       "5         17547\n",
       "6         16903\n",
       "2         10147\n",
       "1111       2172\n",
       "8           469\n",
       "Name: denial_reason_1, dtype: int64"
      ]
     },
     "execution_count": 29,
     "metadata": {},
     "output_type": "execute_result"
    }
   ],
   "source": [
    "# check targets\n",
    "data['denial_reason_1'].value_counts()"
   ]
  },
  {
   "cell_type": "markdown",
   "metadata": {},
   "source": [
    "#### Investigate the 'combined_loan_to_value_ratio' column"
   ]
  },
  {
   "cell_type": "code",
   "execution_count": 30,
   "metadata": {},
   "outputs": [
    {
     "data": {
      "text/plain": [
       "0.00370403528218256"
      ]
     },
     "execution_count": 30,
     "metadata": {},
     "output_type": "execute_result"
    }
   ],
   "source": [
    "# determine how many high ltv loans (excluding nulls)\n",
    "ltv = pd.to_numeric(data['combined_loan_to_value_ratio'], errors='coerce')\n",
    "sum(ltv > 105) / len(ltv)"
   ]
  },
  {
   "cell_type": "markdown",
   "metadata": {},
   "source": [
    "Loan to value typically has a very large impact on the approval rating of a loan, therefore all null rows will be dropped. "
   ]
  },
  {
   "cell_type": "code",
   "execution_count": 31,
   "metadata": {},
   "outputs": [],
   "source": [
    "# drop null rows\n",
    "data.dropna(subset=['combined_loan_to_value_ratio'],inplace=True)"
   ]
  },
  {
   "cell_type": "code",
   "execution_count": 32,
   "metadata": {},
   "outputs": [
    {
     "data": {
      "text/plain": [
       "10      2582456\n",
       "1         80810\n",
       "4         52450\n",
       "3         45314\n",
       "7         29833\n",
       "9         25534\n",
       "6         15505\n",
       "5         15112\n",
       "2          8265\n",
       "1111       1791\n",
       "8           436\n",
       "Name: denial_reason_1, dtype: int64"
      ]
     },
     "execution_count": 32,
     "metadata": {},
     "output_type": "execute_result"
    }
   ],
   "source": [
    "# check targets\n",
    "data['denial_reason_1'].value_counts()"
   ]
  },
  {
   "cell_type": "code",
   "execution_count": 33,
   "metadata": {
    "scrolled": true
   },
   "outputs": [
    {
     "data": {
      "text/plain": [
       "(2857506, 46)"
      ]
     },
     "execution_count": 33,
     "metadata": {},
     "output_type": "execute_result"
    }
   ],
   "source": [
    "# check the remaining size of the data\n",
    "data.shape"
   ]
  },
  {
   "cell_type": "markdown",
   "metadata": {},
   "source": [
    "#### Investigate the 'interest_rate' column|"
   ]
  },
  {
   "cell_type": "code",
   "execution_count": 34,
   "metadata": {},
   "outputs": [
    {
     "data": {
      "text/plain": [
       "4.75     144239\n",
       "4.75     142629\n",
       "4.875    133678\n",
       "4.875    132522\n",
       "4.625    131286\n",
       "          ...  \n",
       "4.537         1\n",
       "7.59          1\n",
       "9.34          1\n",
       "4.802         1\n",
       "3.146         1\n",
       "Name: interest_rate, Length: 3388, dtype: int64"
      ]
     },
     "execution_count": 34,
     "metadata": {},
     "output_type": "execute_result"
    }
   ],
   "source": [
    "# look at values\n",
    "data['interest_rate'].value_counts()"
   ]
  },
  {
   "cell_type": "code",
   "execution_count": 35,
   "metadata": {},
   "outputs": [
    {
     "data": {
      "text/plain": [
       "1       80809\n",
       "4       52450\n",
       "3       45314\n",
       "7       29833\n",
       "9       25534\n",
       "10      24443\n",
       "6       15505\n",
       "5       15112\n",
       "2        8265\n",
       "1111      575\n",
       "8         436\n",
       "Name: denial_reason_1, dtype: int64"
      ]
     },
     "execution_count": 35,
     "metadata": {},
     "output_type": "execute_result"
    }
   ],
   "source": [
    "# check the denial counts based on interest rate being null\n",
    "data[data['interest_rate'].isnull()]['denial_reason_1'].value_counts()"
   ]
  },
  {
   "cell_type": "code",
   "execution_count": 36,
   "metadata": {
    "scrolled": true
   },
   "outputs": [
    {
     "data": {
      "text/plain": [
       "10      2558013\n",
       "1111       1216\n",
       "1             1\n",
       "Name: denial_reason_1, dtype: int64"
      ]
     },
     "execution_count": 36,
     "metadata": {},
     "output_type": "execute_result"
    }
   ],
   "source": [
    "# check the denial counts based on interest rate being valid values\n",
    "data[data['interest_rate'].notnull()]['denial_reason_1'].value_counts()"
   ]
  },
  {
   "cell_type": "code",
   "execution_count": 37,
   "metadata": {},
   "outputs": [],
   "source": [
    "# convert the objects to floats\n",
    "rates = pd.to_numeric(data['interest_rate'], errors='coerce')"
   ]
  },
  {
   "cell_type": "code",
   "execution_count": 38,
   "metadata": {},
   "outputs": [
    {
     "data": {
      "text/plain": [
       "0.001"
      ]
     },
     "execution_count": 38,
     "metadata": {},
     "output_type": "execute_result"
    }
   ],
   "source": [
    "#check min\n",
    "rates.min()"
   ]
  },
  {
   "cell_type": "code",
   "execution_count": 39,
   "metadata": {},
   "outputs": [
    {
     "data": {
      "text/plain": [
       "154755.0"
      ]
     },
     "execution_count": 39,
     "metadata": {},
     "output_type": "execute_result"
    }
   ],
   "source": [
    "# check max\n",
    "rates.max()"
   ]
  },
  {
   "cell_type": "code",
   "execution_count": 40,
   "metadata": {
    "scrolled": true
   },
   "outputs": [
    {
     "data": {
      "text/plain": [
       "8788530    154755.0\n",
       "678269      43875.0\n",
       "2752622     40375.0\n",
       "2752709     40125.0\n",
       "933821       7750.0\n",
       "933777       7750.0\n",
       "933767       6540.0\n",
       "933762       6250.0\n",
       "933829       5500.0\n",
       "9698789      5375.0\n",
       "933826       5250.0\n",
       "2739822      5250.0\n",
       "9653185      5125.0\n",
       "9657346      5125.0\n",
       "9679732      4875.0\n",
       "2739865      4750.0\n",
       "2739960      4750.0\n",
       "933855       4590.0\n",
       "933747       4500.0\n",
       "933795       4500.0\n",
       "9580727      4375.0\n",
       "9564300      4125.0\n",
       "933728       3990.0\n",
       "9665470      3625.0\n",
       "9676904       499.0\n",
       "1844571       475.0\n",
       "9564305       449.0\n",
       "2621474       433.0\n",
       "9579102       425.0\n",
       "9657334       425.0\n",
       "Name: interest_rate, dtype: float64"
      ]
     },
     "execution_count": 40,
     "metadata": {},
     "output_type": "execute_result"
    }
   ],
   "source": [
    "# check high values\n",
    "rates.sort_values(ascending=False)[:30]"
   ]
  },
  {
   "cell_type": "code",
   "execution_count": 41,
   "metadata": {},
   "outputs": [],
   "source": [
    "#remove outliers\n",
    "rates = rates[rates < 10]"
   ]
  },
  {
   "cell_type": "code",
   "execution_count": 42,
   "metadata": {},
   "outputs": [
    {
     "data": {
      "text/plain": [
       "<matplotlib.axes._subplots.AxesSubplot at 0x1190c0cd0>"
      ]
     },
     "execution_count": 42,
     "metadata": {},
     "output_type": "execute_result"
    },
    {
     "data": {
      "image/png": "[encoded data removed]",
      "text/plain": [
       "<Figure size 432x288 with 1 Axes>"
      ]
     },
     "metadata": {
      "needs_background": "light"
     },
     "output_type": "display_data"
    }
   ],
   "source": [
    "rates.hist()"
   ]
  },
  {
   "cell_type": "markdown",
   "metadata": {},
   "source": [
    "The interest rates that contain null values also contain all of the not-approved loans (a component of the target). The null rows can thus not be removed. Likely these records (applications) were rejected prior to being assigned an interest rate which could be why they are null. These null values will be replaced with the median interest rate. This assumes, had these applications been accepted, that they would have received a rate consistent with the other applications. \n",
    "\n",
    "Additionally several interest rates are over 100% which does not make sense in the terms of lending. Any rate over 10% will be removed."
   ]
  },
  {
   "cell_type": "code",
   "execution_count": 43,
   "metadata": {},
   "outputs": [],
   "source": [
    "# change the objects to floats in the df\n",
    "data['interest_rate'] = pd.to_numeric(data['interest_rate'], errors='coerce')"
   ]
  },
  {
   "cell_type": "code",
   "execution_count": 44,
   "metadata": {
    "scrolled": true
   },
   "outputs": [
    {
     "data": {
      "text/plain": [
       "298368"
      ]
     },
     "execution_count": 44,
     "metadata": {},
     "output_type": "execute_result"
    }
   ],
   "source": [
    "# count nulls\n",
    "data['interest_rate'].isnull().sum()"
   ]
  },
  {
   "cell_type": "code",
   "execution_count": 45,
   "metadata": {},
   "outputs": [
    {
     "data": {
      "text/plain": [
       "4.75"
      ]
     },
     "execution_count": 45,
     "metadata": {},
     "output_type": "execute_result"
    }
   ],
   "source": [
    "# find median interest rate\n",
    "data['interest_rate'].median()"
   ]
  },
  {
   "cell_type": "code",
   "execution_count": 46,
   "metadata": {},
   "outputs": [],
   "source": [
    "# set all null values to the median interest rate\n",
    "data['interest_rate'].fillna(data['interest_rate'].median(), inplace=True)"
   ]
  },
  {
   "cell_type": "code",
   "execution_count": 47,
   "metadata": {},
   "outputs": [],
   "source": [
    "# remove interest rate outliers (anything above 10%) for the entire df\n",
    "data = data[data['interest_rate'] < 10]"
   ]
  },
  {
   "cell_type": "code",
   "execution_count": 48,
   "metadata": {},
   "outputs": [
    {
     "data": {
      "text/plain": [
       "<matplotlib.axes._subplots.AxesSubplot at 0x11bb8a5d0>"
      ]
     },
     "execution_count": 48,
     "metadata": {},
     "output_type": "execute_result"
    },
    {
     "data": {
      "image/png": "[encoded data removed]",
      "text/plain": [
       "<Figure size 432x288 with 1 Axes>"
      ]
     },
     "metadata": {
      "needs_background": "light"
     },
     "output_type": "display_data"
    }
   ],
   "source": [
    "data['interest_rate'].hist()"
   ]
  },
  {
   "cell_type": "code",
   "execution_count": 49,
   "metadata": {
    "scrolled": false
   },
   "outputs": [
    {
     "data": {
      "text/plain": [
       "10      0.903716\n",
       "1       0.028288\n",
       "4       0.018361\n",
       "3       0.015863\n",
       "7       0.010443\n",
       "9       0.008938\n",
       "6       0.005428\n",
       "5       0.005290\n",
       "2       0.002893\n",
       "1111    0.000627\n",
       "8       0.000153\n",
       "Name: denial_reason_1, dtype: float64"
      ]
     },
     "execution_count": 49,
     "metadata": {},
     "output_type": "execute_result"
    }
   ],
   "source": [
    "# check targets\n",
    "data['denial_reason_1'].value_counts(normalize=True)"
   ]
  },
  {
   "cell_type": "markdown",
   "metadata": {},
   "source": [
    "#### Investigate the 'rate_spread' column"
   ]
  },
  {
   "cell_type": "markdown",
   "metadata": {},
   "source": [
    "Description: The difference between the covered loan’s annual percentage rate (APR) and the average prime offer rate (APOR) for a comparable transaction as of the date the interest rate is set"
   ]
  },
  {
   "cell_type": "markdown",
   "metadata": {},
   "source": [
    "**The rate spread will not be able to be calculated and provided to the model by the user, the column will be dropped.**"
   ]
  },
  {
   "cell_type": "code",
   "execution_count": 50,
   "metadata": {},
   "outputs": [],
   "source": [
    "# drop 'rate_spread'\n",
    "data.drop(columns=['rate_spread'],inplace=True)"
   ]
  },
  {
   "cell_type": "code",
   "execution_count": 51,
   "metadata": {},
   "outputs": [
    {
     "data": {
      "text/plain": [
       "10      0.903716\n",
       "1       0.028288\n",
       "4       0.018361\n",
       "3       0.015863\n",
       "7       0.010443\n",
       "9       0.008938\n",
       "6       0.005428\n",
       "5       0.005290\n",
       "2       0.002893\n",
       "1111    0.000627\n",
       "8       0.000153\n",
       "Name: denial_reason_1, dtype: float64"
      ]
     },
     "execution_count": 51,
     "metadata": {},
     "output_type": "execute_result"
    }
   ],
   "source": [
    "# check targets\n",
    "data['denial_reason_1'].value_counts(normalize=True)"
   ]
  },
  {
   "cell_type": "markdown",
   "metadata": {},
   "source": [
    "#### Investigate the loan cost columns : \n",
    "**'total_loan_costs',  'total_points_and_fees', 'origination_charges', 'discount_points', 'lender_credits', 'loan_term', 'intro_rate_period'**"
   ]
  },
  {
   "cell_type": "code",
   "execution_count": 52,
   "metadata": {
    "scrolled": true
   },
   "outputs": [
    {
     "data": {
      "text/plain": [
       "0.0        25102\n",
       "0.0        14257\n",
       "500.0       7391\n",
       "500.0       1540\n",
       "450.0       1452\n",
       "           ...  \n",
       "9547.02        1\n",
       "4751.12        1\n",
       "7513.24        1\n",
       "7512.99        1\n",
       "5892.16        1\n",
       "Name: total_loan_costs, Length: 1160585, dtype: int64"
      ]
     },
     "execution_count": 52,
     "metadata": {},
     "output_type": "execute_result"
    }
   ],
   "source": [
    "data['total_loan_costs'].value_counts()"
   ]
  },
  {
   "cell_type": "markdown",
   "metadata": {},
   "source": [
    "Total loan costs will not be something the end user can provide. This column will be dropped entirely."
   ]
  },
  {
   "cell_type": "code",
   "execution_count": 53,
   "metadata": {},
   "outputs": [],
   "source": [
    "# drop 'total_loan_costs'\n",
    "data.drop(columns=['total_loan_costs'],inplace=True)"
   ]
  },
  {
   "cell_type": "code",
   "execution_count": 54,
   "metadata": {},
   "outputs": [
    {
     "data": {
      "text/plain": [
       "10      0.903716\n",
       "1       0.028288\n",
       "4       0.018361\n",
       "3       0.015863\n",
       "7       0.010443\n",
       "9       0.008938\n",
       "6       0.005428\n",
       "5       0.005290\n",
       "2       0.002893\n",
       "1111    0.000627\n",
       "8       0.000153\n",
       "Name: denial_reason_1, dtype: float64"
      ]
     },
     "execution_count": 54,
     "metadata": {},
     "output_type": "execute_result"
    }
   ],
   "source": [
    "# check targets\n",
    "data['denial_reason_1'].value_counts(normalize=True)"
   ]
  },
  {
   "cell_type": "code",
   "execution_count": 55,
   "metadata": {},
   "outputs": [
    {
     "data": {
      "text/plain": [
       "749.0      588\n",
       "0.0        560\n",
       "499.0      555\n",
       "0.0        347\n",
       "800.0      320\n",
       "          ... \n",
       "1564.58      1\n",
       "1413.63      1\n",
       "1190.31      1\n",
       "1316.97      1\n",
       "1831.5       1\n",
       "Name: total_points_and_fees, Length: 19363, dtype: int64"
      ]
     },
     "execution_count": 55,
     "metadata": {},
     "output_type": "execute_result"
    }
   ],
   "source": [
    "data['total_points_and_fees'].value_counts()"
   ]
  },
  {
   "cell_type": "markdown",
   "metadata": {},
   "source": [
    "Total points and fees costs will not be something the end user can provide. This column will be dropped entirely."
   ]
  },
  {
   "cell_type": "code",
   "execution_count": 56,
   "metadata": {},
   "outputs": [],
   "source": [
    "# drop 'total_points_and_fees'\n",
    "data.drop(columns=['total_points_and_fees'],inplace=True)"
   ]
  },
  {
   "cell_type": "code",
   "execution_count": 57,
   "metadata": {},
   "outputs": [
    {
     "data": {
      "text/plain": [
       "10      0.903716\n",
       "1       0.028288\n",
       "4       0.018361\n",
       "3       0.015863\n",
       "7       0.010443\n",
       "9       0.008938\n",
       "6       0.005428\n",
       "5       0.005290\n",
       "2       0.002893\n",
       "1111    0.000627\n",
       "8       0.000153\n",
       "Name: denial_reason_1, dtype: float64"
      ]
     },
     "execution_count": 57,
     "metadata": {},
     "output_type": "execute_result"
    }
   ],
   "source": [
    "# check targets\n",
    "data['denial_reason_1'].value_counts(normalize=True)"
   ]
  },
  {
   "cell_type": "code",
   "execution_count": 58,
   "metadata": {},
   "outputs": [
    {
     "data": {
      "text/plain": [
       "0.0        229729\n",
       "0.0        157891\n",
       "1290.0      34146\n",
       "995.0       31343\n",
       "995.0       28263\n",
       "            ...  \n",
       "1010.91         1\n",
       "1378.85         1\n",
       "1414.17         1\n",
       "3770.88         1\n",
       "5620.59         1\n",
       "Name: origination_charges, Length: 498309, dtype: int64"
      ]
     },
     "execution_count": 58,
     "metadata": {},
     "output_type": "execute_result"
    }
   ],
   "source": [
    "data['origination_charges'].value_counts()"
   ]
  },
  {
   "cell_type": "code",
   "execution_count": 59,
   "metadata": {},
   "outputs": [
    {
     "data": {
      "text/plain": [
       "10      159964\n",
       "1        80809\n",
       "4        52450\n",
       "3        45314\n",
       "7        29833\n",
       "9        25534\n",
       "6        15505\n",
       "5        15112\n",
       "2         8265\n",
       "1111      1176\n",
       "8          436\n",
       "Name: denial_reason_1, dtype: int64"
      ]
     },
     "execution_count": 59,
     "metadata": {},
     "output_type": "execute_result"
    }
   ],
   "source": [
    "# check the denial counts based on interest rate being null\n",
    "data[data['origination_charges'].isnull()]['denial_reason_1'].value_counts()"
   ]
  },
  {
   "cell_type": "markdown",
   "metadata": {},
   "source": [
    "Origination charges are not calculated for loan applications get rejected. The null values in 'origination_charges' consist of all of the targets (rejected loan applications. Therefore the column will be dropped entirely. "
   ]
  },
  {
   "cell_type": "code",
   "execution_count": 60,
   "metadata": {},
   "outputs": [],
   "source": [
    "# drop 'origination_charges'\n",
    "data.drop(columns=['origination_charges'],inplace=True)"
   ]
  },
  {
   "cell_type": "code",
   "execution_count": 61,
   "metadata": {},
   "outputs": [
    {
     "data": {
      "text/plain": [
       "10      0.903716\n",
       "1       0.028288\n",
       "4       0.018361\n",
       "3       0.015863\n",
       "7       0.010443\n",
       "9       0.008938\n",
       "6       0.005428\n",
       "5       0.005290\n",
       "2       0.002893\n",
       "1111    0.000627\n",
       "8       0.000153\n",
       "Name: denial_reason_1, dtype: float64"
      ]
     },
     "execution_count": 61,
     "metadata": {},
     "output_type": "execute_result"
    }
   ],
   "source": [
    "# check targets\n",
    "data['denial_reason_1'].value_counts(normalize=True)"
   ]
  },
  {
   "cell_type": "code",
   "execution_count": 62,
   "metadata": {
    "scrolled": false
   },
   "outputs": [
    {
     "data": {
      "text/plain": [
       "500.0      824\n",
       "750.0      709\n",
       "1000.0     708\n",
       "500.0      696\n",
       "750.0      629\n",
       "          ... \n",
       "499.82       1\n",
       "4783.63      1\n",
       "949.13       1\n",
       "3667.4       1\n",
       "1552.51      1\n",
       "Name: discount_points, Length: 308599, dtype: int64"
      ]
     },
     "execution_count": 62,
     "metadata": {},
     "output_type": "execute_result"
    }
   ],
   "source": [
    "data['discount_points'].value_counts()"
   ]
  },
  {
   "cell_type": "markdown",
   "metadata": {},
   "source": [
    "Discount points will not be something the end user can provide and contains null amounts for the majority of the rows. This column will be dropped entirely."
   ]
  },
  {
   "cell_type": "code",
   "execution_count": 63,
   "metadata": {},
   "outputs": [],
   "source": [
    "# drop 'discount_points'\n",
    "data.drop(columns=['discount_points'],inplace=True)"
   ]
  },
  {
   "cell_type": "code",
   "execution_count": 64,
   "metadata": {
    "scrolled": true
   },
   "outputs": [
    {
     "data": {
      "text/plain": [
       "500.0       16748\n",
       "250.0        8147\n",
       "1000.0       7522\n",
       "25.0         7438\n",
       "100.0        6952\n",
       "            ...  \n",
       "1632.7          1\n",
       "223.41          1\n",
       "2318.97         1\n",
       "12327.04        1\n",
       "166.35          1\n",
       "Name: lender_credits, Length: 247567, dtype: int64"
      ]
     },
     "execution_count": 64,
     "metadata": {},
     "output_type": "execute_result"
    }
   ],
   "source": [
    "data['lender_credits'].value_counts()"
   ]
  },
  {
   "cell_type": "code",
   "execution_count": 65,
   "metadata": {},
   "outputs": [
    {
     "data": {
      "text/plain": [
       "10      1662628\n",
       "1         80808\n",
       "4         52449\n",
       "3         45312\n",
       "7         29833\n",
       "9         25534\n",
       "6         15505\n",
       "5         15112\n",
       "2          8265\n",
       "1111       1661\n",
       "8           436\n",
       "Name: denial_reason_1, dtype: int64"
      ]
     },
     "execution_count": 65,
     "metadata": {},
     "output_type": "execute_result"
    }
   ],
   "source": [
    "# check the denial counts based on lender_credis being null\n",
    "data[data['lender_credits'].isnull()]['denial_reason_1'].value_counts()"
   ]
  },
  {
   "cell_type": "markdown",
   "metadata": {},
   "source": [
    "Again, loans that are not approved do not have lender credits assigned to them. This field will be dropped."
   ]
  },
  {
   "cell_type": "code",
   "execution_count": 66,
   "metadata": {},
   "outputs": [],
   "source": [
    "# drop 'lender_credits'\n",
    "data.drop(columns=['lender_credits'],inplace=True)"
   ]
  },
  {
   "cell_type": "code",
   "execution_count": 67,
   "metadata": {},
   "outputs": [
    {
     "data": {
      "text/plain": [
       "10      0.903716\n",
       "1       0.028288\n",
       "4       0.018361\n",
       "3       0.015863\n",
       "7       0.010443\n",
       "9       0.008938\n",
       "6       0.005428\n",
       "5       0.005290\n",
       "2       0.002893\n",
       "1111    0.000627\n",
       "8       0.000153\n",
       "Name: denial_reason_1, dtype: float64"
      ]
     },
     "execution_count": 67,
     "metadata": {},
     "output_type": "execute_result"
    }
   ],
   "source": [
    "# check targets\n",
    "data['denial_reason_1'].value_counts(normalize=True)"
   ]
  },
  {
   "cell_type": "code",
   "execution_count": 68,
   "metadata": {},
   "outputs": [
    {
     "data": {
      "text/plain": [
       "360.0    1363712\n",
       "360      1008846\n",
       "360.0     247003\n",
       "180        59014\n",
       "180.0      57959\n",
       "          ...   \n",
       "244            1\n",
       "39             1\n",
       "295            1\n",
       "385            1\n",
       "296.0          1\n",
       "Name: loan_term, Length: 727, dtype: int64"
      ]
     },
     "execution_count": 68,
     "metadata": {},
     "output_type": "execute_result"
    }
   ],
   "source": [
    "# check loan term\n",
    "data['loan_term'].value_counts()"
   ]
  },
  {
   "cell_type": "code",
   "execution_count": 69,
   "metadata": {},
   "outputs": [
    {
     "data": {
      "text/plain": [
       "10    4014\n",
       "3      319\n",
       "1      172\n",
       "4       95\n",
       "9       73\n",
       "5       39\n",
       "6       36\n",
       "2       27\n",
       "7       25\n",
       "8        3\n",
       "Name: denial_reason_1, dtype: int64"
      ]
     },
     "execution_count": 69,
     "metadata": {},
     "output_type": "execute_result"
    }
   ],
   "source": [
    "# check the denial counts based on loan_term being null\n",
    "data[data['loan_term'].isnull()]['denial_reason_1'].value_counts()"
   ]
  },
  {
   "cell_type": "code",
   "execution_count": 70,
   "metadata": {},
   "outputs": [],
   "source": [
    "#converts objects to floats\n",
    "data['loan_term'] = pd.to_numeric(data['loan_term'], errors='coerce')"
   ]
  },
  {
   "cell_type": "code",
   "execution_count": 71,
   "metadata": {},
   "outputs": [
    {
     "data": {
      "text/plain": [
       "0.013112502244752007"
      ]
     },
     "execution_count": 71,
     "metadata": {},
     "output_type": "execute_result"
    }
   ],
   "source": [
    "sum(data['loan_term'] < 180) / len(data['loan_term'])"
   ]
  },
  {
   "cell_type": "markdown",
   "metadata": {},
   "source": [
    "Less than a 1% of loan terms are null, and less than 2% are less than 180 months. All nulls and loans under 180 months will be removed"
   ]
  },
  {
   "cell_type": "code",
   "execution_count": 72,
   "metadata": {},
   "outputs": [],
   "source": [
    "# drop rows with null 'loan_term' values\n",
    "data.dropna(subset=['loan_term'],inplace=True)"
   ]
  },
  {
   "cell_type": "code",
   "execution_count": 73,
   "metadata": {},
   "outputs": [
    {
     "data": {
      "text/plain": [
       "10      0.903854\n",
       "1       0.028276\n",
       "4       0.018359\n",
       "3       0.015778\n",
       "7       0.010452\n",
       "9       0.008928\n",
       "6       0.005424\n",
       "5       0.005285\n",
       "2       0.002889\n",
       "1111    0.000602\n",
       "8       0.000152\n",
       "Name: denial_reason_1, dtype: float64"
      ]
     },
     "execution_count": 73,
     "metadata": {},
     "output_type": "execute_result"
    }
   ],
   "source": [
    "# check targets\n",
    "data['denial_reason_1'].value_counts(normalize=True)"
   ]
  },
  {
   "cell_type": "code",
   "execution_count": 74,
   "metadata": {},
   "outputs": [],
   "source": [
    "# remove rows with less than 180 month loan_terms\n",
    "data = data[data['loan_term'] >= 180]"
   ]
  },
  {
   "cell_type": "code",
   "execution_count": 75,
   "metadata": {},
   "outputs": [
    {
     "data": {
      "text/plain": [
       "10      0.904217\n",
       "1       0.028170\n",
       "4       0.018309\n",
       "3       0.015620\n",
       "7       0.010476\n",
       "9       0.008842\n",
       "6       0.005437\n",
       "5       0.005296\n",
       "2       0.002886\n",
       "1111    0.000597\n",
       "8       0.000149\n",
       "Name: denial_reason_1, dtype: float64"
      ]
     },
     "execution_count": 75,
     "metadata": {},
     "output_type": "execute_result"
    }
   ],
   "source": [
    "# check targets\n",
    "data['denial_reason_1'].value_counts(normalize=True)"
   ]
  },
  {
   "cell_type": "code",
   "execution_count": 76,
   "metadata": {
    "scrolled": true
   },
   "outputs": [
    {
     "data": {
      "text/plain": [
       "60       31704\n",
       "84.0     26043\n",
       "84       19105\n",
       "60.0     18923\n",
       "120.0    13321\n",
       "         ...  \n",
       "420.0        1\n",
       "15.0         1\n",
       "95.0         1\n",
       "99           1\n",
       "366          1\n",
       "Name: intro_rate_period, Length: 295, dtype: int64"
      ]
     },
     "execution_count": 76,
     "metadata": {},
     "output_type": "execute_result"
    }
   ],
   "source": [
    "data['intro_rate_period'].value_counts()"
   ]
  },
  {
   "cell_type": "markdown",
   "metadata": {},
   "source": [
    "Intro rate period is almost entirely null, the column will be dropped"
   ]
  },
  {
   "cell_type": "code",
   "execution_count": 77,
   "metadata": {},
   "outputs": [],
   "source": [
    "# drop 'intro_rate_period'\n",
    "data.drop(columns=['intro_rate_period'],inplace=True)"
   ]
  },
  {
   "cell_type": "code",
   "execution_count": 78,
   "metadata": {},
   "outputs": [
    {
     "data": {
      "text/plain": [
       "10    4804\n",
       "1     3244\n",
       "7     2175\n",
       "9     1671\n",
       "3     1624\n",
       "2      631\n",
       "5      484\n",
       "4      433\n",
       "6      215\n",
       "8        8\n",
       "Name: denial_reason_1, dtype: int64"
      ]
     },
     "execution_count": 78,
     "metadata": {},
     "output_type": "execute_result"
    }
   ],
   "source": [
    "# check the denial counts based on loan_term being null\n",
    "data[data['property_value'].isnull()]['denial_reason_1'].value_counts()"
   ]
  },
  {
   "cell_type": "code",
   "execution_count": 79,
   "metadata": {},
   "outputs": [],
   "source": [
    "#converts objects to floats\n",
    "data['property_value'] = pd.to_numeric(data['property_value'], errors='coerce')"
   ]
  },
  {
   "cell_type": "code",
   "execution_count": 80,
   "metadata": {},
   "outputs": [
    {
     "data": {
      "text/plain": [
       "5000.0"
      ]
     },
     "execution_count": 80,
     "metadata": {},
     "output_type": "execute_result"
    }
   ],
   "source": [
    "data['property_value'].min()"
   ]
  },
  {
   "cell_type": "code",
   "execution_count": 81,
   "metadata": {},
   "outputs": [
    {
     "data": {
      "text/plain": [
       "2147483647.0"
      ]
     },
     "execution_count": 81,
     "metadata": {},
     "output_type": "execute_result"
    }
   ],
   "source": [
    "data['property_value'].max()"
   ]
  },
  {
   "cell_type": "code",
   "execution_count": 82,
   "metadata": {},
   "outputs": [
    {
     "data": {
      "text/plain": [
       "1572027    2.147484e+09\n",
       "1570940    2.147484e+09\n",
       "1568278    2.147484e+09\n",
       "8800265    5.300050e+08\n",
       "8296125    1.540050e+08\n",
       "               ...     \n",
       "9840076             NaN\n",
       "9840084             NaN\n",
       "9850117             NaN\n",
       "9850142             NaN\n",
       "9889928             NaN\n",
       "Name: property_value, Length: 2814317, dtype: float64"
      ]
     },
     "execution_count": 82,
     "metadata": {},
     "output_type": "execute_result"
    }
   ],
   "source": [
    "data['property_value'].sort_values(ascending=False)"
   ]
  },
  {
   "cell_type": "code",
   "execution_count": 83,
   "metadata": {},
   "outputs": [
    {
     "data": {
      "text/html": [
       "<div>\n",
       "<style scoped>\n",
       "    .dataframe tbody tr th:only-of-type {\n",
       "        vertical-align: middle;\n",
       "    }\n",
       "\n",
       "    .dataframe tbody tr th {\n",
       "        vertical-align: top;\n",
       "    }\n",
       "\n",
       "    .dataframe thead th {\n",
       "        text-align: right;\n",
       "    }\n",
       "</style>\n",
       "<table border=\"1\" class=\"dataframe\">\n",
       "  <thead>\n",
       "    <tr style=\"text-align: right;\">\n",
       "      <th></th>\n",
       "      <th>lei</th>\n",
       "      <th>state_code</th>\n",
       "      <th>county_code</th>\n",
       "      <th>census_tract</th>\n",
       "      <th>derived_loan_product_type</th>\n",
       "      <th>derived_dwelling_category</th>\n",
       "      <th>action_taken</th>\n",
       "      <th>purchaser_type</th>\n",
       "      <th>preapproval</th>\n",
       "      <th>loan_type</th>\n",
       "      <th>...</th>\n",
       "      <th>co_applicant_credit_score_type</th>\n",
       "      <th>submission_of_application</th>\n",
       "      <th>initially_payable_to_institution</th>\n",
       "      <th>denial_reason_1</th>\n",
       "      <th>tract_population</th>\n",
       "      <th>ffiec_msa_md_median_family_income</th>\n",
       "      <th>tract_to_msa_income_percentage</th>\n",
       "      <th>tract_owner_occupied_units</th>\n",
       "      <th>tract_one_to_four_family_homes</th>\n",
       "      <th>tract_median_age_of_housing_units</th>\n",
       "    </tr>\n",
       "  </thead>\n",
       "  <tbody>\n",
       "    <tr>\n",
       "      <th>1568278</th>\n",
       "      <td>549300BEFX6JRSCS5N78</td>\n",
       "      <td>FL</td>\n",
       "      <td>12097</td>\n",
       "      <td>1.2097e+10</td>\n",
       "      <td>Conventional:First Lien</td>\n",
       "      <td>Single Family (1-4 Units):Site-Built</td>\n",
       "      <td>1</td>\n",
       "      <td>0</td>\n",
       "      <td>2</td>\n",
       "      <td>1</td>\n",
       "      <td>...</td>\n",
       "      <td>10</td>\n",
       "      <td>1</td>\n",
       "      <td>1</td>\n",
       "      <td>10</td>\n",
       "      <td>7177</td>\n",
       "      <td>62900</td>\n",
       "      <td>62</td>\n",
       "      <td>1129</td>\n",
       "      <td>2786</td>\n",
       "      <td>18</td>\n",
       "    </tr>\n",
       "    <tr>\n",
       "      <th>1570940</th>\n",
       "      <td>549300BEFX6JRSCS5N78</td>\n",
       "      <td>AR</td>\n",
       "      <td>5031</td>\n",
       "      <td>5.031e+09</td>\n",
       "      <td>Conventional:First Lien</td>\n",
       "      <td>Single Family (1-4 Units):Site-Built</td>\n",
       "      <td>1</td>\n",
       "      <td>71</td>\n",
       "      <td>2</td>\n",
       "      <td>1</td>\n",
       "      <td>...</td>\n",
       "      <td>9</td>\n",
       "      <td>1</td>\n",
       "      <td>1</td>\n",
       "      <td>10</td>\n",
       "      <td>6966</td>\n",
       "      <td>53100</td>\n",
       "      <td>219</td>\n",
       "      <td>2215</td>\n",
       "      <td>2659</td>\n",
       "      <td>16</td>\n",
       "    </tr>\n",
       "    <tr>\n",
       "      <th>1572027</th>\n",
       "      <td>549300BEFX6JRSCS5N78</td>\n",
       "      <td>OK</td>\n",
       "      <td>40135</td>\n",
       "      <td>4.0135e+10</td>\n",
       "      <td>FHA:First Lien</td>\n",
       "      <td>Single Family (1-4 Units):Site-Built</td>\n",
       "      <td>1</td>\n",
       "      <td>71</td>\n",
       "      <td>2</td>\n",
       "      <td>2</td>\n",
       "      <td>...</td>\n",
       "      <td>10</td>\n",
       "      <td>1</td>\n",
       "      <td>1</td>\n",
       "      <td>10</td>\n",
       "      <td>3698</td>\n",
       "      <td>52400</td>\n",
       "      <td>87</td>\n",
       "      <td>1156</td>\n",
       "      <td>1701</td>\n",
       "      <td>28</td>\n",
       "    </tr>\n",
       "  </tbody>\n",
       "</table>\n",
       "<p>3 rows × 39 columns</p>\n",
       "</div>"
      ],
      "text/plain": [
       "                          lei state_code county_code census_tract  \\\n",
       "1568278  549300BEFX6JRSCS5N78         FL       12097   1.2097e+10   \n",
       "1570940  549300BEFX6JRSCS5N78         AR        5031    5.031e+09   \n",
       "1572027  549300BEFX6JRSCS5N78         OK       40135   4.0135e+10   \n",
       "\n",
       "        derived_loan_product_type             derived_dwelling_category  \\\n",
       "1568278   Conventional:First Lien  Single Family (1-4 Units):Site-Built   \n",
       "1570940   Conventional:First Lien  Single Family (1-4 Units):Site-Built   \n",
       "1572027            FHA:First Lien  Single Family (1-4 Units):Site-Built   \n",
       "\n",
       "         action_taken  purchaser_type  preapproval  loan_type  ...  \\\n",
       "1568278             1               0            2          1  ...   \n",
       "1570940             1              71            2          1  ...   \n",
       "1572027             1              71            2          2  ...   \n",
       "\n",
       "         co_applicant_credit_score_type  submission_of_application  \\\n",
       "1568278                              10                          1   \n",
       "1570940                               9                          1   \n",
       "1572027                              10                          1   \n",
       "\n",
       "        initially_payable_to_institution  denial_reason_1  tract_population  \\\n",
       "1568278                                1               10              7177   \n",
       "1570940                                1               10              6966   \n",
       "1572027                                1               10              3698   \n",
       "\n",
       "         ffiec_msa_md_median_family_income  tract_to_msa_income_percentage  \\\n",
       "1568278                              62900                              62   \n",
       "1570940                              53100                             219   \n",
       "1572027                              52400                              87   \n",
       "\n",
       "         tract_owner_occupied_units  tract_one_to_four_family_homes  \\\n",
       "1568278                        1129                            2786   \n",
       "1570940                        2215                            2659   \n",
       "1572027                        1156                            1701   \n",
       "\n",
       "         tract_median_age_of_housing_units  \n",
       "1568278                                 18  \n",
       "1570940                                 16  \n",
       "1572027                                 28  \n",
       "\n",
       "[3 rows x 39 columns]"
      ]
     },
     "execution_count": 83,
     "metadata": {},
     "output_type": "execute_result"
    }
   ],
   "source": [
    "data[data['property_value'] > 2_000_000_000]"
   ]
  },
  {
   "cell_type": "code",
   "execution_count": 84,
   "metadata": {},
   "outputs": [
    {
     "data": {
      "text/plain": [
       "<matplotlib.axes._subplots.AxesSubplot at 0x119097e10>"
      ]
     },
     "execution_count": 84,
     "metadata": {},
     "output_type": "execute_result"
    },
    {
     "data": {
      "image/png": "[encoded data removed]",
      "text/plain": [
       "<Figure size 432x288 with 1 Axes>"
      ]
     },
     "metadata": {
      "needs_background": "light"
     },
     "output_type": "display_data"
    }
   ],
   "source": [
    "data['property_value'].hist()"
   ]
  },
  {
   "cell_type": "code",
   "execution_count": 85,
   "metadata": {},
   "outputs": [],
   "source": [
    "# replace nulls with 0 (to be dealt with in EDA)\n",
    "data['property_value'].fillna(0,inplace=True)"
   ]
  },
  {
   "cell_type": "code",
   "execution_count": 86,
   "metadata": {},
   "outputs": [],
   "source": [
    "#converts objects to floats\n",
    "data['income'] = pd.to_numeric(data['income'], errors='coerce')"
   ]
  },
  {
   "cell_type": "code",
   "execution_count": 87,
   "metadata": {},
   "outputs": [
    {
     "data": {
      "text/plain": [
       "-8824.0"
      ]
     },
     "execution_count": 87,
     "metadata": {},
     "output_type": "execute_result"
    }
   ],
   "source": [
    "data['income'].min()"
   ]
  },
  {
   "cell_type": "code",
   "execution_count": 88,
   "metadata": {},
   "outputs": [
    {
     "data": {
      "text/plain": [
       "1625814.0"
      ]
     },
     "execution_count": 88,
     "metadata": {},
     "output_type": "execute_result"
    }
   ],
   "source": [
    "data['income'].max()"
   ]
  },
  {
   "cell_type": "code",
   "execution_count": 89,
   "metadata": {
    "scrolled": true
   },
   "outputs": [
    {
     "data": {
      "text/plain": [
       "680921     1625814.0\n",
       "4157553     771960.0\n",
       "1125465     420000.0\n",
       "3284971     381000.0\n",
       "3284904     285000.0\n",
       "             ...    \n",
       "9974742          NaN\n",
       "9974774          NaN\n",
       "9975316          NaN\n",
       "9975454          NaN\n",
       "9977037          NaN\n",
       "Name: income, Length: 2814317, dtype: float64"
      ]
     },
     "execution_count": 89,
     "metadata": {},
     "output_type": "execute_result"
    }
   ],
   "source": [
    "data['income'].sort_values(ascending=False)"
   ]
  },
  {
   "cell_type": "code",
   "execution_count": 90,
   "metadata": {},
   "outputs": [
    {
     "data": {
      "text/plain": [
       "15955"
      ]
     },
     "execution_count": 90,
     "metadata": {},
     "output_type": "execute_result"
    }
   ],
   "source": [
    "sum(data['income'] == 0)"
   ]
  },
  {
   "cell_type": "code",
   "execution_count": 91,
   "metadata": {
    "scrolled": true
   },
   "outputs": [
    {
     "data": {
      "text/plain": [
       "10      25141\n",
       "1        1023\n",
       "1111      660\n",
       "4         615\n",
       "3         357\n",
       "6         302\n",
       "2         234\n",
       "9         221\n",
       "5         118\n",
       "7         110\n",
       "Name: denial_reason_1, dtype: int64"
      ]
     },
     "execution_count": 91,
     "metadata": {},
     "output_type": "execute_result"
    }
   ],
   "source": [
    "# check the denial counts based on loan_term being null\n",
    "data[data['income'].isnull()]['denial_reason_1'].value_counts()"
   ]
  },
  {
   "cell_type": "markdown",
   "metadata": {},
   "source": [
    "The rows with null values in 'income' also contain many of the target (denial_reason) and can not simply be dropped. They will be assigned a value of 999 and be further analyzed in the EDA section."
   ]
  },
  {
   "cell_type": "code",
   "execution_count": 92,
   "metadata": {},
   "outputs": [],
   "source": [
    "# replace nulls with 999 (to be dealt with in EDA)\n",
    "data['income'].fillna(999,inplace=True)"
   ]
  },
  {
   "cell_type": "code",
   "execution_count": 93,
   "metadata": {
    "scrolled": true
   },
   "outputs": [
    {
     "data": {
      "text/plain": [
       "10      7276\n",
       "1        707\n",
       "3        630\n",
       "4        627\n",
       "9        458\n",
       "6        256\n",
       "7        175\n",
       "5        174\n",
       "2        161\n",
       "1111       4\n",
       "Name: denial_reason_1, dtype: int64"
      ]
     },
     "execution_count": 93,
     "metadata": {},
     "output_type": "execute_result"
    }
   ],
   "source": [
    "# check the denial counts based on loan_term being null\n",
    "data[data['debt_to_income_ratio'].isnull()]['denial_reason_1'].value_counts()"
   ]
  },
  {
   "cell_type": "code",
   "execution_count": 94,
   "metadata": {},
   "outputs": [],
   "source": [
    "#converts objects to floats\n",
    "data['debt_to_income_ratio'] = pd.to_numeric(data['debt_to_income_ratio'], errors='coerce')"
   ]
  },
  {
   "cell_type": "code",
   "execution_count": 95,
   "metadata": {
    "scrolled": true
   },
   "outputs": [
    {
     "data": {
      "text/plain": [
       "49.0"
      ]
     },
     "execution_count": 95,
     "metadata": {},
     "output_type": "execute_result"
    }
   ],
   "source": [
    "data['debt_to_income_ratio'].max()"
   ]
  },
  {
   "cell_type": "code",
   "execution_count": 96,
   "metadata": {},
   "outputs": [
    {
     "data": {
      "text/plain": [
       "36.0"
      ]
     },
     "execution_count": 96,
     "metadata": {},
     "output_type": "execute_result"
    }
   ],
   "source": [
    "data['debt_to_income_ratio'].min()"
   ]
  },
  {
   "cell_type": "code",
   "execution_count": 97,
   "metadata": {},
   "outputs": [
    {
     "data": {
      "text/plain": [
       "10      1336080\n",
       "4         25600\n",
       "3         18061\n",
       "1         16620\n",
       "7         14825\n",
       "9         11801\n",
       "5          8125\n",
       "6          7317\n",
       "2          3323\n",
       "1111        703\n",
       "8           227\n",
       "Name: denial_reason_1, dtype: int64"
      ]
     },
     "execution_count": 97,
     "metadata": {},
     "output_type": "execute_result"
    }
   ],
   "source": [
    "# check the denial counts based on loan_term being not null\n",
    "data[data['debt_to_income_ratio'].notnull()]['denial_reason_1'].value_counts()"
   ]
  },
  {
   "cell_type": "code",
   "execution_count": 106,
   "metadata": {},
   "outputs": [
    {
     "data": {
      "image/png": "[encoded data removed]",
      "text/plain": [
       "<Figure size 432x288 with 1 Axes>"
      ]
     },
     "metadata": {
      "needs_background": "light"
     },
     "output_type": "display_data"
    }
   ],
   "source": [
    "data[data['debt_to_income_ratio'].notnull()]['debt_to_income_ratio'].hist()\n",
    "plt.savefig('../plt.png')"
   ]
  },
  {
   "cell_type": "code",
   "execution_count": 105,
   "metadata": {},
   "outputs": [
    {
     "data": {
      "text/plain": [
       "<BarContainer object of 2 artists>"
      ]
     },
     "execution_count": 105,
     "metadata": {},
     "output_type": "execute_result"
    },
    {
     "data": {
      "image/png": "[encoded data removed]",
      "text/plain": [
       "<Figure size 432x288 with 1 Axes>"
      ]
     },
     "metadata": {
      "needs_background": "light"
     },
     "output_type": "display_data"
    }
   ],
   "source": [
    "null = len(data[data['debt_to_income_ratio'].isnull()])\n",
    "not_null = len(data[data['debt_to_income_ratio'].notnull()])\n",
    "plt.bar(['null','not null'],[null,not_null])"
   ]
  },
  {
   "cell_type": "code",
   "execution_count": 701,
   "metadata": {},
   "outputs": [],
   "source": [
    "# replace nulls with 100 (to be dealt with in EDA)\n",
    "data['debt_to_income_ratio'].fillna(100,inplace=True)"
   ]
  },
  {
   "cell_type": "code",
   "execution_count": 702,
   "metadata": {},
   "outputs": [
    {
     "data": {
      "text/plain": [
       "0.0"
      ]
     },
     "execution_count": 702,
     "metadata": {},
     "output_type": "execute_result"
    }
   ],
   "source": [
    "data.isnull().mean().sum()"
   ]
  },
  {
   "cell_type": "code",
   "execution_count": 703,
   "metadata": {
    "scrolled": true
   },
   "outputs": [
    {
     "data": {
      "text/plain": [
       "CA    0.097599\n",
       "TX    0.085284\n",
       "FL    0.076559\n",
       "IL    0.038994\n",
       "NC    0.038251\n",
       "OH    0.036807\n",
       "NY    0.036733\n",
       "GA    0.034812\n",
       "AZ    0.034333\n",
       "PA    0.033450\n",
       "MI    0.030297\n",
       "WA    0.028464\n",
       "NJ    0.027067\n",
       "CO    0.026638\n",
       "VA    0.025998\n",
       "IN    0.023578\n",
       "TN    0.021283\n",
       "MA    0.019966\n",
       "MN    0.019434\n",
       "MD    0.019426\n",
       "WI    0.018181\n",
       "MO    0.017705\n",
       "UT    0.017205\n",
       "SC    0.015867\n",
       "OR    0.015497\n",
       "KY    0.012498\n",
       "NV    0.012474\n",
       "AL    0.011744\n",
       "OK    0.011101\n",
       "CT    0.010938\n",
       "LA    0.010854\n",
       "ID    0.009151\n",
       "AR    0.008654\n",
       "KS    0.008342\n",
       "IA    0.007747\n",
       "NM    0.006248\n",
       "NE    0.005894\n",
       "MS    0.005867\n",
       "NH    0.004651\n",
       "MT    0.003767\n",
       "DE    0.003576\n",
       "ME    0.003446\n",
       "RI    0.003350\n",
       "WV    0.003263\n",
       "SD    0.003053\n",
       "HI    0.002639\n",
       "VT    0.002068\n",
       "WY    0.002065\n",
       "ND    0.002020\n",
       "PR    0.001783\n",
       "AK    0.001735\n",
       "DC    0.001641\n",
       "GU    0.000005\n",
       "Name: state_code, dtype: float64"
      ]
     },
     "execution_count": 703,
     "metadata": {},
     "output_type": "execute_result"
    }
   ],
   "source": [
    "#check for balanced state representation\n",
    "data['state_code'].value_counts(normalize=True)"
   ]
  },
  {
   "cell_type": "code",
   "execution_count": 704,
   "metadata": {
    "scrolled": false
   },
   "outputs": [
    {
     "data": {
      "text/plain": [
       "10      0.904217\n",
       "1       0.028170\n",
       "4       0.018309\n",
       "3       0.015620\n",
       "7       0.010476\n",
       "9       0.008842\n",
       "6       0.005437\n",
       "5       0.005296\n",
       "2       0.002886\n",
       "1111    0.000597\n",
       "8       0.000149\n",
       "Name: denial_reason_1, dtype: float64"
      ]
     },
     "execution_count": 704,
     "metadata": {},
     "output_type": "execute_result"
    }
   ],
   "source": [
    "# check targets\n",
    "data['denial_reason_1'].value_counts(normalize=True)"
   ]
  },
  {
   "cell_type": "code",
   "execution_count": 705,
   "metadata": {},
   "outputs": [
    {
     "data": {
      "text/plain": [
       "10      2544754\n",
       "1         79280\n",
       "4         51526\n",
       "3         43961\n",
       "7         29484\n",
       "9         24883\n",
       "6         15301\n",
       "5         14905\n",
       "2          8122\n",
       "1111       1681\n",
       "8           420\n",
       "Name: denial_reason_1, dtype: int64"
      ]
     },
     "execution_count": 705,
     "metadata": {},
     "output_type": "execute_result"
    }
   ],
   "source": [
    "# check targets\n",
    "data['denial_reason_1'].value_counts()"
   ]
  },
  {
   "cell_type": "code",
   "execution_count": 706,
   "metadata": {},
   "outputs": [
    {
     "data": {
      "text/plain": [
       "(2814317, 39)"
      ]
     },
     "execution_count": 706,
     "metadata": {},
     "output_type": "execute_result"
    }
   ],
   "source": [
    "data.shape"
   ]
  },
  {
   "cell_type": "code",
   "execution_count": 707,
   "metadata": {},
   "outputs": [],
   "source": [
    "# export cleaned data to data folder\n",
    "data.to_csv('data/mortgage_clean.csv',index=False)"
   ]
  },
  {
   "cell_type": "code",
   "execution_count": null,
   "metadata": {},
   "outputs": [],
   "source": []
  }
 ],
 "metadata": {
  "kernelspec": {
   "display_name": "Python 3",
   "language": "python",
   "name": "python3"
  },
  "language_info": {
   "codemirror_mode": {
    "name": "ipython",
    "version": 3
   },
   "file_extension": ".py",
   "mimetype": "text/x-python",
   "name": "python",
   "nbconvert_exporter": "python",
   "pygments_lexer": "ipython3",
   "version": "3.7.4"
  }
 },
 "nbformat": 4,
 "nbformat_minor": 2
}
