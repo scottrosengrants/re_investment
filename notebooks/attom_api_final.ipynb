{
 "cells": [
  {
   "cell_type": "code",
   "execution_count": 1,
   "metadata": {},
   "outputs": [],
   "source": [
    "import pandas as pd\n",
    "import requests\n",
    "import json\n",
    "from pandas.io.json import json_normalize"
   ]
  },
  {
   "cell_type": "code",
   "execution_count": null,
   "metadata": {},
   "outputs": [],
   "source": [
    "# all events\n",
    "# Source: https://api.developer.attomdata.com/docs#!/All32Events32Extended32by32Address/getAllEventsDetailAddress\n",
    "#https://api.gateway.attomdata.com/propertyapi/v1.0.0/allevents/detail?address1=4529%20Winona%20Court&address2=Denver%2C%20CO%2080212\n",
    "    \n",
    "    "
   ]
  },
  {
   "cell_type": "code",
   "execution_count": 19,
   "metadata": {},
   "outputs": [],
   "source": [
    "def call_api_all(bld_num,street,str_type,unit=None,unit_num=None,city=None,state=None):\n",
    "    import http.client\n",
    "    \n",
    "    conn = http.client.HTTPSConnection(\"api.gateway.attomdata.com\") \n",
    "\n",
    "    headers = { \n",
    "        'accept': \"application/json\", \n",
    "        'apikey': \"keyID\", \n",
    "    } \n",
    "    address_1 = f\"address1={bld_num}%20{street}%20{str_type}%20{unit}%20{unit_num}\"\n",
    "    address_2 = f\"&address2={city}%2C%20{state}\"\n",
    "    conn.request(\"GET\", f\"/propertyapi/v1.0.0/allevents/detail?{address_1}{address_2}\", headers=headers) \n",
    "\n",
    "    res = conn.getresponse() \n",
    "    data = res.read() \n",
    "    \n",
    "#    print(data.decode(\"utf-8\"))\n",
    "    print(address_1,address_2)\n",
    "    return data\n",
    "#    print(\"GET\", f\"/propertyapi/v1.0.0/property/detail?{address}\", \"headers=headers\")"
   ]
  },
  {
   "cell_type": "code",
   "execution_count": 67,
   "metadata": {},
   "outputs": [],
   "source": [
    "\n",
    "def extract_details(api_data):\n",
    "    house = json.loads(api_data)\n",
    "    \n",
    "    # create new dfs based on dictionary keys\n",
    "\n",
    "    # df_1 ['obPropId', 'fips', 'apn', 'apnOrig', 'attomId']\n",
    "    df_1 = pd.DataFrame(house['property'][0]['identifier'],index=[0])\n",
    "\n",
    "    # df_2 ['depth', 'frontage', 'lotnum', 'lotsize1', 'lotsize2', 'pooltype']\n",
    "    df_2 = pd.DataFrame(house['property'][0]['lot'],index=[0])\n",
    "\n",
    "    # df_3 ['blockNum', 'countrysecsubd', 'countyuse1', 'muncode', 'munname',\n",
    "    #       'srvyRange', 'srvySection', 'srvyTownship', 'subdname', 'subdtractnum','taxcodearea']\n",
    "    df_3 = pd.DataFrame(house['property'][0]['area'],index=[0])\n",
    "\n",
    "    # df_4 ['country', 'countrySubd', 'line1', 'line2', 'locality', 'matchCode',\n",
    "    #       'oneLine', 'postal1', 'postal2', 'postal3']\n",
    "    df_4 = pd.DataFrame(house['property'][0]['address'],index=[0])\n",
    "\n",
    "    # df_5 = ['accuracy', 'elevation', 'latitude', 'longitude', 'distance', 'geoid']\n",
    "    df_5 = pd.DataFrame(house['property'][0]['location'],index=[0])\n",
    "\n",
    "    # df_6 ['absenteeInd', 'propclass', 'propsubtype', 'proptype', 'yearbuilt',\n",
    "    #       'propLandUse', 'propIndicator', 'legal1']\n",
    "    df_6 = pd.DataFrame(house['property'][0]['summary'],index=[0])\n",
    "\n",
    "    #df_7 ['heatingtype']\n",
    "    df_7 = pd.DataFrame(house['property'][0]['utilities'],index=[0])\n",
    "\n",
    "    #df_8 **['size', 'rooms', 'interior', 'construction', 'parking', 'summary']** dict keys\n",
    "    df_8 = pd.DataFrame(house['property'][0]['building'],index=[0])\n",
    "\n",
    "    #df_9 ['lastModified', 'pubDate']\n",
    "    df_9 = pd.DataFrame(house['property'][0]['vintage'],index=[0])\n",
    "    \n",
    "    # create new dfs based on df_8 dictionary keys\n",
    "\n",
    "    # df_b1 ['bldgsize', 'grosssize', 'grosssizeadjusted', 'groundfloorsize',\n",
    "    #       'livingsize', 'sizeInd', 'universalsize']\n",
    "    df_b1 = pd.DataFrame(house['property'][0]['building']['size'],index=[0])\n",
    "\n",
    "    # df_b2 ['bathfixtures', 'baths1qtr', 'baths3qtr', 'bathscalc', 'bathsfull',\n",
    "    #       'bathshalf', 'bathstotal', 'beds', 'roomsTotal']\n",
    "    df_b2 = pd.DataFrame(house['property'][0]['building']['rooms'],index=[0])\n",
    "\n",
    "    #df_b3 ['bsmtsize', 'bsmttype', 'fplccount', 'fplcind', 'fplctype']\n",
    "    df_b3 = pd.DataFrame(house['property'][0]['building']['interior'],index=[0])\n",
    "\n",
    "    #df_b4 ['condition', 'wallType']\n",
    "    df_b4 = pd.DataFrame(house['property'][0]['building']['construction'],index=[0])\n",
    "\n",
    "    #df_b5 ['garagetype', 'prkgSize', 'prkgSpaces', 'prkgType']\n",
    "    df_b5 = pd.DataFrame(house['property'][0]['building']['parking'],index=[0])\n",
    "\n",
    "    #df_b6 ['bldgsNum', 'bldgType', 'imprType', 'levels', 'mobileHomeInd',\n",
    "    #       'quality', 'storyDesc', 'unitsCount', 'yearbuilteffective']\n",
    "    df_b6 = pd.DataFrame(house['property'][0]['building']['summary'],index=[0])\n",
    "    \n",
    "    ### AVM\n",
    "    #df_v1 ['scr', 'value', 'high', 'low', 'valueRange']\n",
    "    df_v1 = pd.DataFrame(house['property'][0]['avm']['amount'],index=[0])\n",
    "    \n",
    "    #df_v2 ['avmpoorlow', 'avmpoorhigh', 'avmpoorscore', 'avmgoodlow', 'avmgoodhigh', \n",
    "    #      'avmgoodscore', 'avmexcellentlow', 'avmexcellenthigh', 'avmexcellentscore']\n",
    "    df_v2 = pd.DataFrame(house['property'][0]['avm']['condition'],index=[0])\n",
    "    \n",
    "    #df_v3 ['taxamt', 'taxpersizeunit', 'taxyear']\n",
    "    df_v3 = pd.DataFrame(house['property'][0]['assessment']['tax'],index=[0])\n",
    "    \n",
    "    # Build df for property 1\n",
    "    prop_1 = pd.concat([df_1['fips'],df_2,df_3,df_4,df_5,df_6,df_7,df_9,df_b1,\n",
    "                        df_b2,df_b3,df_b4,df_b5,df_b6,df_v1,df_v2,df_v3],axis=1)\n",
    "    \n",
    "    return prop_1"
   ]
  },
  {
   "cell_type": "code",
   "execution_count": 24,
   "metadata": {},
   "outputs": [
    {
     "name": "stdout",
     "output_type": "stream",
     "text": [
      "address1=2960%20Inca%20St%20UNIT%20501 &address2=Denver%2C%20CO\n"
     ]
    },
    {
     "data": {
      "text/html": [
       "<div>\n",
       "<style scoped>\n",
       "    .dataframe tbody tr th:only-of-type {\n",
       "        vertical-align: middle;\n",
       "    }\n",
       "\n",
       "    .dataframe tbody tr th {\n",
       "        vertical-align: top;\n",
       "    }\n",
       "\n",
       "    .dataframe thead th {\n",
       "        text-align: right;\n",
       "    }\n",
       "</style>\n",
       "<table border=\"1\" class=\"dataframe\">\n",
       "  <thead>\n",
       "    <tr style=\"text-align: right;\">\n",
       "      <th></th>\n",
       "      <th>fips</th>\n",
       "      <th>depth</th>\n",
       "      <th>frontage</th>\n",
       "      <th>lotsize1</th>\n",
       "      <th>lotsize2</th>\n",
       "      <th>pooltype</th>\n",
       "      <th>countrysecsubd</th>\n",
       "      <th>countyuse1</th>\n",
       "      <th>muncode</th>\n",
       "      <th>munname</th>\n",
       "      <th>...</th>\n",
       "      <th>prkgSize</th>\n",
       "      <th>archStyle</th>\n",
       "      <th>bldgsNum</th>\n",
       "      <th>bldgType</th>\n",
       "      <th>imprType</th>\n",
       "      <th>levels</th>\n",
       "      <th>mobileHomeInd</th>\n",
       "      <th>storyDesc</th>\n",
       "      <th>unitsCount</th>\n",
       "      <th>yearbuilteffective</th>\n",
       "    </tr>\n",
       "  </thead>\n",
       "  <tbody>\n",
       "    <tr>\n",
       "      <th>0</th>\n",
       "      <td>08031</td>\n",
       "      <td>0</td>\n",
       "      <td>0</td>\n",
       "      <td>0.0</td>\n",
       "      <td>0</td>\n",
       "      <td>NONE</td>\n",
       "      <td>Denver County</td>\n",
       "      <td>104</td>\n",
       "      <td>DE</td>\n",
       "      <td>DENVER</td>\n",
       "      <td>...</td>\n",
       "      <td>0</td>\n",
       "      <td>ROW HOUSE</td>\n",
       "      <td>0</td>\n",
       "      <td>TYPE UNKNOWN</td>\n",
       "      <td>RESIDENTIAL</td>\n",
       "      <td>2</td>\n",
       "      <td></td>\n",
       "      <td>TYPE UNKNOWN</td>\n",
       "      <td>0</td>\n",
       "      <td>2001</td>\n",
       "    </tr>\n",
       "  </tbody>\n",
       "</table>\n",
       "<p>1 rows × 73 columns</p>\n",
       "</div>"
      ],
      "text/plain": [
       "    fips  depth  frontage  lotsize1  lotsize2 pooltype countrysecsubd  \\\n",
       "0  08031      0         0       0.0         0     NONE  Denver County   \n",
       "\n",
       "  countyuse1 muncode munname  ... prkgSize  archStyle bldgsNum      bldgType  \\\n",
       "0        104      DE  DENVER  ...        0  ROW HOUSE        0  TYPE UNKNOWN   \n",
       "\n",
       "      imprType levels mobileHomeInd     storyDesc unitsCount  \\\n",
       "0  RESIDENTIAL      2                TYPE UNKNOWN          0   \n",
       "\n",
       "  yearbuilteffective  \n",
       "0               2001  \n",
       "\n",
       "[1 rows x 73 columns]"
      ]
     },
     "execution_count": 24,
     "metadata": {},
     "output_type": "execute_result"
    }
   ],
   "source": [
    "extract_details(call_api_all('2960','Inca','St','UNIT','501','Denver','CO'))"
   ]
  },
  {
   "cell_type": "code",
   "execution_count": 69,
   "metadata": {},
   "outputs": [
    {
     "name": "stdout",
     "output_type": "stream",
     "text": [
      "address1=2960%20Inca%20St%20UNIT%20501 &address2=Denver%2C%20CO\n"
     ]
    }
   ],
   "source": [
    "df = extract_details(call_api_all('2960','Inca','St','UNIT','501','Denver','CO'))"
   ]
  },
  {
   "cell_type": "code",
   "execution_count": 71,
   "metadata": {},
   "outputs": [
    {
     "data": {
      "text/plain": [
       "(1, 90)"
      ]
     },
     "execution_count": 71,
     "metadata": {},
     "output_type": "execute_result"
    }
   ],
   "source": [
    "df.shape"
   ]
  },
  {
   "cell_type": "code",
   "execution_count": null,
   "metadata": {},
   "outputs": [],
   "source": []
  }
 ],
 "metadata": {
  "kernelspec": {
   "display_name": "Python 3",
   "language": "python",
   "name": "python3"
  },
  "language_info": {
   "codemirror_mode": {
    "name": "ipython",
    "version": 3
   },
   "file_extension": ".py",
   "mimetype": "text/x-python",
   "name": "python",
   "nbconvert_exporter": "python",
   "pygments_lexer": "ipython3",
   "version": "3.7.4"
  }
 },
 "nbformat": 4,
 "nbformat_minor": 2
}
